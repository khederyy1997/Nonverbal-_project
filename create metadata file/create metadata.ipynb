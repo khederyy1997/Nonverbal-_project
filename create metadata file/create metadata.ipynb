{
 "cells": [
  {
   "cell_type": "code",
   "execution_count": 5,
   "id": "1a80730c",
   "metadata": {},
   "outputs": [],
   "source": [
    "# creating meta data file  \n",
    "import os\n",
    "import pandas as pd"
   ]
  },
  {
   "cell_type": "code",
   "execution_count": 6,
   "id": "e99c9573",
   "metadata": {},
   "outputs": [],
   "source": [
    "\n",
    "\n",
    "def create_metadata(path, savepath):\n",
    "    file_path = []\n",
    "    label = []\n",
    "    for root, dirs, files in os.walk(path):\n",
    "         for filename in files:\n",
    "            file_path.append(os.path.join(root, filename))\n",
    "            label.append(root[-1])\n",
    "            meta_file = pd.DataFrame({\n",
    "                                'file_path':file_path,\n",
    "                                 'label':label\n",
    "                                \n",
    "                                })\n",
    "    meta_file.to_csv(savepath, index=False)"
   ]
  },
  {
   "cell_type": "code",
   "execution_count": 7,
   "id": "b8dcb0fc",
   "metadata": {},
   "outputs": [],
   "source": [
    "create_metadata('data/','metadata.csv')"
   ]
  },
  {
   "cell_type": "code",
   "execution_count": null,
   "id": "6bb4cb3e",
   "metadata": {},
   "outputs": [],
   "source": []
  }
 ],
 "metadata": {
  "kernelspec": {
   "display_name": "Python 3",
   "language": "python",
   "name": "python3"
  },
  "language_info": {
   "codemirror_mode": {
    "name": "ipython",
    "version": 3
   },
   "file_extension": ".py",
   "mimetype": "text/x-python",
   "name": "python",
   "nbconvert_exporter": "python",
   "pygments_lexer": "ipython3",
   "version": "3.8.8"
  }
 },
 "nbformat": 4,
 "nbformat_minor": 5
}
