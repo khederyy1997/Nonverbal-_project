{
 "cells": [
  {
   "cell_type": "code",
   "execution_count": 1,
   "id": "2674edb5",
   "metadata": {},
   "outputs": [],
   "source": [
    "import librosa\n",
    "import soundfile as sf\n",
    "import torch\n",
    "import torchaudio\n",
    "from torchaudio import transforms\n",
    "import os\n",
    "import numpy as np\n",
    "from termcolor import colored\n",
    "import noisereduce as nr "
   ]
  },
  {
   "cell_type": "code",
   "execution_count": 2,
   "id": "7de44c9a",
   "metadata": {},
   "outputs": [],
   "source": [
    "\n",
    "def shift(arr, num, fill_value):\n",
    "    result = np.empty_like(arr)\n",
    "    if num > 0:\n",
    "        result[:num] = fill_value\n",
    "        result[num:] = arr[:-num]\n",
    "    elif num < 0:\n",
    "        result[num:] = fill_value\n",
    "        result[:num] = arr[-num:]\n",
    "    else:\n",
    "        result[:] = arr\n",
    "    return result\n",
    "\n"
   ]
  },
  {
   "cell_type": "code",
   "execution_count": 4,
   "id": "7fab1963",
   "metadata": {},
   "outputs": [],
   "source": [
    "\n",
    "# for chunking the data into 7 second clips \n",
    "def chunks_2sec(path, savepath):\n",
    "    for root, dirs, files in os.walk(path):\n",
    "         for filename in files:\n",
    "#                 print(filename[:-3])\n",
    "\n",
    "            file_path = os.path.join(root, filename)  \n",
    "            audio, sr = librosa.load(file_path,sr=22050)\n",
    "            print('==============================')\n",
    "            print('file '+filename +' is loaded')      \n",
    "            samples_total = len(audio)\n",
    "            two_sec = 2*sr\n",
    "            if ( samples_total > two_sec ):\n",
    "                    \n",
    "                    print('the file was biger than 1 second')\n",
    "                    need=0\n",
    "                    need =sr - (samples_total % sr)\n",
    "                    size = need + samples_total \n",
    "                    if size % two_sec !=0 : size = size + sr  ## add a second \n",
    "                    audio= librosa.util.fix_length(audio, size=size)\n",
    "                    shift_steps = np.floor(need//2)\n",
    "                    int_steps= shift_steps.astype(int)\n",
    "                    audio = shift(audio, int_steps, 0)\n",
    "                    print(str(need) + ' zero element are added to the tail of this file ')\n",
    "                    chunks_number= len(audio) // two_sec\n",
    "                    print('the file is divided into ' +str(chunks_number) +' chunks' )\n",
    "                    print('list of all the chunks name  :')\n",
    "                    for x in range (0,samples_total,two_sec) :\n",
    "                        end = x+(2*sr)\n",
    "                        new_audio=[]\n",
    "                        new_audio=audio[x:end] \n",
    "                        new_path=savepath+root[7:]+'/'\n",
    "                        new_file_name=new_path+filename[:-4]+'_'+str(x//two_sec)+'.wav'\n",
    "                        print(new_file_name)\n",
    "                        sf.write(new_file_name, new_audio, sr)\n",
    "            else :  \n",
    "                \n",
    "                    need =sr  - (samples_total % sr)\n",
    "                    size = samples_total +need \n",
    "                    audio= librosa.util.fix_length(audio, size=size)\n",
    "                    shift_steps = np.floor(need // 2)\n",
    "                    int_steps= shift_steps.astype(int)\n",
    "                    audio = shift(audio, int_steps, 0)\n",
    "                    print(colored('the file was less than 1 second','red'))\n",
    "                    new_path=savepath+root[8:]+'/'\n",
    "                    new_file_name=new_path+filename[:-4]+'.wav'\n",
    "                    sf.write(new_file_name, audio, sr)"
   ]
  },
  {
   "cell_type": "code",
   "execution_count": null,
   "id": "b3901e56",
   "metadata": {},
   "outputs": [],
   "source": [
    "chunks('nonoise/','chunks_2sec/')"
   ]
  },
  {
   "cell_type": "code",
   "execution_count": 5,
   "id": "2e9e0aec",
   "metadata": {},
   "outputs": [
    {
     "name": "stdout",
     "output_type": "stream",
     "text": [
      "==============================\n",
      "file AA713_Q1.wav is loaded\n",
      "the file was biger than 1 second\n",
      "17561 zero element are added to the tail of this file \n",
      "the file is divided into 3 chunks\n",
      "list of all the chunks name  :\n",
      "chunks_2sec//comfortable/AA713_Q1_0.wav\n",
      "chunks_2sec//comfortable/AA713_Q1_1.wav\n",
      "chunks_2sec//comfortable/AA713_Q1_2.wav\n",
      "==============================\n",
      "file AA713_Q14.wav is loaded\n",
      "the file was biger than 1 second\n",
      "14462 zero element are added to the tail of this file \n",
      "the file is divided into 16 chunks\n",
      "list of all the chunks name  :\n",
      "chunks_2sec//comfortable/AA713_Q14_0.wav\n",
      "chunks_2sec//comfortable/AA713_Q14_1.wav\n",
      "chunks_2sec//comfortable/AA713_Q14_2.wav\n",
      "chunks_2sec//comfortable/AA713_Q14_3.wav\n",
      "chunks_2sec//comfortable/AA713_Q14_4.wav\n",
      "chunks_2sec//comfortable/AA713_Q14_5.wav\n",
      "chunks_2sec//comfortable/AA713_Q14_6.wav\n",
      "chunks_2sec//comfortable/AA713_Q14_7.wav\n",
      "chunks_2sec//comfortable/AA713_Q14_8.wav\n",
      "chunks_2sec//comfortable/AA713_Q14_9.wav\n",
      "chunks_2sec//comfortable/AA713_Q14_10.wav\n",
      "chunks_2sec//comfortable/AA713_Q14_11.wav\n",
      "chunks_2sec//comfortable/AA713_Q14_12.wav\n",
      "chunks_2sec//comfortable/AA713_Q14_13.wav\n",
      "chunks_2sec//comfortable/AA713_Q14_14.wav\n",
      "chunks_2sec//comfortable/AA713_Q14_15.wav\n",
      "==============================\n",
      "file AA713_Q16.wav is loaded\n",
      "the file was biger than 1 second\n",
      "9643 zero element are added to the tail of this file \n",
      "the file is divided into 19 chunks\n",
      "list of all the chunks name  :\n",
      "chunks_2sec//comfortable/AA713_Q16_0.wav\n",
      "chunks_2sec//comfortable/AA713_Q16_1.wav\n",
      "chunks_2sec//comfortable/AA713_Q16_2.wav\n",
      "chunks_2sec//comfortable/AA713_Q16_3.wav\n",
      "chunks_2sec//comfortable/AA713_Q16_4.wav\n",
      "chunks_2sec//comfortable/AA713_Q16_5.wav\n",
      "chunks_2sec//comfortable/AA713_Q16_6.wav\n",
      "chunks_2sec//comfortable/AA713_Q16_7.wav\n",
      "chunks_2sec//comfortable/AA713_Q16_8.wav\n",
      "chunks_2sec//comfortable/AA713_Q16_9.wav\n",
      "chunks_2sec//comfortable/AA713_Q16_10.wav\n",
      "chunks_2sec//comfortable/AA713_Q16_11.wav\n",
      "chunks_2sec//comfortable/AA713_Q16_12.wav\n",
      "chunks_2sec//comfortable/AA713_Q16_13.wav\n",
      "chunks_2sec//comfortable/AA713_Q16_14.wav\n",
      "chunks_2sec//comfortable/AA713_Q16_15.wav\n",
      "chunks_2sec//comfortable/AA713_Q16_16.wav\n",
      "chunks_2sec//comfortable/AA713_Q16_17.wav\n",
      "chunks_2sec//comfortable/AA713_Q16_18.wav\n",
      "==============================\n",
      "file AA713_Q17.wav is loaded\n",
      "\u001b[31mthe file was less than 1 second\u001b[0m\n",
      "==============================\n",
      "file AA713_Q19.wav is loaded\n",
      "the file was biger than 1 second\n",
      "2263 zero element are added to the tail of this file \n",
      "the file is divided into 9 chunks\n",
      "list of all the chunks name  :\n",
      "chunks_2sec//comfortable/AA713_Q19_0.wav\n",
      "chunks_2sec//comfortable/AA713_Q19_1.wav\n",
      "chunks_2sec//comfortable/AA713_Q19_2.wav\n",
      "chunks_2sec//comfortable/AA713_Q19_3.wav\n",
      "chunks_2sec//comfortable/AA713_Q19_4.wav\n",
      "chunks_2sec//comfortable/AA713_Q19_5.wav\n",
      "chunks_2sec//comfortable/AA713_Q19_6.wav\n",
      "chunks_2sec//comfortable/AA713_Q19_7.wav\n",
      "chunks_2sec//comfortable/AA713_Q19_8.wav\n",
      "==============================\n",
      "file AA713_Q21.wav is loaded\n",
      "the file was biger than 1 second\n",
      "286 zero element are added to the tail of this file \n",
      "the file is divided into 27 chunks\n",
      "list of all the chunks name  :\n",
      "chunks_2sec//comfortable/AA713_Q21_0.wav\n",
      "chunks_2sec//comfortable/AA713_Q21_1.wav\n",
      "chunks_2sec//comfortable/AA713_Q21_2.wav\n",
      "chunks_2sec//comfortable/AA713_Q21_3.wav\n",
      "chunks_2sec//comfortable/AA713_Q21_4.wav\n",
      "chunks_2sec//comfortable/AA713_Q21_5.wav\n",
      "chunks_2sec//comfortable/AA713_Q21_6.wav\n",
      "chunks_2sec//comfortable/AA713_Q21_7.wav\n",
      "chunks_2sec//comfortable/AA713_Q21_8.wav\n",
      "chunks_2sec//comfortable/AA713_Q21_9.wav\n",
      "chunks_2sec//comfortable/AA713_Q21_10.wav\n",
      "chunks_2sec//comfortable/AA713_Q21_11.wav\n",
      "chunks_2sec//comfortable/AA713_Q21_12.wav\n",
      "chunks_2sec//comfortable/AA713_Q21_13.wav\n",
      "chunks_2sec//comfortable/AA713_Q21_14.wav\n",
      "chunks_2sec//comfortable/AA713_Q21_15.wav\n",
      "chunks_2sec//comfortable/AA713_Q21_16.wav\n",
      "chunks_2sec//comfortable/AA713_Q21_17.wav\n",
      "chunks_2sec//comfortable/AA713_Q21_18.wav\n",
      "chunks_2sec//comfortable/AA713_Q21_19.wav\n",
      "chunks_2sec//comfortable/AA713_Q21_20.wav\n",
      "chunks_2sec//comfortable/AA713_Q21_21.wav\n",
      "chunks_2sec//comfortable/AA713_Q21_22.wav\n",
      "chunks_2sec//comfortable/AA713_Q21_23.wav\n",
      "chunks_2sec//comfortable/AA713_Q21_24.wav\n",
      "chunks_2sec//comfortable/AA713_Q21_25.wav\n",
      "chunks_2sec//comfortable/AA713_Q21_26.wav\n",
      "==============================\n",
      "file AA713_Q4.wav is loaded\n",
      "the file was biger than 1 second\n",
      "13910 zero element are added to the tail of this file \n",
      "the file is divided into 2 chunks\n",
      "list of all the chunks name  :\n",
      "chunks_2sec//comfortable/AA713_Q4_0.wav\n",
      "chunks_2sec//comfortable/AA713_Q4_1.wav\n",
      "==============================\n",
      "file AA713_Q5.wav is loaded\n",
      "the file was biger than 1 second\n",
      "17168 zero element are added to the tail of this file \n",
      "the file is divided into 2 chunks\n",
      "list of all the chunks name  :\n",
      "chunks_2sec//comfortable/AA713_Q5_0.wav\n",
      "chunks_2sec//comfortable/AA713_Q5_1.wav\n",
      "==============================\n",
      "file AA713_Q6.wav is loaded\n",
      "the file was biger than 1 second\n",
      "307 zero element are added to the tail of this file \n",
      "the file is divided into 7 chunks\n",
      "list of all the chunks name  :\n",
      "chunks_2sec//comfortable/AA713_Q6_0.wav\n",
      "chunks_2sec//comfortable/AA713_Q6_1.wav\n",
      "chunks_2sec//comfortable/AA713_Q6_2.wav\n",
      "chunks_2sec//comfortable/AA713_Q6_3.wav\n",
      "chunks_2sec//comfortable/AA713_Q6_4.wav\n",
      "chunks_2sec//comfortable/AA713_Q6_5.wav\n",
      "chunks_2sec//comfortable/AA713_Q6_6.wav\n",
      "==============================\n",
      "file AA713_Q8.wav is loaded\n",
      "the file was biger than 1 second\n",
      "20198 zero element are added to the tail of this file \n",
      "the file is divided into 22 chunks\n",
      "list of all the chunks name  :\n",
      "chunks_2sec//comfortable/AA713_Q8_0.wav\n",
      "chunks_2sec//comfortable/AA713_Q8_1.wav\n",
      "chunks_2sec//comfortable/AA713_Q8_2.wav\n",
      "chunks_2sec//comfortable/AA713_Q8_3.wav\n",
      "chunks_2sec//comfortable/AA713_Q8_4.wav\n",
      "chunks_2sec//comfortable/AA713_Q8_5.wav\n",
      "chunks_2sec//comfortable/AA713_Q8_6.wav\n",
      "chunks_2sec//comfortable/AA713_Q8_7.wav\n",
      "chunks_2sec//comfortable/AA713_Q8_8.wav\n",
      "chunks_2sec//comfortable/AA713_Q8_9.wav\n",
      "chunks_2sec//comfortable/AA713_Q8_10.wav\n",
      "chunks_2sec//comfortable/AA713_Q8_11.wav\n",
      "chunks_2sec//comfortable/AA713_Q8_12.wav\n",
      "chunks_2sec//comfortable/AA713_Q8_13.wav\n",
      "chunks_2sec//comfortable/AA713_Q8_14.wav\n",
      "chunks_2sec//comfortable/AA713_Q8_15.wav\n",
      "chunks_2sec//comfortable/AA713_Q8_16.wav\n",
      "chunks_2sec//comfortable/AA713_Q8_17.wav\n",
      "chunks_2sec//comfortable/AA713_Q8_18.wav\n",
      "chunks_2sec//comfortable/AA713_Q8_19.wav\n",
      "chunks_2sec//comfortable/AA713_Q8_20.wav\n",
      "chunks_2sec//comfortable/AA713_Q8_21.wav\n",
      "==============================\n",
      "file AI128_Q14.wav is loaded\n",
      "the file was biger than 1 second\n",
      "2582 zero element are added to the tail of this file \n",
      "the file is divided into 27 chunks\n",
      "list of all the chunks name  :\n",
      "chunks_2sec//comfortable/AI128_Q14_0.wav\n",
      "chunks_2sec//comfortable/AI128_Q14_1.wav\n",
      "chunks_2sec//comfortable/AI128_Q14_2.wav\n",
      "chunks_2sec//comfortable/AI128_Q14_3.wav\n",
      "chunks_2sec//comfortable/AI128_Q14_4.wav\n",
      "chunks_2sec//comfortable/AI128_Q14_5.wav\n",
      "chunks_2sec//comfortable/AI128_Q14_6.wav\n",
      "chunks_2sec//comfortable/AI128_Q14_7.wav\n",
      "chunks_2sec//comfortable/AI128_Q14_8.wav\n",
      "chunks_2sec//comfortable/AI128_Q14_9.wav\n",
      "chunks_2sec//comfortable/AI128_Q14_10.wav\n",
      "chunks_2sec//comfortable/AI128_Q14_11.wav\n",
      "chunks_2sec//comfortable/AI128_Q14_12.wav\n",
      "chunks_2sec//comfortable/AI128_Q14_13.wav\n",
      "chunks_2sec//comfortable/AI128_Q14_14.wav\n",
      "chunks_2sec//comfortable/AI128_Q14_15.wav\n",
      "chunks_2sec//comfortable/AI128_Q14_16.wav\n",
      "chunks_2sec//comfortable/AI128_Q14_17.wav\n",
      "chunks_2sec//comfortable/AI128_Q14_18.wav\n",
      "chunks_2sec//comfortable/AI128_Q14_19.wav\n",
      "chunks_2sec//comfortable/AI128_Q14_20.wav\n",
      "chunks_2sec//comfortable/AI128_Q14_21.wav\n",
      "chunks_2sec//comfortable/AI128_Q14_22.wav\n",
      "chunks_2sec//comfortable/AI128_Q14_23.wav\n",
      "chunks_2sec//comfortable/AI128_Q14_24.wav\n",
      "chunks_2sec//comfortable/AI128_Q14_25.wav\n",
      "chunks_2sec//comfortable/AI128_Q14_26.wav\n",
      "==============================\n",
      "file AI128_Q18.wav is loaded\n",
      "the file was biger than 1 second\n",
      "8172 zero element are added to the tail of this file \n",
      "the file is divided into 71 chunks\n",
      "list of all the chunks name  :\n",
      "chunks_2sec//comfortable/AI128_Q18_0.wav\n",
      "chunks_2sec//comfortable/AI128_Q18_1.wav\n",
      "chunks_2sec//comfortable/AI128_Q18_2.wav\n",
      "chunks_2sec//comfortable/AI128_Q18_3.wav\n",
      "chunks_2sec//comfortable/AI128_Q18_4.wav\n",
      "chunks_2sec//comfortable/AI128_Q18_5.wav\n",
      "chunks_2sec//comfortable/AI128_Q18_6.wav\n",
      "chunks_2sec//comfortable/AI128_Q18_7.wav\n",
      "chunks_2sec//comfortable/AI128_Q18_8.wav\n"
     ]
    },
    {
     "name": "stdout",
     "output_type": "stream",
     "text": [
      "chunks_2sec//comfortable/AI128_Q18_9.wav\n",
      "chunks_2sec//comfortable/AI128_Q18_10.wav\n",
      "chunks_2sec//comfortable/AI128_Q18_11.wav\n",
      "chunks_2sec//comfortable/AI128_Q18_12.wav\n",
      "chunks_2sec//comfortable/AI128_Q18_13.wav\n",
      "chunks_2sec//comfortable/AI128_Q18_14.wav\n",
      "chunks_2sec//comfortable/AI128_Q18_15.wav\n",
      "chunks_2sec//comfortable/AI128_Q18_16.wav\n",
      "chunks_2sec//comfortable/AI128_Q18_17.wav\n",
      "chunks_2sec//comfortable/AI128_Q18_18.wav\n",
      "chunks_2sec//comfortable/AI128_Q18_19.wav\n",
      "chunks_2sec//comfortable/AI128_Q18_20.wav\n",
      "chunks_2sec//comfortable/AI128_Q18_21.wav\n",
      "chunks_2sec//comfortable/AI128_Q18_22.wav\n",
      "chunks_2sec//comfortable/AI128_Q18_23.wav\n",
      "chunks_2sec//comfortable/AI128_Q18_24.wav\n",
      "chunks_2sec//comfortable/AI128_Q18_25.wav\n",
      "chunks_2sec//comfortable/AI128_Q18_26.wav\n",
      "chunks_2sec//comfortable/AI128_Q18_27.wav\n",
      "chunks_2sec//comfortable/AI128_Q18_28.wav\n",
      "chunks_2sec//comfortable/AI128_Q18_29.wav\n",
      "chunks_2sec//comfortable/AI128_Q18_30.wav\n",
      "chunks_2sec//comfortable/AI128_Q18_31.wav\n",
      "chunks_2sec//comfortable/AI128_Q18_32.wav\n",
      "chunks_2sec//comfortable/AI128_Q18_33.wav\n",
      "chunks_2sec//comfortable/AI128_Q18_34.wav\n",
      "chunks_2sec//comfortable/AI128_Q18_35.wav\n",
      "chunks_2sec//comfortable/AI128_Q18_36.wav\n",
      "chunks_2sec//comfortable/AI128_Q18_37.wav\n",
      "chunks_2sec//comfortable/AI128_Q18_38.wav\n",
      "chunks_2sec//comfortable/AI128_Q18_39.wav\n",
      "chunks_2sec//comfortable/AI128_Q18_40.wav\n",
      "chunks_2sec//comfortable/AI128_Q18_41.wav\n",
      "chunks_2sec//comfortable/AI128_Q18_42.wav\n",
      "chunks_2sec//comfortable/AI128_Q18_43.wav\n",
      "chunks_2sec//comfortable/AI128_Q18_44.wav\n",
      "chunks_2sec//comfortable/AI128_Q18_45.wav\n",
      "chunks_2sec//comfortable/AI128_Q18_46.wav\n",
      "chunks_2sec//comfortable/AI128_Q18_47.wav\n",
      "chunks_2sec//comfortable/AI128_Q18_48.wav\n",
      "chunks_2sec//comfortable/AI128_Q18_49.wav\n",
      "chunks_2sec//comfortable/AI128_Q18_50.wav\n",
      "chunks_2sec//comfortable/AI128_Q18_51.wav\n",
      "chunks_2sec//comfortable/AI128_Q18_52.wav\n",
      "chunks_2sec//comfortable/AI128_Q18_53.wav\n",
      "chunks_2sec//comfortable/AI128_Q18_54.wav\n",
      "chunks_2sec//comfortable/AI128_Q18_55.wav\n",
      "chunks_2sec//comfortable/AI128_Q18_56.wav\n",
      "chunks_2sec//comfortable/AI128_Q18_57.wav\n",
      "chunks_2sec//comfortable/AI128_Q18_58.wav\n",
      "chunks_2sec//comfortable/AI128_Q18_59.wav\n",
      "chunks_2sec//comfortable/AI128_Q18_60.wav\n",
      "chunks_2sec//comfortable/AI128_Q18_61.wav\n",
      "chunks_2sec//comfortable/AI128_Q18_62.wav\n",
      "chunks_2sec//comfortable/AI128_Q18_63.wav\n",
      "chunks_2sec//comfortable/AI128_Q18_64.wav\n",
      "chunks_2sec//comfortable/AI128_Q18_65.wav\n",
      "chunks_2sec//comfortable/AI128_Q18_66.wav\n",
      "chunks_2sec//comfortable/AI128_Q18_67.wav\n",
      "chunks_2sec//comfortable/AI128_Q18_68.wav\n",
      "chunks_2sec//comfortable/AI128_Q18_69.wav\n",
      "chunks_2sec//comfortable/AI128_Q18_70.wav\n",
      "==============================\n",
      "file AI128_Q4.wav is loaded\n",
      "the file was biger than 1 second\n",
      "4780 zero element are added to the tail of this file \n",
      "the file is divided into 3 chunks\n",
      "list of all the chunks name  :\n",
      "chunks_2sec//comfortable/AI128_Q4_0.wav\n",
      "chunks_2sec//comfortable/AI128_Q4_1.wav\n",
      "chunks_2sec//comfortable/AI128_Q4_2.wav\n",
      "==============================\n",
      "file AI128_Q8.wav is loaded\n",
      "the file was biger than 1 second\n",
      "10312 zero element are added to the tail of this file \n",
      "the file is divided into 22 chunks\n",
      "list of all the chunks name  :\n",
      "chunks_2sec//comfortable/AI128_Q8_0.wav\n",
      "chunks_2sec//comfortable/AI128_Q8_1.wav\n",
      "chunks_2sec//comfortable/AI128_Q8_2.wav\n",
      "chunks_2sec//comfortable/AI128_Q8_3.wav\n",
      "chunks_2sec//comfortable/AI128_Q8_4.wav\n",
      "chunks_2sec//comfortable/AI128_Q8_5.wav\n",
      "chunks_2sec//comfortable/AI128_Q8_6.wav\n",
      "chunks_2sec//comfortable/AI128_Q8_7.wav\n",
      "chunks_2sec//comfortable/AI128_Q8_8.wav\n",
      "chunks_2sec//comfortable/AI128_Q8_9.wav\n",
      "chunks_2sec//comfortable/AI128_Q8_10.wav\n",
      "chunks_2sec//comfortable/AI128_Q8_11.wav\n",
      "chunks_2sec//comfortable/AI128_Q8_12.wav\n",
      "chunks_2sec//comfortable/AI128_Q8_13.wav\n",
      "chunks_2sec//comfortable/AI128_Q8_14.wav\n",
      "chunks_2sec//comfortable/AI128_Q8_15.wav\n",
      "chunks_2sec//comfortable/AI128_Q8_16.wav\n",
      "chunks_2sec//comfortable/AI128_Q8_17.wav\n",
      "chunks_2sec//comfortable/AI128_Q8_18.wav\n",
      "chunks_2sec//comfortable/AI128_Q8_19.wav\n",
      "chunks_2sec//comfortable/AI128_Q8_20.wav\n",
      "chunks_2sec//comfortable/AI128_Q8_21.wav\n",
      "==============================\n",
      "file AM058_Q1.wav is loaded\n",
      "\u001b[31mthe file was less than 1 second\u001b[0m\n",
      "==============================\n",
      "file AM058_Q13.wav is loaded\n",
      "the file was biger than 1 second\n",
      "11030 zero element are added to the tail of this file \n",
      "the file is divided into 18 chunks\n",
      "list of all the chunks name  :\n",
      "chunks_2sec//comfortable/AM058_Q13_0.wav\n",
      "chunks_2sec//comfortable/AM058_Q13_1.wav\n",
      "chunks_2sec//comfortable/AM058_Q13_2.wav\n",
      "chunks_2sec//comfortable/AM058_Q13_3.wav\n",
      "chunks_2sec//comfortable/AM058_Q13_4.wav\n",
      "chunks_2sec//comfortable/AM058_Q13_5.wav\n",
      "chunks_2sec//comfortable/AM058_Q13_6.wav\n",
      "chunks_2sec//comfortable/AM058_Q13_7.wav\n",
      "chunks_2sec//comfortable/AM058_Q13_8.wav\n",
      "chunks_2sec//comfortable/AM058_Q13_9.wav\n",
      "chunks_2sec//comfortable/AM058_Q13_10.wav\n",
      "chunks_2sec//comfortable/AM058_Q13_11.wav\n",
      "chunks_2sec//comfortable/AM058_Q13_12.wav\n",
      "chunks_2sec//comfortable/AM058_Q13_13.wav\n",
      "chunks_2sec//comfortable/AM058_Q13_14.wav\n",
      "chunks_2sec//comfortable/AM058_Q13_15.wav\n",
      "chunks_2sec//comfortable/AM058_Q13_16.wav\n",
      "chunks_2sec//comfortable/AM058_Q13_17.wav\n",
      "==============================\n",
      "file AM058_Q19.wav is loaded\n",
      "the file was biger than 1 second\n",
      "1514 zero element are added to the tail of this file \n",
      "the file is divided into 3 chunks\n",
      "list of all the chunks name  :\n",
      "chunks_2sec//comfortable/AM058_Q19_0.wav\n",
      "chunks_2sec//comfortable/AM058_Q19_1.wav\n",
      "chunks_2sec//comfortable/AM058_Q19_2.wav\n",
      "==============================\n",
      "file AM058_Q21.wav is loaded\n",
      "the file was biger than 1 second\n",
      "7808 zero element are added to the tail of this file \n",
      "the file is divided into 12 chunks\n",
      "list of all the chunks name  :\n",
      "chunks_2sec//comfortable/AM058_Q21_0.wav\n",
      "chunks_2sec//comfortable/AM058_Q21_1.wav\n",
      "chunks_2sec//comfortable/AM058_Q21_2.wav\n",
      "chunks_2sec//comfortable/AM058_Q21_3.wav\n",
      "chunks_2sec//comfortable/AM058_Q21_4.wav\n",
      "chunks_2sec//comfortable/AM058_Q21_5.wav\n",
      "chunks_2sec//comfortable/AM058_Q21_6.wav\n",
      "chunks_2sec//comfortable/AM058_Q21_7.wav\n",
      "chunks_2sec//comfortable/AM058_Q21_8.wav\n",
      "chunks_2sec//comfortable/AM058_Q21_9.wav\n",
      "chunks_2sec//comfortable/AM058_Q21_10.wav\n",
      "chunks_2sec//comfortable/AM058_Q21_11.wav\n",
      "==============================\n",
      "file AM058_Q23.wav is loaded\n",
      "the file was biger than 1 second\n",
      "7703 zero element are added to the tail of this file \n",
      "the file is divided into 3 chunks\n",
      "list of all the chunks name  :\n",
      "chunks_2sec//comfortable/AM058_Q23_0.wav\n",
      "chunks_2sec//comfortable/AM058_Q23_1.wav\n",
      "chunks_2sec//comfortable/AM058_Q23_2.wav\n",
      "==============================\n",
      "file AM058_Q24.wav is loaded\n",
      "\u001b[31mthe file was less than 1 second\u001b[0m\n",
      "==============================\n",
      "file AM058_Q4.wav is loaded\n",
      "the file was biger than 1 second\n",
      "13475 zero element are added to the tail of this file \n",
      "the file is divided into 2 chunks\n",
      "list of all the chunks name  :\n",
      "chunks_2sec//comfortable/AM058_Q4_0.wav\n",
      "chunks_2sec//comfortable/AM058_Q4_1.wav\n",
      "==============================\n",
      "file AM058_Q5.wav is loaded\n",
      "the file was biger than 1 second\n",
      "10407 zero element are added to the tail of this file \n",
      "the file is divided into 6 chunks\n",
      "list of all the chunks name  :\n",
      "chunks_2sec//comfortable/AM058_Q5_0.wav\n",
      "chunks_2sec//comfortable/AM058_Q5_1.wav\n",
      "chunks_2sec//comfortable/AM058_Q5_2.wav\n",
      "chunks_2sec//comfortable/AM058_Q5_3.wav\n",
      "chunks_2sec//comfortable/AM058_Q5_4.wav\n",
      "chunks_2sec//comfortable/AM058_Q5_5.wav\n",
      "==============================\n",
      "file AM058_Q6.wav is loaded\n",
      "the file was biger than 1 second\n",
      "10262 zero element are added to the tail of this file \n",
      "the file is divided into 5 chunks\n",
      "list of all the chunks name  :\n",
      "chunks_2sec//comfortable/AM058_Q6_0.wav\n",
      "chunks_2sec//comfortable/AM058_Q6_1.wav\n",
      "chunks_2sec//comfortable/AM058_Q6_2.wav\n",
      "chunks_2sec//comfortable/AM058_Q6_3.wav\n",
      "chunks_2sec//comfortable/AM058_Q6_4.wav\n",
      "==============================\n",
      "file AM058_Q7.wav is loaded\n",
      "the file was biger than 1 second\n",
      "4924 zero element are added to the tail of this file \n",
      "the file is divided into 21 chunks\n",
      "list of all the chunks name  :\n",
      "chunks_2sec//comfortable/AM058_Q7_0.wav\n",
      "chunks_2sec//comfortable/AM058_Q7_1.wav\n",
      "chunks_2sec//comfortable/AM058_Q7_2.wav\n",
      "chunks_2sec//comfortable/AM058_Q7_3.wav\n",
      "chunks_2sec//comfortable/AM058_Q7_4.wav\n",
      "chunks_2sec//comfortable/AM058_Q7_5.wav\n",
      "chunks_2sec//comfortable/AM058_Q7_6.wav\n",
      "chunks_2sec//comfortable/AM058_Q7_7.wav\n"
     ]
    },
    {
     "name": "stdout",
     "output_type": "stream",
     "text": [
      "chunks_2sec//comfortable/AM058_Q7_8.wav\n",
      "chunks_2sec//comfortable/AM058_Q7_9.wav\n",
      "chunks_2sec//comfortable/AM058_Q7_10.wav\n",
      "chunks_2sec//comfortable/AM058_Q7_11.wav\n",
      "chunks_2sec//comfortable/AM058_Q7_12.wav\n",
      "chunks_2sec//comfortable/AM058_Q7_13.wav\n",
      "chunks_2sec//comfortable/AM058_Q7_14.wav\n",
      "chunks_2sec//comfortable/AM058_Q7_15.wav\n",
      "chunks_2sec//comfortable/AM058_Q7_16.wav\n",
      "chunks_2sec//comfortable/AM058_Q7_17.wav\n",
      "chunks_2sec//comfortable/AM058_Q7_18.wav\n",
      "chunks_2sec//comfortable/AM058_Q7_19.wav\n",
      "chunks_2sec//comfortable/AM058_Q7_20.wav\n",
      "==============================\n",
      "file AM058_Q8.wav is loaded\n",
      "the file was biger than 1 second\n",
      "18688 zero element are added to the tail of this file \n",
      "the file is divided into 21 chunks\n",
      "list of all the chunks name  :\n",
      "chunks_2sec//comfortable/AM058_Q8_0.wav\n",
      "chunks_2sec//comfortable/AM058_Q8_1.wav\n",
      "chunks_2sec//comfortable/AM058_Q8_2.wav\n",
      "chunks_2sec//comfortable/AM058_Q8_3.wav\n",
      "chunks_2sec//comfortable/AM058_Q8_4.wav\n",
      "chunks_2sec//comfortable/AM058_Q8_5.wav\n",
      "chunks_2sec//comfortable/AM058_Q8_6.wav\n",
      "chunks_2sec//comfortable/AM058_Q8_7.wav\n",
      "chunks_2sec//comfortable/AM058_Q8_8.wav\n",
      "chunks_2sec//comfortable/AM058_Q8_9.wav\n",
      "chunks_2sec//comfortable/AM058_Q8_10.wav\n",
      "chunks_2sec//comfortable/AM058_Q8_11.wav\n",
      "chunks_2sec//comfortable/AM058_Q8_12.wav\n",
      "chunks_2sec//comfortable/AM058_Q8_13.wav\n",
      "chunks_2sec//comfortable/AM058_Q8_14.wav\n",
      "chunks_2sec//comfortable/AM058_Q8_15.wav\n",
      "chunks_2sec//comfortable/AM058_Q8_16.wav\n",
      "chunks_2sec//comfortable/AM058_Q8_17.wav\n",
      "chunks_2sec//comfortable/AM058_Q8_18.wav\n",
      "chunks_2sec//comfortable/AM058_Q8_19.wav\n",
      "chunks_2sec//comfortable/AM058_Q8_20.wav\n",
      "==============================\n",
      "file AM526_Q10.wav is loaded\n",
      "\u001b[31mthe file was less than 1 second\u001b[0m\n",
      "==============================\n",
      "file AM526_Q1_BROKEN.wav is loaded\n",
      "\u001b[31mthe file was less than 1 second\u001b[0m\n",
      "==============================\n",
      "file AN867_Q1.wav is loaded\n",
      "the file was biger than 1 second\n",
      "20802 zero element are added to the tail of this file \n",
      "the file is divided into 2 chunks\n",
      "list of all the chunks name  :\n",
      "chunks_2sec//comfortable/AN867_Q1_0.wav\n",
      "chunks_2sec//comfortable/AN867_Q1_1.wav\n",
      "==============================\n",
      "file AN867_Q10.wav is loaded\n",
      "the file was biger than 1 second\n",
      "13216 zero element are added to the tail of this file \n",
      "the file is divided into 3 chunks\n",
      "list of all the chunks name  :\n",
      "chunks_2sec//comfortable/AN867_Q10_0.wav\n",
      "chunks_2sec//comfortable/AN867_Q10_1.wav\n",
      "chunks_2sec//comfortable/AN867_Q10_2.wav\n",
      "==============================\n",
      "file AN867_Q11.wav is loaded\n",
      "the file was biger than 1 second\n",
      "17757 zero element are added to the tail of this file \n",
      "the file is divided into 3 chunks\n",
      "list of all the chunks name  :\n",
      "chunks_2sec//comfortable/AN867_Q11_0.wav\n",
      "chunks_2sec//comfortable/AN867_Q11_1.wav\n",
      "chunks_2sec//comfortable/AN867_Q11_2.wav\n",
      "==============================\n",
      "file AN867_Q20.wav is loaded\n",
      "the file was biger than 1 second\n",
      "8029 zero element are added to the tail of this file \n",
      "the file is divided into 5 chunks\n",
      "list of all the chunks name  :\n",
      "chunks_2sec//comfortable/AN867_Q20_0.wav\n",
      "chunks_2sec//comfortable/AN867_Q20_1.wav\n",
      "chunks_2sec//comfortable/AN867_Q20_2.wav\n",
      "chunks_2sec//comfortable/AN867_Q20_3.wav\n",
      "chunks_2sec//comfortable/AN867_Q20_4.wav\n",
      "==============================\n",
      "file AN867_Q24.wav is loaded\n",
      "the file was biger than 1 second\n",
      "17964 zero element are added to the tail of this file \n",
      "the file is divided into 2 chunks\n",
      "list of all the chunks name  :\n",
      "chunks_2sec//comfortable/AN867_Q24_0.wav\n",
      "chunks_2sec//comfortable/AN867_Q24_1.wav\n",
      "==============================\n",
      "file AN867_Q4.wav is loaded\n",
      "the file was biger than 1 second\n",
      "7827 zero element are added to the tail of this file \n",
      "the file is divided into 2 chunks\n",
      "list of all the chunks name  :\n",
      "chunks_2sec//comfortable/AN867_Q4_0.wav\n",
      "chunks_2sec//comfortable/AN867_Q4_1.wav\n",
      "==============================\n",
      "file AN867_Q6.wav is loaded\n",
      "the file was biger than 1 second\n",
      "2681 zero element are added to the tail of this file \n",
      "the file is divided into 6 chunks\n",
      "list of all the chunks name  :\n",
      "chunks_2sec//comfortable/AN867_Q6_0.wav\n",
      "chunks_2sec//comfortable/AN867_Q6_1.wav\n",
      "chunks_2sec//comfortable/AN867_Q6_2.wav\n",
      "chunks_2sec//comfortable/AN867_Q6_3.wav\n",
      "chunks_2sec//comfortable/AN867_Q6_4.wav\n",
      "chunks_2sec//comfortable/AN867_Q6_5.wav\n",
      "==============================\n",
      "file AN867_Q7.wav is loaded\n",
      "the file was biger than 1 second\n",
      "16263 zero element are added to the tail of this file \n",
      "the file is divided into 25 chunks\n",
      "list of all the chunks name  :\n",
      "chunks_2sec//comfortable/AN867_Q7_0.wav\n",
      "chunks_2sec//comfortable/AN867_Q7_1.wav\n",
      "chunks_2sec//comfortable/AN867_Q7_2.wav\n",
      "chunks_2sec//comfortable/AN867_Q7_3.wav\n",
      "chunks_2sec//comfortable/AN867_Q7_4.wav\n",
      "chunks_2sec//comfortable/AN867_Q7_5.wav\n",
      "chunks_2sec//comfortable/AN867_Q7_6.wav\n",
      "chunks_2sec//comfortable/AN867_Q7_7.wav\n",
      "chunks_2sec//comfortable/AN867_Q7_8.wav\n",
      "chunks_2sec//comfortable/AN867_Q7_9.wav\n",
      "chunks_2sec//comfortable/AN867_Q7_10.wav\n",
      "chunks_2sec//comfortable/AN867_Q7_11.wav\n",
      "chunks_2sec//comfortable/AN867_Q7_12.wav\n",
      "chunks_2sec//comfortable/AN867_Q7_13.wav\n",
      "chunks_2sec//comfortable/AN867_Q7_14.wav\n",
      "chunks_2sec//comfortable/AN867_Q7_15.wav\n",
      "chunks_2sec//comfortable/AN867_Q7_16.wav\n",
      "chunks_2sec//comfortable/AN867_Q7_17.wav\n",
      "chunks_2sec//comfortable/AN867_Q7_18.wav\n",
      "chunks_2sec//comfortable/AN867_Q7_19.wav\n",
      "chunks_2sec//comfortable/AN867_Q7_20.wav\n",
      "chunks_2sec//comfortable/AN867_Q7_21.wav\n",
      "chunks_2sec//comfortable/AN867_Q7_22.wav\n",
      "chunks_2sec//comfortable/AN867_Q7_23.wav\n",
      "chunks_2sec//comfortable/AN867_Q7_24.wav\n",
      "==============================\n",
      "file BA925_Q10.wav is loaded\n",
      "the file was biger than 1 second\n",
      "4992 zero element are added to the tail of this file \n",
      "the file is divided into 2 chunks\n",
      "list of all the chunks name  :\n",
      "chunks_2sec//comfortable/BA925_Q10_0.wav\n",
      "chunks_2sec//comfortable/BA925_Q10_1.wav\n",
      "==============================\n",
      "file BA925_Q11.wav is loaded\n",
      "the file was biger than 1 second\n",
      "12643 zero element are added to the tail of this file \n",
      "the file is divided into 2 chunks\n",
      "list of all the chunks name  :\n",
      "chunks_2sec//comfortable/BA925_Q11_0.wav\n",
      "chunks_2sec//comfortable/BA925_Q11_1.wav\n",
      "==============================\n",
      "file BA925_Q12.wav is loaded\n",
      "the file was biger than 1 second\n",
      "20662 zero element are added to the tail of this file \n",
      "the file is divided into 2 chunks\n",
      "list of all the chunks name  :\n",
      "chunks_2sec//comfortable/BA925_Q12_0.wav\n",
      "chunks_2sec//comfortable/BA925_Q12_1.wav\n",
      "==============================\n",
      "file BA925_Q19.wav is loaded\n",
      "the file was biger than 1 second\n",
      "17193 zero element are added to the tail of this file \n",
      "the file is divided into 11 chunks\n",
      "list of all the chunks name  :\n",
      "chunks_2sec//comfortable/BA925_Q19_0.wav\n",
      "chunks_2sec//comfortable/BA925_Q19_1.wav\n",
      "chunks_2sec//comfortable/BA925_Q19_2.wav\n",
      "chunks_2sec//comfortable/BA925_Q19_3.wav\n",
      "chunks_2sec//comfortable/BA925_Q19_4.wav\n",
      "chunks_2sec//comfortable/BA925_Q19_5.wav\n",
      "chunks_2sec//comfortable/BA925_Q19_6.wav\n",
      "chunks_2sec//comfortable/BA925_Q19_7.wav\n",
      "chunks_2sec//comfortable/BA925_Q19_8.wav\n",
      "chunks_2sec//comfortable/BA925_Q19_9.wav\n",
      "chunks_2sec//comfortable/BA925_Q19_10.wav\n",
      "==============================\n",
      "file BA925_Q24.wav is loaded\n",
      "the file was biger than 1 second\n",
      "11603 zero element are added to the tail of this file \n",
      "the file is divided into 2 chunks\n",
      "list of all the chunks name  :\n",
      "chunks_2sec//comfortable/BA925_Q24_0.wav\n",
      "chunks_2sec//comfortable/BA925_Q24_1.wav\n",
      "==============================\n",
      "file BA925_Q3.wav is loaded\n",
      "the file was biger than 1 second\n",
      "12104 zero element are added to the tail of this file \n",
      "the file is divided into 4 chunks\n",
      "list of all the chunks name  :\n",
      "chunks_2sec//comfortable/BA925_Q3_0.wav\n",
      "chunks_2sec//comfortable/BA925_Q3_1.wav\n",
      "chunks_2sec//comfortable/BA925_Q3_2.wav\n",
      "chunks_2sec//comfortable/BA925_Q3_3.wav\n",
      "==============================\n",
      "file BA925_Q4.wav is loaded\n",
      "\u001b[31mthe file was less than 1 second\u001b[0m\n",
      "==============================\n",
      "file BA925_Q5.wav is loaded\n",
      "the file was biger than 1 second\n",
      "10234 zero element are added to the tail of this file \n",
      "the file is divided into 5 chunks\n",
      "list of all the chunks name  :\n",
      "chunks_2sec//comfortable/BA925_Q5_0.wav\n",
      "chunks_2sec//comfortable/BA925_Q5_1.wav\n",
      "chunks_2sec//comfortable/BA925_Q5_2.wav\n",
      "chunks_2sec//comfortable/BA925_Q5_3.wav\n",
      "chunks_2sec//comfortable/BA925_Q5_4.wav\n",
      "==============================\n",
      "file BA925_Q6.wav is loaded\n",
      "the file was biger than 1 second\n",
      "6013 zero element are added to the tail of this file \n",
      "the file is divided into 7 chunks\n",
      "list of all the chunks name  :\n",
      "chunks_2sec//comfortable/BA925_Q6_0.wav\n"
     ]
    },
    {
     "name": "stdout",
     "output_type": "stream",
     "text": [
      "chunks_2sec//comfortable/BA925_Q6_1.wav\n",
      "chunks_2sec//comfortable/BA925_Q6_2.wav\n",
      "chunks_2sec//comfortable/BA925_Q6_3.wav\n",
      "chunks_2sec//comfortable/BA925_Q6_4.wav\n",
      "chunks_2sec//comfortable/BA925_Q6_5.wav\n",
      "chunks_2sec//comfortable/BA925_Q6_6.wav\n",
      "==============================\n",
      "file BA925_Q8.wav is loaded\n",
      "the file was biger than 1 second\n",
      "11256 zero element are added to the tail of this file \n",
      "the file is divided into 18 chunks\n",
      "list of all the chunks name  :\n",
      "chunks_2sec//comfortable/BA925_Q8_0.wav\n",
      "chunks_2sec//comfortable/BA925_Q8_1.wav\n",
      "chunks_2sec//comfortable/BA925_Q8_2.wav\n",
      "chunks_2sec//comfortable/BA925_Q8_3.wav\n",
      "chunks_2sec//comfortable/BA925_Q8_4.wav\n",
      "chunks_2sec//comfortable/BA925_Q8_5.wav\n",
      "chunks_2sec//comfortable/BA925_Q8_6.wav\n",
      "chunks_2sec//comfortable/BA925_Q8_7.wav\n",
      "chunks_2sec//comfortable/BA925_Q8_8.wav\n",
      "chunks_2sec//comfortable/BA925_Q8_9.wav\n",
      "chunks_2sec//comfortable/BA925_Q8_10.wav\n",
      "chunks_2sec//comfortable/BA925_Q8_11.wav\n",
      "chunks_2sec//comfortable/BA925_Q8_12.wav\n",
      "chunks_2sec//comfortable/BA925_Q8_13.wav\n",
      "chunks_2sec//comfortable/BA925_Q8_14.wav\n",
      "chunks_2sec//comfortable/BA925_Q8_15.wav\n",
      "chunks_2sec//comfortable/BA925_Q8_16.wav\n",
      "chunks_2sec//comfortable/BA925_Q8_17.wav\n",
      "==============================\n",
      "file BB508_Q19.wav is loaded\n",
      "the file was biger than 1 second\n",
      "18694 zero element are added to the tail of this file \n",
      "the file is divided into 3 chunks\n",
      "list of all the chunks name  :\n",
      "chunks_2sec//comfortable/BB508_Q19_0.wav\n",
      "chunks_2sec//comfortable/BB508_Q19_1.wav\n",
      "chunks_2sec//comfortable/BB508_Q19_2.wav\n",
      "==============================\n",
      "file BL551_Q10.wav is loaded\n",
      "\u001b[31mthe file was less than 1 second\u001b[0m\n",
      "==============================\n",
      "file BL551_Q19.wav is loaded\n",
      "the file was biger than 1 second\n",
      "5184 zero element are added to the tail of this file \n",
      "the file is divided into 6 chunks\n",
      "list of all the chunks name  :\n",
      "chunks_2sec//comfortable/BL551_Q19_0.wav\n",
      "chunks_2sec//comfortable/BL551_Q19_1.wav\n",
      "chunks_2sec//comfortable/BL551_Q19_2.wav\n",
      "chunks_2sec//comfortable/BL551_Q19_3.wav\n",
      "chunks_2sec//comfortable/BL551_Q19_4.wav\n",
      "chunks_2sec//comfortable/BL551_Q19_5.wav\n",
      "==============================\n",
      "file BL551_Q24.wav is loaded\n",
      "\u001b[31mthe file was less than 1 second\u001b[0m\n",
      "==============================\n",
      "file BL551_Q6.wav is loaded\n",
      "the file was biger than 1 second\n",
      "8056 zero element are added to the tail of this file \n",
      "the file is divided into 4 chunks\n",
      "list of all the chunks name  :\n",
      "chunks_2sec//comfortable/BL551_Q6_0.wav\n",
      "chunks_2sec//comfortable/BL551_Q6_1.wav\n",
      "chunks_2sec//comfortable/BL551_Q6_2.wav\n",
      "chunks_2sec//comfortable/BL551_Q6_3.wav\n",
      "==============================\n",
      "file BM403_Q1.wav is loaded\n",
      "the file was biger than 1 second\n",
      "14745 zero element are added to the tail of this file \n",
      "the file is divided into 2 chunks\n",
      "list of all the chunks name  :\n",
      "chunks_2sec//comfortable/BM403_Q1_0.wav\n",
      "chunks_2sec//comfortable/BM403_Q1_1.wav\n",
      "==============================\n",
      "file BM403_Q19.wav is loaded\n",
      "the file was biger than 1 second\n",
      "2698 zero element are added to the tail of this file \n",
      "the file is divided into 3 chunks\n",
      "list of all the chunks name  :\n",
      "chunks_2sec//comfortable/BM403_Q19_0.wav\n",
      "chunks_2sec//comfortable/BM403_Q19_1.wav\n",
      "chunks_2sec//comfortable/BM403_Q19_2.wav\n",
      "==============================\n",
      "file BM403_Q2.wav is loaded\n",
      "the file was biger than 1 second\n",
      "3238 zero element are added to the tail of this file \n",
      "the file is divided into 6 chunks\n",
      "list of all the chunks name  :\n",
      "chunks_2sec//comfortable/BM403_Q2_0.wav\n",
      "chunks_2sec//comfortable/BM403_Q2_1.wav\n",
      "chunks_2sec//comfortable/BM403_Q2_2.wav\n",
      "chunks_2sec//comfortable/BM403_Q2_3.wav\n",
      "chunks_2sec//comfortable/BM403_Q2_4.wav\n",
      "chunks_2sec//comfortable/BM403_Q2_5.wav\n",
      "==============================\n",
      "file BM403_Q24.wav is loaded\n",
      "the file was biger than 1 second\n",
      "20122 zero element are added to the tail of this file \n",
      "the file is divided into 3 chunks\n",
      "list of all the chunks name  :\n",
      "chunks_2sec//comfortable/BM403_Q24_0.wav\n",
      "chunks_2sec//comfortable/BM403_Q24_1.wav\n",
      "chunks_2sec//comfortable/BM403_Q24_2.wav\n",
      "==============================\n",
      "file BM403_Q5.wav is loaded\n",
      "the file was biger than 1 second\n",
      "13819 zero element are added to the tail of this file \n",
      "the file is divided into 2 chunks\n",
      "list of all the chunks name  :\n",
      "chunks_2sec//comfortable/BM403_Q5_0.wav\n",
      "chunks_2sec//comfortable/BM403_Q5_1.wav\n",
      "==============================\n",
      "file BM403_Q9.wav is loaded\n",
      "the file was biger than 1 second\n",
      "20083 zero element are added to the tail of this file \n",
      "the file is divided into 17 chunks\n",
      "list of all the chunks name  :\n",
      "chunks_2sec//comfortable/BM403_Q9_0.wav\n",
      "chunks_2sec//comfortable/BM403_Q9_1.wav\n",
      "chunks_2sec//comfortable/BM403_Q9_2.wav\n",
      "chunks_2sec//comfortable/BM403_Q9_3.wav\n",
      "chunks_2sec//comfortable/BM403_Q9_4.wav\n",
      "chunks_2sec//comfortable/BM403_Q9_5.wav\n",
      "chunks_2sec//comfortable/BM403_Q9_6.wav\n",
      "chunks_2sec//comfortable/BM403_Q9_7.wav\n",
      "chunks_2sec//comfortable/BM403_Q9_8.wav\n",
      "chunks_2sec//comfortable/BM403_Q9_9.wav\n",
      "chunks_2sec//comfortable/BM403_Q9_10.wav\n",
      "chunks_2sec//comfortable/BM403_Q9_11.wav\n",
      "chunks_2sec//comfortable/BM403_Q9_12.wav\n",
      "chunks_2sec//comfortable/BM403_Q9_13.wav\n",
      "chunks_2sec//comfortable/BM403_Q9_14.wav\n",
      "chunks_2sec//comfortable/BM403_Q9_15.wav\n",
      "chunks_2sec//comfortable/BM403_Q9_16.wav\n",
      "==============================\n",
      "file CJ032_Q1.wav is loaded\n",
      "\u001b[31mthe file was less than 1 second\u001b[0m\n",
      "==============================\n",
      "file CJ032_Q10.wav is loaded\n",
      "the file was biger than 1 second\n",
      "1683 zero element are added to the tail of this file \n",
      "the file is divided into 4 chunks\n",
      "list of all the chunks name  :\n",
      "chunks_2sec//comfortable/CJ032_Q10_0.wav\n",
      "chunks_2sec//comfortable/CJ032_Q10_1.wav\n",
      "chunks_2sec//comfortable/CJ032_Q10_2.wav\n",
      "chunks_2sec//comfortable/CJ032_Q10_3.wav\n",
      "==============================\n",
      "file CJ032_Q13.wav is loaded\n",
      "the file was biger than 1 second\n",
      "21422 zero element are added to the tail of this file \n",
      "the file is divided into 11 chunks\n",
      "list of all the chunks name  :\n",
      "chunks_2sec//comfortable/CJ032_Q13_0.wav\n",
      "chunks_2sec//comfortable/CJ032_Q13_1.wav\n",
      "chunks_2sec//comfortable/CJ032_Q13_2.wav\n",
      "chunks_2sec//comfortable/CJ032_Q13_3.wav\n",
      "chunks_2sec//comfortable/CJ032_Q13_4.wav\n",
      "chunks_2sec//comfortable/CJ032_Q13_5.wav\n",
      "chunks_2sec//comfortable/CJ032_Q13_6.wav\n",
      "chunks_2sec//comfortable/CJ032_Q13_7.wav\n",
      "chunks_2sec//comfortable/CJ032_Q13_8.wav\n",
      "chunks_2sec//comfortable/CJ032_Q13_9.wav\n",
      "chunks_2sec//comfortable/CJ032_Q13_10.wav\n",
      "==============================\n",
      "file CJ032_Q3.wav is loaded\n",
      "the file was biger than 1 second\n",
      "6821 zero element are added to the tail of this file \n",
      "the file is divided into 4 chunks\n",
      "list of all the chunks name  :\n",
      "chunks_2sec//comfortable/CJ032_Q3_0.wav\n",
      "chunks_2sec//comfortable/CJ032_Q3_1.wav\n",
      "chunks_2sec//comfortable/CJ032_Q3_2.wav\n",
      "chunks_2sec//comfortable/CJ032_Q3_3.wav\n",
      "==============================\n",
      "file CL374_Q1.wav is loaded\n",
      "the file was biger than 1 second\n",
      "12605 zero element are added to the tail of this file \n",
      "the file is divided into 2 chunks\n",
      "list of all the chunks name  :\n",
      "chunks_2sec//comfortable/CL374_Q1_0.wav\n",
      "chunks_2sec//comfortable/CL374_Q1_1.wav\n",
      "==============================\n",
      "file CL374_Q19.wav is loaded\n",
      "the file was biger than 1 second\n",
      "8539 zero element are added to the tail of this file \n",
      "the file is divided into 11 chunks\n",
      "list of all the chunks name  :\n",
      "chunks_2sec//comfortable/CL374_Q19_0.wav\n",
      "chunks_2sec//comfortable/CL374_Q19_1.wav\n",
      "chunks_2sec//comfortable/CL374_Q19_2.wav\n",
      "chunks_2sec//comfortable/CL374_Q19_3.wav\n",
      "chunks_2sec//comfortable/CL374_Q19_4.wav\n",
      "chunks_2sec//comfortable/CL374_Q19_5.wav\n",
      "chunks_2sec//comfortable/CL374_Q19_6.wav\n",
      "chunks_2sec//comfortable/CL374_Q19_7.wav\n",
      "chunks_2sec//comfortable/CL374_Q19_8.wav\n",
      "chunks_2sec//comfortable/CL374_Q19_9.wav\n",
      "chunks_2sec//comfortable/CL374_Q19_10.wav\n",
      "==============================\n",
      "file CL374_Q6.wav is loaded\n",
      "the file was biger than 1 second\n",
      "2386 zero element are added to the tail of this file \n",
      "the file is divided into 9 chunks\n",
      "list of all the chunks name  :\n",
      "chunks_2sec//comfortable/CL374_Q6_0.wav\n",
      "chunks_2sec//comfortable/CL374_Q6_1.wav\n",
      "chunks_2sec//comfortable/CL374_Q6_2.wav\n",
      "chunks_2sec//comfortable/CL374_Q6_3.wav\n",
      "chunks_2sec//comfortable/CL374_Q6_4.wav\n",
      "chunks_2sec//comfortable/CL374_Q6_5.wav\n",
      "chunks_2sec//comfortable/CL374_Q6_6.wav\n",
      "chunks_2sec//comfortable/CL374_Q6_7.wav\n",
      "chunks_2sec//comfortable/CL374_Q6_8.wav\n"
     ]
    },
    {
     "name": "stdout",
     "output_type": "stream",
     "text": [
      "==============================\n",
      "file JS827_Q11.wav is loaded\n",
      "the file was biger than 1 second\n",
      "21648 zero element are added to the tail of this file \n",
      "the file is divided into 12 chunks\n",
      "list of all the chunks name  :\n",
      "chunks_2sec//comfortable/JS827_Q11_0.wav\n",
      "chunks_2sec//comfortable/JS827_Q11_1.wav\n",
      "chunks_2sec//comfortable/JS827_Q11_2.wav\n",
      "chunks_2sec//comfortable/JS827_Q11_3.wav\n",
      "chunks_2sec//comfortable/JS827_Q11_4.wav\n",
      "chunks_2sec//comfortable/JS827_Q11_5.wav\n",
      "chunks_2sec//comfortable/JS827_Q11_6.wav\n",
      "chunks_2sec//comfortable/JS827_Q11_7.wav\n",
      "chunks_2sec//comfortable/JS827_Q11_8.wav\n",
      "chunks_2sec//comfortable/JS827_Q11_9.wav\n",
      "chunks_2sec//comfortable/JS827_Q11_10.wav\n",
      "chunks_2sec//comfortable/JS827_Q11_11.wav\n",
      "==============================\n",
      "file JS827_Q13.wav is loaded\n",
      "the file was biger than 1 second\n",
      "20535 zero element are added to the tail of this file \n",
      "the file is divided into 10 chunks\n",
      "list of all the chunks name  :\n",
      "chunks_2sec//comfortable/JS827_Q13_0.wav\n",
      "chunks_2sec//comfortable/JS827_Q13_1.wav\n",
      "chunks_2sec//comfortable/JS827_Q13_2.wav\n",
      "chunks_2sec//comfortable/JS827_Q13_3.wav\n",
      "chunks_2sec//comfortable/JS827_Q13_4.wav\n",
      "chunks_2sec//comfortable/JS827_Q13_5.wav\n",
      "chunks_2sec//comfortable/JS827_Q13_6.wav\n",
      "chunks_2sec//comfortable/JS827_Q13_7.wav\n",
      "chunks_2sec//comfortable/JS827_Q13_8.wav\n",
      "chunks_2sec//comfortable/JS827_Q13_9.wav\n",
      "==============================\n",
      "file JS827_Q16.wav is loaded\n",
      "the file was biger than 1 second\n",
      "15799 zero element are added to the tail of this file \n",
      "the file is divided into 50 chunks\n",
      "list of all the chunks name  :\n",
      "chunks_2sec//comfortable/JS827_Q16_0.wav\n",
      "chunks_2sec//comfortable/JS827_Q16_1.wav\n",
      "chunks_2sec//comfortable/JS827_Q16_2.wav\n",
      "chunks_2sec//comfortable/JS827_Q16_3.wav\n",
      "chunks_2sec//comfortable/JS827_Q16_4.wav\n",
      "chunks_2sec//comfortable/JS827_Q16_5.wav\n",
      "chunks_2sec//comfortable/JS827_Q16_6.wav\n",
      "chunks_2sec//comfortable/JS827_Q16_7.wav\n",
      "chunks_2sec//comfortable/JS827_Q16_8.wav\n",
      "chunks_2sec//comfortable/JS827_Q16_9.wav\n",
      "chunks_2sec//comfortable/JS827_Q16_10.wav\n",
      "chunks_2sec//comfortable/JS827_Q16_11.wav\n",
      "chunks_2sec//comfortable/JS827_Q16_12.wav\n",
      "chunks_2sec//comfortable/JS827_Q16_13.wav\n",
      "chunks_2sec//comfortable/JS827_Q16_14.wav\n",
      "chunks_2sec//comfortable/JS827_Q16_15.wav\n",
      "chunks_2sec//comfortable/JS827_Q16_16.wav\n",
      "chunks_2sec//comfortable/JS827_Q16_17.wav\n",
      "chunks_2sec//comfortable/JS827_Q16_18.wav\n",
      "chunks_2sec//comfortable/JS827_Q16_19.wav\n",
      "chunks_2sec//comfortable/JS827_Q16_20.wav\n",
      "chunks_2sec//comfortable/JS827_Q16_21.wav\n",
      "chunks_2sec//comfortable/JS827_Q16_22.wav\n",
      "chunks_2sec//comfortable/JS827_Q16_23.wav\n",
      "chunks_2sec//comfortable/JS827_Q16_24.wav\n",
      "chunks_2sec//comfortable/JS827_Q16_25.wav\n",
      "chunks_2sec//comfortable/JS827_Q16_26.wav\n",
      "chunks_2sec//comfortable/JS827_Q16_27.wav\n",
      "chunks_2sec//comfortable/JS827_Q16_28.wav\n",
      "chunks_2sec//comfortable/JS827_Q16_29.wav\n",
      "chunks_2sec//comfortable/JS827_Q16_30.wav\n",
      "chunks_2sec//comfortable/JS827_Q16_31.wav\n",
      "chunks_2sec//comfortable/JS827_Q16_32.wav\n",
      "chunks_2sec//comfortable/JS827_Q16_33.wav\n",
      "chunks_2sec//comfortable/JS827_Q16_34.wav\n",
      "chunks_2sec//comfortable/JS827_Q16_35.wav\n",
      "chunks_2sec//comfortable/JS827_Q16_36.wav\n",
      "chunks_2sec//comfortable/JS827_Q16_37.wav\n",
      "chunks_2sec//comfortable/JS827_Q16_38.wav\n",
      "chunks_2sec//comfortable/JS827_Q16_39.wav\n",
      "chunks_2sec//comfortable/JS827_Q16_40.wav\n",
      "chunks_2sec//comfortable/JS827_Q16_41.wav\n",
      "chunks_2sec//comfortable/JS827_Q16_42.wav\n",
      "chunks_2sec//comfortable/JS827_Q16_43.wav\n",
      "chunks_2sec//comfortable/JS827_Q16_44.wav\n",
      "chunks_2sec//comfortable/JS827_Q16_45.wav\n",
      "chunks_2sec//comfortable/JS827_Q16_46.wav\n",
      "chunks_2sec//comfortable/JS827_Q16_47.wav\n",
      "chunks_2sec//comfortable/JS827_Q16_48.wav\n",
      "chunks_2sec//comfortable/JS827_Q16_49.wav\n",
      "==============================\n",
      "file JS827_Q6.wav is loaded\n",
      "the file was biger than 1 second\n",
      "11816 zero element are added to the tail of this file \n",
      "the file is divided into 8 chunks\n",
      "list of all the chunks name  :\n",
      "chunks_2sec//comfortable/JS827_Q6_0.wav\n",
      "chunks_2sec//comfortable/JS827_Q6_1.wav\n",
      "chunks_2sec//comfortable/JS827_Q6_2.wav\n",
      "chunks_2sec//comfortable/JS827_Q6_3.wav\n",
      "chunks_2sec//comfortable/JS827_Q6_4.wav\n",
      "chunks_2sec//comfortable/JS827_Q6_5.wav\n",
      "chunks_2sec//comfortable/JS827_Q6_6.wav\n",
      "chunks_2sec//comfortable/JS827_Q6_7.wav\n",
      "==============================\n",
      "file JS827_Q7.wav is loaded\n",
      "the file was biger than 1 second\n",
      "15398 zero element are added to the tail of this file \n",
      "the file is divided into 110 chunks\n",
      "list of all the chunks name  :\n",
      "chunks_2sec//comfortable/JS827_Q7_0.wav\n",
      "chunks_2sec//comfortable/JS827_Q7_1.wav\n",
      "chunks_2sec//comfortable/JS827_Q7_2.wav\n",
      "chunks_2sec//comfortable/JS827_Q7_3.wav\n",
      "chunks_2sec//comfortable/JS827_Q7_4.wav\n",
      "chunks_2sec//comfortable/JS827_Q7_5.wav\n",
      "chunks_2sec//comfortable/JS827_Q7_6.wav\n",
      "chunks_2sec//comfortable/JS827_Q7_7.wav\n",
      "chunks_2sec//comfortable/JS827_Q7_8.wav\n",
      "chunks_2sec//comfortable/JS827_Q7_9.wav\n",
      "chunks_2sec//comfortable/JS827_Q7_10.wav\n",
      "chunks_2sec//comfortable/JS827_Q7_11.wav\n",
      "chunks_2sec//comfortable/JS827_Q7_12.wav\n",
      "chunks_2sec//comfortable/JS827_Q7_13.wav\n",
      "chunks_2sec//comfortable/JS827_Q7_14.wav\n",
      "chunks_2sec//comfortable/JS827_Q7_15.wav\n",
      "chunks_2sec//comfortable/JS827_Q7_16.wav\n",
      "chunks_2sec//comfortable/JS827_Q7_17.wav\n",
      "chunks_2sec//comfortable/JS827_Q7_18.wav\n",
      "chunks_2sec//comfortable/JS827_Q7_19.wav\n",
      "chunks_2sec//comfortable/JS827_Q7_20.wav\n",
      "chunks_2sec//comfortable/JS827_Q7_21.wav\n",
      "chunks_2sec//comfortable/JS827_Q7_22.wav\n",
      "chunks_2sec//comfortable/JS827_Q7_23.wav\n",
      "chunks_2sec//comfortable/JS827_Q7_24.wav\n",
      "chunks_2sec//comfortable/JS827_Q7_25.wav\n",
      "chunks_2sec//comfortable/JS827_Q7_26.wav\n",
      "chunks_2sec//comfortable/JS827_Q7_27.wav\n",
      "chunks_2sec//comfortable/JS827_Q7_28.wav\n",
      "chunks_2sec//comfortable/JS827_Q7_29.wav\n",
      "chunks_2sec//comfortable/JS827_Q7_30.wav\n",
      "chunks_2sec//comfortable/JS827_Q7_31.wav\n",
      "chunks_2sec//comfortable/JS827_Q7_32.wav\n",
      "chunks_2sec//comfortable/JS827_Q7_33.wav\n",
      "chunks_2sec//comfortable/JS827_Q7_34.wav\n",
      "chunks_2sec//comfortable/JS827_Q7_35.wav\n",
      "chunks_2sec//comfortable/JS827_Q7_36.wav\n",
      "chunks_2sec//comfortable/JS827_Q7_37.wav\n",
      "chunks_2sec//comfortable/JS827_Q7_38.wav\n",
      "chunks_2sec//comfortable/JS827_Q7_39.wav\n",
      "chunks_2sec//comfortable/JS827_Q7_40.wav\n",
      "chunks_2sec//comfortable/JS827_Q7_41.wav\n",
      "chunks_2sec//comfortable/JS827_Q7_42.wav\n",
      "chunks_2sec//comfortable/JS827_Q7_43.wav\n",
      "chunks_2sec//comfortable/JS827_Q7_44.wav\n",
      "chunks_2sec//comfortable/JS827_Q7_45.wav\n",
      "chunks_2sec//comfortable/JS827_Q7_46.wav\n",
      "chunks_2sec//comfortable/JS827_Q7_47.wav\n",
      "chunks_2sec//comfortable/JS827_Q7_48.wav\n",
      "chunks_2sec//comfortable/JS827_Q7_49.wav\n",
      "chunks_2sec//comfortable/JS827_Q7_50.wav\n",
      "chunks_2sec//comfortable/JS827_Q7_51.wav\n",
      "chunks_2sec//comfortable/JS827_Q7_52.wav\n",
      "chunks_2sec//comfortable/JS827_Q7_53.wav\n",
      "chunks_2sec//comfortable/JS827_Q7_54.wav\n",
      "chunks_2sec//comfortable/JS827_Q7_55.wav\n",
      "chunks_2sec//comfortable/JS827_Q7_56.wav\n",
      "chunks_2sec//comfortable/JS827_Q7_57.wav\n",
      "chunks_2sec//comfortable/JS827_Q7_58.wav\n",
      "chunks_2sec//comfortable/JS827_Q7_59.wav\n",
      "chunks_2sec//comfortable/JS827_Q7_60.wav\n",
      "chunks_2sec//comfortable/JS827_Q7_61.wav\n",
      "chunks_2sec//comfortable/JS827_Q7_62.wav\n",
      "chunks_2sec//comfortable/JS827_Q7_63.wav\n",
      "chunks_2sec//comfortable/JS827_Q7_64.wav\n",
      "chunks_2sec//comfortable/JS827_Q7_65.wav\n",
      "chunks_2sec//comfortable/JS827_Q7_66.wav\n",
      "chunks_2sec//comfortable/JS827_Q7_67.wav\n",
      "chunks_2sec//comfortable/JS827_Q7_68.wav\n",
      "chunks_2sec//comfortable/JS827_Q7_69.wav\n",
      "chunks_2sec//comfortable/JS827_Q7_70.wav\n",
      "chunks_2sec//comfortable/JS827_Q7_71.wav\n",
      "chunks_2sec//comfortable/JS827_Q7_72.wav\n",
      "chunks_2sec//comfortable/JS827_Q7_73.wav\n",
      "chunks_2sec//comfortable/JS827_Q7_74.wav\n",
      "chunks_2sec//comfortable/JS827_Q7_75.wav\n",
      "chunks_2sec//comfortable/JS827_Q7_76.wav\n",
      "chunks_2sec//comfortable/JS827_Q7_77.wav\n",
      "chunks_2sec//comfortable/JS827_Q7_78.wav\n",
      "chunks_2sec//comfortable/JS827_Q7_79.wav\n",
      "chunks_2sec//comfortable/JS827_Q7_80.wav\n",
      "chunks_2sec//comfortable/JS827_Q7_81.wav\n",
      "chunks_2sec//comfortable/JS827_Q7_82.wav\n",
      "chunks_2sec//comfortable/JS827_Q7_83.wav\n",
      "chunks_2sec//comfortable/JS827_Q7_84.wav\n",
      "chunks_2sec//comfortable/JS827_Q7_85.wav\n",
      "chunks_2sec//comfortable/JS827_Q7_86.wav\n",
      "chunks_2sec//comfortable/JS827_Q7_87.wav\n",
      "chunks_2sec//comfortable/JS827_Q7_88.wav\n",
      "chunks_2sec//comfortable/JS827_Q7_89.wav\n",
      "chunks_2sec//comfortable/JS827_Q7_90.wav\n",
      "chunks_2sec//comfortable/JS827_Q7_91.wav\n",
      "chunks_2sec//comfortable/JS827_Q7_92.wav\n",
      "chunks_2sec//comfortable/JS827_Q7_93.wav\n"
     ]
    },
    {
     "name": "stdout",
     "output_type": "stream",
     "text": [
      "chunks_2sec//comfortable/JS827_Q7_94.wav\n",
      "chunks_2sec//comfortable/JS827_Q7_95.wav\n",
      "chunks_2sec//comfortable/JS827_Q7_96.wav\n",
      "chunks_2sec//comfortable/JS827_Q7_97.wav\n",
      "chunks_2sec//comfortable/JS827_Q7_98.wav\n",
      "chunks_2sec//comfortable/JS827_Q7_99.wav\n",
      "chunks_2sec//comfortable/JS827_Q7_100.wav\n",
      "chunks_2sec//comfortable/JS827_Q7_101.wav\n",
      "chunks_2sec//comfortable/JS827_Q7_102.wav\n",
      "chunks_2sec//comfortable/JS827_Q7_103.wav\n",
      "chunks_2sec//comfortable/JS827_Q7_104.wav\n",
      "chunks_2sec//comfortable/JS827_Q7_105.wav\n",
      "chunks_2sec//comfortable/JS827_Q7_106.wav\n",
      "chunks_2sec//comfortable/JS827_Q7_107.wav\n",
      "chunks_2sec//comfortable/JS827_Q7_108.wav\n",
      "chunks_2sec//comfortable/JS827_Q7_109.wav\n",
      "==============================\n",
      "file JS827_Q8.wav is loaded\n",
      "the file was biger than 1 second\n",
      "5505 zero element are added to the tail of this file \n",
      "the file is divided into 25 chunks\n",
      "list of all the chunks name  :\n",
      "chunks_2sec//comfortable/JS827_Q8_0.wav\n",
      "chunks_2sec//comfortable/JS827_Q8_1.wav\n",
      "chunks_2sec//comfortable/JS827_Q8_2.wav\n",
      "chunks_2sec//comfortable/JS827_Q8_3.wav\n",
      "chunks_2sec//comfortable/JS827_Q8_4.wav\n",
      "chunks_2sec//comfortable/JS827_Q8_5.wav\n",
      "chunks_2sec//comfortable/JS827_Q8_6.wav\n",
      "chunks_2sec//comfortable/JS827_Q8_7.wav\n",
      "chunks_2sec//comfortable/JS827_Q8_8.wav\n",
      "chunks_2sec//comfortable/JS827_Q8_9.wav\n",
      "chunks_2sec//comfortable/JS827_Q8_10.wav\n",
      "chunks_2sec//comfortable/JS827_Q8_11.wav\n",
      "chunks_2sec//comfortable/JS827_Q8_12.wav\n",
      "chunks_2sec//comfortable/JS827_Q8_13.wav\n",
      "chunks_2sec//comfortable/JS827_Q8_14.wav\n",
      "chunks_2sec//comfortable/JS827_Q8_15.wav\n",
      "chunks_2sec//comfortable/JS827_Q8_16.wav\n",
      "chunks_2sec//comfortable/JS827_Q8_17.wav\n",
      "chunks_2sec//comfortable/JS827_Q8_18.wav\n",
      "chunks_2sec//comfortable/JS827_Q8_19.wav\n",
      "chunks_2sec//comfortable/JS827_Q8_20.wav\n",
      "chunks_2sec//comfortable/JS827_Q8_21.wav\n",
      "chunks_2sec//comfortable/JS827_Q8_22.wav\n",
      "chunks_2sec//comfortable/JS827_Q8_23.wav\n",
      "chunks_2sec//comfortable/JS827_Q8_24.wav\n",
      "==============================\n",
      "file JS827_Q9.wav is loaded\n",
      "the file was biger than 1 second\n",
      "21709 zero element are added to the tail of this file \n",
      "the file is divided into 85 chunks\n",
      "list of all the chunks name  :\n",
      "chunks_2sec//comfortable/JS827_Q9_0.wav\n",
      "chunks_2sec//comfortable/JS827_Q9_1.wav\n",
      "chunks_2sec//comfortable/JS827_Q9_2.wav\n",
      "chunks_2sec//comfortable/JS827_Q9_3.wav\n",
      "chunks_2sec//comfortable/JS827_Q9_4.wav\n",
      "chunks_2sec//comfortable/JS827_Q9_5.wav\n",
      "chunks_2sec//comfortable/JS827_Q9_6.wav\n",
      "chunks_2sec//comfortable/JS827_Q9_7.wav\n",
      "chunks_2sec//comfortable/JS827_Q9_8.wav\n",
      "chunks_2sec//comfortable/JS827_Q9_9.wav\n",
      "chunks_2sec//comfortable/JS827_Q9_10.wav\n",
      "chunks_2sec//comfortable/JS827_Q9_11.wav\n",
      "chunks_2sec//comfortable/JS827_Q9_12.wav\n",
      "chunks_2sec//comfortable/JS827_Q9_13.wav\n",
      "chunks_2sec//comfortable/JS827_Q9_14.wav\n",
      "chunks_2sec//comfortable/JS827_Q9_15.wav\n",
      "chunks_2sec//comfortable/JS827_Q9_16.wav\n",
      "chunks_2sec//comfortable/JS827_Q9_17.wav\n",
      "chunks_2sec//comfortable/JS827_Q9_18.wav\n",
      "chunks_2sec//comfortable/JS827_Q9_19.wav\n",
      "chunks_2sec//comfortable/JS827_Q9_20.wav\n",
      "chunks_2sec//comfortable/JS827_Q9_21.wav\n",
      "chunks_2sec//comfortable/JS827_Q9_22.wav\n",
      "chunks_2sec//comfortable/JS827_Q9_23.wav\n",
      "chunks_2sec//comfortable/JS827_Q9_24.wav\n",
      "chunks_2sec//comfortable/JS827_Q9_25.wav\n",
      "chunks_2sec//comfortable/JS827_Q9_26.wav\n",
      "chunks_2sec//comfortable/JS827_Q9_27.wav\n",
      "chunks_2sec//comfortable/JS827_Q9_28.wav\n",
      "chunks_2sec//comfortable/JS827_Q9_29.wav\n",
      "chunks_2sec//comfortable/JS827_Q9_30.wav\n",
      "chunks_2sec//comfortable/JS827_Q9_31.wav\n",
      "chunks_2sec//comfortable/JS827_Q9_32.wav\n",
      "chunks_2sec//comfortable/JS827_Q9_33.wav\n",
      "chunks_2sec//comfortable/JS827_Q9_34.wav\n",
      "chunks_2sec//comfortable/JS827_Q9_35.wav\n",
      "chunks_2sec//comfortable/JS827_Q9_36.wav\n",
      "chunks_2sec//comfortable/JS827_Q9_37.wav\n",
      "chunks_2sec//comfortable/JS827_Q9_38.wav\n",
      "chunks_2sec//comfortable/JS827_Q9_39.wav\n",
      "chunks_2sec//comfortable/JS827_Q9_40.wav\n",
      "chunks_2sec//comfortable/JS827_Q9_41.wav\n",
      "chunks_2sec//comfortable/JS827_Q9_42.wav\n",
      "chunks_2sec//comfortable/JS827_Q9_43.wav\n",
      "chunks_2sec//comfortable/JS827_Q9_44.wav\n",
      "chunks_2sec//comfortable/JS827_Q9_45.wav\n",
      "chunks_2sec//comfortable/JS827_Q9_46.wav\n",
      "chunks_2sec//comfortable/JS827_Q9_47.wav\n",
      "chunks_2sec//comfortable/JS827_Q9_48.wav\n",
      "chunks_2sec//comfortable/JS827_Q9_49.wav\n",
      "chunks_2sec//comfortable/JS827_Q9_50.wav\n",
      "chunks_2sec//comfortable/JS827_Q9_51.wav\n",
      "chunks_2sec//comfortable/JS827_Q9_52.wav\n",
      "chunks_2sec//comfortable/JS827_Q9_53.wav\n",
      "chunks_2sec//comfortable/JS827_Q9_54.wav\n",
      "chunks_2sec//comfortable/JS827_Q9_55.wav\n",
      "chunks_2sec//comfortable/JS827_Q9_56.wav\n",
      "chunks_2sec//comfortable/JS827_Q9_57.wav\n",
      "chunks_2sec//comfortable/JS827_Q9_58.wav\n",
      "chunks_2sec//comfortable/JS827_Q9_59.wav\n",
      "chunks_2sec//comfortable/JS827_Q9_60.wav\n",
      "chunks_2sec//comfortable/JS827_Q9_61.wav\n",
      "chunks_2sec//comfortable/JS827_Q9_62.wav\n",
      "chunks_2sec//comfortable/JS827_Q9_63.wav\n",
      "chunks_2sec//comfortable/JS827_Q9_64.wav\n",
      "chunks_2sec//comfortable/JS827_Q9_65.wav\n",
      "chunks_2sec//comfortable/JS827_Q9_66.wav\n",
      "chunks_2sec//comfortable/JS827_Q9_67.wav\n",
      "chunks_2sec//comfortable/JS827_Q9_68.wav\n",
      "chunks_2sec//comfortable/JS827_Q9_69.wav\n",
      "chunks_2sec//comfortable/JS827_Q9_70.wav\n",
      "chunks_2sec//comfortable/JS827_Q9_71.wav\n",
      "chunks_2sec//comfortable/JS827_Q9_72.wav\n",
      "chunks_2sec//comfortable/JS827_Q9_73.wav\n",
      "chunks_2sec//comfortable/JS827_Q9_74.wav\n",
      "chunks_2sec//comfortable/JS827_Q9_75.wav\n",
      "chunks_2sec//comfortable/JS827_Q9_76.wav\n",
      "chunks_2sec//comfortable/JS827_Q9_77.wav\n",
      "chunks_2sec//comfortable/JS827_Q9_78.wav\n",
      "chunks_2sec//comfortable/JS827_Q9_79.wav\n",
      "chunks_2sec//comfortable/JS827_Q9_80.wav\n",
      "chunks_2sec//comfortable/JS827_Q9_81.wav\n",
      "chunks_2sec//comfortable/JS827_Q9_82.wav\n",
      "chunks_2sec//comfortable/JS827_Q9_83.wav\n",
      "chunks_2sec//comfortable/JS827_Q9_84.wav\n",
      "==============================\n",
      "file KB361_Q11.wav is loaded\n",
      "the file was biger than 1 second\n",
      "21717 zero element are added to the tail of this file \n",
      "the file is divided into 34 chunks\n",
      "list of all the chunks name  :\n",
      "chunks_2sec//comfortable/KB361_Q11_0.wav\n",
      "chunks_2sec//comfortable/KB361_Q11_1.wav\n",
      "chunks_2sec//comfortable/KB361_Q11_2.wav\n",
      "chunks_2sec//comfortable/KB361_Q11_3.wav\n",
      "chunks_2sec//comfortable/KB361_Q11_4.wav\n",
      "chunks_2sec//comfortable/KB361_Q11_5.wav\n",
      "chunks_2sec//comfortable/KB361_Q11_6.wav\n",
      "chunks_2sec//comfortable/KB361_Q11_7.wav\n",
      "chunks_2sec//comfortable/KB361_Q11_8.wav\n",
      "chunks_2sec//comfortable/KB361_Q11_9.wav\n",
      "chunks_2sec//comfortable/KB361_Q11_10.wav\n",
      "chunks_2sec//comfortable/KB361_Q11_11.wav\n",
      "chunks_2sec//comfortable/KB361_Q11_12.wav\n",
      "chunks_2sec//comfortable/KB361_Q11_13.wav\n",
      "chunks_2sec//comfortable/KB361_Q11_14.wav\n",
      "chunks_2sec//comfortable/KB361_Q11_15.wav\n",
      "chunks_2sec//comfortable/KB361_Q11_16.wav\n",
      "chunks_2sec//comfortable/KB361_Q11_17.wav\n",
      "chunks_2sec//comfortable/KB361_Q11_18.wav\n",
      "chunks_2sec//comfortable/KB361_Q11_19.wav\n",
      "chunks_2sec//comfortable/KB361_Q11_20.wav\n",
      "chunks_2sec//comfortable/KB361_Q11_21.wav\n",
      "chunks_2sec//comfortable/KB361_Q11_22.wav\n",
      "chunks_2sec//comfortable/KB361_Q11_23.wav\n",
      "chunks_2sec//comfortable/KB361_Q11_24.wav\n",
      "chunks_2sec//comfortable/KB361_Q11_25.wav\n",
      "chunks_2sec//comfortable/KB361_Q11_26.wav\n",
      "chunks_2sec//comfortable/KB361_Q11_27.wav\n",
      "chunks_2sec//comfortable/KB361_Q11_28.wav\n",
      "chunks_2sec//comfortable/KB361_Q11_29.wav\n",
      "chunks_2sec//comfortable/KB361_Q11_30.wav\n",
      "chunks_2sec//comfortable/KB361_Q11_31.wav\n",
      "chunks_2sec//comfortable/KB361_Q11_32.wav\n",
      "chunks_2sec//comfortable/KB361_Q11_33.wav\n",
      "==============================\n",
      "file KB361_Q16.wav is loaded\n",
      "the file was biger than 1 second\n",
      "21942 zero element are added to the tail of this file \n",
      "the file is divided into 41 chunks\n",
      "list of all the chunks name  :\n",
      "chunks_2sec//comfortable/KB361_Q16_0.wav\n",
      "chunks_2sec//comfortable/KB361_Q16_1.wav\n",
      "chunks_2sec//comfortable/KB361_Q16_2.wav\n",
      "chunks_2sec//comfortable/KB361_Q16_3.wav\n",
      "chunks_2sec//comfortable/KB361_Q16_4.wav\n",
      "chunks_2sec//comfortable/KB361_Q16_5.wav\n",
      "chunks_2sec//comfortable/KB361_Q16_6.wav\n",
      "chunks_2sec//comfortable/KB361_Q16_7.wav\n",
      "chunks_2sec//comfortable/KB361_Q16_8.wav\n",
      "chunks_2sec//comfortable/KB361_Q16_9.wav\n",
      "chunks_2sec//comfortable/KB361_Q16_10.wav\n",
      "chunks_2sec//comfortable/KB361_Q16_11.wav\n",
      "chunks_2sec//comfortable/KB361_Q16_12.wav\n",
      "chunks_2sec//comfortable/KB361_Q16_13.wav\n",
      "chunks_2sec//comfortable/KB361_Q16_14.wav\n",
      "chunks_2sec//comfortable/KB361_Q16_15.wav\n",
      "chunks_2sec//comfortable/KB361_Q16_16.wav\n",
      "chunks_2sec//comfortable/KB361_Q16_17.wav\n",
      "chunks_2sec//comfortable/KB361_Q16_18.wav\n",
      "chunks_2sec//comfortable/KB361_Q16_19.wav\n",
      "chunks_2sec//comfortable/KB361_Q16_20.wav\n",
      "chunks_2sec//comfortable/KB361_Q16_21.wav\n"
     ]
    },
    {
     "name": "stdout",
     "output_type": "stream",
     "text": [
      "chunks_2sec//comfortable/KB361_Q16_22.wav\n",
      "chunks_2sec//comfortable/KB361_Q16_23.wav\n",
      "chunks_2sec//comfortable/KB361_Q16_24.wav\n",
      "chunks_2sec//comfortable/KB361_Q16_25.wav\n",
      "chunks_2sec//comfortable/KB361_Q16_26.wav\n",
      "chunks_2sec//comfortable/KB361_Q16_27.wav\n",
      "chunks_2sec//comfortable/KB361_Q16_28.wav\n",
      "chunks_2sec//comfortable/KB361_Q16_29.wav\n",
      "chunks_2sec//comfortable/KB361_Q16_30.wav\n",
      "chunks_2sec//comfortable/KB361_Q16_31.wav\n",
      "chunks_2sec//comfortable/KB361_Q16_32.wav\n",
      "chunks_2sec//comfortable/KB361_Q16_33.wav\n",
      "chunks_2sec//comfortable/KB361_Q16_34.wav\n",
      "chunks_2sec//comfortable/KB361_Q16_35.wav\n",
      "chunks_2sec//comfortable/KB361_Q16_36.wav\n",
      "chunks_2sec//comfortable/KB361_Q16_37.wav\n",
      "chunks_2sec//comfortable/KB361_Q16_38.wav\n",
      "chunks_2sec//comfortable/KB361_Q16_39.wav\n",
      "chunks_2sec//comfortable/KB361_Q16_40.wav\n",
      "==============================\n",
      "file KB361_Q19.wav is loaded\n",
      "the file was biger than 1 second\n",
      "4796 zero element are added to the tail of this file \n",
      "the file is divided into 32 chunks\n",
      "list of all the chunks name  :\n",
      "chunks_2sec//comfortable/KB361_Q19_0.wav\n",
      "chunks_2sec//comfortable/KB361_Q19_1.wav\n",
      "chunks_2sec//comfortable/KB361_Q19_2.wav\n",
      "chunks_2sec//comfortable/KB361_Q19_3.wav\n",
      "chunks_2sec//comfortable/KB361_Q19_4.wav\n",
      "chunks_2sec//comfortable/KB361_Q19_5.wav\n",
      "chunks_2sec//comfortable/KB361_Q19_6.wav\n",
      "chunks_2sec//comfortable/KB361_Q19_7.wav\n",
      "chunks_2sec//comfortable/KB361_Q19_8.wav\n",
      "chunks_2sec//comfortable/KB361_Q19_9.wav\n",
      "chunks_2sec//comfortable/KB361_Q19_10.wav\n",
      "chunks_2sec//comfortable/KB361_Q19_11.wav\n",
      "chunks_2sec//comfortable/KB361_Q19_12.wav\n",
      "chunks_2sec//comfortable/KB361_Q19_13.wav\n",
      "chunks_2sec//comfortable/KB361_Q19_14.wav\n",
      "chunks_2sec//comfortable/KB361_Q19_15.wav\n",
      "chunks_2sec//comfortable/KB361_Q19_16.wav\n",
      "chunks_2sec//comfortable/KB361_Q19_17.wav\n",
      "chunks_2sec//comfortable/KB361_Q19_18.wav\n",
      "chunks_2sec//comfortable/KB361_Q19_19.wav\n",
      "chunks_2sec//comfortable/KB361_Q19_20.wav\n",
      "chunks_2sec//comfortable/KB361_Q19_21.wav\n",
      "chunks_2sec//comfortable/KB361_Q19_22.wav\n",
      "chunks_2sec//comfortable/KB361_Q19_23.wav\n",
      "chunks_2sec//comfortable/KB361_Q19_24.wav\n",
      "chunks_2sec//comfortable/KB361_Q19_25.wav\n",
      "chunks_2sec//comfortable/KB361_Q19_26.wav\n",
      "chunks_2sec//comfortable/KB361_Q19_27.wav\n",
      "chunks_2sec//comfortable/KB361_Q19_28.wav\n",
      "chunks_2sec//comfortable/KB361_Q19_29.wav\n",
      "chunks_2sec//comfortable/KB361_Q19_30.wav\n",
      "chunks_2sec//comfortable/KB361_Q19_31.wav\n",
      "==============================\n",
      "file KB361_Q21.wav is loaded\n",
      "the file was biger than 1 second\n",
      "17880 zero element are added to the tail of this file \n",
      "the file is divided into 23 chunks\n",
      "list of all the chunks name  :\n",
      "chunks_2sec//comfortable/KB361_Q21_0.wav\n",
      "chunks_2sec//comfortable/KB361_Q21_1.wav\n",
      "chunks_2sec//comfortable/KB361_Q21_2.wav\n",
      "chunks_2sec//comfortable/KB361_Q21_3.wav\n",
      "chunks_2sec//comfortable/KB361_Q21_4.wav\n",
      "chunks_2sec//comfortable/KB361_Q21_5.wav\n",
      "chunks_2sec//comfortable/KB361_Q21_6.wav\n",
      "chunks_2sec//comfortable/KB361_Q21_7.wav\n",
      "chunks_2sec//comfortable/KB361_Q21_8.wav\n",
      "chunks_2sec//comfortable/KB361_Q21_9.wav\n",
      "chunks_2sec//comfortable/KB361_Q21_10.wav\n",
      "chunks_2sec//comfortable/KB361_Q21_11.wav\n",
      "chunks_2sec//comfortable/KB361_Q21_12.wav\n",
      "chunks_2sec//comfortable/KB361_Q21_13.wav\n",
      "chunks_2sec//comfortable/KB361_Q21_14.wav\n",
      "chunks_2sec//comfortable/KB361_Q21_15.wav\n",
      "chunks_2sec//comfortable/KB361_Q21_16.wav\n",
      "chunks_2sec//comfortable/KB361_Q21_17.wav\n",
      "chunks_2sec//comfortable/KB361_Q21_18.wav\n",
      "chunks_2sec//comfortable/KB361_Q21_19.wav\n",
      "chunks_2sec//comfortable/KB361_Q21_20.wav\n",
      "chunks_2sec//comfortable/KB361_Q21_21.wav\n",
      "chunks_2sec//comfortable/KB361_Q21_22.wav\n",
      "==============================\n",
      "file KB361_Q23.wav is loaded\n",
      "the file was biger than 1 second\n",
      "20864 zero element are added to the tail of this file \n",
      "the file is divided into 10 chunks\n",
      "list of all the chunks name  :\n",
      "chunks_2sec//comfortable/KB361_Q23_0.wav\n",
      "chunks_2sec//comfortable/KB361_Q23_1.wav\n",
      "chunks_2sec//comfortable/KB361_Q23_2.wav\n",
      "chunks_2sec//comfortable/KB361_Q23_3.wav\n",
      "chunks_2sec//comfortable/KB361_Q23_4.wav\n",
      "chunks_2sec//comfortable/KB361_Q23_5.wav\n",
      "chunks_2sec//comfortable/KB361_Q23_6.wav\n",
      "chunks_2sec//comfortable/KB361_Q23_7.wav\n",
      "chunks_2sec//comfortable/KB361_Q23_8.wav\n",
      "chunks_2sec//comfortable/KB361_Q23_9.wav\n",
      "==============================\n",
      "file KB361_Q3.wav is loaded\n",
      "the file was biger than 1 second\n",
      "3823 zero element are added to the tail of this file \n",
      "the file is divided into 9 chunks\n",
      "list of all the chunks name  :\n",
      "chunks_2sec//comfortable/KB361_Q3_0.wav\n",
      "chunks_2sec//comfortable/KB361_Q3_1.wav\n",
      "chunks_2sec//comfortable/KB361_Q3_2.wav\n",
      "chunks_2sec//comfortable/KB361_Q3_3.wav\n",
      "chunks_2sec//comfortable/KB361_Q3_4.wav\n",
      "chunks_2sec//comfortable/KB361_Q3_5.wav\n",
      "chunks_2sec//comfortable/KB361_Q3_6.wav\n",
      "chunks_2sec//comfortable/KB361_Q3_7.wav\n",
      "chunks_2sec//comfortable/KB361_Q3_8.wav\n",
      "==============================\n",
      "file KB361_Q6.wav is loaded\n",
      "the file was biger than 1 second\n",
      "18471 zero element are added to the tail of this file \n",
      "the file is divided into 14 chunks\n",
      "list of all the chunks name  :\n",
      "chunks_2sec//comfortable/KB361_Q6_0.wav\n",
      "chunks_2sec//comfortable/KB361_Q6_1.wav\n",
      "chunks_2sec//comfortable/KB361_Q6_2.wav\n",
      "chunks_2sec//comfortable/KB361_Q6_3.wav\n",
      "chunks_2sec//comfortable/KB361_Q6_4.wav\n",
      "chunks_2sec//comfortable/KB361_Q6_5.wav\n",
      "chunks_2sec//comfortable/KB361_Q6_6.wav\n",
      "chunks_2sec//comfortable/KB361_Q6_7.wav\n",
      "chunks_2sec//comfortable/KB361_Q6_8.wav\n",
      "chunks_2sec//comfortable/KB361_Q6_9.wav\n",
      "chunks_2sec//comfortable/KB361_Q6_10.wav\n",
      "chunks_2sec//comfortable/KB361_Q6_11.wav\n",
      "chunks_2sec//comfortable/KB361_Q6_12.wav\n",
      "chunks_2sec//comfortable/KB361_Q6_13.wav\n",
      "==============================\n",
      "file KB361_Q7.wav is loaded\n",
      "the file was biger than 1 second\n",
      "12982 zero element are added to the tail of this file \n",
      "the file is divided into 21 chunks\n",
      "list of all the chunks name  :\n",
      "chunks_2sec//comfortable/KB361_Q7_0.wav\n",
      "chunks_2sec//comfortable/KB361_Q7_1.wav\n",
      "chunks_2sec//comfortable/KB361_Q7_2.wav\n",
      "chunks_2sec//comfortable/KB361_Q7_3.wav\n",
      "chunks_2sec//comfortable/KB361_Q7_4.wav\n",
      "chunks_2sec//comfortable/KB361_Q7_5.wav\n",
      "chunks_2sec//comfortable/KB361_Q7_6.wav\n",
      "chunks_2sec//comfortable/KB361_Q7_7.wav\n",
      "chunks_2sec//comfortable/KB361_Q7_8.wav\n",
      "chunks_2sec//comfortable/KB361_Q7_9.wav\n",
      "chunks_2sec//comfortable/KB361_Q7_10.wav\n",
      "chunks_2sec//comfortable/KB361_Q7_11.wav\n",
      "chunks_2sec//comfortable/KB361_Q7_12.wav\n",
      "chunks_2sec//comfortable/KB361_Q7_13.wav\n",
      "chunks_2sec//comfortable/KB361_Q7_14.wav\n",
      "chunks_2sec//comfortable/KB361_Q7_15.wav\n",
      "chunks_2sec//comfortable/KB361_Q7_16.wav\n",
      "chunks_2sec//comfortable/KB361_Q7_17.wav\n",
      "chunks_2sec//comfortable/KB361_Q7_18.wav\n",
      "chunks_2sec//comfortable/KB361_Q7_19.wav\n",
      "chunks_2sec//comfortable/KB361_Q7_20.wav\n",
      "==============================\n",
      "file KB361_Q8.wav is loaded\n",
      "the file was biger than 1 second\n",
      "15373 zero element are added to the tail of this file \n",
      "the file is divided into 32 chunks\n",
      "list of all the chunks name  :\n",
      "chunks_2sec//comfortable/KB361_Q8_0.wav\n",
      "chunks_2sec//comfortable/KB361_Q8_1.wav\n",
      "chunks_2sec//comfortable/KB361_Q8_2.wav\n",
      "chunks_2sec//comfortable/KB361_Q8_3.wav\n",
      "chunks_2sec//comfortable/KB361_Q8_4.wav\n",
      "chunks_2sec//comfortable/KB361_Q8_5.wav\n",
      "chunks_2sec//comfortable/KB361_Q8_6.wav\n",
      "chunks_2sec//comfortable/KB361_Q8_7.wav\n",
      "chunks_2sec//comfortable/KB361_Q8_8.wav\n",
      "chunks_2sec//comfortable/KB361_Q8_9.wav\n",
      "chunks_2sec//comfortable/KB361_Q8_10.wav\n",
      "chunks_2sec//comfortable/KB361_Q8_11.wav\n",
      "chunks_2sec//comfortable/KB361_Q8_12.wav\n",
      "chunks_2sec//comfortable/KB361_Q8_13.wav\n",
      "chunks_2sec//comfortable/KB361_Q8_14.wav\n",
      "chunks_2sec//comfortable/KB361_Q8_15.wav\n",
      "chunks_2sec//comfortable/KB361_Q8_16.wav\n",
      "chunks_2sec//comfortable/KB361_Q8_17.wav\n",
      "chunks_2sec//comfortable/KB361_Q8_18.wav\n",
      "chunks_2sec//comfortable/KB361_Q8_19.wav\n",
      "chunks_2sec//comfortable/KB361_Q8_20.wav\n",
      "chunks_2sec//comfortable/KB361_Q8_21.wav\n",
      "chunks_2sec//comfortable/KB361_Q8_22.wav\n",
      "chunks_2sec//comfortable/KB361_Q8_23.wav\n",
      "chunks_2sec//comfortable/KB361_Q8_24.wav\n",
      "chunks_2sec//comfortable/KB361_Q8_25.wav\n",
      "chunks_2sec//comfortable/KB361_Q8_26.wav\n",
      "chunks_2sec//comfortable/KB361_Q8_27.wav\n",
      "chunks_2sec//comfortable/KB361_Q8_28.wav\n",
      "chunks_2sec//comfortable/KB361_Q8_29.wav\n",
      "chunks_2sec//comfortable/KB361_Q8_30.wav\n",
      "chunks_2sec//comfortable/KB361_Q8_31.wav\n",
      "==============================\n",
      "file KB361_Q9.wav is loaded\n",
      "the file was biger than 1 second\n",
      "7296 zero element are added to the tail of this file \n",
      "the file is divided into 42 chunks\n",
      "list of all the chunks name  :\n",
      "chunks_2sec//comfortable/KB361_Q9_0.wav\n",
      "chunks_2sec//comfortable/KB361_Q9_1.wav\n",
      "chunks_2sec//comfortable/KB361_Q9_2.wav\n",
      "chunks_2sec//comfortable/KB361_Q9_3.wav\n",
      "chunks_2sec//comfortable/KB361_Q9_4.wav\n"
     ]
    },
    {
     "name": "stdout",
     "output_type": "stream",
     "text": [
      "chunks_2sec//comfortable/KB361_Q9_5.wav\n",
      "chunks_2sec//comfortable/KB361_Q9_6.wav\n",
      "chunks_2sec//comfortable/KB361_Q9_7.wav\n",
      "chunks_2sec//comfortable/KB361_Q9_8.wav\n",
      "chunks_2sec//comfortable/KB361_Q9_9.wav\n",
      "chunks_2sec//comfortable/KB361_Q9_10.wav\n",
      "chunks_2sec//comfortable/KB361_Q9_11.wav\n",
      "chunks_2sec//comfortable/KB361_Q9_12.wav\n",
      "chunks_2sec//comfortable/KB361_Q9_13.wav\n",
      "chunks_2sec//comfortable/KB361_Q9_14.wav\n",
      "chunks_2sec//comfortable/KB361_Q9_15.wav\n",
      "chunks_2sec//comfortable/KB361_Q9_16.wav\n",
      "chunks_2sec//comfortable/KB361_Q9_17.wav\n",
      "chunks_2sec//comfortable/KB361_Q9_18.wav\n",
      "chunks_2sec//comfortable/KB361_Q9_19.wav\n",
      "chunks_2sec//comfortable/KB361_Q9_20.wav\n",
      "chunks_2sec//comfortable/KB361_Q9_21.wav\n",
      "chunks_2sec//comfortable/KB361_Q9_22.wav\n",
      "chunks_2sec//comfortable/KB361_Q9_23.wav\n",
      "chunks_2sec//comfortable/KB361_Q9_24.wav\n",
      "chunks_2sec//comfortable/KB361_Q9_25.wav\n",
      "chunks_2sec//comfortable/KB361_Q9_26.wav\n",
      "chunks_2sec//comfortable/KB361_Q9_27.wav\n",
      "chunks_2sec//comfortable/KB361_Q9_28.wav\n",
      "chunks_2sec//comfortable/KB361_Q9_29.wav\n",
      "chunks_2sec//comfortable/KB361_Q9_30.wav\n",
      "chunks_2sec//comfortable/KB361_Q9_31.wav\n",
      "chunks_2sec//comfortable/KB361_Q9_32.wav\n",
      "chunks_2sec//comfortable/KB361_Q9_33.wav\n",
      "chunks_2sec//comfortable/KB361_Q9_34.wav\n",
      "chunks_2sec//comfortable/KB361_Q9_35.wav\n",
      "chunks_2sec//comfortable/KB361_Q9_36.wav\n",
      "chunks_2sec//comfortable/KB361_Q9_37.wav\n",
      "chunks_2sec//comfortable/KB361_Q9_38.wav\n",
      "chunks_2sec//comfortable/KB361_Q9_39.wav\n",
      "chunks_2sec//comfortable/KB361_Q9_40.wav\n",
      "chunks_2sec//comfortable/KB361_Q9_41.wav\n",
      "==============================\n",
      "file KM552_Q19.wav is loaded\n",
      "the file was biger than 1 second\n",
      "20690 zero element are added to the tail of this file \n",
      "the file is divided into 10 chunks\n",
      "list of all the chunks name  :\n",
      "chunks_2sec//comfortable/KM552_Q19_0.wav\n",
      "chunks_2sec//comfortable/KM552_Q19_1.wav\n",
      "chunks_2sec//comfortable/KM552_Q19_2.wav\n",
      "chunks_2sec//comfortable/KM552_Q19_3.wav\n",
      "chunks_2sec//comfortable/KM552_Q19_4.wav\n",
      "chunks_2sec//comfortable/KM552_Q19_5.wav\n",
      "chunks_2sec//comfortable/KM552_Q19_6.wav\n",
      "chunks_2sec//comfortable/KM552_Q19_7.wav\n",
      "chunks_2sec//comfortable/KM552_Q19_8.wav\n",
      "chunks_2sec//comfortable/KM552_Q19_9.wav\n",
      "==============================\n",
      "file KN241_Q11.wav is loaded\n",
      "the file was biger than 1 second\n",
      "1220 zero element are added to the tail of this file \n",
      "the file is divided into 7 chunks\n",
      "list of all the chunks name  :\n",
      "chunks_2sec//comfortable/KN241_Q11_0.wav\n",
      "chunks_2sec//comfortable/KN241_Q11_1.wav\n",
      "chunks_2sec//comfortable/KN241_Q11_2.wav\n",
      "chunks_2sec//comfortable/KN241_Q11_3.wav\n",
      "chunks_2sec//comfortable/KN241_Q11_4.wav\n",
      "chunks_2sec//comfortable/KN241_Q11_5.wav\n",
      "chunks_2sec//comfortable/KN241_Q11_6.wav\n",
      "==============================\n",
      "file KN241_Q13.wav is loaded\n",
      "the file was biger than 1 second\n",
      "4706 zero element are added to the tail of this file \n",
      "the file is divided into 14 chunks\n",
      "list of all the chunks name  :\n",
      "chunks_2sec//comfortable/KN241_Q13_0.wav\n",
      "chunks_2sec//comfortable/KN241_Q13_1.wav\n",
      "chunks_2sec//comfortable/KN241_Q13_2.wav\n",
      "chunks_2sec//comfortable/KN241_Q13_3.wav\n",
      "chunks_2sec//comfortable/KN241_Q13_4.wav\n",
      "chunks_2sec//comfortable/KN241_Q13_5.wav\n",
      "chunks_2sec//comfortable/KN241_Q13_6.wav\n",
      "chunks_2sec//comfortable/KN241_Q13_7.wav\n",
      "chunks_2sec//comfortable/KN241_Q13_8.wav\n",
      "chunks_2sec//comfortable/KN241_Q13_9.wav\n",
      "chunks_2sec//comfortable/KN241_Q13_10.wav\n",
      "chunks_2sec//comfortable/KN241_Q13_11.wav\n",
      "chunks_2sec//comfortable/KN241_Q13_12.wav\n",
      "chunks_2sec//comfortable/KN241_Q13_13.wav\n",
      "==============================\n",
      "file KN241_Q15.wav is loaded\n",
      "the file was biger than 1 second\n",
      "16937 zero element are added to the tail of this file \n",
      "the file is divided into 3 chunks\n",
      "list of all the chunks name  :\n",
      "chunks_2sec//comfortable/KN241_Q15_0.wav\n",
      "chunks_2sec//comfortable/KN241_Q15_1.wav\n",
      "chunks_2sec//comfortable/KN241_Q15_2.wav\n",
      "==============================\n",
      "file KN241_Q17.wav is loaded\n",
      "the file was biger than 1 second\n",
      "18127 zero element are added to the tail of this file \n",
      "the file is divided into 3 chunks\n",
      "list of all the chunks name  :\n",
      "chunks_2sec//comfortable/KN241_Q17_0.wav\n",
      "chunks_2sec//comfortable/KN241_Q17_1.wav\n",
      "chunks_2sec//comfortable/KN241_Q17_2.wav\n",
      "==============================\n",
      "file KN241_Q21.wav is loaded\n",
      "the file was biger than 1 second\n",
      "3805 zero element are added to the tail of this file \n",
      "the file is divided into 11 chunks\n",
      "list of all the chunks name  :\n",
      "chunks_2sec//comfortable/KN241_Q21_0.wav\n",
      "chunks_2sec//comfortable/KN241_Q21_1.wav\n",
      "chunks_2sec//comfortable/KN241_Q21_2.wav\n",
      "chunks_2sec//comfortable/KN241_Q21_3.wav\n",
      "chunks_2sec//comfortable/KN241_Q21_4.wav\n",
      "chunks_2sec//comfortable/KN241_Q21_5.wav\n",
      "chunks_2sec//comfortable/KN241_Q21_6.wav\n",
      "chunks_2sec//comfortable/KN241_Q21_7.wav\n",
      "chunks_2sec//comfortable/KN241_Q21_8.wav\n",
      "chunks_2sec//comfortable/KN241_Q21_9.wav\n",
      "chunks_2sec//comfortable/KN241_Q21_10.wav\n",
      "==============================\n",
      "file KN241_Q22.wav is loaded\n",
      "the file was biger than 1 second\n",
      "638 zero element are added to the tail of this file \n",
      "the file is divided into 9 chunks\n",
      "list of all the chunks name  :\n",
      "chunks_2sec//comfortable/KN241_Q22_0.wav\n",
      "chunks_2sec//comfortable/KN241_Q22_1.wav\n",
      "chunks_2sec//comfortable/KN241_Q22_2.wav\n",
      "chunks_2sec//comfortable/KN241_Q22_3.wav\n",
      "chunks_2sec//comfortable/KN241_Q22_4.wav\n",
      "chunks_2sec//comfortable/KN241_Q22_5.wav\n",
      "chunks_2sec//comfortable/KN241_Q22_6.wav\n",
      "chunks_2sec//comfortable/KN241_Q22_7.wav\n",
      "chunks_2sec//comfortable/KN241_Q22_8.wav\n",
      "==============================\n",
      "file KN241_Q23.wav is loaded\n",
      "the file was biger than 1 second\n",
      "7407 zero element are added to the tail of this file \n",
      "the file is divided into 3 chunks\n",
      "list of all the chunks name  :\n",
      "chunks_2sec//comfortable/KN241_Q23_0.wav\n",
      "chunks_2sec//comfortable/KN241_Q23_1.wav\n",
      "chunks_2sec//comfortable/KN241_Q23_2.wav\n",
      "==============================\n",
      "file KN241_Q5.wav is loaded\n",
      "the file was biger than 1 second\n",
      "2178 zero element are added to the tail of this file \n",
      "the file is divided into 7 chunks\n",
      "list of all the chunks name  :\n",
      "chunks_2sec//comfortable/KN241_Q5_0.wav\n",
      "chunks_2sec//comfortable/KN241_Q5_1.wav\n",
      "chunks_2sec//comfortable/KN241_Q5_2.wav\n",
      "chunks_2sec//comfortable/KN241_Q5_3.wav\n",
      "chunks_2sec//comfortable/KN241_Q5_4.wav\n",
      "chunks_2sec//comfortable/KN241_Q5_5.wav\n",
      "chunks_2sec//comfortable/KN241_Q5_6.wav\n",
      "==============================\n",
      "file KN241_Q6.wav is loaded\n",
      "the file was biger than 1 second\n",
      "17692 zero element are added to the tail of this file \n",
      "the file is divided into 7 chunks\n",
      "list of all the chunks name  :\n",
      "chunks_2sec//comfortable/KN241_Q6_0.wav\n",
      "chunks_2sec//comfortable/KN241_Q6_1.wav\n",
      "chunks_2sec//comfortable/KN241_Q6_2.wav\n",
      "chunks_2sec//comfortable/KN241_Q6_3.wav\n",
      "chunks_2sec//comfortable/KN241_Q6_4.wav\n",
      "chunks_2sec//comfortable/KN241_Q6_5.wav\n",
      "chunks_2sec//comfortable/KN241_Q6_6.wav\n",
      "==============================\n",
      "file KN241_Q7.wav is loaded\n",
      "the file was biger than 1 second\n",
      "7698 zero element are added to the tail of this file \n",
      "the file is divided into 35 chunks\n",
      "list of all the chunks name  :\n",
      "chunks_2sec//comfortable/KN241_Q7_0.wav\n",
      "chunks_2sec//comfortable/KN241_Q7_1.wav\n",
      "chunks_2sec//comfortable/KN241_Q7_2.wav\n",
      "chunks_2sec//comfortable/KN241_Q7_3.wav\n",
      "chunks_2sec//comfortable/KN241_Q7_4.wav\n",
      "chunks_2sec//comfortable/KN241_Q7_5.wav\n",
      "chunks_2sec//comfortable/KN241_Q7_6.wav\n",
      "chunks_2sec//comfortable/KN241_Q7_7.wav\n",
      "chunks_2sec//comfortable/KN241_Q7_8.wav\n",
      "chunks_2sec//comfortable/KN241_Q7_9.wav\n",
      "chunks_2sec//comfortable/KN241_Q7_10.wav\n",
      "chunks_2sec//comfortable/KN241_Q7_11.wav\n",
      "chunks_2sec//comfortable/KN241_Q7_12.wav\n",
      "chunks_2sec//comfortable/KN241_Q7_13.wav\n",
      "chunks_2sec//comfortable/KN241_Q7_14.wav\n",
      "chunks_2sec//comfortable/KN241_Q7_15.wav\n",
      "chunks_2sec//comfortable/KN241_Q7_16.wav\n",
      "chunks_2sec//comfortable/KN241_Q7_17.wav\n",
      "chunks_2sec//comfortable/KN241_Q7_18.wav\n",
      "chunks_2sec//comfortable/KN241_Q7_19.wav\n",
      "chunks_2sec//comfortable/KN241_Q7_20.wav\n",
      "chunks_2sec//comfortable/KN241_Q7_21.wav\n",
      "chunks_2sec//comfortable/KN241_Q7_22.wav\n",
      "chunks_2sec//comfortable/KN241_Q7_23.wav\n",
      "chunks_2sec//comfortable/KN241_Q7_24.wav\n",
      "chunks_2sec//comfortable/KN241_Q7_25.wav\n",
      "chunks_2sec//comfortable/KN241_Q7_26.wav\n",
      "chunks_2sec//comfortable/KN241_Q7_27.wav\n",
      "chunks_2sec//comfortable/KN241_Q7_28.wav\n",
      "chunks_2sec//comfortable/KN241_Q7_29.wav\n",
      "chunks_2sec//comfortable/KN241_Q7_30.wav\n",
      "chunks_2sec//comfortable/KN241_Q7_31.wav\n",
      "chunks_2sec//comfortable/KN241_Q7_32.wav\n",
      "chunks_2sec//comfortable/KN241_Q7_33.wav\n",
      "chunks_2sec//comfortable/KN241_Q7_34.wav\n",
      "==============================\n",
      "file KN241_Q8.wav is loaded\n",
      "the file was biger than 1 second\n",
      "16704 zero element are added to the tail of this file \n",
      "the file is divided into 20 chunks\n",
      "list of all the chunks name  :\n",
      "chunks_2sec//comfortable/KN241_Q8_0.wav\n",
      "chunks_2sec//comfortable/KN241_Q8_1.wav\n",
      "chunks_2sec//comfortable/KN241_Q8_2.wav\n"
     ]
    },
    {
     "name": "stdout",
     "output_type": "stream",
     "text": [
      "chunks_2sec//comfortable/KN241_Q8_3.wav\n",
      "chunks_2sec//comfortable/KN241_Q8_4.wav\n",
      "chunks_2sec//comfortable/KN241_Q8_5.wav\n",
      "chunks_2sec//comfortable/KN241_Q8_6.wav\n",
      "chunks_2sec//comfortable/KN241_Q8_7.wav\n",
      "chunks_2sec//comfortable/KN241_Q8_8.wav\n",
      "chunks_2sec//comfortable/KN241_Q8_9.wav\n",
      "chunks_2sec//comfortable/KN241_Q8_10.wav\n",
      "chunks_2sec//comfortable/KN241_Q8_11.wav\n",
      "chunks_2sec//comfortable/KN241_Q8_12.wav\n",
      "chunks_2sec//comfortable/KN241_Q8_13.wav\n",
      "chunks_2sec//comfortable/KN241_Q8_14.wav\n",
      "chunks_2sec//comfortable/KN241_Q8_15.wav\n",
      "chunks_2sec//comfortable/KN241_Q8_16.wav\n",
      "chunks_2sec//comfortable/KN241_Q8_17.wav\n",
      "chunks_2sec//comfortable/KN241_Q8_18.wav\n",
      "chunks_2sec//comfortable/KN241_Q8_19.wav\n",
      "==============================\n",
      "file KN241_Q9.wav is loaded\n",
      "the file was biger than 1 second\n",
      "2265 zero element are added to the tail of this file \n",
      "the file is divided into 26 chunks\n",
      "list of all the chunks name  :\n",
      "chunks_2sec//comfortable/KN241_Q9_0.wav\n",
      "chunks_2sec//comfortable/KN241_Q9_1.wav\n",
      "chunks_2sec//comfortable/KN241_Q9_2.wav\n",
      "chunks_2sec//comfortable/KN241_Q9_3.wav\n",
      "chunks_2sec//comfortable/KN241_Q9_4.wav\n",
      "chunks_2sec//comfortable/KN241_Q9_5.wav\n",
      "chunks_2sec//comfortable/KN241_Q9_6.wav\n",
      "chunks_2sec//comfortable/KN241_Q9_7.wav\n",
      "chunks_2sec//comfortable/KN241_Q9_8.wav\n",
      "chunks_2sec//comfortable/KN241_Q9_9.wav\n",
      "chunks_2sec//comfortable/KN241_Q9_10.wav\n",
      "chunks_2sec//comfortable/KN241_Q9_11.wav\n",
      "chunks_2sec//comfortable/KN241_Q9_12.wav\n",
      "chunks_2sec//comfortable/KN241_Q9_13.wav\n",
      "chunks_2sec//comfortable/KN241_Q9_14.wav\n",
      "chunks_2sec//comfortable/KN241_Q9_15.wav\n",
      "chunks_2sec//comfortable/KN241_Q9_16.wav\n",
      "chunks_2sec//comfortable/KN241_Q9_17.wav\n",
      "chunks_2sec//comfortable/KN241_Q9_18.wav\n",
      "chunks_2sec//comfortable/KN241_Q9_19.wav\n",
      "chunks_2sec//comfortable/KN241_Q9_20.wav\n",
      "chunks_2sec//comfortable/KN241_Q9_21.wav\n",
      "chunks_2sec//comfortable/KN241_Q9_22.wav\n",
      "chunks_2sec//comfortable/KN241_Q9_23.wav\n",
      "chunks_2sec//comfortable/KN241_Q9_24.wav\n",
      "chunks_2sec//comfortable/KN241_Q9_25.wav\n",
      "==============================\n",
      "file MP959_Q14.wav is loaded\n",
      "the file was biger than 1 second\n",
      "12262 zero element are added to the tail of this file \n",
      "the file is divided into 11 chunks\n",
      "list of all the chunks name  :\n",
      "chunks_2sec//comfortable/MP959_Q14_0.wav\n",
      "chunks_2sec//comfortable/MP959_Q14_1.wav\n",
      "chunks_2sec//comfortable/MP959_Q14_2.wav\n",
      "chunks_2sec//comfortable/MP959_Q14_3.wav\n",
      "chunks_2sec//comfortable/MP959_Q14_4.wav\n",
      "chunks_2sec//comfortable/MP959_Q14_5.wav\n",
      "chunks_2sec//comfortable/MP959_Q14_6.wav\n",
      "chunks_2sec//comfortable/MP959_Q14_7.wav\n",
      "chunks_2sec//comfortable/MP959_Q14_8.wav\n",
      "chunks_2sec//comfortable/MP959_Q14_9.wav\n",
      "chunks_2sec//comfortable/MP959_Q14_10.wav\n",
      "==============================\n",
      "file MP959_Q22.wav is loaded\n",
      "the file was biger than 1 second\n",
      "2476 zero element are added to the tail of this file \n",
      "the file is divided into 12 chunks\n",
      "list of all the chunks name  :\n",
      "chunks_2sec//comfortable/MP959_Q22_0.wav\n",
      "chunks_2sec//comfortable/MP959_Q22_1.wav\n",
      "chunks_2sec//comfortable/MP959_Q22_2.wav\n",
      "chunks_2sec//comfortable/MP959_Q22_3.wav\n",
      "chunks_2sec//comfortable/MP959_Q22_4.wav\n",
      "chunks_2sec//comfortable/MP959_Q22_5.wav\n",
      "chunks_2sec//comfortable/MP959_Q22_6.wav\n",
      "chunks_2sec//comfortable/MP959_Q22_7.wav\n",
      "chunks_2sec//comfortable/MP959_Q22_8.wav\n",
      "chunks_2sec//comfortable/MP959_Q22_9.wav\n",
      "chunks_2sec//comfortable/MP959_Q22_10.wav\n",
      "chunks_2sec//comfortable/MP959_Q22_11.wav\n",
      "==============================\n",
      "file AA713_Q12.wav is loaded\n",
      "\u001b[31mthe file was less than 1 second\u001b[0m\n",
      "==============================\n",
      "file AA713_Q13.wav is loaded\n",
      "the file was biger than 1 second\n",
      "3309 zero element are added to the tail of this file \n",
      "the file is divided into 22 chunks\n",
      "list of all the chunks name  :\n",
      "chunks_2sec//uncomfortable/AA713_Q13_0.wav\n",
      "chunks_2sec//uncomfortable/AA713_Q13_1.wav\n",
      "chunks_2sec//uncomfortable/AA713_Q13_2.wav\n",
      "chunks_2sec//uncomfortable/AA713_Q13_3.wav\n",
      "chunks_2sec//uncomfortable/AA713_Q13_4.wav\n",
      "chunks_2sec//uncomfortable/AA713_Q13_5.wav\n",
      "chunks_2sec//uncomfortable/AA713_Q13_6.wav\n",
      "chunks_2sec//uncomfortable/AA713_Q13_7.wav\n",
      "chunks_2sec//uncomfortable/AA713_Q13_8.wav\n",
      "chunks_2sec//uncomfortable/AA713_Q13_9.wav\n",
      "chunks_2sec//uncomfortable/AA713_Q13_10.wav\n",
      "chunks_2sec//uncomfortable/AA713_Q13_11.wav\n",
      "chunks_2sec//uncomfortable/AA713_Q13_12.wav\n",
      "chunks_2sec//uncomfortable/AA713_Q13_13.wav\n",
      "chunks_2sec//uncomfortable/AA713_Q13_14.wav\n",
      "chunks_2sec//uncomfortable/AA713_Q13_15.wav\n",
      "chunks_2sec//uncomfortable/AA713_Q13_16.wav\n",
      "chunks_2sec//uncomfortable/AA713_Q13_17.wav\n",
      "chunks_2sec//uncomfortable/AA713_Q13_18.wav\n",
      "chunks_2sec//uncomfortable/AA713_Q13_19.wav\n",
      "chunks_2sec//uncomfortable/AA713_Q13_20.wav\n",
      "chunks_2sec//uncomfortable/AA713_Q13_21.wav\n",
      "==============================\n",
      "file AA713_Q18.wav is loaded\n",
      "the file was biger than 1 second\n",
      "1427 zero element are added to the tail of this file \n",
      "the file is divided into 58 chunks\n",
      "list of all the chunks name  :\n",
      "chunks_2sec//uncomfortable/AA713_Q18_0.wav\n",
      "chunks_2sec//uncomfortable/AA713_Q18_1.wav\n",
      "chunks_2sec//uncomfortable/AA713_Q18_2.wav\n",
      "chunks_2sec//uncomfortable/AA713_Q18_3.wav\n",
      "chunks_2sec//uncomfortable/AA713_Q18_4.wav\n",
      "chunks_2sec//uncomfortable/AA713_Q18_5.wav\n",
      "chunks_2sec//uncomfortable/AA713_Q18_6.wav\n",
      "chunks_2sec//uncomfortable/AA713_Q18_7.wav\n",
      "chunks_2sec//uncomfortable/AA713_Q18_8.wav\n",
      "chunks_2sec//uncomfortable/AA713_Q18_9.wav\n",
      "chunks_2sec//uncomfortable/AA713_Q18_10.wav\n",
      "chunks_2sec//uncomfortable/AA713_Q18_11.wav\n",
      "chunks_2sec//uncomfortable/AA713_Q18_12.wav\n",
      "chunks_2sec//uncomfortable/AA713_Q18_13.wav\n",
      "chunks_2sec//uncomfortable/AA713_Q18_14.wav\n",
      "chunks_2sec//uncomfortable/AA713_Q18_15.wav\n",
      "chunks_2sec//uncomfortable/AA713_Q18_16.wav\n",
      "chunks_2sec//uncomfortable/AA713_Q18_17.wav\n",
      "chunks_2sec//uncomfortable/AA713_Q18_18.wav\n",
      "chunks_2sec//uncomfortable/AA713_Q18_19.wav\n",
      "chunks_2sec//uncomfortable/AA713_Q18_20.wav\n",
      "chunks_2sec//uncomfortable/AA713_Q18_21.wav\n",
      "chunks_2sec//uncomfortable/AA713_Q18_22.wav\n",
      "chunks_2sec//uncomfortable/AA713_Q18_23.wav\n",
      "chunks_2sec//uncomfortable/AA713_Q18_24.wav\n",
      "chunks_2sec//uncomfortable/AA713_Q18_25.wav\n",
      "chunks_2sec//uncomfortable/AA713_Q18_26.wav\n",
      "chunks_2sec//uncomfortable/AA713_Q18_27.wav\n",
      "chunks_2sec//uncomfortable/AA713_Q18_28.wav\n",
      "chunks_2sec//uncomfortable/AA713_Q18_29.wav\n",
      "chunks_2sec//uncomfortable/AA713_Q18_30.wav\n",
      "chunks_2sec//uncomfortable/AA713_Q18_31.wav\n",
      "chunks_2sec//uncomfortable/AA713_Q18_32.wav\n",
      "chunks_2sec//uncomfortable/AA713_Q18_33.wav\n",
      "chunks_2sec//uncomfortable/AA713_Q18_34.wav\n",
      "chunks_2sec//uncomfortable/AA713_Q18_35.wav\n",
      "chunks_2sec//uncomfortable/AA713_Q18_36.wav\n",
      "chunks_2sec//uncomfortable/AA713_Q18_37.wav\n",
      "chunks_2sec//uncomfortable/AA713_Q18_38.wav\n",
      "chunks_2sec//uncomfortable/AA713_Q18_39.wav\n",
      "chunks_2sec//uncomfortable/AA713_Q18_40.wav\n",
      "chunks_2sec//uncomfortable/AA713_Q18_41.wav\n",
      "chunks_2sec//uncomfortable/AA713_Q18_42.wav\n",
      "chunks_2sec//uncomfortable/AA713_Q18_43.wav\n",
      "chunks_2sec//uncomfortable/AA713_Q18_44.wav\n",
      "chunks_2sec//uncomfortable/AA713_Q18_45.wav\n",
      "chunks_2sec//uncomfortable/AA713_Q18_46.wav\n",
      "chunks_2sec//uncomfortable/AA713_Q18_47.wav\n",
      "chunks_2sec//uncomfortable/AA713_Q18_48.wav\n",
      "chunks_2sec//uncomfortable/AA713_Q18_49.wav\n",
      "chunks_2sec//uncomfortable/AA713_Q18_50.wav\n",
      "chunks_2sec//uncomfortable/AA713_Q18_51.wav\n",
      "chunks_2sec//uncomfortable/AA713_Q18_52.wav\n",
      "chunks_2sec//uncomfortable/AA713_Q18_53.wav\n",
      "chunks_2sec//uncomfortable/AA713_Q18_54.wav\n",
      "chunks_2sec//uncomfortable/AA713_Q18_55.wav\n",
      "chunks_2sec//uncomfortable/AA713_Q18_56.wav\n",
      "chunks_2sec//uncomfortable/AA713_Q18_57.wav\n",
      "==============================\n",
      "file AA713_Q2.wav is loaded\n",
      "the file was biger than 1 second\n",
      "1171 zero element are added to the tail of this file \n",
      "the file is divided into 8 chunks\n",
      "list of all the chunks name  :\n",
      "chunks_2sec//uncomfortable/AA713_Q2_0.wav\n",
      "chunks_2sec//uncomfortable/AA713_Q2_1.wav\n",
      "chunks_2sec//uncomfortable/AA713_Q2_2.wav\n",
      "chunks_2sec//uncomfortable/AA713_Q2_3.wav\n",
      "chunks_2sec//uncomfortable/AA713_Q2_4.wav\n",
      "chunks_2sec//uncomfortable/AA713_Q2_5.wav\n",
      "chunks_2sec//uncomfortable/AA713_Q2_6.wav\n",
      "chunks_2sec//uncomfortable/AA713_Q2_7.wav\n",
      "==============================\n",
      "file AA713_Q24.wav is loaded\n",
      "\u001b[31mthe file was less than 1 second\u001b[0m\n",
      "==============================\n",
      "file AI128_Q22.wav is loaded\n",
      "the file was biger than 1 second\n",
      "5810 zero element are added to the tail of this file \n",
      "the file is divided into 35 chunks\n",
      "list of all the chunks name  :\n",
      "chunks_2sec//uncomfortable/AI128_Q22_0.wav\n",
      "chunks_2sec//uncomfortable/AI128_Q22_1.wav\n",
      "chunks_2sec//uncomfortable/AI128_Q22_2.wav\n",
      "chunks_2sec//uncomfortable/AI128_Q22_3.wav\n",
      "chunks_2sec//uncomfortable/AI128_Q22_4.wav\n"
     ]
    },
    {
     "name": "stdout",
     "output_type": "stream",
     "text": [
      "chunks_2sec//uncomfortable/AI128_Q22_5.wav\n",
      "chunks_2sec//uncomfortable/AI128_Q22_6.wav\n",
      "chunks_2sec//uncomfortable/AI128_Q22_7.wav\n",
      "chunks_2sec//uncomfortable/AI128_Q22_8.wav\n",
      "chunks_2sec//uncomfortable/AI128_Q22_9.wav\n",
      "chunks_2sec//uncomfortable/AI128_Q22_10.wav\n",
      "chunks_2sec//uncomfortable/AI128_Q22_11.wav\n",
      "chunks_2sec//uncomfortable/AI128_Q22_12.wav\n",
      "chunks_2sec//uncomfortable/AI128_Q22_13.wav\n",
      "chunks_2sec//uncomfortable/AI128_Q22_14.wav\n",
      "chunks_2sec//uncomfortable/AI128_Q22_15.wav\n",
      "chunks_2sec//uncomfortable/AI128_Q22_16.wav\n",
      "chunks_2sec//uncomfortable/AI128_Q22_17.wav\n",
      "chunks_2sec//uncomfortable/AI128_Q22_18.wav\n",
      "chunks_2sec//uncomfortable/AI128_Q22_19.wav\n",
      "chunks_2sec//uncomfortable/AI128_Q22_20.wav\n",
      "chunks_2sec//uncomfortable/AI128_Q22_21.wav\n",
      "chunks_2sec//uncomfortable/AI128_Q22_22.wav\n",
      "chunks_2sec//uncomfortable/AI128_Q22_23.wav\n",
      "chunks_2sec//uncomfortable/AI128_Q22_24.wav\n",
      "chunks_2sec//uncomfortable/AI128_Q22_25.wav\n",
      "chunks_2sec//uncomfortable/AI128_Q22_26.wav\n",
      "chunks_2sec//uncomfortable/AI128_Q22_27.wav\n",
      "chunks_2sec//uncomfortable/AI128_Q22_28.wav\n",
      "chunks_2sec//uncomfortable/AI128_Q22_29.wav\n",
      "chunks_2sec//uncomfortable/AI128_Q22_30.wav\n",
      "chunks_2sec//uncomfortable/AI128_Q22_31.wav\n",
      "chunks_2sec//uncomfortable/AI128_Q22_32.wav\n",
      "chunks_2sec//uncomfortable/AI128_Q22_33.wav\n",
      "chunks_2sec//uncomfortable/AI128_Q22_34.wav\n",
      "==============================\n",
      "file AM058_Q16.wav is loaded\n",
      "the file was biger than 1 second\n",
      "18473 zero element are added to the tail of this file \n",
      "the file is divided into 59 chunks\n",
      "list of all the chunks name  :\n",
      "chunks_2sec//uncomfortable/AM058_Q16_0.wav\n",
      "chunks_2sec//uncomfortable/AM058_Q16_1.wav\n",
      "chunks_2sec//uncomfortable/AM058_Q16_2.wav\n",
      "chunks_2sec//uncomfortable/AM058_Q16_3.wav\n",
      "chunks_2sec//uncomfortable/AM058_Q16_4.wav\n",
      "chunks_2sec//uncomfortable/AM058_Q16_5.wav\n",
      "chunks_2sec//uncomfortable/AM058_Q16_6.wav\n",
      "chunks_2sec//uncomfortable/AM058_Q16_7.wav\n",
      "chunks_2sec//uncomfortable/AM058_Q16_8.wav\n",
      "chunks_2sec//uncomfortable/AM058_Q16_9.wav\n",
      "chunks_2sec//uncomfortable/AM058_Q16_10.wav\n",
      "chunks_2sec//uncomfortable/AM058_Q16_11.wav\n",
      "chunks_2sec//uncomfortable/AM058_Q16_12.wav\n",
      "chunks_2sec//uncomfortable/AM058_Q16_13.wav\n",
      "chunks_2sec//uncomfortable/AM058_Q16_14.wav\n",
      "chunks_2sec//uncomfortable/AM058_Q16_15.wav\n",
      "chunks_2sec//uncomfortable/AM058_Q16_16.wav\n",
      "chunks_2sec//uncomfortable/AM058_Q16_17.wav\n",
      "chunks_2sec//uncomfortable/AM058_Q16_18.wav\n",
      "chunks_2sec//uncomfortable/AM058_Q16_19.wav\n",
      "chunks_2sec//uncomfortable/AM058_Q16_20.wav\n",
      "chunks_2sec//uncomfortable/AM058_Q16_21.wav\n",
      "chunks_2sec//uncomfortable/AM058_Q16_22.wav\n",
      "chunks_2sec//uncomfortable/AM058_Q16_23.wav\n",
      "chunks_2sec//uncomfortable/AM058_Q16_24.wav\n",
      "chunks_2sec//uncomfortable/AM058_Q16_25.wav\n",
      "chunks_2sec//uncomfortable/AM058_Q16_26.wav\n",
      "chunks_2sec//uncomfortable/AM058_Q16_27.wav\n",
      "chunks_2sec//uncomfortable/AM058_Q16_28.wav\n",
      "chunks_2sec//uncomfortable/AM058_Q16_29.wav\n",
      "chunks_2sec//uncomfortable/AM058_Q16_30.wav\n",
      "chunks_2sec//uncomfortable/AM058_Q16_31.wav\n",
      "chunks_2sec//uncomfortable/AM058_Q16_32.wav\n",
      "chunks_2sec//uncomfortable/AM058_Q16_33.wav\n",
      "chunks_2sec//uncomfortable/AM058_Q16_34.wav\n",
      "chunks_2sec//uncomfortable/AM058_Q16_35.wav\n",
      "chunks_2sec//uncomfortable/AM058_Q16_36.wav\n",
      "chunks_2sec//uncomfortable/AM058_Q16_37.wav\n",
      "chunks_2sec//uncomfortable/AM058_Q16_38.wav\n",
      "chunks_2sec//uncomfortable/AM058_Q16_39.wav\n",
      "chunks_2sec//uncomfortable/AM058_Q16_40.wav\n",
      "chunks_2sec//uncomfortable/AM058_Q16_41.wav\n",
      "chunks_2sec//uncomfortable/AM058_Q16_42.wav\n",
      "chunks_2sec//uncomfortable/AM058_Q16_43.wav\n",
      "chunks_2sec//uncomfortable/AM058_Q16_44.wav\n",
      "chunks_2sec//uncomfortable/AM058_Q16_45.wav\n",
      "chunks_2sec//uncomfortable/AM058_Q16_46.wav\n",
      "chunks_2sec//uncomfortable/AM058_Q16_47.wav\n",
      "chunks_2sec//uncomfortable/AM058_Q16_48.wav\n",
      "chunks_2sec//uncomfortable/AM058_Q16_49.wav\n",
      "chunks_2sec//uncomfortable/AM058_Q16_50.wav\n",
      "chunks_2sec//uncomfortable/AM058_Q16_51.wav\n",
      "chunks_2sec//uncomfortable/AM058_Q16_52.wav\n",
      "chunks_2sec//uncomfortable/AM058_Q16_53.wav\n",
      "chunks_2sec//uncomfortable/AM058_Q16_54.wav\n",
      "chunks_2sec//uncomfortable/AM058_Q16_55.wav\n",
      "chunks_2sec//uncomfortable/AM058_Q16_56.wav\n",
      "chunks_2sec//uncomfortable/AM058_Q16_57.wav\n",
      "chunks_2sec//uncomfortable/AM058_Q16_58.wav\n",
      "==============================\n",
      "file AM058_Q22.wav is loaded\n",
      "the file was biger than 1 second\n",
      "11071 zero element are added to the tail of this file \n",
      "the file is divided into 4 chunks\n",
      "list of all the chunks name  :\n",
      "chunks_2sec//uncomfortable/AM058_Q22_0.wav\n",
      "chunks_2sec//uncomfortable/AM058_Q22_1.wav\n",
      "chunks_2sec//uncomfortable/AM058_Q22_2.wav\n",
      "chunks_2sec//uncomfortable/AM058_Q22_3.wav\n",
      "==============================\n",
      "file AM526_Q14.wav is loaded\n",
      "the file was biger than 1 second\n",
      "18054 zero element are added to the tail of this file \n",
      "the file is divided into 9 chunks\n",
      "list of all the chunks name  :\n",
      "chunks_2sec//uncomfortable/AM526_Q14_0.wav\n",
      "chunks_2sec//uncomfortable/AM526_Q14_1.wav\n",
      "chunks_2sec//uncomfortable/AM526_Q14_2.wav\n",
      "chunks_2sec//uncomfortable/AM526_Q14_3.wav\n",
      "chunks_2sec//uncomfortable/AM526_Q14_4.wav\n",
      "chunks_2sec//uncomfortable/AM526_Q14_5.wav\n",
      "chunks_2sec//uncomfortable/AM526_Q14_6.wav\n",
      "chunks_2sec//uncomfortable/AM526_Q14_7.wav\n",
      "chunks_2sec//uncomfortable/AM526_Q14_8.wav\n",
      "==============================\n",
      "file AM526_Q17.wav is loaded\n",
      "\u001b[31mthe file was less than 1 second\u001b[0m\n",
      "==============================\n",
      "file AM526_Q18.wav is loaded\n",
      "the file was biger than 1 second\n",
      "14167 zero element are added to the tail of this file \n",
      "the file is divided into 10 chunks\n",
      "list of all the chunks name  :\n",
      "chunks_2sec//uncomfortable/AM526_Q18_0.wav\n",
      "chunks_2sec//uncomfortable/AM526_Q18_1.wav\n",
      "chunks_2sec//uncomfortable/AM526_Q18_2.wav\n",
      "chunks_2sec//uncomfortable/AM526_Q18_3.wav\n",
      "chunks_2sec//uncomfortable/AM526_Q18_4.wav\n",
      "chunks_2sec//uncomfortable/AM526_Q18_5.wav\n",
      "chunks_2sec//uncomfortable/AM526_Q18_6.wav\n",
      "chunks_2sec//uncomfortable/AM526_Q18_7.wav\n",
      "chunks_2sec//uncomfortable/AM526_Q18_8.wav\n",
      "chunks_2sec//uncomfortable/AM526_Q18_9.wav\n",
      "==============================\n",
      "file AM526_Q22.wav is loaded\n",
      "the file was biger than 1 second\n",
      "17026 zero element are added to the tail of this file \n",
      "the file is divided into 3 chunks\n",
      "list of all the chunks name  :\n",
      "chunks_2sec//uncomfortable/AM526_Q22_0.wav\n",
      "chunks_2sec//uncomfortable/AM526_Q22_1.wav\n",
      "chunks_2sec//uncomfortable/AM526_Q22_2.wav\n",
      "==============================\n",
      "file AN867_Q22.wav is loaded\n",
      "the file was biger than 1 second\n",
      "2527 zero element are added to the tail of this file \n",
      "the file is divided into 9 chunks\n",
      "list of all the chunks name  :\n",
      "chunks_2sec//uncomfortable/AN867_Q22_0.wav\n",
      "chunks_2sec//uncomfortable/AN867_Q22_1.wav\n",
      "chunks_2sec//uncomfortable/AN867_Q22_2.wav\n",
      "chunks_2sec//uncomfortable/AN867_Q22_3.wav\n",
      "chunks_2sec//uncomfortable/AN867_Q22_4.wav\n",
      "chunks_2sec//uncomfortable/AN867_Q22_5.wav\n",
      "chunks_2sec//uncomfortable/AN867_Q22_6.wav\n",
      "chunks_2sec//uncomfortable/AN867_Q22_7.wav\n",
      "chunks_2sec//uncomfortable/AN867_Q22_8.wav\n",
      "==============================\n",
      "file AN867_Q3.wav is loaded\n",
      "the file was biger than 1 second\n",
      "536 zero element are added to the tail of this file \n",
      "the file is divided into 10 chunks\n",
      "list of all the chunks name  :\n",
      "chunks_2sec//uncomfortable/AN867_Q3_0.wav\n",
      "chunks_2sec//uncomfortable/AN867_Q3_1.wav\n",
      "chunks_2sec//uncomfortable/AN867_Q3_2.wav\n",
      "chunks_2sec//uncomfortable/AN867_Q3_3.wav\n",
      "chunks_2sec//uncomfortable/AN867_Q3_4.wav\n",
      "chunks_2sec//uncomfortable/AN867_Q3_5.wav\n",
      "chunks_2sec//uncomfortable/AN867_Q3_6.wav\n",
      "chunks_2sec//uncomfortable/AN867_Q3_7.wav\n",
      "chunks_2sec//uncomfortable/AN867_Q3_8.wav\n",
      "chunks_2sec//uncomfortable/AN867_Q3_9.wav\n",
      "==============================\n",
      "file AN867_Q9.wav is loaded\n",
      "the file was biger than 1 second\n",
      "6224 zero element are added to the tail of this file \n",
      "the file is divided into 18 chunks\n",
      "list of all the chunks name  :\n",
      "chunks_2sec//uncomfortable/AN867_Q9_0.wav\n",
      "chunks_2sec//uncomfortable/AN867_Q9_1.wav\n",
      "chunks_2sec//uncomfortable/AN867_Q9_2.wav\n",
      "chunks_2sec//uncomfortable/AN867_Q9_3.wav\n",
      "chunks_2sec//uncomfortable/AN867_Q9_4.wav\n",
      "chunks_2sec//uncomfortable/AN867_Q9_5.wav\n",
      "chunks_2sec//uncomfortable/AN867_Q9_6.wav\n",
      "chunks_2sec//uncomfortable/AN867_Q9_7.wav\n",
      "chunks_2sec//uncomfortable/AN867_Q9_8.wav\n",
      "chunks_2sec//uncomfortable/AN867_Q9_9.wav\n",
      "chunks_2sec//uncomfortable/AN867_Q9_10.wav\n",
      "chunks_2sec//uncomfortable/AN867_Q9_11.wav\n",
      "chunks_2sec//uncomfortable/AN867_Q9_12.wav\n",
      "chunks_2sec//uncomfortable/AN867_Q9_13.wav\n",
      "chunks_2sec//uncomfortable/AN867_Q9_14.wav\n",
      "chunks_2sec//uncomfortable/AN867_Q9_15.wav\n",
      "chunks_2sec//uncomfortable/AN867_Q9_16.wav\n",
      "chunks_2sec//uncomfortable/AN867_Q9_17.wav\n"
     ]
    },
    {
     "name": "stdout",
     "output_type": "stream",
     "text": [
      "==============================\n",
      "file BA925_Q18.wav is loaded\n",
      "the file was biger than 1 second\n",
      "19697 zero element are added to the tail of this file \n",
      "the file is divided into 68 chunks\n",
      "list of all the chunks name  :\n",
      "chunks_2sec//uncomfortable/BA925_Q18_0.wav\n",
      "chunks_2sec//uncomfortable/BA925_Q18_1.wav\n",
      "chunks_2sec//uncomfortable/BA925_Q18_2.wav\n",
      "chunks_2sec//uncomfortable/BA925_Q18_3.wav\n",
      "chunks_2sec//uncomfortable/BA925_Q18_4.wav\n",
      "chunks_2sec//uncomfortable/BA925_Q18_5.wav\n",
      "chunks_2sec//uncomfortable/BA925_Q18_6.wav\n",
      "chunks_2sec//uncomfortable/BA925_Q18_7.wav\n",
      "chunks_2sec//uncomfortable/BA925_Q18_8.wav\n",
      "chunks_2sec//uncomfortable/BA925_Q18_9.wav\n",
      "chunks_2sec//uncomfortable/BA925_Q18_10.wav\n",
      "chunks_2sec//uncomfortable/BA925_Q18_11.wav\n",
      "chunks_2sec//uncomfortable/BA925_Q18_12.wav\n",
      "chunks_2sec//uncomfortable/BA925_Q18_13.wav\n",
      "chunks_2sec//uncomfortable/BA925_Q18_14.wav\n",
      "chunks_2sec//uncomfortable/BA925_Q18_15.wav\n",
      "chunks_2sec//uncomfortable/BA925_Q18_16.wav\n",
      "chunks_2sec//uncomfortable/BA925_Q18_17.wav\n",
      "chunks_2sec//uncomfortable/BA925_Q18_18.wav\n",
      "chunks_2sec//uncomfortable/BA925_Q18_19.wav\n",
      "chunks_2sec//uncomfortable/BA925_Q18_20.wav\n",
      "chunks_2sec//uncomfortable/BA925_Q18_21.wav\n",
      "chunks_2sec//uncomfortable/BA925_Q18_22.wav\n",
      "chunks_2sec//uncomfortable/BA925_Q18_23.wav\n",
      "chunks_2sec//uncomfortable/BA925_Q18_24.wav\n",
      "chunks_2sec//uncomfortable/BA925_Q18_25.wav\n",
      "chunks_2sec//uncomfortable/BA925_Q18_26.wav\n",
      "chunks_2sec//uncomfortable/BA925_Q18_27.wav\n",
      "chunks_2sec//uncomfortable/BA925_Q18_28.wav\n",
      "chunks_2sec//uncomfortable/BA925_Q18_29.wav\n",
      "chunks_2sec//uncomfortable/BA925_Q18_30.wav\n",
      "chunks_2sec//uncomfortable/BA925_Q18_31.wav\n",
      "chunks_2sec//uncomfortable/BA925_Q18_32.wav\n",
      "chunks_2sec//uncomfortable/BA925_Q18_33.wav\n",
      "chunks_2sec//uncomfortable/BA925_Q18_34.wav\n",
      "chunks_2sec//uncomfortable/BA925_Q18_35.wav\n",
      "chunks_2sec//uncomfortable/BA925_Q18_36.wav\n",
      "chunks_2sec//uncomfortable/BA925_Q18_37.wav\n",
      "chunks_2sec//uncomfortable/BA925_Q18_38.wav\n",
      "chunks_2sec//uncomfortable/BA925_Q18_39.wav\n",
      "chunks_2sec//uncomfortable/BA925_Q18_40.wav\n",
      "chunks_2sec//uncomfortable/BA925_Q18_41.wav\n",
      "chunks_2sec//uncomfortable/BA925_Q18_42.wav\n",
      "chunks_2sec//uncomfortable/BA925_Q18_43.wav\n",
      "chunks_2sec//uncomfortable/BA925_Q18_44.wav\n",
      "chunks_2sec//uncomfortable/BA925_Q18_45.wav\n",
      "chunks_2sec//uncomfortable/BA925_Q18_46.wav\n",
      "chunks_2sec//uncomfortable/BA925_Q18_47.wav\n",
      "chunks_2sec//uncomfortable/BA925_Q18_48.wav\n",
      "chunks_2sec//uncomfortable/BA925_Q18_49.wav\n",
      "chunks_2sec//uncomfortable/BA925_Q18_50.wav\n",
      "chunks_2sec//uncomfortable/BA925_Q18_51.wav\n",
      "chunks_2sec//uncomfortable/BA925_Q18_52.wav\n",
      "chunks_2sec//uncomfortable/BA925_Q18_53.wav\n",
      "chunks_2sec//uncomfortable/BA925_Q18_54.wav\n",
      "chunks_2sec//uncomfortable/BA925_Q18_55.wav\n",
      "chunks_2sec//uncomfortable/BA925_Q18_56.wav\n",
      "chunks_2sec//uncomfortable/BA925_Q18_57.wav\n",
      "chunks_2sec//uncomfortable/BA925_Q18_58.wav\n",
      "chunks_2sec//uncomfortable/BA925_Q18_59.wav\n",
      "chunks_2sec//uncomfortable/BA925_Q18_60.wav\n",
      "chunks_2sec//uncomfortable/BA925_Q18_61.wav\n",
      "chunks_2sec//uncomfortable/BA925_Q18_62.wav\n",
      "chunks_2sec//uncomfortable/BA925_Q18_63.wav\n",
      "chunks_2sec//uncomfortable/BA925_Q18_64.wav\n",
      "chunks_2sec//uncomfortable/BA925_Q18_65.wav\n",
      "chunks_2sec//uncomfortable/BA925_Q18_66.wav\n",
      "chunks_2sec//uncomfortable/BA925_Q18_67.wav\n",
      "==============================\n",
      "file BA925_Q22.wav is loaded\n",
      "the file was biger than 1 second\n",
      "5076 zero element are added to the tail of this file \n",
      "the file is divided into 6 chunks\n",
      "list of all the chunks name  :\n",
      "chunks_2sec//uncomfortable/BA925_Q22_0.wav\n",
      "chunks_2sec//uncomfortable/BA925_Q22_1.wav\n",
      "chunks_2sec//uncomfortable/BA925_Q22_2.wav\n",
      "chunks_2sec//uncomfortable/BA925_Q22_3.wav\n",
      "chunks_2sec//uncomfortable/BA925_Q22_4.wav\n",
      "chunks_2sec//uncomfortable/BA925_Q22_5.wav\n",
      "==============================\n",
      "file BA925_Q7.wav is loaded\n",
      "the file was biger than 1 second\n",
      "15310 zero element are added to the tail of this file \n",
      "the file is divided into 31 chunks\n",
      "list of all the chunks name  :\n",
      "chunks_2sec//uncomfortable/BA925_Q7_0.wav\n",
      "chunks_2sec//uncomfortable/BA925_Q7_1.wav\n",
      "chunks_2sec//uncomfortable/BA925_Q7_2.wav\n",
      "chunks_2sec//uncomfortable/BA925_Q7_3.wav\n",
      "chunks_2sec//uncomfortable/BA925_Q7_4.wav\n",
      "chunks_2sec//uncomfortable/BA925_Q7_5.wav\n",
      "chunks_2sec//uncomfortable/BA925_Q7_6.wav\n",
      "chunks_2sec//uncomfortable/BA925_Q7_7.wav\n",
      "chunks_2sec//uncomfortable/BA925_Q7_8.wav\n",
      "chunks_2sec//uncomfortable/BA925_Q7_9.wav\n",
      "chunks_2sec//uncomfortable/BA925_Q7_10.wav\n",
      "chunks_2sec//uncomfortable/BA925_Q7_11.wav\n",
      "chunks_2sec//uncomfortable/BA925_Q7_12.wav\n",
      "chunks_2sec//uncomfortable/BA925_Q7_13.wav\n",
      "chunks_2sec//uncomfortable/BA925_Q7_14.wav\n",
      "chunks_2sec//uncomfortable/BA925_Q7_15.wav\n",
      "chunks_2sec//uncomfortable/BA925_Q7_16.wav\n",
      "chunks_2sec//uncomfortable/BA925_Q7_17.wav\n",
      "chunks_2sec//uncomfortable/BA925_Q7_18.wav\n",
      "chunks_2sec//uncomfortable/BA925_Q7_19.wav\n",
      "chunks_2sec//uncomfortable/BA925_Q7_20.wav\n",
      "chunks_2sec//uncomfortable/BA925_Q7_21.wav\n",
      "chunks_2sec//uncomfortable/BA925_Q7_22.wav\n",
      "chunks_2sec//uncomfortable/BA925_Q7_23.wav\n",
      "chunks_2sec//uncomfortable/BA925_Q7_24.wav\n",
      "chunks_2sec//uncomfortable/BA925_Q7_25.wav\n",
      "chunks_2sec//uncomfortable/BA925_Q7_26.wav\n",
      "chunks_2sec//uncomfortable/BA925_Q7_27.wav\n",
      "chunks_2sec//uncomfortable/BA925_Q7_28.wav\n",
      "chunks_2sec//uncomfortable/BA925_Q7_29.wav\n",
      "chunks_2sec//uncomfortable/BA925_Q7_30.wav\n",
      "==============================\n",
      "file BB508_Q17.wav is loaded\n",
      "the file was biger than 1 second\n",
      "20460 zero element are added to the tail of this file \n",
      "the file is divided into 8 chunks\n",
      "list of all the chunks name  :\n",
      "chunks_2sec//uncomfortable/BB508_Q17_0.wav\n",
      "chunks_2sec//uncomfortable/BB508_Q17_1.wav\n",
      "chunks_2sec//uncomfortable/BB508_Q17_2.wav\n",
      "chunks_2sec//uncomfortable/BB508_Q17_3.wav\n",
      "chunks_2sec//uncomfortable/BB508_Q17_4.wav\n",
      "chunks_2sec//uncomfortable/BB508_Q17_5.wav\n",
      "chunks_2sec//uncomfortable/BB508_Q17_6.wav\n",
      "chunks_2sec//uncomfortable/BB508_Q17_7.wav\n",
      "==============================\n",
      "file BB508_Q18.wav is loaded\n",
      "the file was biger than 1 second\n",
      "2635 zero element are added to the tail of this file \n",
      "the file is divided into 12 chunks\n",
      "list of all the chunks name  :\n",
      "chunks_2sec//uncomfortable/BB508_Q18_0.wav\n",
      "chunks_2sec//uncomfortable/BB508_Q18_1.wav\n",
      "chunks_2sec//uncomfortable/BB508_Q18_2.wav\n",
      "chunks_2sec//uncomfortable/BB508_Q18_3.wav\n",
      "chunks_2sec//uncomfortable/BB508_Q18_4.wav\n",
      "chunks_2sec//uncomfortable/BB508_Q18_5.wav\n",
      "chunks_2sec//uncomfortable/BB508_Q18_6.wav\n",
      "chunks_2sec//uncomfortable/BB508_Q18_7.wav\n",
      "chunks_2sec//uncomfortable/BB508_Q18_8.wav\n",
      "chunks_2sec//uncomfortable/BB508_Q18_9.wav\n",
      "chunks_2sec//uncomfortable/BB508_Q18_10.wav\n",
      "chunks_2sec//uncomfortable/BB508_Q18_11.wav\n",
      "==============================\n",
      "file BB508_Q22.wav is loaded\n",
      "the file was biger than 1 second\n",
      "12621 zero element are added to the tail of this file \n",
      "the file is divided into 7 chunks\n",
      "list of all the chunks name  :\n",
      "chunks_2sec//uncomfortable/BB508_Q22_0.wav\n",
      "chunks_2sec//uncomfortable/BB508_Q22_1.wav\n",
      "chunks_2sec//uncomfortable/BB508_Q22_2.wav\n",
      "chunks_2sec//uncomfortable/BB508_Q22_3.wav\n",
      "chunks_2sec//uncomfortable/BB508_Q22_4.wav\n",
      "chunks_2sec//uncomfortable/BB508_Q22_5.wav\n",
      "chunks_2sec//uncomfortable/BB508_Q22_6.wav\n",
      "==============================\n",
      "file BL551_Q14.wav is loaded\n",
      "the file was biger than 1 second\n",
      "18640 zero element are added to the tail of this file \n",
      "the file is divided into 10 chunks\n",
      "list of all the chunks name  :\n",
      "chunks_2sec//uncomfortable/BL551_Q14_0.wav\n",
      "chunks_2sec//uncomfortable/BL551_Q14_1.wav\n",
      "chunks_2sec//uncomfortable/BL551_Q14_2.wav\n",
      "chunks_2sec//uncomfortable/BL551_Q14_3.wav\n",
      "chunks_2sec//uncomfortable/BL551_Q14_4.wav\n",
      "chunks_2sec//uncomfortable/BL551_Q14_5.wav\n",
      "chunks_2sec//uncomfortable/BL551_Q14_6.wav\n",
      "chunks_2sec//uncomfortable/BL551_Q14_7.wav\n",
      "chunks_2sec//uncomfortable/BL551_Q14_8.wav\n",
      "chunks_2sec//uncomfortable/BL551_Q14_9.wav\n",
      "==============================\n",
      "file BL551_Q16.wav is loaded\n",
      "the file was biger than 1 second\n",
      "13625 zero element are added to the tail of this file \n",
      "the file is divided into 21 chunks\n",
      "list of all the chunks name  :\n",
      "chunks_2sec//uncomfortable/BL551_Q16_0.wav\n",
      "chunks_2sec//uncomfortable/BL551_Q16_1.wav\n",
      "chunks_2sec//uncomfortable/BL551_Q16_2.wav\n",
      "chunks_2sec//uncomfortable/BL551_Q16_3.wav\n",
      "chunks_2sec//uncomfortable/BL551_Q16_4.wav\n",
      "chunks_2sec//uncomfortable/BL551_Q16_5.wav\n",
      "chunks_2sec//uncomfortable/BL551_Q16_6.wav\n",
      "chunks_2sec//uncomfortable/BL551_Q16_7.wav\n",
      "chunks_2sec//uncomfortable/BL551_Q16_8.wav\n",
      "chunks_2sec//uncomfortable/BL551_Q16_9.wav\n",
      "chunks_2sec//uncomfortable/BL551_Q16_10.wav\n",
      "chunks_2sec//uncomfortable/BL551_Q16_11.wav\n"
     ]
    },
    {
     "name": "stdout",
     "output_type": "stream",
     "text": [
      "chunks_2sec//uncomfortable/BL551_Q16_12.wav\n",
      "chunks_2sec//uncomfortable/BL551_Q16_13.wav\n",
      "chunks_2sec//uncomfortable/BL551_Q16_14.wav\n",
      "chunks_2sec//uncomfortable/BL551_Q16_15.wav\n",
      "chunks_2sec//uncomfortable/BL551_Q16_16.wav\n",
      "chunks_2sec//uncomfortable/BL551_Q16_17.wav\n",
      "chunks_2sec//uncomfortable/BL551_Q16_18.wav\n",
      "chunks_2sec//uncomfortable/BL551_Q16_19.wav\n",
      "chunks_2sec//uncomfortable/BL551_Q16_20.wav\n",
      "==============================\n",
      "file BL551_Q17.wav is loaded\n",
      "the file was biger than 1 second\n",
      "4562 zero element are added to the tail of this file \n",
      "the file is divided into 2 chunks\n",
      "list of all the chunks name  :\n",
      "chunks_2sec//uncomfortable/BL551_Q17_0.wav\n",
      "chunks_2sec//uncomfortable/BL551_Q17_1.wav\n",
      "==============================\n",
      "file BL551_Q18.wav is loaded\n",
      "the file was biger than 1 second\n",
      "10172 zero element are added to the tail of this file \n",
      "the file is divided into 26 chunks\n",
      "list of all the chunks name  :\n",
      "chunks_2sec//uncomfortable/BL551_Q18_0.wav\n",
      "chunks_2sec//uncomfortable/BL551_Q18_1.wav\n",
      "chunks_2sec//uncomfortable/BL551_Q18_2.wav\n",
      "chunks_2sec//uncomfortable/BL551_Q18_3.wav\n",
      "chunks_2sec//uncomfortable/BL551_Q18_4.wav\n",
      "chunks_2sec//uncomfortable/BL551_Q18_5.wav\n",
      "chunks_2sec//uncomfortable/BL551_Q18_6.wav\n",
      "chunks_2sec//uncomfortable/BL551_Q18_7.wav\n",
      "chunks_2sec//uncomfortable/BL551_Q18_8.wav\n",
      "chunks_2sec//uncomfortable/BL551_Q18_9.wav\n",
      "chunks_2sec//uncomfortable/BL551_Q18_10.wav\n",
      "chunks_2sec//uncomfortable/BL551_Q18_11.wav\n",
      "chunks_2sec//uncomfortable/BL551_Q18_12.wav\n",
      "chunks_2sec//uncomfortable/BL551_Q18_13.wav\n",
      "chunks_2sec//uncomfortable/BL551_Q18_14.wav\n",
      "chunks_2sec//uncomfortable/BL551_Q18_15.wav\n",
      "chunks_2sec//uncomfortable/BL551_Q18_16.wav\n",
      "chunks_2sec//uncomfortable/BL551_Q18_17.wav\n",
      "chunks_2sec//uncomfortable/BL551_Q18_18.wav\n",
      "chunks_2sec//uncomfortable/BL551_Q18_19.wav\n",
      "chunks_2sec//uncomfortable/BL551_Q18_20.wav\n",
      "chunks_2sec//uncomfortable/BL551_Q18_21.wav\n",
      "chunks_2sec//uncomfortable/BL551_Q18_22.wav\n",
      "chunks_2sec//uncomfortable/BL551_Q18_23.wav\n",
      "chunks_2sec//uncomfortable/BL551_Q18_24.wav\n",
      "chunks_2sec//uncomfortable/BL551_Q18_25.wav\n",
      "==============================\n",
      "file BL551_Q22.wav is loaded\n",
      "the file was biger than 1 second\n",
      "11707 zero element are added to the tail of this file \n",
      "the file is divided into 15 chunks\n",
      "list of all the chunks name  :\n",
      "chunks_2sec//uncomfortable/BL551_Q22_0.wav\n",
      "chunks_2sec//uncomfortable/BL551_Q22_1.wav\n",
      "chunks_2sec//uncomfortable/BL551_Q22_2.wav\n",
      "chunks_2sec//uncomfortable/BL551_Q22_3.wav\n",
      "chunks_2sec//uncomfortable/BL551_Q22_4.wav\n",
      "chunks_2sec//uncomfortable/BL551_Q22_5.wav\n",
      "chunks_2sec//uncomfortable/BL551_Q22_6.wav\n",
      "chunks_2sec//uncomfortable/BL551_Q22_7.wav\n",
      "chunks_2sec//uncomfortable/BL551_Q22_8.wav\n",
      "chunks_2sec//uncomfortable/BL551_Q22_9.wav\n",
      "chunks_2sec//uncomfortable/BL551_Q22_10.wav\n",
      "chunks_2sec//uncomfortable/BL551_Q22_11.wav\n",
      "chunks_2sec//uncomfortable/BL551_Q22_12.wav\n",
      "chunks_2sec//uncomfortable/BL551_Q22_13.wav\n",
      "chunks_2sec//uncomfortable/BL551_Q22_14.wav\n",
      "==============================\n",
      "file BL551_Q3.wav is loaded\n",
      "the file was biger than 1 second\n",
      "18825 zero element are added to the tail of this file \n",
      "the file is divided into 5 chunks\n",
      "list of all the chunks name  :\n",
      "chunks_2sec//uncomfortable/BL551_Q3_0.wav\n",
      "chunks_2sec//uncomfortable/BL551_Q3_1.wav\n",
      "chunks_2sec//uncomfortable/BL551_Q3_2.wav\n",
      "chunks_2sec//uncomfortable/BL551_Q3_3.wav\n",
      "chunks_2sec//uncomfortable/BL551_Q3_4.wav\n",
      "==============================\n",
      "file BM403_Q14.wav is loaded\n",
      "the file was biger than 1 second\n",
      "13352 zero element are added to the tail of this file \n",
      "the file is divided into 9 chunks\n",
      "list of all the chunks name  :\n",
      "chunks_2sec//uncomfortable/BM403_Q14_0.wav\n",
      "chunks_2sec//uncomfortable/BM403_Q14_1.wav\n",
      "chunks_2sec//uncomfortable/BM403_Q14_2.wav\n",
      "chunks_2sec//uncomfortable/BM403_Q14_3.wav\n",
      "chunks_2sec//uncomfortable/BM403_Q14_4.wav\n",
      "chunks_2sec//uncomfortable/BM403_Q14_5.wav\n",
      "chunks_2sec//uncomfortable/BM403_Q14_6.wav\n",
      "chunks_2sec//uncomfortable/BM403_Q14_7.wav\n",
      "chunks_2sec//uncomfortable/BM403_Q14_8.wav\n",
      "==============================\n",
      "file BM403_Q15.wav is loaded\n",
      "the file was biger than 1 second\n",
      "2803 zero element are added to the tail of this file \n",
      "the file is divided into 13 chunks\n",
      "list of all the chunks name  :\n",
      "chunks_2sec//uncomfortable/BM403_Q15_0.wav\n",
      "chunks_2sec//uncomfortable/BM403_Q15_1.wav\n",
      "chunks_2sec//uncomfortable/BM403_Q15_2.wav\n",
      "chunks_2sec//uncomfortable/BM403_Q15_3.wav\n",
      "chunks_2sec//uncomfortable/BM403_Q15_4.wav\n",
      "chunks_2sec//uncomfortable/BM403_Q15_5.wav\n",
      "chunks_2sec//uncomfortable/BM403_Q15_6.wav\n",
      "chunks_2sec//uncomfortable/BM403_Q15_7.wav\n",
      "chunks_2sec//uncomfortable/BM403_Q15_8.wav\n",
      "chunks_2sec//uncomfortable/BM403_Q15_9.wav\n",
      "chunks_2sec//uncomfortable/BM403_Q15_10.wav\n",
      "chunks_2sec//uncomfortable/BM403_Q15_11.wav\n",
      "chunks_2sec//uncomfortable/BM403_Q15_12.wav\n",
      "==============================\n",
      "file CF374_Q16.wav is loaded\n",
      "the file was biger than 1 second\n",
      "19980 zero element are added to the tail of this file \n",
      "the file is divided into 16 chunks\n",
      "list of all the chunks name  :\n",
      "chunks_2sec//uncomfortable/CF374_Q16_0.wav\n",
      "chunks_2sec//uncomfortable/CF374_Q16_1.wav\n",
      "chunks_2sec//uncomfortable/CF374_Q16_2.wav\n",
      "chunks_2sec//uncomfortable/CF374_Q16_3.wav\n",
      "chunks_2sec//uncomfortable/CF374_Q16_4.wav\n",
      "chunks_2sec//uncomfortable/CF374_Q16_5.wav\n",
      "chunks_2sec//uncomfortable/CF374_Q16_6.wav\n",
      "chunks_2sec//uncomfortable/CF374_Q16_7.wav\n",
      "chunks_2sec//uncomfortable/CF374_Q16_8.wav\n",
      "chunks_2sec//uncomfortable/CF374_Q16_9.wav\n",
      "chunks_2sec//uncomfortable/CF374_Q16_10.wav\n",
      "chunks_2sec//uncomfortable/CF374_Q16_11.wav\n",
      "chunks_2sec//uncomfortable/CF374_Q16_12.wav\n",
      "chunks_2sec//uncomfortable/CF374_Q16_13.wav\n",
      "chunks_2sec//uncomfortable/CF374_Q16_14.wav\n",
      "chunks_2sec//uncomfortable/CF374_Q16_15.wav\n",
      "==============================\n",
      "file CJ032_Q18.wav is loaded\n",
      "the file was biger than 1 second\n",
      "10404 zero element are added to the tail of this file \n",
      "the file is divided into 22 chunks\n",
      "list of all the chunks name  :\n",
      "chunks_2sec//uncomfortable/CJ032_Q18_0.wav\n",
      "chunks_2sec//uncomfortable/CJ032_Q18_1.wav\n",
      "chunks_2sec//uncomfortable/CJ032_Q18_2.wav\n",
      "chunks_2sec//uncomfortable/CJ032_Q18_3.wav\n",
      "chunks_2sec//uncomfortable/CJ032_Q18_4.wav\n",
      "chunks_2sec//uncomfortable/CJ032_Q18_5.wav\n",
      "chunks_2sec//uncomfortable/CJ032_Q18_6.wav\n",
      "chunks_2sec//uncomfortable/CJ032_Q18_7.wav\n",
      "chunks_2sec//uncomfortable/CJ032_Q18_8.wav\n",
      "chunks_2sec//uncomfortable/CJ032_Q18_9.wav\n",
      "chunks_2sec//uncomfortable/CJ032_Q18_10.wav\n",
      "chunks_2sec//uncomfortable/CJ032_Q18_11.wav\n",
      "chunks_2sec//uncomfortable/CJ032_Q18_12.wav\n",
      "chunks_2sec//uncomfortable/CJ032_Q18_13.wav\n",
      "chunks_2sec//uncomfortable/CJ032_Q18_14.wav\n",
      "chunks_2sec//uncomfortable/CJ032_Q18_15.wav\n",
      "chunks_2sec//uncomfortable/CJ032_Q18_16.wav\n",
      "chunks_2sec//uncomfortable/CJ032_Q18_17.wav\n",
      "chunks_2sec//uncomfortable/CJ032_Q18_18.wav\n",
      "chunks_2sec//uncomfortable/CJ032_Q18_19.wav\n",
      "chunks_2sec//uncomfortable/CJ032_Q18_20.wav\n",
      "chunks_2sec//uncomfortable/CJ032_Q18_21.wav\n",
      "==============================\n",
      "file CJ032_Q2.wav is loaded\n",
      "the file was biger than 1 second\n",
      "4057 zero element are added to the tail of this file \n",
      "the file is divided into 4 chunks\n",
      "list of all the chunks name  :\n",
      "chunks_2sec//uncomfortable/CJ032_Q2_0.wav\n",
      "chunks_2sec//uncomfortable/CJ032_Q2_1.wav\n",
      "chunks_2sec//uncomfortable/CJ032_Q2_2.wav\n",
      "chunks_2sec//uncomfortable/CJ032_Q2_3.wav\n",
      "==============================\n",
      "file GL603_Q16.wav is loaded\n",
      "the file was biger than 1 second\n",
      "11804 zero element are added to the tail of this file \n",
      "the file is divided into 38 chunks\n",
      "list of all the chunks name  :\n",
      "chunks_2sec//uncomfortable/GL603_Q16_0.wav\n",
      "chunks_2sec//uncomfortable/GL603_Q16_1.wav\n",
      "chunks_2sec//uncomfortable/GL603_Q16_2.wav\n",
      "chunks_2sec//uncomfortable/GL603_Q16_3.wav\n",
      "chunks_2sec//uncomfortable/GL603_Q16_4.wav\n",
      "chunks_2sec//uncomfortable/GL603_Q16_5.wav\n",
      "chunks_2sec//uncomfortable/GL603_Q16_6.wav\n",
      "chunks_2sec//uncomfortable/GL603_Q16_7.wav\n",
      "chunks_2sec//uncomfortable/GL603_Q16_8.wav\n",
      "chunks_2sec//uncomfortable/GL603_Q16_9.wav\n",
      "chunks_2sec//uncomfortable/GL603_Q16_10.wav\n",
      "chunks_2sec//uncomfortable/GL603_Q16_11.wav\n",
      "chunks_2sec//uncomfortable/GL603_Q16_12.wav\n",
      "chunks_2sec//uncomfortable/GL603_Q16_13.wav\n",
      "chunks_2sec//uncomfortable/GL603_Q16_14.wav\n",
      "chunks_2sec//uncomfortable/GL603_Q16_15.wav\n",
      "chunks_2sec//uncomfortable/GL603_Q16_16.wav\n",
      "chunks_2sec//uncomfortable/GL603_Q16_17.wav\n",
      "chunks_2sec//uncomfortable/GL603_Q16_18.wav\n"
     ]
    },
    {
     "name": "stdout",
     "output_type": "stream",
     "text": [
      "chunks_2sec//uncomfortable/GL603_Q16_19.wav\n",
      "chunks_2sec//uncomfortable/GL603_Q16_20.wav\n",
      "chunks_2sec//uncomfortable/GL603_Q16_21.wav\n",
      "chunks_2sec//uncomfortable/GL603_Q16_22.wav\n",
      "chunks_2sec//uncomfortable/GL603_Q16_23.wav\n",
      "chunks_2sec//uncomfortable/GL603_Q16_24.wav\n",
      "chunks_2sec//uncomfortable/GL603_Q16_25.wav\n",
      "chunks_2sec//uncomfortable/GL603_Q16_26.wav\n",
      "chunks_2sec//uncomfortable/GL603_Q16_27.wav\n",
      "chunks_2sec//uncomfortable/GL603_Q16_28.wav\n",
      "chunks_2sec//uncomfortable/GL603_Q16_29.wav\n",
      "chunks_2sec//uncomfortable/GL603_Q16_30.wav\n",
      "chunks_2sec//uncomfortable/GL603_Q16_31.wav\n",
      "chunks_2sec//uncomfortable/GL603_Q16_32.wav\n",
      "chunks_2sec//uncomfortable/GL603_Q16_33.wav\n",
      "chunks_2sec//uncomfortable/GL603_Q16_34.wav\n",
      "chunks_2sec//uncomfortable/GL603_Q16_35.wav\n",
      "chunks_2sec//uncomfortable/GL603_Q16_36.wav\n",
      "chunks_2sec//uncomfortable/GL603_Q16_37.wav\n",
      "==============================\n",
      "file GL603_Q17.wav is loaded\n",
      "the file was biger than 1 second\n",
      "8171 zero element are added to the tail of this file \n",
      "the file is divided into 14 chunks\n",
      "list of all the chunks name  :\n",
      "chunks_2sec//uncomfortable/GL603_Q17_0.wav\n",
      "chunks_2sec//uncomfortable/GL603_Q17_1.wav\n",
      "chunks_2sec//uncomfortable/GL603_Q17_2.wav\n",
      "chunks_2sec//uncomfortable/GL603_Q17_3.wav\n",
      "chunks_2sec//uncomfortable/GL603_Q17_4.wav\n",
      "chunks_2sec//uncomfortable/GL603_Q17_5.wav\n",
      "chunks_2sec//uncomfortable/GL603_Q17_6.wav\n",
      "chunks_2sec//uncomfortable/GL603_Q17_7.wav\n",
      "chunks_2sec//uncomfortable/GL603_Q17_8.wav\n",
      "chunks_2sec//uncomfortable/GL603_Q17_9.wav\n",
      "chunks_2sec//uncomfortable/GL603_Q17_10.wav\n",
      "chunks_2sec//uncomfortable/GL603_Q17_11.wav\n",
      "chunks_2sec//uncomfortable/GL603_Q17_12.wav\n",
      "chunks_2sec//uncomfortable/GL603_Q17_13.wav\n",
      "==============================\n",
      "file GL603_Q18.wav is loaded\n",
      "the file was biger than 1 second\n",
      "15610 zero element are added to the tail of this file \n",
      "the file is divided into 59 chunks\n",
      "list of all the chunks name  :\n",
      "chunks_2sec//uncomfortable/GL603_Q18_0.wav\n",
      "chunks_2sec//uncomfortable/GL603_Q18_1.wav\n",
      "chunks_2sec//uncomfortable/GL603_Q18_2.wav\n",
      "chunks_2sec//uncomfortable/GL603_Q18_3.wav\n",
      "chunks_2sec//uncomfortable/GL603_Q18_4.wav\n",
      "chunks_2sec//uncomfortable/GL603_Q18_5.wav\n",
      "chunks_2sec//uncomfortable/GL603_Q18_6.wav\n",
      "chunks_2sec//uncomfortable/GL603_Q18_7.wav\n",
      "chunks_2sec//uncomfortable/GL603_Q18_8.wav\n",
      "chunks_2sec//uncomfortable/GL603_Q18_9.wav\n",
      "chunks_2sec//uncomfortable/GL603_Q18_10.wav\n",
      "chunks_2sec//uncomfortable/GL603_Q18_11.wav\n",
      "chunks_2sec//uncomfortable/GL603_Q18_12.wav\n",
      "chunks_2sec//uncomfortable/GL603_Q18_13.wav\n",
      "chunks_2sec//uncomfortable/GL603_Q18_14.wav\n",
      "chunks_2sec//uncomfortable/GL603_Q18_15.wav\n",
      "chunks_2sec//uncomfortable/GL603_Q18_16.wav\n",
      "chunks_2sec//uncomfortable/GL603_Q18_17.wav\n",
      "chunks_2sec//uncomfortable/GL603_Q18_18.wav\n",
      "chunks_2sec//uncomfortable/GL603_Q18_19.wav\n",
      "chunks_2sec//uncomfortable/GL603_Q18_20.wav\n",
      "chunks_2sec//uncomfortable/GL603_Q18_21.wav\n",
      "chunks_2sec//uncomfortable/GL603_Q18_22.wav\n",
      "chunks_2sec//uncomfortable/GL603_Q18_23.wav\n",
      "chunks_2sec//uncomfortable/GL603_Q18_24.wav\n",
      "chunks_2sec//uncomfortable/GL603_Q18_25.wav\n",
      "chunks_2sec//uncomfortable/GL603_Q18_26.wav\n",
      "chunks_2sec//uncomfortable/GL603_Q18_27.wav\n",
      "chunks_2sec//uncomfortable/GL603_Q18_28.wav\n",
      "chunks_2sec//uncomfortable/GL603_Q18_29.wav\n",
      "chunks_2sec//uncomfortable/GL603_Q18_30.wav\n",
      "chunks_2sec//uncomfortable/GL603_Q18_31.wav\n",
      "chunks_2sec//uncomfortable/GL603_Q18_32.wav\n",
      "chunks_2sec//uncomfortable/GL603_Q18_33.wav\n",
      "chunks_2sec//uncomfortable/GL603_Q18_34.wav\n",
      "chunks_2sec//uncomfortable/GL603_Q18_35.wav\n",
      "chunks_2sec//uncomfortable/GL603_Q18_36.wav\n",
      "chunks_2sec//uncomfortable/GL603_Q18_37.wav\n",
      "chunks_2sec//uncomfortable/GL603_Q18_38.wav\n",
      "chunks_2sec//uncomfortable/GL603_Q18_39.wav\n",
      "chunks_2sec//uncomfortable/GL603_Q18_40.wav\n",
      "chunks_2sec//uncomfortable/GL603_Q18_41.wav\n",
      "chunks_2sec//uncomfortable/GL603_Q18_42.wav\n",
      "chunks_2sec//uncomfortable/GL603_Q18_43.wav\n",
      "chunks_2sec//uncomfortable/GL603_Q18_44.wav\n",
      "chunks_2sec//uncomfortable/GL603_Q18_45.wav\n",
      "chunks_2sec//uncomfortable/GL603_Q18_46.wav\n",
      "chunks_2sec//uncomfortable/GL603_Q18_47.wav\n",
      "chunks_2sec//uncomfortable/GL603_Q18_48.wav\n",
      "chunks_2sec//uncomfortable/GL603_Q18_49.wav\n",
      "chunks_2sec//uncomfortable/GL603_Q18_50.wav\n",
      "chunks_2sec//uncomfortable/GL603_Q18_51.wav\n",
      "chunks_2sec//uncomfortable/GL603_Q18_52.wav\n",
      "chunks_2sec//uncomfortable/GL603_Q18_53.wav\n",
      "chunks_2sec//uncomfortable/GL603_Q18_54.wav\n",
      "chunks_2sec//uncomfortable/GL603_Q18_55.wav\n",
      "chunks_2sec//uncomfortable/GL603_Q18_56.wav\n",
      "chunks_2sec//uncomfortable/GL603_Q18_57.wav\n",
      "chunks_2sec//uncomfortable/GL603_Q18_58.wav\n",
      "==============================\n",
      "file GL603_Q9.wav is loaded\n",
      "the file was biger than 1 second\n",
      "5205 zero element are added to the tail of this file \n",
      "the file is divided into 36 chunks\n",
      "list of all the chunks name  :\n",
      "chunks_2sec//uncomfortable/GL603_Q9_0.wav\n",
      "chunks_2sec//uncomfortable/GL603_Q9_1.wav\n",
      "chunks_2sec//uncomfortable/GL603_Q9_2.wav\n",
      "chunks_2sec//uncomfortable/GL603_Q9_3.wav\n",
      "chunks_2sec//uncomfortable/GL603_Q9_4.wav\n",
      "chunks_2sec//uncomfortable/GL603_Q9_5.wav\n",
      "chunks_2sec//uncomfortable/GL603_Q9_6.wav\n",
      "chunks_2sec//uncomfortable/GL603_Q9_7.wav\n",
      "chunks_2sec//uncomfortable/GL603_Q9_8.wav\n",
      "chunks_2sec//uncomfortable/GL603_Q9_9.wav\n",
      "chunks_2sec//uncomfortable/GL603_Q9_10.wav\n",
      "chunks_2sec//uncomfortable/GL603_Q9_11.wav\n",
      "chunks_2sec//uncomfortable/GL603_Q9_12.wav\n",
      "chunks_2sec//uncomfortable/GL603_Q9_13.wav\n",
      "chunks_2sec//uncomfortable/GL603_Q9_14.wav\n",
      "chunks_2sec//uncomfortable/GL603_Q9_15.wav\n",
      "chunks_2sec//uncomfortable/GL603_Q9_16.wav\n",
      "chunks_2sec//uncomfortable/GL603_Q9_17.wav\n",
      "chunks_2sec//uncomfortable/GL603_Q9_18.wav\n",
      "chunks_2sec//uncomfortable/GL603_Q9_19.wav\n",
      "chunks_2sec//uncomfortable/GL603_Q9_20.wav\n",
      "chunks_2sec//uncomfortable/GL603_Q9_21.wav\n",
      "chunks_2sec//uncomfortable/GL603_Q9_22.wav\n",
      "chunks_2sec//uncomfortable/GL603_Q9_23.wav\n",
      "chunks_2sec//uncomfortable/GL603_Q9_24.wav\n",
      "chunks_2sec//uncomfortable/GL603_Q9_25.wav\n",
      "chunks_2sec//uncomfortable/GL603_Q9_26.wav\n",
      "chunks_2sec//uncomfortable/GL603_Q9_27.wav\n",
      "chunks_2sec//uncomfortable/GL603_Q9_28.wav\n",
      "chunks_2sec//uncomfortable/GL603_Q9_29.wav\n",
      "chunks_2sec//uncomfortable/GL603_Q9_30.wav\n",
      "chunks_2sec//uncomfortable/GL603_Q9_31.wav\n",
      "chunks_2sec//uncomfortable/GL603_Q9_32.wav\n",
      "chunks_2sec//uncomfortable/GL603_Q9_33.wav\n",
      "chunks_2sec//uncomfortable/GL603_Q9_34.wav\n",
      "chunks_2sec//uncomfortable/GL603_Q9_35.wav\n",
      "==============================\n",
      "file JS827_Q14.wav is loaded\n",
      "the file was biger than 1 second\n",
      "11172 zero element are added to the tail of this file \n",
      "the file is divided into 38 chunks\n",
      "list of all the chunks name  :\n",
      "chunks_2sec//uncomfortable/JS827_Q14_0.wav\n",
      "chunks_2sec//uncomfortable/JS827_Q14_1.wav\n",
      "chunks_2sec//uncomfortable/JS827_Q14_2.wav\n",
      "chunks_2sec//uncomfortable/JS827_Q14_3.wav\n",
      "chunks_2sec//uncomfortable/JS827_Q14_4.wav\n",
      "chunks_2sec//uncomfortable/JS827_Q14_5.wav\n",
      "chunks_2sec//uncomfortable/JS827_Q14_6.wav\n",
      "chunks_2sec//uncomfortable/JS827_Q14_7.wav\n",
      "chunks_2sec//uncomfortable/JS827_Q14_8.wav\n",
      "chunks_2sec//uncomfortable/JS827_Q14_9.wav\n",
      "chunks_2sec//uncomfortable/JS827_Q14_10.wav\n",
      "chunks_2sec//uncomfortable/JS827_Q14_11.wav\n",
      "chunks_2sec//uncomfortable/JS827_Q14_12.wav\n",
      "chunks_2sec//uncomfortable/JS827_Q14_13.wav\n",
      "chunks_2sec//uncomfortable/JS827_Q14_14.wav\n",
      "chunks_2sec//uncomfortable/JS827_Q14_15.wav\n",
      "chunks_2sec//uncomfortable/JS827_Q14_16.wav\n",
      "chunks_2sec//uncomfortable/JS827_Q14_17.wav\n",
      "chunks_2sec//uncomfortable/JS827_Q14_18.wav\n",
      "chunks_2sec//uncomfortable/JS827_Q14_19.wav\n",
      "chunks_2sec//uncomfortable/JS827_Q14_20.wav\n",
      "chunks_2sec//uncomfortable/JS827_Q14_21.wav\n",
      "chunks_2sec//uncomfortable/JS827_Q14_22.wav\n",
      "chunks_2sec//uncomfortable/JS827_Q14_23.wav\n",
      "chunks_2sec//uncomfortable/JS827_Q14_24.wav\n",
      "chunks_2sec//uncomfortable/JS827_Q14_25.wav\n",
      "chunks_2sec//uncomfortable/JS827_Q14_26.wav\n",
      "chunks_2sec//uncomfortable/JS827_Q14_27.wav\n",
      "chunks_2sec//uncomfortable/JS827_Q14_28.wav\n",
      "chunks_2sec//uncomfortable/JS827_Q14_29.wav\n",
      "chunks_2sec//uncomfortable/JS827_Q14_30.wav\n",
      "chunks_2sec//uncomfortable/JS827_Q14_31.wav\n",
      "chunks_2sec//uncomfortable/JS827_Q14_32.wav\n",
      "chunks_2sec//uncomfortable/JS827_Q14_33.wav\n",
      "chunks_2sec//uncomfortable/JS827_Q14_34.wav\n",
      "chunks_2sec//uncomfortable/JS827_Q14_35.wav\n",
      "chunks_2sec//uncomfortable/JS827_Q14_36.wav\n",
      "chunks_2sec//uncomfortable/JS827_Q14_37.wav\n",
      "==============================\n",
      "file JS827_Q17.wav is loaded\n",
      "the file was biger than 1 second\n",
      "21168 zero element are added to the tail of this file \n",
      "the file is divided into 8 chunks\n",
      "list of all the chunks name  :\n",
      "chunks_2sec//uncomfortable/JS827_Q17_0.wav\n",
      "chunks_2sec//uncomfortable/JS827_Q17_1.wav\n",
      "chunks_2sec//uncomfortable/JS827_Q17_2.wav\n",
      "chunks_2sec//uncomfortable/JS827_Q17_3.wav\n"
     ]
    },
    {
     "name": "stdout",
     "output_type": "stream",
     "text": [
      "chunks_2sec//uncomfortable/JS827_Q17_4.wav\n",
      "chunks_2sec//uncomfortable/JS827_Q17_5.wav\n",
      "chunks_2sec//uncomfortable/JS827_Q17_6.wav\n",
      "chunks_2sec//uncomfortable/JS827_Q17_7.wav\n",
      "==============================\n",
      "file JS827_Q18.wav is loaded\n",
      "the file was biger than 1 second\n",
      "14292 zero element are added to the tail of this file \n",
      "the file is divided into 81 chunks\n",
      "list of all the chunks name  :\n",
      "chunks_2sec//uncomfortable/JS827_Q18_0.wav\n",
      "chunks_2sec//uncomfortable/JS827_Q18_1.wav\n",
      "chunks_2sec//uncomfortable/JS827_Q18_2.wav\n",
      "chunks_2sec//uncomfortable/JS827_Q18_3.wav\n",
      "chunks_2sec//uncomfortable/JS827_Q18_4.wav\n",
      "chunks_2sec//uncomfortable/JS827_Q18_5.wav\n",
      "chunks_2sec//uncomfortable/JS827_Q18_6.wav\n",
      "chunks_2sec//uncomfortable/JS827_Q18_7.wav\n",
      "chunks_2sec//uncomfortable/JS827_Q18_8.wav\n",
      "chunks_2sec//uncomfortable/JS827_Q18_9.wav\n",
      "chunks_2sec//uncomfortable/JS827_Q18_10.wav\n",
      "chunks_2sec//uncomfortable/JS827_Q18_11.wav\n",
      "chunks_2sec//uncomfortable/JS827_Q18_12.wav\n",
      "chunks_2sec//uncomfortable/JS827_Q18_13.wav\n",
      "chunks_2sec//uncomfortable/JS827_Q18_14.wav\n",
      "chunks_2sec//uncomfortable/JS827_Q18_15.wav\n",
      "chunks_2sec//uncomfortable/JS827_Q18_16.wav\n",
      "chunks_2sec//uncomfortable/JS827_Q18_17.wav\n",
      "chunks_2sec//uncomfortable/JS827_Q18_18.wav\n",
      "chunks_2sec//uncomfortable/JS827_Q18_19.wav\n",
      "chunks_2sec//uncomfortable/JS827_Q18_20.wav\n",
      "chunks_2sec//uncomfortable/JS827_Q18_21.wav\n",
      "chunks_2sec//uncomfortable/JS827_Q18_22.wav\n",
      "chunks_2sec//uncomfortable/JS827_Q18_23.wav\n",
      "chunks_2sec//uncomfortable/JS827_Q18_24.wav\n",
      "chunks_2sec//uncomfortable/JS827_Q18_25.wav\n",
      "chunks_2sec//uncomfortable/JS827_Q18_26.wav\n",
      "chunks_2sec//uncomfortable/JS827_Q18_27.wav\n",
      "chunks_2sec//uncomfortable/JS827_Q18_28.wav\n",
      "chunks_2sec//uncomfortable/JS827_Q18_29.wav\n",
      "chunks_2sec//uncomfortable/JS827_Q18_30.wav\n",
      "chunks_2sec//uncomfortable/JS827_Q18_31.wav\n",
      "chunks_2sec//uncomfortable/JS827_Q18_32.wav\n",
      "chunks_2sec//uncomfortable/JS827_Q18_33.wav\n",
      "chunks_2sec//uncomfortable/JS827_Q18_34.wav\n",
      "chunks_2sec//uncomfortable/JS827_Q18_35.wav\n",
      "chunks_2sec//uncomfortable/JS827_Q18_36.wav\n",
      "chunks_2sec//uncomfortable/JS827_Q18_37.wav\n",
      "chunks_2sec//uncomfortable/JS827_Q18_38.wav\n",
      "chunks_2sec//uncomfortable/JS827_Q18_39.wav\n",
      "chunks_2sec//uncomfortable/JS827_Q18_40.wav\n",
      "chunks_2sec//uncomfortable/JS827_Q18_41.wav\n",
      "chunks_2sec//uncomfortable/JS827_Q18_42.wav\n",
      "chunks_2sec//uncomfortable/JS827_Q18_43.wav\n",
      "chunks_2sec//uncomfortable/JS827_Q18_44.wav\n",
      "chunks_2sec//uncomfortable/JS827_Q18_45.wav\n",
      "chunks_2sec//uncomfortable/JS827_Q18_46.wav\n",
      "chunks_2sec//uncomfortable/JS827_Q18_47.wav\n",
      "chunks_2sec//uncomfortable/JS827_Q18_48.wav\n",
      "chunks_2sec//uncomfortable/JS827_Q18_49.wav\n",
      "chunks_2sec//uncomfortable/JS827_Q18_50.wav\n",
      "chunks_2sec//uncomfortable/JS827_Q18_51.wav\n",
      "chunks_2sec//uncomfortable/JS827_Q18_52.wav\n",
      "chunks_2sec//uncomfortable/JS827_Q18_53.wav\n",
      "chunks_2sec//uncomfortable/JS827_Q18_54.wav\n",
      "chunks_2sec//uncomfortable/JS827_Q18_55.wav\n",
      "chunks_2sec//uncomfortable/JS827_Q18_56.wav\n",
      "chunks_2sec//uncomfortable/JS827_Q18_57.wav\n",
      "chunks_2sec//uncomfortable/JS827_Q18_58.wav\n",
      "chunks_2sec//uncomfortable/JS827_Q18_59.wav\n",
      "chunks_2sec//uncomfortable/JS827_Q18_60.wav\n",
      "chunks_2sec//uncomfortable/JS827_Q18_61.wav\n",
      "chunks_2sec//uncomfortable/JS827_Q18_62.wav\n",
      "chunks_2sec//uncomfortable/JS827_Q18_63.wav\n",
      "chunks_2sec//uncomfortable/JS827_Q18_64.wav\n",
      "chunks_2sec//uncomfortable/JS827_Q18_65.wav\n",
      "chunks_2sec//uncomfortable/JS827_Q18_66.wav\n",
      "chunks_2sec//uncomfortable/JS827_Q18_67.wav\n",
      "chunks_2sec//uncomfortable/JS827_Q18_68.wav\n",
      "chunks_2sec//uncomfortable/JS827_Q18_69.wav\n",
      "chunks_2sec//uncomfortable/JS827_Q18_70.wav\n",
      "chunks_2sec//uncomfortable/JS827_Q18_71.wav\n",
      "chunks_2sec//uncomfortable/JS827_Q18_72.wav\n",
      "chunks_2sec//uncomfortable/JS827_Q18_73.wav\n",
      "chunks_2sec//uncomfortable/JS827_Q18_74.wav\n",
      "chunks_2sec//uncomfortable/JS827_Q18_75.wav\n",
      "chunks_2sec//uncomfortable/JS827_Q18_76.wav\n",
      "chunks_2sec//uncomfortable/JS827_Q18_77.wav\n",
      "chunks_2sec//uncomfortable/JS827_Q18_78.wav\n",
      "chunks_2sec//uncomfortable/JS827_Q18_79.wav\n",
      "chunks_2sec//uncomfortable/JS827_Q18_80.wav\n",
      "==============================\n",
      "file JS827_Q21.wav is loaded\n",
      "the file was biger than 1 second\n",
      "5501 zero element are added to the tail of this file \n",
      "the file is divided into 27 chunks\n",
      "list of all the chunks name  :\n",
      "chunks_2sec//uncomfortable/JS827_Q21_0.wav\n",
      "chunks_2sec//uncomfortable/JS827_Q21_1.wav\n",
      "chunks_2sec//uncomfortable/JS827_Q21_2.wav\n",
      "chunks_2sec//uncomfortable/JS827_Q21_3.wav\n",
      "chunks_2sec//uncomfortable/JS827_Q21_4.wav\n",
      "chunks_2sec//uncomfortable/JS827_Q21_5.wav\n",
      "chunks_2sec//uncomfortable/JS827_Q21_6.wav\n",
      "chunks_2sec//uncomfortable/JS827_Q21_7.wav\n",
      "chunks_2sec//uncomfortable/JS827_Q21_8.wav\n",
      "chunks_2sec//uncomfortable/JS827_Q21_9.wav\n",
      "chunks_2sec//uncomfortable/JS827_Q21_10.wav\n",
      "chunks_2sec//uncomfortable/JS827_Q21_11.wav\n",
      "chunks_2sec//uncomfortable/JS827_Q21_12.wav\n",
      "chunks_2sec//uncomfortable/JS827_Q21_13.wav\n",
      "chunks_2sec//uncomfortable/JS827_Q21_14.wav\n",
      "chunks_2sec//uncomfortable/JS827_Q21_15.wav\n",
      "chunks_2sec//uncomfortable/JS827_Q21_16.wav\n",
      "chunks_2sec//uncomfortable/JS827_Q21_17.wav\n",
      "chunks_2sec//uncomfortable/JS827_Q21_18.wav\n",
      "chunks_2sec//uncomfortable/JS827_Q21_19.wav\n",
      "chunks_2sec//uncomfortable/JS827_Q21_20.wav\n",
      "chunks_2sec//uncomfortable/JS827_Q21_21.wav\n",
      "chunks_2sec//uncomfortable/JS827_Q21_22.wav\n",
      "chunks_2sec//uncomfortable/JS827_Q21_23.wav\n",
      "chunks_2sec//uncomfortable/JS827_Q21_24.wav\n",
      "chunks_2sec//uncomfortable/JS827_Q21_25.wav\n",
      "chunks_2sec//uncomfortable/JS827_Q21_26.wav\n",
      "==============================\n",
      "file JS827_Q22.wav is loaded\n",
      "the file was biger than 1 second\n",
      "5346 zero element are added to the tail of this file \n",
      "the file is divided into 24 chunks\n",
      "list of all the chunks name  :\n",
      "chunks_2sec//uncomfortable/JS827_Q22_0.wav\n",
      "chunks_2sec//uncomfortable/JS827_Q22_1.wav\n",
      "chunks_2sec//uncomfortable/JS827_Q22_2.wav\n",
      "chunks_2sec//uncomfortable/JS827_Q22_3.wav\n",
      "chunks_2sec//uncomfortable/JS827_Q22_4.wav\n",
      "chunks_2sec//uncomfortable/JS827_Q22_5.wav\n",
      "chunks_2sec//uncomfortable/JS827_Q22_6.wav\n",
      "chunks_2sec//uncomfortable/JS827_Q22_7.wav\n",
      "chunks_2sec//uncomfortable/JS827_Q22_8.wav\n",
      "chunks_2sec//uncomfortable/JS827_Q22_9.wav\n",
      "chunks_2sec//uncomfortable/JS827_Q22_10.wav\n",
      "chunks_2sec//uncomfortable/JS827_Q22_11.wav\n",
      "chunks_2sec//uncomfortable/JS827_Q22_12.wav\n",
      "chunks_2sec//uncomfortable/JS827_Q22_13.wav\n",
      "chunks_2sec//uncomfortable/JS827_Q22_14.wav\n",
      "chunks_2sec//uncomfortable/JS827_Q22_15.wav\n",
      "chunks_2sec//uncomfortable/JS827_Q22_16.wav\n",
      "chunks_2sec//uncomfortable/JS827_Q22_17.wav\n",
      "chunks_2sec//uncomfortable/JS827_Q22_18.wav\n",
      "chunks_2sec//uncomfortable/JS827_Q22_19.wav\n",
      "chunks_2sec//uncomfortable/JS827_Q22_20.wav\n",
      "chunks_2sec//uncomfortable/JS827_Q22_21.wav\n",
      "chunks_2sec//uncomfortable/JS827_Q22_22.wav\n",
      "chunks_2sec//uncomfortable/JS827_Q22_23.wav\n",
      "==============================\n",
      "file JS827_Q3.wav is loaded\n",
      "the file was biger than 1 second\n",
      "5389 zero element are added to the tail of this file \n",
      "the file is divided into 5 chunks\n",
      "list of all the chunks name  :\n",
      "chunks_2sec//uncomfortable/JS827_Q3_0.wav\n",
      "chunks_2sec//uncomfortable/JS827_Q3_1.wav\n",
      "chunks_2sec//uncomfortable/JS827_Q3_2.wav\n",
      "chunks_2sec//uncomfortable/JS827_Q3_3.wav\n",
      "chunks_2sec//uncomfortable/JS827_Q3_4.wav\n",
      "==============================\n",
      "file JS827_Q4.wav is loaded\n",
      "the file was biger than 1 second\n",
      "1380 zero element are added to the tail of this file \n",
      "the file is divided into 4 chunks\n",
      "list of all the chunks name  :\n",
      "chunks_2sec//uncomfortable/JS827_Q4_0.wav\n",
      "chunks_2sec//uncomfortable/JS827_Q4_1.wav\n",
      "chunks_2sec//uncomfortable/JS827_Q4_2.wav\n",
      "chunks_2sec//uncomfortable/JS827_Q4_3.wav\n",
      "==============================\n",
      "file KM552_Q18.wav is loaded\n",
      "the file was biger than 1 second\n",
      "4602 zero element are added to the tail of this file \n",
      "the file is divided into 29 chunks\n",
      "list of all the chunks name  :\n",
      "chunks_2sec//uncomfortable/KM552_Q18_0.wav\n",
      "chunks_2sec//uncomfortable/KM552_Q18_1.wav\n",
      "chunks_2sec//uncomfortable/KM552_Q18_2.wav\n",
      "chunks_2sec//uncomfortable/KM552_Q18_3.wav\n",
      "chunks_2sec//uncomfortable/KM552_Q18_4.wav\n",
      "chunks_2sec//uncomfortable/KM552_Q18_5.wav\n",
      "chunks_2sec//uncomfortable/KM552_Q18_6.wav\n",
      "chunks_2sec//uncomfortable/KM552_Q18_7.wav\n",
      "chunks_2sec//uncomfortable/KM552_Q18_8.wav\n",
      "chunks_2sec//uncomfortable/KM552_Q18_9.wav\n",
      "chunks_2sec//uncomfortable/KM552_Q18_10.wav\n",
      "chunks_2sec//uncomfortable/KM552_Q18_11.wav\n",
      "chunks_2sec//uncomfortable/KM552_Q18_12.wav\n",
      "chunks_2sec//uncomfortable/KM552_Q18_13.wav\n",
      "chunks_2sec//uncomfortable/KM552_Q18_14.wav\n",
      "chunks_2sec//uncomfortable/KM552_Q18_15.wav\n"
     ]
    },
    {
     "name": "stdout",
     "output_type": "stream",
     "text": [
      "chunks_2sec//uncomfortable/KM552_Q18_16.wav\n",
      "chunks_2sec//uncomfortable/KM552_Q18_17.wav\n",
      "chunks_2sec//uncomfortable/KM552_Q18_18.wav\n",
      "chunks_2sec//uncomfortable/KM552_Q18_19.wav\n",
      "chunks_2sec//uncomfortable/KM552_Q18_20.wav\n",
      "chunks_2sec//uncomfortable/KM552_Q18_21.wav\n",
      "chunks_2sec//uncomfortable/KM552_Q18_22.wav\n",
      "chunks_2sec//uncomfortable/KM552_Q18_23.wav\n",
      "chunks_2sec//uncomfortable/KM552_Q18_24.wav\n",
      "chunks_2sec//uncomfortable/KM552_Q18_25.wav\n",
      "chunks_2sec//uncomfortable/KM552_Q18_26.wav\n",
      "chunks_2sec//uncomfortable/KM552_Q18_27.wav\n",
      "chunks_2sec//uncomfortable/KM552_Q18_28.wav\n",
      "==============================\n",
      "file KM552_Q22.wav is loaded\n",
      "the file was biger than 1 second\n",
      "15043 zero element are added to the tail of this file \n",
      "the file is divided into 6 chunks\n",
      "list of all the chunks name  :\n",
      "chunks_2sec//uncomfortable/KM552_Q22_0.wav\n",
      "chunks_2sec//uncomfortable/KM552_Q22_1.wav\n",
      "chunks_2sec//uncomfortable/KM552_Q22_2.wav\n",
      "chunks_2sec//uncomfortable/KM552_Q22_3.wav\n",
      "chunks_2sec//uncomfortable/KM552_Q22_4.wav\n",
      "chunks_2sec//uncomfortable/KM552_Q22_5.wav\n",
      "==============================\n",
      "file MM647_Q14.wav is loaded\n",
      "the file was biger than 1 second\n",
      "2631 zero element are added to the tail of this file \n",
      "the file is divided into 18 chunks\n",
      "list of all the chunks name  :\n",
      "chunks_2sec//uncomfortable/MM647_Q14_0.wav\n",
      "chunks_2sec//uncomfortable/MM647_Q14_1.wav\n",
      "chunks_2sec//uncomfortable/MM647_Q14_2.wav\n",
      "chunks_2sec//uncomfortable/MM647_Q14_3.wav\n",
      "chunks_2sec//uncomfortable/MM647_Q14_4.wav\n",
      "chunks_2sec//uncomfortable/MM647_Q14_5.wav\n",
      "chunks_2sec//uncomfortable/MM647_Q14_6.wav\n",
      "chunks_2sec//uncomfortable/MM647_Q14_7.wav\n",
      "chunks_2sec//uncomfortable/MM647_Q14_8.wav\n",
      "chunks_2sec//uncomfortable/MM647_Q14_9.wav\n",
      "chunks_2sec//uncomfortable/MM647_Q14_10.wav\n",
      "chunks_2sec//uncomfortable/MM647_Q14_11.wav\n",
      "chunks_2sec//uncomfortable/MM647_Q14_12.wav\n",
      "chunks_2sec//uncomfortable/MM647_Q14_13.wav\n",
      "chunks_2sec//uncomfortable/MM647_Q14_14.wav\n",
      "chunks_2sec//uncomfortable/MM647_Q14_15.wav\n",
      "chunks_2sec//uncomfortable/MM647_Q14_16.wav\n",
      "chunks_2sec//uncomfortable/MM647_Q14_17.wav\n",
      "==============================\n",
      "file MM647_Q17.wav is loaded\n",
      "the file was biger than 1 second\n",
      "13363 zero element are added to the tail of this file \n",
      "the file is divided into 15 chunks\n",
      "list of all the chunks name  :\n",
      "chunks_2sec//uncomfortable/MM647_Q17_0.wav\n",
      "chunks_2sec//uncomfortable/MM647_Q17_1.wav\n",
      "chunks_2sec//uncomfortable/MM647_Q17_2.wav\n",
      "chunks_2sec//uncomfortable/MM647_Q17_3.wav\n",
      "chunks_2sec//uncomfortable/MM647_Q17_4.wav\n",
      "chunks_2sec//uncomfortable/MM647_Q17_5.wav\n",
      "chunks_2sec//uncomfortable/MM647_Q17_6.wav\n",
      "chunks_2sec//uncomfortable/MM647_Q17_7.wav\n",
      "chunks_2sec//uncomfortable/MM647_Q17_8.wav\n",
      "chunks_2sec//uncomfortable/MM647_Q17_9.wav\n",
      "chunks_2sec//uncomfortable/MM647_Q17_10.wav\n",
      "chunks_2sec//uncomfortable/MM647_Q17_11.wav\n",
      "chunks_2sec//uncomfortable/MM647_Q17_12.wav\n",
      "chunks_2sec//uncomfortable/MM647_Q17_13.wav\n",
      "chunks_2sec//uncomfortable/MM647_Q17_14.wav\n",
      "==============================\n",
      "file MM647_Q20_MISUNDERSTANDING.wav is loaded\n",
      "the file was biger than 1 second\n",
      "14409 zero element are added to the tail of this file \n",
      "the file is divided into 15 chunks\n",
      "list of all the chunks name  :\n",
      "chunks_2sec//uncomfortable/MM647_Q20_MISUNDERSTANDING_0.wav\n",
      "chunks_2sec//uncomfortable/MM647_Q20_MISUNDERSTANDING_1.wav\n",
      "chunks_2sec//uncomfortable/MM647_Q20_MISUNDERSTANDING_2.wav\n",
      "chunks_2sec//uncomfortable/MM647_Q20_MISUNDERSTANDING_3.wav\n",
      "chunks_2sec//uncomfortable/MM647_Q20_MISUNDERSTANDING_4.wav\n",
      "chunks_2sec//uncomfortable/MM647_Q20_MISUNDERSTANDING_5.wav\n",
      "chunks_2sec//uncomfortable/MM647_Q20_MISUNDERSTANDING_6.wav\n",
      "chunks_2sec//uncomfortable/MM647_Q20_MISUNDERSTANDING_7.wav\n",
      "chunks_2sec//uncomfortable/MM647_Q20_MISUNDERSTANDING_8.wav\n",
      "chunks_2sec//uncomfortable/MM647_Q20_MISUNDERSTANDING_9.wav\n",
      "chunks_2sec//uncomfortable/MM647_Q20_MISUNDERSTANDING_10.wav\n",
      "chunks_2sec//uncomfortable/MM647_Q20_MISUNDERSTANDING_11.wav\n",
      "chunks_2sec//uncomfortable/MM647_Q20_MISUNDERSTANDING_12.wav\n",
      "chunks_2sec//uncomfortable/MM647_Q20_MISUNDERSTANDING_13.wav\n",
      "chunks_2sec//uncomfortable/MM647_Q20_MISUNDERSTANDING_14.wav\n",
      "==============================\n",
      "file MM647_Q21.wav is loaded\n",
      "the file was biger than 1 second\n",
      "11226 zero element are added to the tail of this file \n",
      "the file is divided into 9 chunks\n",
      "list of all the chunks name  :\n",
      "chunks_2sec//uncomfortable/MM647_Q21_0.wav\n",
      "chunks_2sec//uncomfortable/MM647_Q21_1.wav\n",
      "chunks_2sec//uncomfortable/MM647_Q21_2.wav\n",
      "chunks_2sec//uncomfortable/MM647_Q21_3.wav\n",
      "chunks_2sec//uncomfortable/MM647_Q21_4.wav\n",
      "chunks_2sec//uncomfortable/MM647_Q21_5.wav\n",
      "chunks_2sec//uncomfortable/MM647_Q21_6.wav\n",
      "chunks_2sec//uncomfortable/MM647_Q21_7.wav\n",
      "chunks_2sec//uncomfortable/MM647_Q21_8.wav\n",
      "==============================\n",
      "file MM647_Q22_MISUNDERSTANDING.wav is loaded\n",
      "the file was biger than 1 second\n",
      "19502 zero element are added to the tail of this file \n",
      "the file is divided into 13 chunks\n",
      "list of all the chunks name  :\n",
      "chunks_2sec//uncomfortable/MM647_Q22_MISUNDERSTANDING_0.wav\n",
      "chunks_2sec//uncomfortable/MM647_Q22_MISUNDERSTANDING_1.wav\n",
      "chunks_2sec//uncomfortable/MM647_Q22_MISUNDERSTANDING_2.wav\n",
      "chunks_2sec//uncomfortable/MM647_Q22_MISUNDERSTANDING_3.wav\n",
      "chunks_2sec//uncomfortable/MM647_Q22_MISUNDERSTANDING_4.wav\n",
      "chunks_2sec//uncomfortable/MM647_Q22_MISUNDERSTANDING_5.wav\n",
      "chunks_2sec//uncomfortable/MM647_Q22_MISUNDERSTANDING_6.wav\n",
      "chunks_2sec//uncomfortable/MM647_Q22_MISUNDERSTANDING_7.wav\n",
      "chunks_2sec//uncomfortable/MM647_Q22_MISUNDERSTANDING_8.wav\n",
      "chunks_2sec//uncomfortable/MM647_Q22_MISUNDERSTANDING_9.wav\n",
      "chunks_2sec//uncomfortable/MM647_Q22_MISUNDERSTANDING_10.wav\n",
      "chunks_2sec//uncomfortable/MM647_Q22_MISUNDERSTANDING_11.wav\n",
      "chunks_2sec//uncomfortable/MM647_Q22_MISUNDERSTANDING_12.wav\n",
      "==============================\n",
      "file MM647_Q3_MISUNDERSTANDING.wav is loaded\n",
      "the file was biger than 1 second\n",
      "20481 zero element are added to the tail of this file \n",
      "the file is divided into 28 chunks\n",
      "list of all the chunks name  :\n",
      "chunks_2sec//uncomfortable/MM647_Q3_MISUNDERSTANDING_0.wav\n",
      "chunks_2sec//uncomfortable/MM647_Q3_MISUNDERSTANDING_1.wav\n",
      "chunks_2sec//uncomfortable/MM647_Q3_MISUNDERSTANDING_2.wav\n",
      "chunks_2sec//uncomfortable/MM647_Q3_MISUNDERSTANDING_3.wav\n",
      "chunks_2sec//uncomfortable/MM647_Q3_MISUNDERSTANDING_4.wav\n",
      "chunks_2sec//uncomfortable/MM647_Q3_MISUNDERSTANDING_5.wav\n",
      "chunks_2sec//uncomfortable/MM647_Q3_MISUNDERSTANDING_6.wav\n",
      "chunks_2sec//uncomfortable/MM647_Q3_MISUNDERSTANDING_7.wav\n",
      "chunks_2sec//uncomfortable/MM647_Q3_MISUNDERSTANDING_8.wav\n",
      "chunks_2sec//uncomfortable/MM647_Q3_MISUNDERSTANDING_9.wav\n",
      "chunks_2sec//uncomfortable/MM647_Q3_MISUNDERSTANDING_10.wav\n",
      "chunks_2sec//uncomfortable/MM647_Q3_MISUNDERSTANDING_11.wav\n",
      "chunks_2sec//uncomfortable/MM647_Q3_MISUNDERSTANDING_12.wav\n",
      "chunks_2sec//uncomfortable/MM647_Q3_MISUNDERSTANDING_13.wav\n",
      "chunks_2sec//uncomfortable/MM647_Q3_MISUNDERSTANDING_14.wav\n",
      "chunks_2sec//uncomfortable/MM647_Q3_MISUNDERSTANDING_15.wav\n",
      "chunks_2sec//uncomfortable/MM647_Q3_MISUNDERSTANDING_16.wav\n",
      "chunks_2sec//uncomfortable/MM647_Q3_MISUNDERSTANDING_17.wav\n",
      "chunks_2sec//uncomfortable/MM647_Q3_MISUNDERSTANDING_18.wav\n",
      "chunks_2sec//uncomfortable/MM647_Q3_MISUNDERSTANDING_19.wav\n",
      "chunks_2sec//uncomfortable/MM647_Q3_MISUNDERSTANDING_20.wav\n",
      "chunks_2sec//uncomfortable/MM647_Q3_MISUNDERSTANDING_21.wav\n",
      "chunks_2sec//uncomfortable/MM647_Q3_MISUNDERSTANDING_22.wav\n",
      "chunks_2sec//uncomfortable/MM647_Q3_MISUNDERSTANDING_23.wav\n",
      "chunks_2sec//uncomfortable/MM647_Q3_MISUNDERSTANDING_24.wav\n",
      "chunks_2sec//uncomfortable/MM647_Q3_MISUNDERSTANDING_25.wav\n",
      "chunks_2sec//uncomfortable/MM647_Q3_MISUNDERSTANDING_26.wav\n",
      "chunks_2sec//uncomfortable/MM647_Q3_MISUNDERSTANDING_27.wav\n",
      "==============================\n",
      "file MM647_Q9.wav is loaded\n",
      "the file was biger than 1 second\n",
      "16590 zero element are added to the tail of this file \n",
      "the file is divided into 45 chunks\n",
      "list of all the chunks name  :\n",
      "chunks_2sec//uncomfortable/MM647_Q9_0.wav\n",
      "chunks_2sec//uncomfortable/MM647_Q9_1.wav\n",
      "chunks_2sec//uncomfortable/MM647_Q9_2.wav\n",
      "chunks_2sec//uncomfortable/MM647_Q9_3.wav\n",
      "chunks_2sec//uncomfortable/MM647_Q9_4.wav\n",
      "chunks_2sec//uncomfortable/MM647_Q9_5.wav\n",
      "chunks_2sec//uncomfortable/MM647_Q9_6.wav\n",
      "chunks_2sec//uncomfortable/MM647_Q9_7.wav\n",
      "chunks_2sec//uncomfortable/MM647_Q9_8.wav\n",
      "chunks_2sec//uncomfortable/MM647_Q9_9.wav\n",
      "chunks_2sec//uncomfortable/MM647_Q9_10.wav\n",
      "chunks_2sec//uncomfortable/MM647_Q9_11.wav\n",
      "chunks_2sec//uncomfortable/MM647_Q9_12.wav\n",
      "chunks_2sec//uncomfortable/MM647_Q9_13.wav\n"
     ]
    },
    {
     "name": "stdout",
     "output_type": "stream",
     "text": [
      "chunks_2sec//uncomfortable/MM647_Q9_14.wav\n",
      "chunks_2sec//uncomfortable/MM647_Q9_15.wav\n",
      "chunks_2sec//uncomfortable/MM647_Q9_16.wav\n",
      "chunks_2sec//uncomfortable/MM647_Q9_17.wav\n",
      "chunks_2sec//uncomfortable/MM647_Q9_18.wav\n",
      "chunks_2sec//uncomfortable/MM647_Q9_19.wav\n",
      "chunks_2sec//uncomfortable/MM647_Q9_20.wav\n",
      "chunks_2sec//uncomfortable/MM647_Q9_21.wav\n",
      "chunks_2sec//uncomfortable/MM647_Q9_22.wav\n",
      "chunks_2sec//uncomfortable/MM647_Q9_23.wav\n",
      "chunks_2sec//uncomfortable/MM647_Q9_24.wav\n",
      "chunks_2sec//uncomfortable/MM647_Q9_25.wav\n",
      "chunks_2sec//uncomfortable/MM647_Q9_26.wav\n",
      "chunks_2sec//uncomfortable/MM647_Q9_27.wav\n",
      "chunks_2sec//uncomfortable/MM647_Q9_28.wav\n",
      "chunks_2sec//uncomfortable/MM647_Q9_29.wav\n",
      "chunks_2sec//uncomfortable/MM647_Q9_30.wav\n",
      "chunks_2sec//uncomfortable/MM647_Q9_31.wav\n",
      "chunks_2sec//uncomfortable/MM647_Q9_32.wav\n",
      "chunks_2sec//uncomfortable/MM647_Q9_33.wav\n",
      "chunks_2sec//uncomfortable/MM647_Q9_34.wav\n",
      "chunks_2sec//uncomfortable/MM647_Q9_35.wav\n",
      "chunks_2sec//uncomfortable/MM647_Q9_36.wav\n",
      "chunks_2sec//uncomfortable/MM647_Q9_37.wav\n",
      "chunks_2sec//uncomfortable/MM647_Q9_38.wav\n",
      "chunks_2sec//uncomfortable/MM647_Q9_39.wav\n",
      "chunks_2sec//uncomfortable/MM647_Q9_40.wav\n",
      "chunks_2sec//uncomfortable/MM647_Q9_41.wav\n",
      "chunks_2sec//uncomfortable/MM647_Q9_42.wav\n",
      "chunks_2sec//uncomfortable/MM647_Q9_43.wav\n",
      "chunks_2sec//uncomfortable/MM647_Q9_44.wav\n",
      "==============================\n",
      "file MP959_Q10.wav is loaded\n",
      "the file was biger than 1 second\n",
      "7452 zero element are added to the tail of this file \n",
      "the file is divided into 2 chunks\n",
      "list of all the chunks name  :\n",
      "chunks_2sec//uncomfortable/MP959_Q10_0.wav\n",
      "chunks_2sec//uncomfortable/MP959_Q10_1.wav\n",
      "==============================\n",
      "file MP959_Q12.wav is loaded\n",
      "the file was biger than 1 second\n",
      "7720 zero element are added to the tail of this file \n",
      "the file is divided into 5 chunks\n",
      "list of all the chunks name  :\n",
      "chunks_2sec//uncomfortable/MP959_Q12_0.wav\n",
      "chunks_2sec//uncomfortable/MP959_Q12_1.wav\n",
      "chunks_2sec//uncomfortable/MP959_Q12_2.wav\n",
      "chunks_2sec//uncomfortable/MP959_Q12_3.wav\n",
      "chunks_2sec//uncomfortable/MP959_Q12_4.wav\n",
      "==============================\n",
      "file MP959_Q17.wav is loaded\n",
      "the file was biger than 1 second\n",
      "2541 zero element are added to the tail of this file \n",
      "the file is divided into 8 chunks\n",
      "list of all the chunks name  :\n",
      "chunks_2sec//uncomfortable/MP959_Q17_0.wav\n",
      "chunks_2sec//uncomfortable/MP959_Q17_1.wav\n",
      "chunks_2sec//uncomfortable/MP959_Q17_2.wav\n",
      "chunks_2sec//uncomfortable/MP959_Q17_3.wav\n",
      "chunks_2sec//uncomfortable/MP959_Q17_4.wav\n",
      "chunks_2sec//uncomfortable/MP959_Q17_5.wav\n",
      "chunks_2sec//uncomfortable/MP959_Q17_6.wav\n",
      "chunks_2sec//uncomfortable/MP959_Q17_7.wav\n",
      "==============================\n",
      "file MP959_Q18.wav is loaded\n",
      "the file was biger than 1 second\n",
      "16775 zero element are added to the tail of this file \n",
      "the file is divided into 17 chunks\n",
      "list of all the chunks name  :\n",
      "chunks_2sec//uncomfortable/MP959_Q18_0.wav\n",
      "chunks_2sec//uncomfortable/MP959_Q18_1.wav\n",
      "chunks_2sec//uncomfortable/MP959_Q18_2.wav\n",
      "chunks_2sec//uncomfortable/MP959_Q18_3.wav\n",
      "chunks_2sec//uncomfortable/MP959_Q18_4.wav\n",
      "chunks_2sec//uncomfortable/MP959_Q18_5.wav\n",
      "chunks_2sec//uncomfortable/MP959_Q18_6.wav\n",
      "chunks_2sec//uncomfortable/MP959_Q18_7.wav\n",
      "chunks_2sec//uncomfortable/MP959_Q18_8.wav\n",
      "chunks_2sec//uncomfortable/MP959_Q18_9.wav\n",
      "chunks_2sec//uncomfortable/MP959_Q18_10.wav\n",
      "chunks_2sec//uncomfortable/MP959_Q18_11.wav\n",
      "chunks_2sec//uncomfortable/MP959_Q18_12.wav\n",
      "chunks_2sec//uncomfortable/MP959_Q18_13.wav\n",
      "chunks_2sec//uncomfortable/MP959_Q18_14.wav\n",
      "chunks_2sec//uncomfortable/MP959_Q18_15.wav\n",
      "chunks_2sec//uncomfortable/MP959_Q18_16.wav\n",
      "==============================\n",
      "file MP959_Q23.wav is loaded\n",
      "the file was biger than 1 second\n",
      "1603 zero element are added to the tail of this file \n",
      "the file is divided into 3 chunks\n",
      "list of all the chunks name  :\n",
      "chunks_2sec//uncomfortable/MP959_Q23_0.wav\n",
      "chunks_2sec//uncomfortable/MP959_Q23_1.wav\n",
      "chunks_2sec//uncomfortable/MP959_Q23_2.wav\n",
      "==============================\n",
      "file MP959_Q24.wav is loaded\n",
      "\u001b[31mthe file was less than 1 second\u001b[0m\n",
      "==============================\n",
      "file MS090_Q11.wav is loaded\n",
      "the file was biger than 1 second\n",
      "13508 zero element are added to the tail of this file \n",
      "the file is divided into 5 chunks\n",
      "list of all the chunks name  :\n",
      "chunks_2sec//uncomfortable/MS090_Q11_0.wav\n",
      "chunks_2sec//uncomfortable/MS090_Q11_1.wav\n",
      "chunks_2sec//uncomfortable/MS090_Q11_2.wav\n",
      "chunks_2sec//uncomfortable/MS090_Q11_3.wav\n",
      "chunks_2sec//uncomfortable/MS090_Q11_4.wav\n",
      "==============================\n",
      "file MS090_Q14.wav is loaded\n",
      "the file was biger than 1 second\n",
      "22050 zero element are added to the tail of this file \n",
      "the file is divided into 22 chunks\n",
      "list of all the chunks name  :\n",
      "chunks_2sec//uncomfortable/MS090_Q14_0.wav\n",
      "chunks_2sec//uncomfortable/MS090_Q14_1.wav\n",
      "chunks_2sec//uncomfortable/MS090_Q14_2.wav\n",
      "chunks_2sec//uncomfortable/MS090_Q14_3.wav\n",
      "chunks_2sec//uncomfortable/MS090_Q14_4.wav\n",
      "chunks_2sec//uncomfortable/MS090_Q14_5.wav\n",
      "chunks_2sec//uncomfortable/MS090_Q14_6.wav\n",
      "chunks_2sec//uncomfortable/MS090_Q14_7.wav\n",
      "chunks_2sec//uncomfortable/MS090_Q14_8.wav\n",
      "chunks_2sec//uncomfortable/MS090_Q14_9.wav\n",
      "chunks_2sec//uncomfortable/MS090_Q14_10.wav\n",
      "chunks_2sec//uncomfortable/MS090_Q14_11.wav\n",
      "chunks_2sec//uncomfortable/MS090_Q14_12.wav\n",
      "chunks_2sec//uncomfortable/MS090_Q14_13.wav\n",
      "chunks_2sec//uncomfortable/MS090_Q14_14.wav\n",
      "chunks_2sec//uncomfortable/MS090_Q14_15.wav\n",
      "chunks_2sec//uncomfortable/MS090_Q14_16.wav\n",
      "chunks_2sec//uncomfortable/MS090_Q14_17.wav\n",
      "chunks_2sec//uncomfortable/MS090_Q14_18.wav\n",
      "chunks_2sec//uncomfortable/MS090_Q14_19.wav\n",
      "chunks_2sec//uncomfortable/MS090_Q14_20.wav\n",
      "==============================\n",
      "file MS090_Q16.wav is loaded\n",
      "the file was biger than 1 second\n",
      "2295 zero element are added to the tail of this file \n",
      "the file is divided into 30 chunks\n",
      "list of all the chunks name  :\n",
      "chunks_2sec//uncomfortable/MS090_Q16_0.wav\n",
      "chunks_2sec//uncomfortable/MS090_Q16_1.wav\n",
      "chunks_2sec//uncomfortable/MS090_Q16_2.wav\n",
      "chunks_2sec//uncomfortable/MS090_Q16_3.wav\n",
      "chunks_2sec//uncomfortable/MS090_Q16_4.wav\n",
      "chunks_2sec//uncomfortable/MS090_Q16_5.wav\n",
      "chunks_2sec//uncomfortable/MS090_Q16_6.wav\n",
      "chunks_2sec//uncomfortable/MS090_Q16_7.wav\n",
      "chunks_2sec//uncomfortable/MS090_Q16_8.wav\n",
      "chunks_2sec//uncomfortable/MS090_Q16_9.wav\n",
      "chunks_2sec//uncomfortable/MS090_Q16_10.wav\n",
      "chunks_2sec//uncomfortable/MS090_Q16_11.wav\n",
      "chunks_2sec//uncomfortable/MS090_Q16_12.wav\n",
      "chunks_2sec//uncomfortable/MS090_Q16_13.wav\n",
      "chunks_2sec//uncomfortable/MS090_Q16_14.wav\n",
      "chunks_2sec//uncomfortable/MS090_Q16_15.wav\n",
      "chunks_2sec//uncomfortable/MS090_Q16_16.wav\n",
      "chunks_2sec//uncomfortable/MS090_Q16_17.wav\n",
      "chunks_2sec//uncomfortable/MS090_Q16_18.wav\n",
      "chunks_2sec//uncomfortable/MS090_Q16_19.wav\n",
      "chunks_2sec//uncomfortable/MS090_Q16_20.wav\n",
      "chunks_2sec//uncomfortable/MS090_Q16_21.wav\n",
      "chunks_2sec//uncomfortable/MS090_Q16_22.wav\n",
      "chunks_2sec//uncomfortable/MS090_Q16_23.wav\n",
      "chunks_2sec//uncomfortable/MS090_Q16_24.wav\n",
      "chunks_2sec//uncomfortable/MS090_Q16_25.wav\n",
      "chunks_2sec//uncomfortable/MS090_Q16_26.wav\n",
      "chunks_2sec//uncomfortable/MS090_Q16_27.wav\n",
      "chunks_2sec//uncomfortable/MS090_Q16_28.wav\n",
      "chunks_2sec//uncomfortable/MS090_Q16_29.wav\n",
      "==============================\n",
      "file MS090_Q17.wav is loaded\n",
      "the file was biger than 1 second\n",
      "18215 zero element are added to the tail of this file \n",
      "the file is divided into 17 chunks\n",
      "list of all the chunks name  :\n",
      "chunks_2sec//uncomfortable/MS090_Q17_0.wav\n",
      "chunks_2sec//uncomfortable/MS090_Q17_1.wav\n",
      "chunks_2sec//uncomfortable/MS090_Q17_2.wav\n",
      "chunks_2sec//uncomfortable/MS090_Q17_3.wav\n",
      "chunks_2sec//uncomfortable/MS090_Q17_4.wav\n",
      "chunks_2sec//uncomfortable/MS090_Q17_5.wav\n",
      "chunks_2sec//uncomfortable/MS090_Q17_6.wav\n",
      "chunks_2sec//uncomfortable/MS090_Q17_7.wav\n",
      "chunks_2sec//uncomfortable/MS090_Q17_8.wav\n",
      "chunks_2sec//uncomfortable/MS090_Q17_9.wav\n",
      "chunks_2sec//uncomfortable/MS090_Q17_10.wav\n",
      "chunks_2sec//uncomfortable/MS090_Q17_11.wav\n",
      "chunks_2sec//uncomfortable/MS090_Q17_12.wav\n",
      "chunks_2sec//uncomfortable/MS090_Q17_13.wav\n",
      "chunks_2sec//uncomfortable/MS090_Q17_14.wav\n",
      "chunks_2sec//uncomfortable/MS090_Q17_15.wav\n",
      "chunks_2sec//uncomfortable/MS090_Q17_16.wav\n",
      "==============================\n",
      "file MS090_Q18.wav is loaded\n",
      "the file was biger than 1 second\n",
      "16501 zero element are added to the tail of this file \n",
      "the file is divided into 34 chunks\n",
      "list of all the chunks name  :\n",
      "chunks_2sec//uncomfortable/MS090_Q18_0.wav\n",
      "chunks_2sec//uncomfortable/MS090_Q18_1.wav\n",
      "chunks_2sec//uncomfortable/MS090_Q18_2.wav\n",
      "chunks_2sec//uncomfortable/MS090_Q18_3.wav\n"
     ]
    },
    {
     "name": "stdout",
     "output_type": "stream",
     "text": [
      "chunks_2sec//uncomfortable/MS090_Q18_4.wav\n",
      "chunks_2sec//uncomfortable/MS090_Q18_5.wav\n",
      "chunks_2sec//uncomfortable/MS090_Q18_6.wav\n",
      "chunks_2sec//uncomfortable/MS090_Q18_7.wav\n",
      "chunks_2sec//uncomfortable/MS090_Q18_8.wav\n",
      "chunks_2sec//uncomfortable/MS090_Q18_9.wav\n",
      "chunks_2sec//uncomfortable/MS090_Q18_10.wav\n",
      "chunks_2sec//uncomfortable/MS090_Q18_11.wav\n",
      "chunks_2sec//uncomfortable/MS090_Q18_12.wav\n",
      "chunks_2sec//uncomfortable/MS090_Q18_13.wav\n",
      "chunks_2sec//uncomfortable/MS090_Q18_14.wav\n",
      "chunks_2sec//uncomfortable/MS090_Q18_15.wav\n",
      "chunks_2sec//uncomfortable/MS090_Q18_16.wav\n",
      "chunks_2sec//uncomfortable/MS090_Q18_17.wav\n",
      "chunks_2sec//uncomfortable/MS090_Q18_18.wav\n",
      "chunks_2sec//uncomfortable/MS090_Q18_19.wav\n",
      "chunks_2sec//uncomfortable/MS090_Q18_20.wav\n",
      "chunks_2sec//uncomfortable/MS090_Q18_21.wav\n",
      "chunks_2sec//uncomfortable/MS090_Q18_22.wav\n",
      "chunks_2sec//uncomfortable/MS090_Q18_23.wav\n",
      "chunks_2sec//uncomfortable/MS090_Q18_24.wav\n",
      "chunks_2sec//uncomfortable/MS090_Q18_25.wav\n",
      "chunks_2sec//uncomfortable/MS090_Q18_26.wav\n",
      "chunks_2sec//uncomfortable/MS090_Q18_27.wav\n",
      "chunks_2sec//uncomfortable/MS090_Q18_28.wav\n",
      "chunks_2sec//uncomfortable/MS090_Q18_29.wav\n",
      "chunks_2sec//uncomfortable/MS090_Q18_30.wav\n",
      "chunks_2sec//uncomfortable/MS090_Q18_31.wav\n",
      "chunks_2sec//uncomfortable/MS090_Q18_32.wav\n",
      "chunks_2sec//uncomfortable/MS090_Q18_33.wav\n",
      "==============================\n",
      "file MS090_Q21.wav is loaded\n",
      "the file was biger than 1 second\n",
      "16995 zero element are added to the tail of this file \n",
      "the file is divided into 7 chunks\n",
      "list of all the chunks name  :\n",
      "chunks_2sec//uncomfortable/MS090_Q21_0.wav\n",
      "chunks_2sec//uncomfortable/MS090_Q21_1.wav\n",
      "chunks_2sec//uncomfortable/MS090_Q21_2.wav\n",
      "chunks_2sec//uncomfortable/MS090_Q21_3.wav\n",
      "chunks_2sec//uncomfortable/MS090_Q21_4.wav\n",
      "chunks_2sec//uncomfortable/MS090_Q21_5.wav\n",
      "chunks_2sec//uncomfortable/MS090_Q21_6.wav\n",
      "==============================\n",
      "file MS090_Q22.wav is loaded\n",
      "the file was biger than 1 second\n",
      "16297 zero element are added to the tail of this file \n",
      "the file is divided into 3 chunks\n",
      "list of all the chunks name  :\n",
      "chunks_2sec//uncomfortable/MS090_Q22_0.wav\n",
      "chunks_2sec//uncomfortable/MS090_Q22_1.wav\n",
      "chunks_2sec//uncomfortable/MS090_Q22_2.wav\n",
      "==============================\n",
      "file MS090_Q23.wav is loaded\n",
      "the file was biger than 1 second\n",
      "5229 zero element are added to the tail of this file \n",
      "the file is divided into 5 chunks\n",
      "list of all the chunks name  :\n",
      "chunks_2sec//uncomfortable/MS090_Q23_0.wav\n",
      "chunks_2sec//uncomfortable/MS090_Q23_1.wav\n",
      "chunks_2sec//uncomfortable/MS090_Q23_2.wav\n",
      "chunks_2sec//uncomfortable/MS090_Q23_3.wav\n",
      "chunks_2sec//uncomfortable/MS090_Q23_4.wav\n",
      "==============================\n",
      "file NP413_Q18.wav is loaded\n",
      "the file was biger than 1 second\n",
      "8419 zero element are added to the tail of this file \n",
      "the file is divided into 26 chunks\n",
      "list of all the chunks name  :\n",
      "chunks_2sec//uncomfortable/NP413_Q18_0.wav\n",
      "chunks_2sec//uncomfortable/NP413_Q18_1.wav\n",
      "chunks_2sec//uncomfortable/NP413_Q18_2.wav\n",
      "chunks_2sec//uncomfortable/NP413_Q18_3.wav\n",
      "chunks_2sec//uncomfortable/NP413_Q18_4.wav\n",
      "chunks_2sec//uncomfortable/NP413_Q18_5.wav\n",
      "chunks_2sec//uncomfortable/NP413_Q18_6.wav\n",
      "chunks_2sec//uncomfortable/NP413_Q18_7.wav\n",
      "chunks_2sec//uncomfortable/NP413_Q18_8.wav\n",
      "chunks_2sec//uncomfortable/NP413_Q18_9.wav\n",
      "chunks_2sec//uncomfortable/NP413_Q18_10.wav\n",
      "chunks_2sec//uncomfortable/NP413_Q18_11.wav\n",
      "chunks_2sec//uncomfortable/NP413_Q18_12.wav\n",
      "chunks_2sec//uncomfortable/NP413_Q18_13.wav\n",
      "chunks_2sec//uncomfortable/NP413_Q18_14.wav\n",
      "chunks_2sec//uncomfortable/NP413_Q18_15.wav\n",
      "chunks_2sec//uncomfortable/NP413_Q18_16.wav\n",
      "chunks_2sec//uncomfortable/NP413_Q18_17.wav\n",
      "chunks_2sec//uncomfortable/NP413_Q18_18.wav\n",
      "chunks_2sec//uncomfortable/NP413_Q18_19.wav\n",
      "chunks_2sec//uncomfortable/NP413_Q18_20.wav\n",
      "chunks_2sec//uncomfortable/NP413_Q18_21.wav\n",
      "chunks_2sec//uncomfortable/NP413_Q18_22.wav\n",
      "chunks_2sec//uncomfortable/NP413_Q18_23.wav\n",
      "chunks_2sec//uncomfortable/NP413_Q18_24.wav\n",
      "chunks_2sec//uncomfortable/NP413_Q18_25.wav\n",
      "==============================\n",
      "file PA478_Q17.wav is loaded\n",
      "the file was biger than 1 second\n",
      "5626 zero element are added to the tail of this file \n",
      "the file is divided into 2 chunks\n",
      "list of all the chunks name  :\n",
      "chunks_2sec//uncomfortable/PA478_Q17_0.wav\n",
      "chunks_2sec//uncomfortable/PA478_Q17_1.wav\n",
      "==============================\n",
      "file PA478_Q18.wav is loaded\n",
      "the file was biger than 1 second\n",
      "1583 zero element are added to the tail of this file \n",
      "the file is divided into 11 chunks\n",
      "list of all the chunks name  :\n",
      "chunks_2sec//uncomfortable/PA478_Q18_0.wav\n",
      "chunks_2sec//uncomfortable/PA478_Q18_1.wav\n",
      "chunks_2sec//uncomfortable/PA478_Q18_2.wav\n",
      "chunks_2sec//uncomfortable/PA478_Q18_3.wav\n",
      "chunks_2sec//uncomfortable/PA478_Q18_4.wav\n",
      "chunks_2sec//uncomfortable/PA478_Q18_5.wav\n",
      "chunks_2sec//uncomfortable/PA478_Q18_6.wav\n",
      "chunks_2sec//uncomfortable/PA478_Q18_7.wav\n",
      "chunks_2sec//uncomfortable/PA478_Q18_8.wav\n",
      "chunks_2sec//uncomfortable/PA478_Q18_9.wav\n",
      "chunks_2sec//uncomfortable/PA478_Q18_10.wav\n",
      "==============================\n",
      "file SA406_Q13.wav is loaded\n",
      "the file was biger than 1 second\n",
      "6858 zero element are added to the tail of this file \n",
      "the file is divided into 5 chunks\n",
      "list of all the chunks name  :\n",
      "chunks_2sec//uncomfortable/SA406_Q13_0.wav\n",
      "chunks_2sec//uncomfortable/SA406_Q13_1.wav\n",
      "chunks_2sec//uncomfortable/SA406_Q13_2.wav\n",
      "chunks_2sec//uncomfortable/SA406_Q13_3.wav\n",
      "chunks_2sec//uncomfortable/SA406_Q13_4.wav\n",
      "==============================\n",
      "file SA406_Q14.wav is loaded\n",
      "the file was biger than 1 second\n",
      "13683 zero element are added to the tail of this file \n",
      "the file is divided into 7 chunks\n",
      "list of all the chunks name  :\n",
      "chunks_2sec//uncomfortable/SA406_Q14_0.wav\n",
      "chunks_2sec//uncomfortable/SA406_Q14_1.wav\n",
      "chunks_2sec//uncomfortable/SA406_Q14_2.wav\n",
      "chunks_2sec//uncomfortable/SA406_Q14_3.wav\n",
      "chunks_2sec//uncomfortable/SA406_Q14_4.wav\n",
      "chunks_2sec//uncomfortable/SA406_Q14_5.wav\n",
      "chunks_2sec//uncomfortable/SA406_Q14_6.wav\n",
      "==============================\n",
      "file SA406_Q17.wav is loaded\n",
      "\u001b[31mthe file was less than 1 second\u001b[0m\n",
      "==============================\n",
      "file SA406_Q18.wav is loaded\n",
      "the file was biger than 1 second\n",
      "19884 zero element are added to the tail of this file \n",
      "the file is divided into 19 chunks\n",
      "list of all the chunks name  :\n",
      "chunks_2sec//uncomfortable/SA406_Q18_0.wav\n",
      "chunks_2sec//uncomfortable/SA406_Q18_1.wav\n",
      "chunks_2sec//uncomfortable/SA406_Q18_2.wav\n",
      "chunks_2sec//uncomfortable/SA406_Q18_3.wav\n",
      "chunks_2sec//uncomfortable/SA406_Q18_4.wav\n",
      "chunks_2sec//uncomfortable/SA406_Q18_5.wav\n",
      "chunks_2sec//uncomfortable/SA406_Q18_6.wav\n",
      "chunks_2sec//uncomfortable/SA406_Q18_7.wav\n",
      "chunks_2sec//uncomfortable/SA406_Q18_8.wav\n",
      "chunks_2sec//uncomfortable/SA406_Q18_9.wav\n",
      "chunks_2sec//uncomfortable/SA406_Q18_10.wav\n",
      "chunks_2sec//uncomfortable/SA406_Q18_11.wav\n",
      "chunks_2sec//uncomfortable/SA406_Q18_12.wav\n",
      "chunks_2sec//uncomfortable/SA406_Q18_13.wav\n",
      "chunks_2sec//uncomfortable/SA406_Q18_14.wav\n",
      "chunks_2sec//uncomfortable/SA406_Q18_15.wav\n",
      "chunks_2sec//uncomfortable/SA406_Q18_16.wav\n",
      "chunks_2sec//uncomfortable/SA406_Q18_17.wav\n",
      "chunks_2sec//uncomfortable/SA406_Q18_18.wav\n",
      "==============================\n",
      "file SA406_Q22.wav is loaded\n",
      "the file was biger than 1 second\n",
      "11417 zero element are added to the tail of this file \n",
      "the file is divided into 4 chunks\n",
      "list of all the chunks name  :\n",
      "chunks_2sec//uncomfortable/SA406_Q22_0.wav\n",
      "chunks_2sec//uncomfortable/SA406_Q22_1.wav\n",
      "chunks_2sec//uncomfortable/SA406_Q22_2.wav\n",
      "chunks_2sec//uncomfortable/SA406_Q22_3.wav\n",
      "==============================\n",
      "file SE289_Q21.wav is loaded\n",
      "the file was biger than 1 second\n",
      "3850 zero element are added to the tail of this file \n",
      "the file is divided into 20 chunks\n",
      "list of all the chunks name  :\n",
      "chunks_2sec//uncomfortable/SE289_Q21_0.wav\n",
      "chunks_2sec//uncomfortable/SE289_Q21_1.wav\n",
      "chunks_2sec//uncomfortable/SE289_Q21_2.wav\n",
      "chunks_2sec//uncomfortable/SE289_Q21_3.wav\n",
      "chunks_2sec//uncomfortable/SE289_Q21_4.wav\n",
      "chunks_2sec//uncomfortable/SE289_Q21_5.wav\n",
      "chunks_2sec//uncomfortable/SE289_Q21_6.wav\n",
      "chunks_2sec//uncomfortable/SE289_Q21_7.wav\n",
      "chunks_2sec//uncomfortable/SE289_Q21_8.wav\n",
      "chunks_2sec//uncomfortable/SE289_Q21_9.wav\n",
      "chunks_2sec//uncomfortable/SE289_Q21_10.wav\n",
      "chunks_2sec//uncomfortable/SE289_Q21_11.wav\n",
      "chunks_2sec//uncomfortable/SE289_Q21_12.wav\n",
      "chunks_2sec//uncomfortable/SE289_Q21_13.wav\n",
      "chunks_2sec//uncomfortable/SE289_Q21_14.wav\n",
      "chunks_2sec//uncomfortable/SE289_Q21_15.wav\n"
     ]
    },
    {
     "name": "stdout",
     "output_type": "stream",
     "text": [
      "chunks_2sec//uncomfortable/SE289_Q21_16.wav\n",
      "chunks_2sec//uncomfortable/SE289_Q21_17.wav\n",
      "chunks_2sec//uncomfortable/SE289_Q21_18.wav\n",
      "chunks_2sec//uncomfortable/SE289_Q21_19.wav\n",
      "==============================\n",
      "file SS821_Q10.wav is loaded\n",
      "the file was biger than 1 second\n",
      "9424 zero element are added to the tail of this file \n",
      "the file is divided into 6 chunks\n",
      "list of all the chunks name  :\n",
      "chunks_2sec//uncomfortable/SS821_Q10_0.wav\n",
      "chunks_2sec//uncomfortable/SS821_Q10_1.wav\n",
      "chunks_2sec//uncomfortable/SS821_Q10_2.wav\n",
      "chunks_2sec//uncomfortable/SS821_Q10_3.wav\n",
      "chunks_2sec//uncomfortable/SS821_Q10_4.wav\n",
      "chunks_2sec//uncomfortable/SS821_Q10_5.wav\n",
      "==============================\n",
      "file SS821_Q15.wav is loaded\n",
      "the file was biger than 1 second\n",
      "10000 zero element are added to the tail of this file \n",
      "the file is divided into 2 chunks\n",
      "list of all the chunks name  :\n",
      "chunks_2sec//uncomfortable/SS821_Q15_0.wav\n",
      "chunks_2sec//uncomfortable/SS821_Q15_1.wav\n",
      "==============================\n",
      "file SS821_Q17.wav is loaded\n",
      "the file was biger than 1 second\n",
      "9348 zero element are added to the tail of this file \n",
      "the file is divided into 4 chunks\n",
      "list of all the chunks name  :\n",
      "chunks_2sec//uncomfortable/SS821_Q17_0.wav\n",
      "chunks_2sec//uncomfortable/SS821_Q17_1.wav\n",
      "chunks_2sec//uncomfortable/SS821_Q17_2.wav\n",
      "chunks_2sec//uncomfortable/SS821_Q17_3.wav\n",
      "==============================\n",
      "file SS821_Q18.wav is loaded\n",
      "the file was biger than 1 second\n",
      "4942 zero element are added to the tail of this file \n",
      "the file is divided into 15 chunks\n",
      "list of all the chunks name  :\n",
      "chunks_2sec//uncomfortable/SS821_Q18_0.wav\n",
      "chunks_2sec//uncomfortable/SS821_Q18_1.wav\n",
      "chunks_2sec//uncomfortable/SS821_Q18_2.wav\n",
      "chunks_2sec//uncomfortable/SS821_Q18_3.wav\n",
      "chunks_2sec//uncomfortable/SS821_Q18_4.wav\n",
      "chunks_2sec//uncomfortable/SS821_Q18_5.wav\n",
      "chunks_2sec//uncomfortable/SS821_Q18_6.wav\n",
      "chunks_2sec//uncomfortable/SS821_Q18_7.wav\n",
      "chunks_2sec//uncomfortable/SS821_Q18_8.wav\n",
      "chunks_2sec//uncomfortable/SS821_Q18_9.wav\n",
      "chunks_2sec//uncomfortable/SS821_Q18_10.wav\n",
      "chunks_2sec//uncomfortable/SS821_Q18_11.wav\n",
      "chunks_2sec//uncomfortable/SS821_Q18_12.wav\n",
      "chunks_2sec//uncomfortable/SS821_Q18_13.wav\n",
      "chunks_2sec//uncomfortable/SS821_Q18_14.wav\n",
      "==============================\n",
      "file SS821_Q22.wav is loaded\n",
      "the file was biger than 1 second\n",
      "16264 zero element are added to the tail of this file \n",
      "the file is divided into 9 chunks\n",
      "list of all the chunks name  :\n",
      "chunks_2sec//uncomfortable/SS821_Q22_0.wav\n",
      "chunks_2sec//uncomfortable/SS821_Q22_1.wav\n",
      "chunks_2sec//uncomfortable/SS821_Q22_2.wav\n",
      "chunks_2sec//uncomfortable/SS821_Q22_3.wav\n",
      "chunks_2sec//uncomfortable/SS821_Q22_4.wav\n",
      "chunks_2sec//uncomfortable/SS821_Q22_5.wav\n",
      "chunks_2sec//uncomfortable/SS821_Q22_6.wav\n",
      "chunks_2sec//uncomfortable/SS821_Q22_7.wav\n",
      "chunks_2sec//uncomfortable/SS821_Q22_8.wav\n"
     ]
    }
   ],
   "source": [
    "chunks_2sec('nonoise/','chunks_2sec/')"
   ]
  },
  {
   "cell_type": "code",
   "execution_count": 9,
   "id": "c569660a",
   "metadata": {},
   "outputs": [],
   "source": [
    "\n",
    "# for chunking the data into 7 second clips \n",
    "def chunks_7sec(path, savepath):\n",
    "    for root, dirs, files in os.walk(path):\n",
    "         for filename in files:\n",
    "#                 print(filename[:-3])\n",
    "\n",
    "            file_path = os.path.join(root, filename)  \n",
    "            audio, sr = librosa.load(file_path,sr=22050)\n",
    "            print('==============================')\n",
    "            print('file '+filename +' is loaded')      \n",
    "            samples_total = len(audio)\n",
    "            seven_sec = 7*sr\n",
    "            if ( samples_total > seven_sec ):\n",
    "                    \n",
    "                    print('the file was biger than 7  second')\n",
    "                    need=0\n",
    "                    need =seven_sec - (samples_total % seven_sec)\n",
    "                    size = need + samples_total \n",
    "#                     if size % seven_sec !=0 : size = size + sr  ## add a second \n",
    "                    audio= librosa.util.fix_length(audio, size=size)\n",
    "                    shift_steps = np.floor(need//2)\n",
    "                    int_steps= shift_steps.astype(int)\n",
    "                    audio = shift(audio, int_steps, 0)\n",
    "                    print(str(need) + ' zero element are added to the tail of this file ')\n",
    "                    chunks_number= len(audio) // seven_sec\n",
    "                    print('the file is divided into ' +str(chunks_number) +' chunks' )\n",
    "                    print('list of all the chunks name  :')\n",
    "                    for x in range (0,samples_total,seven_sec) :\n",
    "                        end = x+seven_sec\n",
    "                        new_audio=[]\n",
    "                        new_audio=audio[x:end] \n",
    "                        new_path=savepath+root[7:]+'/'\n",
    "                        new_file_name=new_path+filename[:-4]+'_'+str(x//seven_sec)+'.wav'\n",
    "                        print(new_file_name)\n",
    "                        sf.write(new_file_name, new_audio, sr)\n",
    "            else :  \n",
    "                \n",
    "                    need =seven_sec  - (samples_total % seven_sec)\n",
    "                    size = samples_total +need \n",
    "                    audio= librosa.util.fix_length(audio, size=size)\n",
    "                    shift_steps = np.floor(need // 2)\n",
    "                    int_steps= shift_steps.astype(int)\n",
    "                    audio = shift(audio, int_steps, 0)\n",
    "                    print(colored('the file was less than 1 second','red'))\n",
    "                    new_path=savepath+root[8:]+'/'\n",
    "                    new_file_name=new_path+filename[:-4]+'.wav'\n",
    "                    sf.write(new_file_name, audio, sr)"
   ]
  },
  {
   "cell_type": "code",
   "execution_count": 10,
   "id": "652b043d",
   "metadata": {},
   "outputs": [
    {
     "name": "stdout",
     "output_type": "stream",
     "text": [
      "==============================\n",
      "file AA713_Q1.wav is loaded\n",
      "\u001b[31mthe file was less than 1 second\u001b[0m\n",
      "==============================\n",
      "file AA713_Q14.wav is loaded\n",
      "the file was biger than 7  second\n",
      "80612 zero element are added to the tail of this file \n",
      "the file is divided into 5 chunks\n",
      "list of all the chunks name  :\n",
      "chunks_7sec//comfortable/AA713_Q14_0.wav\n",
      "chunks_7sec//comfortable/AA713_Q14_1.wav\n",
      "chunks_7sec//comfortable/AA713_Q14_2.wav\n",
      "chunks_7sec//comfortable/AA713_Q14_3.wav\n",
      "chunks_7sec//comfortable/AA713_Q14_4.wav\n",
      "==============================\n",
      "file AA713_Q16.wav is loaded\n",
      "the file was biger than 7  second\n",
      "119893 zero element are added to the tail of this file \n",
      "the file is divided into 6 chunks\n",
      "list of all the chunks name  :\n",
      "chunks_7sec//comfortable/AA713_Q16_0.wav\n",
      "chunks_7sec//comfortable/AA713_Q16_1.wav\n",
      "chunks_7sec//comfortable/AA713_Q16_2.wav\n",
      "chunks_7sec//comfortable/AA713_Q16_3.wav\n",
      "chunks_7sec//comfortable/AA713_Q16_4.wav\n",
      "chunks_7sec//comfortable/AA713_Q16_5.wav\n",
      "==============================\n",
      "file AA713_Q17.wav is loaded\n",
      "\u001b[31mthe file was less than 1 second\u001b[0m\n",
      "==============================\n",
      "file AA713_Q19.wav is loaded\n",
      "the file was biger than 7  second\n",
      "90463 zero element are added to the tail of this file \n",
      "the file is divided into 3 chunks\n",
      "list of all the chunks name  :\n",
      "chunks_7sec//comfortable/AA713_Q19_0.wav\n",
      "chunks_7sec//comfortable/AA713_Q19_1.wav\n",
      "chunks_7sec//comfortable/AA713_Q19_2.wav\n",
      "==============================\n",
      "file AA713_Q21.wav is loaded\n",
      "the file was biger than 7  second\n",
      "66436 zero element are added to the tail of this file \n",
      "the file is divided into 8 chunks\n",
      "list of all the chunks name  :\n",
      "chunks_7sec//comfortable/AA713_Q21_0.wav\n",
      "chunks_7sec//comfortable/AA713_Q21_1.wav\n",
      "chunks_7sec//comfortable/AA713_Q21_2.wav\n",
      "chunks_7sec//comfortable/AA713_Q21_3.wav\n",
      "chunks_7sec//comfortable/AA713_Q21_4.wav\n",
      "chunks_7sec//comfortable/AA713_Q21_5.wav\n",
      "chunks_7sec//comfortable/AA713_Q21_6.wav\n",
      "chunks_7sec//comfortable/AA713_Q21_7.wav\n",
      "==============================\n",
      "file AA713_Q4.wav is loaded\n",
      "\u001b[31mthe file was less than 1 second\u001b[0m\n",
      "==============================\n",
      "file AA713_Q5.wav is loaded\n",
      "\u001b[31mthe file was less than 1 second\u001b[0m\n",
      "==============================\n",
      "file AA713_Q6.wav is loaded\n",
      "the file was biger than 7  second\n",
      "22357 zero element are added to the tail of this file \n",
      "the file is divided into 2 chunks\n",
      "list of all the chunks name  :\n",
      "chunks_7sec//comfortable/AA713_Q6_0.wav\n",
      "chunks_7sec//comfortable/AA713_Q6_1.wav\n",
      "==============================\n",
      "file AA713_Q8.wav is loaded\n",
      "the file was biger than 7  second\n",
      "130448 zero element are added to the tail of this file \n",
      "the file is divided into 7 chunks\n",
      "list of all the chunks name  :\n",
      "chunks_7sec//comfortable/AA713_Q8_0.wav\n",
      "chunks_7sec//comfortable/AA713_Q8_1.wav\n",
      "chunks_7sec//comfortable/AA713_Q8_2.wav\n",
      "chunks_7sec//comfortable/AA713_Q8_3.wav\n",
      "chunks_7sec//comfortable/AA713_Q8_4.wav\n",
      "chunks_7sec//comfortable/AA713_Q8_5.wav\n",
      "chunks_7sec//comfortable/AA713_Q8_6.wav\n",
      "==============================\n",
      "file AI128_Q14.wav is loaded\n",
      "the file was biger than 7  second\n",
      "46682 zero element are added to the tail of this file \n",
      "the file is divided into 8 chunks\n",
      "list of all the chunks name  :\n",
      "chunks_7sec//comfortable/AI128_Q14_0.wav\n",
      "chunks_7sec//comfortable/AI128_Q14_1.wav\n",
      "chunks_7sec//comfortable/AI128_Q14_2.wav\n",
      "chunks_7sec//comfortable/AI128_Q14_3.wav\n",
      "chunks_7sec//comfortable/AI128_Q14_4.wav\n",
      "chunks_7sec//comfortable/AI128_Q14_5.wav\n",
      "chunks_7sec//comfortable/AI128_Q14_6.wav\n",
      "chunks_7sec//comfortable/AI128_Q14_7.wav\n",
      "==============================\n",
      "file AI128_Q18.wav is loaded\n",
      "the file was biger than 7  second\n",
      "118422 zero element are added to the tail of this file \n",
      "the file is divided into 21 chunks\n",
      "list of all the chunks name  :\n",
      "chunks_7sec//comfortable/AI128_Q18_0.wav\n",
      "chunks_7sec//comfortable/AI128_Q18_1.wav\n",
      "chunks_7sec//comfortable/AI128_Q18_2.wav\n",
      "chunks_7sec//comfortable/AI128_Q18_3.wav\n",
      "chunks_7sec//comfortable/AI128_Q18_4.wav\n",
      "chunks_7sec//comfortable/AI128_Q18_5.wav\n",
      "chunks_7sec//comfortable/AI128_Q18_6.wav\n",
      "chunks_7sec//comfortable/AI128_Q18_7.wav\n",
      "chunks_7sec//comfortable/AI128_Q18_8.wav\n",
      "chunks_7sec//comfortable/AI128_Q18_9.wav\n",
      "chunks_7sec//comfortable/AI128_Q18_10.wav\n",
      "chunks_7sec//comfortable/AI128_Q18_11.wav\n",
      "chunks_7sec//comfortable/AI128_Q18_12.wav\n",
      "chunks_7sec//comfortable/AI128_Q18_13.wav\n",
      "chunks_7sec//comfortable/AI128_Q18_14.wav\n",
      "chunks_7sec//comfortable/AI128_Q18_15.wav\n",
      "chunks_7sec//comfortable/AI128_Q18_16.wav\n",
      "chunks_7sec//comfortable/AI128_Q18_17.wav\n",
      "chunks_7sec//comfortable/AI128_Q18_18.wav\n",
      "chunks_7sec//comfortable/AI128_Q18_19.wav\n",
      "chunks_7sec//comfortable/AI128_Q18_20.wav\n",
      "==============================\n",
      "file AI128_Q4.wav is loaded\n",
      "\u001b[31mthe file was less than 1 second\u001b[0m\n",
      "==============================\n",
      "file AI128_Q8.wav is loaded\n",
      "the file was biger than 7  second\n",
      "142612 zero element are added to the tail of this file \n",
      "the file is divided into 7 chunks\n",
      "list of all the chunks name  :\n",
      "chunks_7sec//comfortable/AI128_Q8_0.wav\n",
      "chunks_7sec//comfortable/AI128_Q8_1.wav\n",
      "chunks_7sec//comfortable/AI128_Q8_2.wav\n",
      "chunks_7sec//comfortable/AI128_Q8_3.wav\n",
      "chunks_7sec//comfortable/AI128_Q8_4.wav\n",
      "chunks_7sec//comfortable/AI128_Q8_5.wav\n",
      "chunks_7sec//comfortable/AI128_Q8_6.wav\n",
      "==============================\n",
      "file AM058_Q1.wav is loaded\n",
      "\u001b[31mthe file was less than 1 second\u001b[0m\n",
      "==============================\n",
      "file AM058_Q13.wav is loaded\n",
      "the file was biger than 7  second\n",
      "11030 zero element are added to the tail of this file \n",
      "the file is divided into 5 chunks\n",
      "list of all the chunks name  :\n",
      "chunks_7sec//comfortable/AM058_Q13_0.wav\n",
      "chunks_7sec//comfortable/AM058_Q13_1.wav\n",
      "chunks_7sec//comfortable/AM058_Q13_2.wav\n",
      "chunks_7sec//comfortable/AM058_Q13_3.wav\n",
      "chunks_7sec//comfortable/AM058_Q13_4.wav\n",
      "==============================\n",
      "file AM058_Q19.wav is loaded\n",
      "\u001b[31mthe file was less than 1 second\u001b[0m\n",
      "==============================\n",
      "file AM058_Q21.wav is loaded\n",
      "the file was biger than 7  second\n",
      "96008 zero element are added to the tail of this file \n",
      "the file is divided into 4 chunks\n",
      "list of all the chunks name  :\n",
      "chunks_7sec//comfortable/AM058_Q21_0.wav\n",
      "chunks_7sec//comfortable/AM058_Q21_1.wav\n",
      "chunks_7sec//comfortable/AM058_Q21_2.wav\n",
      "chunks_7sec//comfortable/AM058_Q21_3.wav\n",
      "==============================\n",
      "file AM058_Q23.wav is loaded\n",
      "\u001b[31mthe file was less than 1 second\u001b[0m\n",
      "==============================\n",
      "file AM058_Q24.wav is loaded\n",
      "\u001b[31mthe file was less than 1 second\u001b[0m\n",
      "==============================\n",
      "file AM058_Q4.wav is loaded\n",
      "\u001b[31mthe file was less than 1 second\u001b[0m\n",
      "==============================\n",
      "file AM058_Q5.wav is loaded\n",
      "the file was biger than 7  second\n",
      "76557 zero element are added to the tail of this file \n",
      "the file is divided into 2 chunks\n",
      "list of all the chunks name  :\n",
      "chunks_7sec//comfortable/AM058_Q5_0.wav\n",
      "chunks_7sec//comfortable/AM058_Q5_1.wav\n",
      "==============================\n",
      "file AM058_Q6.wav is loaded\n",
      "the file was biger than 7  second\n",
      "98462 zero element are added to the tail of this file \n",
      "the file is divided into 2 chunks\n",
      "list of all the chunks name  :\n",
      "chunks_7sec//comfortable/AM058_Q6_0.wav\n",
      "chunks_7sec//comfortable/AM058_Q6_1.wav\n",
      "==============================\n",
      "file AM058_Q7.wav is loaded\n",
      "the file was biger than 7  second\n",
      "4924 zero element are added to the tail of this file \n",
      "the file is divided into 6 chunks\n",
      "list of all the chunks name  :\n",
      "chunks_7sec//comfortable/AM058_Q7_0.wav\n",
      "chunks_7sec//comfortable/AM058_Q7_1.wav\n",
      "chunks_7sec//comfortable/AM058_Q7_2.wav\n",
      "chunks_7sec//comfortable/AM058_Q7_3.wav\n",
      "chunks_7sec//comfortable/AM058_Q7_4.wav\n",
      "chunks_7sec//comfortable/AM058_Q7_5.wav\n",
      "==============================\n",
      "file AM058_Q8.wav is loaded\n",
      "the file was biger than 7  second\n",
      "18688 zero element are added to the tail of this file \n",
      "the file is divided into 6 chunks\n",
      "list of all the chunks name  :\n",
      "chunks_7sec//comfortable/AM058_Q8_0.wav\n",
      "chunks_7sec//comfortable/AM058_Q8_1.wav\n",
      "chunks_7sec//comfortable/AM058_Q8_2.wav\n",
      "chunks_7sec//comfortable/AM058_Q8_3.wav\n",
      "chunks_7sec//comfortable/AM058_Q8_4.wav\n",
      "chunks_7sec//comfortable/AM058_Q8_5.wav\n",
      "==============================\n",
      "file AM526_Q10.wav is loaded\n",
      "\u001b[31mthe file was less than 1 second\u001b[0m\n",
      "==============================\n",
      "file AM526_Q1_BROKEN.wav is loaded\n",
      "\u001b[31mthe file was less than 1 second\u001b[0m\n",
      "==============================\n",
      "file AN867_Q1.wav is loaded\n",
      "\u001b[31mthe file was less than 1 second\u001b[0m\n",
      "==============================\n",
      "file AN867_Q10.wav is loaded\n",
      "\u001b[31mthe file was less than 1 second\u001b[0m\n",
      "==============================\n",
      "file AN867_Q11.wav is loaded\n",
      "\u001b[31mthe file was less than 1 second\u001b[0m\n",
      "==============================\n",
      "file AN867_Q20.wav is loaded\n",
      "the file was biger than 7  second\n",
      "118279 zero element are added to the tail of this file \n",
      "the file is divided into 2 chunks\n",
      "list of all the chunks name  :\n",
      "chunks_7sec//comfortable/AN867_Q20_0.wav\n",
      "chunks_7sec//comfortable/AN867_Q20_1.wav\n"
     ]
    },
    {
     "name": "stdout",
     "output_type": "stream",
     "text": [
      "==============================\n",
      "file AN867_Q24.wav is loaded\n",
      "\u001b[31mthe file was less than 1 second\u001b[0m\n",
      "==============================\n",
      "file AN867_Q4.wav is loaded\n",
      "\u001b[31mthe file was less than 1 second\u001b[0m\n",
      "==============================\n",
      "file AN867_Q6.wav is loaded\n",
      "the file was biger than 7  second\n",
      "68831 zero element are added to the tail of this file \n",
      "the file is divided into 2 chunks\n",
      "list of all the chunks name  :\n",
      "chunks_7sec//comfortable/AN867_Q6_0.wav\n",
      "chunks_7sec//comfortable/AN867_Q6_1.wav\n",
      "==============================\n",
      "file AN867_Q7.wav is loaded\n",
      "the file was biger than 7  second\n",
      "148563 zero element are added to the tail of this file \n",
      "the file is divided into 8 chunks\n",
      "list of all the chunks name  :\n",
      "chunks_7sec//comfortable/AN867_Q7_0.wav\n",
      "chunks_7sec//comfortable/AN867_Q7_1.wav\n",
      "chunks_7sec//comfortable/AN867_Q7_2.wav\n",
      "chunks_7sec//comfortable/AN867_Q7_3.wav\n",
      "chunks_7sec//comfortable/AN867_Q7_4.wav\n",
      "chunks_7sec//comfortable/AN867_Q7_5.wav\n",
      "chunks_7sec//comfortable/AN867_Q7_6.wav\n",
      "chunks_7sec//comfortable/AN867_Q7_7.wav\n",
      "==============================\n",
      "file BA925_Q10.wav is loaded\n",
      "\u001b[31mthe file was less than 1 second\u001b[0m\n",
      "==============================\n",
      "file BA925_Q11.wav is loaded\n",
      "\u001b[31mthe file was less than 1 second\u001b[0m\n",
      "==============================\n",
      "file BA925_Q12.wav is loaded\n",
      "\u001b[31mthe file was less than 1 second\u001b[0m\n",
      "==============================\n",
      "file BA925_Q19.wav is loaded\n",
      "the file was biger than 7  second\n",
      "149493 zero element are added to the tail of this file \n",
      "the file is divided into 4 chunks\n",
      "list of all the chunks name  :\n",
      "chunks_7sec//comfortable/BA925_Q19_0.wav\n",
      "chunks_7sec//comfortable/BA925_Q19_1.wav\n",
      "chunks_7sec//comfortable/BA925_Q19_2.wav\n",
      "chunks_7sec//comfortable/BA925_Q19_3.wav\n",
      "==============================\n",
      "file BA925_Q24.wav is loaded\n",
      "\u001b[31mthe file was less than 1 second\u001b[0m\n",
      "==============================\n",
      "file BA925_Q3.wav is loaded\n",
      "\u001b[31mthe file was less than 1 second\u001b[0m\n",
      "==============================\n",
      "file BA925_Q4.wav is loaded\n",
      "\u001b[31mthe file was less than 1 second\u001b[0m\n",
      "==============================\n",
      "file BA925_Q5.wav is loaded\n",
      "the file was biger than 7  second\n",
      "120484 zero element are added to the tail of this file \n",
      "the file is divided into 2 chunks\n",
      "list of all the chunks name  :\n",
      "chunks_7sec//comfortable/BA925_Q5_0.wav\n",
      "chunks_7sec//comfortable/BA925_Q5_1.wav\n",
      "==============================\n",
      "file BA925_Q6.wav is loaded\n",
      "the file was biger than 7  second\n",
      "28063 zero element are added to the tail of this file \n",
      "the file is divided into 2 chunks\n",
      "list of all the chunks name  :\n",
      "chunks_7sec//comfortable/BA925_Q6_0.wav\n",
      "chunks_7sec//comfortable/BA925_Q6_1.wav\n",
      "==============================\n",
      "file BA925_Q8.wav is loaded\n",
      "the file was biger than 7  second\n",
      "143556 zero element are added to the tail of this file \n",
      "the file is divided into 6 chunks\n",
      "list of all the chunks name  :\n",
      "chunks_7sec//comfortable/BA925_Q8_0.wav\n",
      "chunks_7sec//comfortable/BA925_Q8_1.wav\n",
      "chunks_7sec//comfortable/BA925_Q8_2.wav\n",
      "chunks_7sec//comfortable/BA925_Q8_3.wav\n",
      "chunks_7sec//comfortable/BA925_Q8_4.wav\n",
      "chunks_7sec//comfortable/BA925_Q8_5.wav\n",
      "==============================\n",
      "file BB508_Q19.wav is loaded\n",
      "\u001b[31mthe file was less than 1 second\u001b[0m\n",
      "==============================\n",
      "file BL551_Q10.wav is loaded\n",
      "\u001b[31mthe file was less than 1 second\u001b[0m\n",
      "==============================\n",
      "file BL551_Q19.wav is loaded\n",
      "the file was biger than 7  second\n",
      "71334 zero element are added to the tail of this file \n",
      "the file is divided into 2 chunks\n",
      "list of all the chunks name  :\n",
      "chunks_7sec//comfortable/BL551_Q19_0.wav\n",
      "chunks_7sec//comfortable/BL551_Q19_1.wav\n",
      "==============================\n",
      "file BL551_Q24.wav is loaded\n",
      "\u001b[31mthe file was less than 1 second\u001b[0m\n",
      "==============================\n",
      "file BL551_Q6.wav is loaded\n",
      "the file was biger than 7  second\n",
      "140356 zero element are added to the tail of this file \n",
      "the file is divided into 2 chunks\n",
      "list of all the chunks name  :\n",
      "chunks_7sec//comfortable/BL551_Q6_0.wav\n",
      "chunks_7sec//comfortable/BL551_Q6_1.wav\n",
      "==============================\n",
      "file BM403_Q1.wav is loaded\n",
      "\u001b[31mthe file was less than 1 second\u001b[0m\n",
      "==============================\n",
      "file BM403_Q19.wav is loaded\n",
      "\u001b[31mthe file was less than 1 second\u001b[0m\n",
      "==============================\n",
      "file BM403_Q2.wav is loaded\n",
      "the file was biger than 7  second\n",
      "69388 zero element are added to the tail of this file \n",
      "the file is divided into 2 chunks\n",
      "list of all the chunks name  :\n",
      "chunks_7sec//comfortable/BM403_Q2_0.wav\n",
      "chunks_7sec//comfortable/BM403_Q2_1.wav\n",
      "==============================\n",
      "file BM403_Q24.wav is loaded\n",
      "\u001b[31mthe file was less than 1 second\u001b[0m\n",
      "==============================\n",
      "file BM403_Q5.wav is loaded\n",
      "\u001b[31mthe file was less than 1 second\u001b[0m\n",
      "==============================\n",
      "file BM403_Q9.wav is loaded\n",
      "the file was biger than 7  second\n",
      "42133 zero element are added to the tail of this file \n",
      "the file is divided into 5 chunks\n",
      "list of all the chunks name  :\n",
      "chunks_7sec//comfortable/BM403_Q9_0.wav\n",
      "chunks_7sec//comfortable/BM403_Q9_1.wav\n",
      "chunks_7sec//comfortable/BM403_Q9_2.wav\n",
      "chunks_7sec//comfortable/BM403_Q9_3.wav\n",
      "chunks_7sec//comfortable/BM403_Q9_4.wav\n",
      "==============================\n",
      "file CJ032_Q1.wav is loaded\n",
      "\u001b[31mthe file was less than 1 second\u001b[0m\n",
      "==============================\n",
      "file CJ032_Q10.wav is loaded\n",
      "\u001b[31mthe file was less than 1 second\u001b[0m\n",
      "==============================\n",
      "file CJ032_Q13.wav is loaded\n",
      "the file was biger than 7  second\n",
      "21422 zero element are added to the tail of this file \n",
      "the file is divided into 3 chunks\n",
      "list of all the chunks name  :\n",
      "chunks_7sec//comfortable/CJ032_Q13_0.wav\n",
      "chunks_7sec//comfortable/CJ032_Q13_1.wav\n",
      "chunks_7sec//comfortable/CJ032_Q13_2.wav\n",
      "==============================\n",
      "file CJ032_Q3.wav is loaded\n",
      "\u001b[31mthe file was less than 1 second\u001b[0m\n",
      "==============================\n",
      "file CL374_Q1.wav is loaded\n",
      "\u001b[31mthe file was less than 1 second\u001b[0m\n",
      "==============================\n",
      "file CL374_Q19.wav is loaded\n",
      "the file was biger than 7  second\n",
      "140839 zero element are added to the tail of this file \n",
      "the file is divided into 4 chunks\n",
      "list of all the chunks name  :\n",
      "chunks_7sec//comfortable/CL374_Q19_0.wav\n",
      "chunks_7sec//comfortable/CL374_Q19_1.wav\n",
      "chunks_7sec//comfortable/CL374_Q19_2.wav\n",
      "chunks_7sec//comfortable/CL374_Q19_3.wav\n",
      "==============================\n",
      "file CL374_Q6.wav is loaded\n",
      "the file was biger than 7  second\n",
      "68536 zero element are added to the tail of this file \n",
      "the file is divided into 3 chunks\n",
      "list of all the chunks name  :\n",
      "chunks_7sec//comfortable/CL374_Q6_0.wav\n",
      "chunks_7sec//comfortable/CL374_Q6_1.wav\n",
      "chunks_7sec//comfortable/CL374_Q6_2.wav\n",
      "==============================\n",
      "file JS827_Q11.wav is loaded\n",
      "the file was biger than 7  second\n",
      "131898 zero element are added to the tail of this file \n",
      "the file is divided into 4 chunks\n",
      "list of all the chunks name  :\n",
      "chunks_7sec//comfortable/JS827_Q11_0.wav\n",
      "chunks_7sec//comfortable/JS827_Q11_1.wav\n",
      "chunks_7sec//comfortable/JS827_Q11_2.wav\n",
      "chunks_7sec//comfortable/JS827_Q11_3.wav\n",
      "==============================\n",
      "file JS827_Q13.wav is loaded\n",
      "the file was biger than 7  second\n",
      "42585 zero element are added to the tail of this file \n",
      "the file is divided into 3 chunks\n",
      "list of all the chunks name  :\n",
      "chunks_7sec//comfortable/JS827_Q13_0.wav\n",
      "chunks_7sec//comfortable/JS827_Q13_1.wav\n",
      "chunks_7sec//comfortable/JS827_Q13_2.wav\n",
      "==============================\n",
      "file JS827_Q16.wav is loaded\n",
      "the file was biger than 7  second\n",
      "126049 zero element are added to the tail of this file \n",
      "the file is divided into 15 chunks\n",
      "list of all the chunks name  :\n",
      "chunks_7sec//comfortable/JS827_Q16_0.wav\n",
      "chunks_7sec//comfortable/JS827_Q16_1.wav\n",
      "chunks_7sec//comfortable/JS827_Q16_2.wav\n",
      "chunks_7sec//comfortable/JS827_Q16_3.wav\n",
      "chunks_7sec//comfortable/JS827_Q16_4.wav\n",
      "chunks_7sec//comfortable/JS827_Q16_5.wav\n",
      "chunks_7sec//comfortable/JS827_Q16_6.wav\n",
      "chunks_7sec//comfortable/JS827_Q16_7.wav\n",
      "chunks_7sec//comfortable/JS827_Q16_8.wav\n",
      "chunks_7sec//comfortable/JS827_Q16_9.wav\n",
      "chunks_7sec//comfortable/JS827_Q16_10.wav\n",
      "chunks_7sec//comfortable/JS827_Q16_11.wav\n",
      "chunks_7sec//comfortable/JS827_Q16_12.wav\n",
      "chunks_7sec//comfortable/JS827_Q16_13.wav\n",
      "chunks_7sec//comfortable/JS827_Q16_14.wav\n",
      "==============================\n",
      "file JS827_Q6.wav is loaded\n",
      "the file was biger than 7  second\n",
      "144116 zero element are added to the tail of this file \n",
      "the file is divided into 3 chunks\n",
      "list of all the chunks name  :\n",
      "chunks_7sec//comfortable/JS827_Q6_0.wav\n",
      "chunks_7sec//comfortable/JS827_Q6_1.wav\n",
      "chunks_7sec//comfortable/JS827_Q6_2.wav\n",
      "==============================\n",
      "file JS827_Q7.wav is loaded\n",
      "the file was biger than 7  second\n"
     ]
    },
    {
     "name": "stdout",
     "output_type": "stream",
     "text": [
      "125648 zero element are added to the tail of this file \n",
      "the file is divided into 32 chunks\n",
      "list of all the chunks name  :\n",
      "chunks_7sec//comfortable/JS827_Q7_0.wav\n",
      "chunks_7sec//comfortable/JS827_Q7_1.wav\n",
      "chunks_7sec//comfortable/JS827_Q7_2.wav\n",
      "chunks_7sec//comfortable/JS827_Q7_3.wav\n",
      "chunks_7sec//comfortable/JS827_Q7_4.wav\n",
      "chunks_7sec//comfortable/JS827_Q7_5.wav\n",
      "chunks_7sec//comfortable/JS827_Q7_6.wav\n",
      "chunks_7sec//comfortable/JS827_Q7_7.wav\n",
      "chunks_7sec//comfortable/JS827_Q7_8.wav\n",
      "chunks_7sec//comfortable/JS827_Q7_9.wav\n",
      "chunks_7sec//comfortable/JS827_Q7_10.wav\n",
      "chunks_7sec//comfortable/JS827_Q7_11.wav\n",
      "chunks_7sec//comfortable/JS827_Q7_12.wav\n",
      "chunks_7sec//comfortable/JS827_Q7_13.wav\n",
      "chunks_7sec//comfortable/JS827_Q7_14.wav\n",
      "chunks_7sec//comfortable/JS827_Q7_15.wav\n",
      "chunks_7sec//comfortable/JS827_Q7_16.wav\n",
      "chunks_7sec//comfortable/JS827_Q7_17.wav\n",
      "chunks_7sec//comfortable/JS827_Q7_18.wav\n",
      "chunks_7sec//comfortable/JS827_Q7_19.wav\n",
      "chunks_7sec//comfortable/JS827_Q7_20.wav\n",
      "chunks_7sec//comfortable/JS827_Q7_21.wav\n",
      "chunks_7sec//comfortable/JS827_Q7_22.wav\n",
      "chunks_7sec//comfortable/JS827_Q7_23.wav\n",
      "chunks_7sec//comfortable/JS827_Q7_24.wav\n",
      "chunks_7sec//comfortable/JS827_Q7_25.wav\n",
      "chunks_7sec//comfortable/JS827_Q7_26.wav\n",
      "chunks_7sec//comfortable/JS827_Q7_27.wav\n",
      "chunks_7sec//comfortable/JS827_Q7_28.wav\n",
      "chunks_7sec//comfortable/JS827_Q7_29.wav\n",
      "chunks_7sec//comfortable/JS827_Q7_30.wav\n",
      "chunks_7sec//comfortable/JS827_Q7_31.wav\n",
      "==============================\n",
      "file JS827_Q8.wav is loaded\n",
      "the file was biger than 7  second\n",
      "137805 zero element are added to the tail of this file \n",
      "the file is divided into 8 chunks\n",
      "list of all the chunks name  :\n",
      "chunks_7sec//comfortable/JS827_Q8_0.wav\n",
      "chunks_7sec//comfortable/JS827_Q8_1.wav\n",
      "chunks_7sec//comfortable/JS827_Q8_2.wav\n",
      "chunks_7sec//comfortable/JS827_Q8_3.wav\n",
      "chunks_7sec//comfortable/JS827_Q8_4.wav\n",
      "chunks_7sec//comfortable/JS827_Q8_5.wav\n",
      "chunks_7sec//comfortable/JS827_Q8_6.wav\n",
      "chunks_7sec//comfortable/JS827_Q8_7.wav\n",
      "==============================\n",
      "file JS827_Q9.wav is loaded\n",
      "the file was biger than 7  second\n",
      "131959 zero element are added to the tail of this file \n",
      "the file is divided into 25 chunks\n",
      "list of all the chunks name  :\n",
      "chunks_7sec//comfortable/JS827_Q9_0.wav\n",
      "chunks_7sec//comfortable/JS827_Q9_1.wav\n",
      "chunks_7sec//comfortable/JS827_Q9_2.wav\n",
      "chunks_7sec//comfortable/JS827_Q9_3.wav\n",
      "chunks_7sec//comfortable/JS827_Q9_4.wav\n",
      "chunks_7sec//comfortable/JS827_Q9_5.wav\n",
      "chunks_7sec//comfortable/JS827_Q9_6.wav\n",
      "chunks_7sec//comfortable/JS827_Q9_7.wav\n",
      "chunks_7sec//comfortable/JS827_Q9_8.wav\n",
      "chunks_7sec//comfortable/JS827_Q9_9.wav\n",
      "chunks_7sec//comfortable/JS827_Q9_10.wav\n",
      "chunks_7sec//comfortable/JS827_Q9_11.wav\n",
      "chunks_7sec//comfortable/JS827_Q9_12.wav\n",
      "chunks_7sec//comfortable/JS827_Q9_13.wav\n",
      "chunks_7sec//comfortable/JS827_Q9_14.wav\n",
      "chunks_7sec//comfortable/JS827_Q9_15.wav\n",
      "chunks_7sec//comfortable/JS827_Q9_16.wav\n",
      "chunks_7sec//comfortable/JS827_Q9_17.wav\n",
      "chunks_7sec//comfortable/JS827_Q9_18.wav\n",
      "chunks_7sec//comfortable/JS827_Q9_19.wav\n",
      "chunks_7sec//comfortable/JS827_Q9_20.wav\n",
      "chunks_7sec//comfortable/JS827_Q9_21.wav\n",
      "chunks_7sec//comfortable/JS827_Q9_22.wav\n",
      "chunks_7sec//comfortable/JS827_Q9_23.wav\n",
      "chunks_7sec//comfortable/JS827_Q9_24.wav\n",
      "==============================\n",
      "file KB361_Q11.wav is loaded\n",
      "the file was biger than 7  second\n",
      "87867 zero element are added to the tail of this file \n",
      "the file is divided into 10 chunks\n",
      "list of all the chunks name  :\n",
      "chunks_7sec//comfortable/KB361_Q11_0.wav\n",
      "chunks_7sec//comfortable/KB361_Q11_1.wav\n",
      "chunks_7sec//comfortable/KB361_Q11_2.wav\n",
      "chunks_7sec//comfortable/KB361_Q11_3.wav\n",
      "chunks_7sec//comfortable/KB361_Q11_4.wav\n",
      "chunks_7sec//comfortable/KB361_Q11_5.wav\n",
      "chunks_7sec//comfortable/KB361_Q11_6.wav\n",
      "chunks_7sec//comfortable/KB361_Q11_7.wav\n",
      "chunks_7sec//comfortable/KB361_Q11_8.wav\n",
      "chunks_7sec//comfortable/KB361_Q11_9.wav\n",
      "==============================\n",
      "file KB361_Q16.wav is loaded\n",
      "the file was biger than 7  second\n",
      "66042 zero element are added to the tail of this file \n",
      "the file is divided into 12 chunks\n",
      "list of all the chunks name  :\n",
      "chunks_7sec//comfortable/KB361_Q16_0.wav\n",
      "chunks_7sec//comfortable/KB361_Q16_1.wav\n",
      "chunks_7sec//comfortable/KB361_Q16_2.wav\n",
      "chunks_7sec//comfortable/KB361_Q16_3.wav\n",
      "chunks_7sec//comfortable/KB361_Q16_4.wav\n",
      "chunks_7sec//comfortable/KB361_Q16_5.wav\n",
      "chunks_7sec//comfortable/KB361_Q16_6.wav\n",
      "chunks_7sec//comfortable/KB361_Q16_7.wav\n",
      "chunks_7sec//comfortable/KB361_Q16_8.wav\n",
      "chunks_7sec//comfortable/KB361_Q16_9.wav\n",
      "chunks_7sec//comfortable/KB361_Q16_10.wav\n",
      "chunks_7sec//comfortable/KB361_Q16_11.wav\n",
      "==============================\n",
      "file KB361_Q19.wav is loaded\n",
      "the file was biger than 7  second\n",
      "137096 zero element are added to the tail of this file \n",
      "the file is divided into 10 chunks\n",
      "list of all the chunks name  :\n",
      "chunks_7sec//comfortable/KB361_Q19_0.wav\n",
      "chunks_7sec//comfortable/KB361_Q19_1.wav\n",
      "chunks_7sec//comfortable/KB361_Q19_2.wav\n",
      "chunks_7sec//comfortable/KB361_Q19_3.wav\n",
      "chunks_7sec//comfortable/KB361_Q19_4.wav\n",
      "chunks_7sec//comfortable/KB361_Q19_5.wav\n",
      "chunks_7sec//comfortable/KB361_Q19_6.wav\n",
      "chunks_7sec//comfortable/KB361_Q19_7.wav\n",
      "chunks_7sec//comfortable/KB361_Q19_8.wav\n",
      "chunks_7sec//comfortable/KB361_Q19_9.wav\n",
      "==============================\n",
      "file KB361_Q21.wav is loaded\n",
      "the file was biger than 7  second\n",
      "106080 zero element are added to the tail of this file \n",
      "the file is divided into 7 chunks\n",
      "list of all the chunks name  :\n",
      "chunks_7sec//comfortable/KB361_Q21_0.wav\n",
      "chunks_7sec//comfortable/KB361_Q21_1.wav\n",
      "chunks_7sec//comfortable/KB361_Q21_2.wav\n",
      "chunks_7sec//comfortable/KB361_Q21_3.wav\n",
      "chunks_7sec//comfortable/KB361_Q21_4.wav\n",
      "chunks_7sec//comfortable/KB361_Q21_5.wav\n",
      "chunks_7sec//comfortable/KB361_Q21_6.wav\n",
      "==============================\n",
      "file KB361_Q23.wav is loaded\n",
      "the file was biger than 7  second\n",
      "64964 zero element are added to the tail of this file \n",
      "the file is divided into 3 chunks\n",
      "list of all the chunks name  :\n",
      "chunks_7sec//comfortable/KB361_Q23_0.wav\n",
      "chunks_7sec//comfortable/KB361_Q23_1.wav\n",
      "chunks_7sec//comfortable/KB361_Q23_2.wav\n",
      "==============================\n",
      "file KB361_Q3.wav is loaded\n",
      "the file was biger than 7  second\n",
      "69973 zero element are added to the tail of this file \n",
      "the file is divided into 3 chunks\n",
      "list of all the chunks name  :\n",
      "chunks_7sec//comfortable/KB361_Q3_0.wav\n",
      "chunks_7sec//comfortable/KB361_Q3_1.wav\n",
      "chunks_7sec//comfortable/KB361_Q3_2.wav\n",
      "==============================\n",
      "file KB361_Q6.wav is loaded\n",
      "the file was biger than 7  second\n",
      "18471 zero element are added to the tail of this file \n",
      "the file is divided into 4 chunks\n",
      "list of all the chunks name  :\n",
      "chunks_7sec//comfortable/KB361_Q6_0.wav\n",
      "chunks_7sec//comfortable/KB361_Q6_1.wav\n",
      "chunks_7sec//comfortable/KB361_Q6_2.wav\n",
      "chunks_7sec//comfortable/KB361_Q6_3.wav\n",
      "==============================\n",
      "file KB361_Q7.wav is loaded\n",
      "the file was biger than 7  second\n",
      "12982 zero element are added to the tail of this file \n",
      "the file is divided into 6 chunks\n",
      "list of all the chunks name  :\n",
      "chunks_7sec//comfortable/KB361_Q7_0.wav\n",
      "chunks_7sec//comfortable/KB361_Q7_1.wav\n",
      "chunks_7sec//comfortable/KB361_Q7_2.wav\n",
      "chunks_7sec//comfortable/KB361_Q7_3.wav\n",
      "chunks_7sec//comfortable/KB361_Q7_4.wav\n",
      "chunks_7sec//comfortable/KB361_Q7_5.wav\n",
      "==============================\n",
      "file KB361_Q8.wav is loaded\n",
      "the file was biger than 7  second\n",
      "15373 zero element are added to the tail of this file \n",
      "the file is divided into 9 chunks\n",
      "list of all the chunks name  :\n",
      "chunks_7sec//comfortable/KB361_Q8_0.wav\n",
      "chunks_7sec//comfortable/KB361_Q8_1.wav\n",
      "chunks_7sec//comfortable/KB361_Q8_2.wav\n",
      "chunks_7sec//comfortable/KB361_Q8_3.wav\n",
      "chunks_7sec//comfortable/KB361_Q8_4.wav\n",
      "chunks_7sec//comfortable/KB361_Q8_5.wav\n",
      "chunks_7sec//comfortable/KB361_Q8_6.wav\n",
      "chunks_7sec//comfortable/KB361_Q8_7.wav\n",
      "chunks_7sec//comfortable/KB361_Q8_8.wav\n",
      "==============================\n",
      "file KB361_Q9.wav is loaded\n",
      "the file was biger than 7  second\n",
      "29346 zero element are added to the tail of this file \n",
      "the file is divided into 12 chunks\n",
      "list of all the chunks name  :\n",
      "chunks_7sec//comfortable/KB361_Q9_0.wav\n",
      "chunks_7sec//comfortable/KB361_Q9_1.wav\n",
      "chunks_7sec//comfortable/KB361_Q9_2.wav\n",
      "chunks_7sec//comfortable/KB361_Q9_3.wav\n",
      "chunks_7sec//comfortable/KB361_Q9_4.wav\n",
      "chunks_7sec//comfortable/KB361_Q9_5.wav\n",
      "chunks_7sec//comfortable/KB361_Q9_6.wav\n"
     ]
    },
    {
     "name": "stdout",
     "output_type": "stream",
     "text": [
      "chunks_7sec//comfortable/KB361_Q9_7.wav\n",
      "chunks_7sec//comfortable/KB361_Q9_8.wav\n",
      "chunks_7sec//comfortable/KB361_Q9_9.wav\n",
      "chunks_7sec//comfortable/KB361_Q9_10.wav\n",
      "chunks_7sec//comfortable/KB361_Q9_11.wav\n",
      "==============================\n",
      "file KM552_Q19.wav is loaded\n",
      "the file was biger than 7  second\n",
      "64790 zero element are added to the tail of this file \n",
      "the file is divided into 3 chunks\n",
      "list of all the chunks name  :\n",
      "chunks_7sec//comfortable/KM552_Q19_0.wav\n",
      "chunks_7sec//comfortable/KM552_Q19_1.wav\n",
      "chunks_7sec//comfortable/KM552_Q19_2.wav\n",
      "==============================\n",
      "file KN241_Q11.wav is loaded\n",
      "the file was biger than 7  second\n",
      "1220 zero element are added to the tail of this file \n",
      "the file is divided into 2 chunks\n",
      "list of all the chunks name  :\n",
      "chunks_7sec//comfortable/KN241_Q11_0.wav\n",
      "chunks_7sec//comfortable/KN241_Q11_1.wav\n",
      "==============================\n",
      "file KN241_Q13.wav is loaded\n",
      "the file was biger than 7  second\n",
      "4706 zero element are added to the tail of this file \n",
      "the file is divided into 4 chunks\n",
      "list of all the chunks name  :\n",
      "chunks_7sec//comfortable/KN241_Q13_0.wav\n",
      "chunks_7sec//comfortable/KN241_Q13_1.wav\n",
      "chunks_7sec//comfortable/KN241_Q13_2.wav\n",
      "chunks_7sec//comfortable/KN241_Q13_3.wav\n",
      "==============================\n",
      "file KN241_Q15.wav is loaded\n",
      "\u001b[31mthe file was less than 1 second\u001b[0m\n",
      "==============================\n",
      "file KN241_Q17.wav is loaded\n",
      "\u001b[31mthe file was less than 1 second\u001b[0m\n",
      "==============================\n",
      "file KN241_Q21.wav is loaded\n",
      "the file was biger than 7  second\n",
      "3805 zero element are added to the tail of this file \n",
      "the file is divided into 3 chunks\n",
      "list of all the chunks name  :\n",
      "chunks_7sec//comfortable/KN241_Q21_0.wav\n",
      "chunks_7sec//comfortable/KN241_Q21_1.wav\n",
      "chunks_7sec//comfortable/KN241_Q21_2.wav\n",
      "==============================\n",
      "file KN241_Q22.wav is loaded\n",
      "the file was biger than 7  second\n",
      "66788 zero element are added to the tail of this file \n",
      "the file is divided into 3 chunks\n",
      "list of all the chunks name  :\n",
      "chunks_7sec//comfortable/KN241_Q22_0.wav\n",
      "chunks_7sec//comfortable/KN241_Q22_1.wav\n",
      "chunks_7sec//comfortable/KN241_Q22_2.wav\n",
      "==============================\n",
      "file KN241_Q23.wav is loaded\n",
      "\u001b[31mthe file was less than 1 second\u001b[0m\n",
      "==============================\n",
      "file KN241_Q5.wav is loaded\n",
      "the file was biger than 7  second\n",
      "24228 zero element are added to the tail of this file \n",
      "the file is divided into 2 chunks\n",
      "list of all the chunks name  :\n",
      "chunks_7sec//comfortable/KN241_Q5_0.wav\n",
      "chunks_7sec//comfortable/KN241_Q5_1.wav\n",
      "==============================\n",
      "file KN241_Q6.wav is loaded\n",
      "the file was biger than 7  second\n",
      "17692 zero element are added to the tail of this file \n",
      "the file is divided into 2 chunks\n",
      "list of all the chunks name  :\n",
      "chunks_7sec//comfortable/KN241_Q6_0.wav\n",
      "chunks_7sec//comfortable/KN241_Q6_1.wav\n",
      "==============================\n",
      "file KN241_Q7.wav is loaded\n",
      "the file was biger than 7  second\n",
      "7698 zero element are added to the tail of this file \n",
      "the file is divided into 10 chunks\n",
      "list of all the chunks name  :\n",
      "chunks_7sec//comfortable/KN241_Q7_0.wav\n",
      "chunks_7sec//comfortable/KN241_Q7_1.wav\n",
      "chunks_7sec//comfortable/KN241_Q7_2.wav\n",
      "chunks_7sec//comfortable/KN241_Q7_3.wav\n",
      "chunks_7sec//comfortable/KN241_Q7_4.wav\n",
      "chunks_7sec//comfortable/KN241_Q7_5.wav\n",
      "chunks_7sec//comfortable/KN241_Q7_6.wav\n",
      "chunks_7sec//comfortable/KN241_Q7_7.wav\n",
      "chunks_7sec//comfortable/KN241_Q7_8.wav\n",
      "chunks_7sec//comfortable/KN241_Q7_9.wav\n",
      "==============================\n",
      "file KN241_Q8.wav is loaded\n",
      "the file was biger than 7  second\n",
      "82854 zero element are added to the tail of this file \n",
      "the file is divided into 6 chunks\n",
      "list of all the chunks name  :\n",
      "chunks_7sec//comfortable/KN241_Q8_0.wav\n",
      "chunks_7sec//comfortable/KN241_Q8_1.wav\n",
      "chunks_7sec//comfortable/KN241_Q8_2.wav\n",
      "chunks_7sec//comfortable/KN241_Q8_3.wav\n",
      "chunks_7sec//comfortable/KN241_Q8_4.wav\n",
      "chunks_7sec//comfortable/KN241_Q8_5.wav\n",
      "==============================\n",
      "file KN241_Q9.wav is loaded\n",
      "the file was biger than 7  second\n",
      "90465 zero element are added to the tail of this file \n",
      "the file is divided into 8 chunks\n",
      "list of all the chunks name  :\n",
      "chunks_7sec//comfortable/KN241_Q9_0.wav\n",
      "chunks_7sec//comfortable/KN241_Q9_1.wav\n",
      "chunks_7sec//comfortable/KN241_Q9_2.wav\n",
      "chunks_7sec//comfortable/KN241_Q9_3.wav\n",
      "chunks_7sec//comfortable/KN241_Q9_4.wav\n",
      "chunks_7sec//comfortable/KN241_Q9_5.wav\n",
      "chunks_7sec//comfortable/KN241_Q9_6.wav\n",
      "chunks_7sec//comfortable/KN241_Q9_7.wav\n",
      "==============================\n",
      "file MP959_Q14.wav is loaded\n",
      "the file was biger than 7  second\n",
      "12262 zero element are added to the tail of this file \n",
      "the file is divided into 3 chunks\n",
      "list of all the chunks name  :\n",
      "chunks_7sec//comfortable/MP959_Q14_0.wav\n",
      "chunks_7sec//comfortable/MP959_Q14_1.wav\n",
      "chunks_7sec//comfortable/MP959_Q14_2.wav\n",
      "==============================\n",
      "file MP959_Q22.wav is loaded\n",
      "the file was biger than 7  second\n",
      "112726 zero element are added to the tail of this file \n",
      "the file is divided into 4 chunks\n",
      "list of all the chunks name  :\n",
      "chunks_7sec//comfortable/MP959_Q22_0.wav\n",
      "chunks_7sec//comfortable/MP959_Q22_1.wav\n",
      "chunks_7sec//comfortable/MP959_Q22_2.wav\n",
      "chunks_7sec//comfortable/MP959_Q22_3.wav\n",
      "==============================\n",
      "file AA713_Q12.wav is loaded\n",
      "\u001b[31mthe file was less than 1 second\u001b[0m\n",
      "==============================\n",
      "file AA713_Q13.wav is loaded\n",
      "the file was biger than 7  second\n",
      "135609 zero element are added to the tail of this file \n",
      "the file is divided into 7 chunks\n",
      "list of all the chunks name  :\n",
      "chunks_7sec//uncomfortable/AA713_Q13_0.wav\n",
      "chunks_7sec//uncomfortable/AA713_Q13_1.wav\n",
      "chunks_7sec//uncomfortable/AA713_Q13_2.wav\n",
      "chunks_7sec//uncomfortable/AA713_Q13_3.wav\n",
      "chunks_7sec//uncomfortable/AA713_Q13_4.wav\n",
      "chunks_7sec//uncomfortable/AA713_Q13_5.wav\n",
      "chunks_7sec//uncomfortable/AA713_Q13_6.wav\n",
      "==============================\n",
      "file AA713_Q18.wav is loaded\n",
      "the file was biger than 7  second\n",
      "89627 zero element are added to the tail of this file \n",
      "the file is divided into 17 chunks\n",
      "list of all the chunks name  :\n",
      "chunks_7sec//uncomfortable/AA713_Q18_0.wav\n",
      "chunks_7sec//uncomfortable/AA713_Q18_1.wav\n",
      "chunks_7sec//uncomfortable/AA713_Q18_2.wav\n",
      "chunks_7sec//uncomfortable/AA713_Q18_3.wav\n",
      "chunks_7sec//uncomfortable/AA713_Q18_4.wav\n",
      "chunks_7sec//uncomfortable/AA713_Q18_5.wav\n",
      "chunks_7sec//uncomfortable/AA713_Q18_6.wav\n",
      "chunks_7sec//uncomfortable/AA713_Q18_7.wav\n",
      "chunks_7sec//uncomfortable/AA713_Q18_8.wav\n",
      "chunks_7sec//uncomfortable/AA713_Q18_9.wav\n",
      "chunks_7sec//uncomfortable/AA713_Q18_10.wav\n",
      "chunks_7sec//uncomfortable/AA713_Q18_11.wav\n",
      "chunks_7sec//uncomfortable/AA713_Q18_12.wav\n",
      "chunks_7sec//uncomfortable/AA713_Q18_13.wav\n",
      "chunks_7sec//uncomfortable/AA713_Q18_14.wav\n",
      "chunks_7sec//uncomfortable/AA713_Q18_15.wav\n",
      "chunks_7sec//uncomfortable/AA713_Q18_16.wav\n",
      "==============================\n",
      "file AA713_Q2.wav is loaded\n",
      "the file was biger than 7  second\n",
      "111421 zero element are added to the tail of this file \n",
      "the file is divided into 3 chunks\n",
      "list of all the chunks name  :\n",
      "chunks_7sec//uncomfortable/AA713_Q2_0.wav\n",
      "chunks_7sec//uncomfortable/AA713_Q2_1.wav\n",
      "chunks_7sec//uncomfortable/AA713_Q2_2.wav\n",
      "==============================\n",
      "file AA713_Q24.wav is loaded\n",
      "\u001b[31mthe file was less than 1 second\u001b[0m\n",
      "==============================\n",
      "file AI128_Q22.wav is loaded\n",
      "the file was biger than 7  second\n",
      "5810 zero element are added to the tail of this file \n",
      "the file is divided into 10 chunks\n",
      "list of all the chunks name  :\n",
      "chunks_7sec//uncomfortable/AI128_Q22_0.wav\n",
      "chunks_7sec//uncomfortable/AI128_Q22_1.wav\n",
      "chunks_7sec//uncomfortable/AI128_Q22_2.wav\n",
      "chunks_7sec//uncomfortable/AI128_Q22_3.wav\n",
      "chunks_7sec//uncomfortable/AI128_Q22_4.wav\n",
      "chunks_7sec//uncomfortable/AI128_Q22_5.wav\n",
      "chunks_7sec//uncomfortable/AI128_Q22_6.wav\n",
      "chunks_7sec//uncomfortable/AI128_Q22_7.wav\n",
      "chunks_7sec//uncomfortable/AI128_Q22_8.wav\n",
      "chunks_7sec//uncomfortable/AI128_Q22_9.wav\n",
      "==============================\n",
      "file AM058_Q16.wav is loaded\n",
      "the file was biger than 7  second\n",
      "62573 zero element are added to the tail of this file \n",
      "the file is divided into 17 chunks\n",
      "list of all the chunks name  :\n",
      "chunks_7sec//uncomfortable/AM058_Q16_0.wav\n",
      "chunks_7sec//uncomfortable/AM058_Q16_1.wav\n",
      "chunks_7sec//uncomfortable/AM058_Q16_2.wav\n",
      "chunks_7sec//uncomfortable/AM058_Q16_3.wav\n",
      "chunks_7sec//uncomfortable/AM058_Q16_4.wav\n",
      "chunks_7sec//uncomfortable/AM058_Q16_5.wav\n",
      "chunks_7sec//uncomfortable/AM058_Q16_6.wav\n",
      "chunks_7sec//uncomfortable/AM058_Q16_7.wav\n",
      "chunks_7sec//uncomfortable/AM058_Q16_8.wav\n",
      "chunks_7sec//uncomfortable/AM058_Q16_9.wav\n"
     ]
    },
    {
     "name": "stdout",
     "output_type": "stream",
     "text": [
      "chunks_7sec//uncomfortable/AM058_Q16_10.wav\n",
      "chunks_7sec//uncomfortable/AM058_Q16_11.wav\n",
      "chunks_7sec//uncomfortable/AM058_Q16_12.wav\n",
      "chunks_7sec//uncomfortable/AM058_Q16_13.wav\n",
      "chunks_7sec//uncomfortable/AM058_Q16_14.wav\n",
      "chunks_7sec//uncomfortable/AM058_Q16_15.wav\n",
      "chunks_7sec//uncomfortable/AM058_Q16_16.wav\n",
      "==============================\n",
      "file AM058_Q22.wav is loaded\n",
      "the file was biger than 7  second\n",
      "143371 zero element are added to the tail of this file \n",
      "the file is divided into 2 chunks\n",
      "list of all the chunks name  :\n",
      "chunks_7sec//uncomfortable/AM058_Q22_0.wav\n",
      "chunks_7sec//uncomfortable/AM058_Q22_1.wav\n",
      "==============================\n",
      "file AM526_Q14.wav is loaded\n",
      "the file was biger than 7  second\n",
      "106254 zero element are added to the tail of this file \n",
      "the file is divided into 3 chunks\n",
      "list of all the chunks name  :\n",
      "chunks_7sec//uncomfortable/AM526_Q14_0.wav\n",
      "chunks_7sec//uncomfortable/AM526_Q14_1.wav\n",
      "chunks_7sec//uncomfortable/AM526_Q14_2.wav\n",
      "==============================\n",
      "file AM526_Q17.wav is loaded\n",
      "\u001b[31mthe file was less than 1 second\u001b[0m\n",
      "==============================\n",
      "file AM526_Q18.wav is loaded\n",
      "the file was biger than 7  second\n",
      "36217 zero element are added to the tail of this file \n",
      "the file is divided into 3 chunks\n",
      "list of all the chunks name  :\n",
      "chunks_7sec//uncomfortable/AM526_Q18_0.wav\n",
      "chunks_7sec//uncomfortable/AM526_Q18_1.wav\n",
      "chunks_7sec//uncomfortable/AM526_Q18_2.wav\n",
      "==============================\n",
      "file AM526_Q22.wav is loaded\n",
      "\u001b[31mthe file was less than 1 second\u001b[0m\n",
      "==============================\n",
      "file AN867_Q22.wav is loaded\n",
      "the file was biger than 7  second\n",
      "90727 zero element are added to the tail of this file \n",
      "the file is divided into 3 chunks\n",
      "list of all the chunks name  :\n",
      "chunks_7sec//uncomfortable/AN867_Q22_0.wav\n",
      "chunks_7sec//uncomfortable/AN867_Q22_1.wav\n",
      "chunks_7sec//uncomfortable/AN867_Q22_2.wav\n",
      "==============================\n",
      "file AN867_Q3.wav is loaded\n",
      "the file was biger than 7  second\n",
      "44636 zero element are added to the tail of this file \n",
      "the file is divided into 3 chunks\n",
      "list of all the chunks name  :\n",
      "chunks_7sec//uncomfortable/AN867_Q3_0.wav\n",
      "chunks_7sec//uncomfortable/AN867_Q3_1.wav\n",
      "chunks_7sec//uncomfortable/AN867_Q3_2.wav\n",
      "==============================\n",
      "file AN867_Q9.wav is loaded\n",
      "the file was biger than 7  second\n",
      "6224 zero element are added to the tail of this file \n",
      "the file is divided into 5 chunks\n",
      "list of all the chunks name  :\n",
      "chunks_7sec//uncomfortable/AN867_Q9_0.wav\n",
      "chunks_7sec//uncomfortable/AN867_Q9_1.wav\n",
      "chunks_7sec//uncomfortable/AN867_Q9_2.wav\n",
      "chunks_7sec//uncomfortable/AN867_Q9_3.wav\n",
      "chunks_7sec//uncomfortable/AN867_Q9_4.wav\n",
      "==============================\n",
      "file BA925_Q18.wav is loaded\n",
      "the file was biger than 7  second\n",
      "107897 zero element are added to the tail of this file \n",
      "the file is divided into 20 chunks\n",
      "list of all the chunks name  :\n",
      "chunks_7sec//uncomfortable/BA925_Q18_0.wav\n",
      "chunks_7sec//uncomfortable/BA925_Q18_1.wav\n",
      "chunks_7sec//uncomfortable/BA925_Q18_2.wav\n",
      "chunks_7sec//uncomfortable/BA925_Q18_3.wav\n",
      "chunks_7sec//uncomfortable/BA925_Q18_4.wav\n",
      "chunks_7sec//uncomfortable/BA925_Q18_5.wav\n",
      "chunks_7sec//uncomfortable/BA925_Q18_6.wav\n",
      "chunks_7sec//uncomfortable/BA925_Q18_7.wav\n",
      "chunks_7sec//uncomfortable/BA925_Q18_8.wav\n",
      "chunks_7sec//uncomfortable/BA925_Q18_9.wav\n",
      "chunks_7sec//uncomfortable/BA925_Q18_10.wav\n",
      "chunks_7sec//uncomfortable/BA925_Q18_11.wav\n",
      "chunks_7sec//uncomfortable/BA925_Q18_12.wav\n",
      "chunks_7sec//uncomfortable/BA925_Q18_13.wav\n",
      "chunks_7sec//uncomfortable/BA925_Q18_14.wav\n",
      "chunks_7sec//uncomfortable/BA925_Q18_15.wav\n",
      "chunks_7sec//uncomfortable/BA925_Q18_16.wav\n",
      "chunks_7sec//uncomfortable/BA925_Q18_17.wav\n",
      "chunks_7sec//uncomfortable/BA925_Q18_18.wav\n",
      "chunks_7sec//uncomfortable/BA925_Q18_19.wav\n",
      "==============================\n",
      "file BA925_Q22.wav is loaded\n",
      "the file was biger than 7  second\n",
      "49176 zero element are added to the tail of this file \n",
      "the file is divided into 2 chunks\n",
      "list of all the chunks name  :\n",
      "chunks_7sec//uncomfortable/BA925_Q22_0.wav\n",
      "chunks_7sec//uncomfortable/BA925_Q22_1.wav\n",
      "==============================\n",
      "file BA925_Q7.wav is loaded\n",
      "the file was biger than 7  second\n",
      "37360 zero element are added to the tail of this file \n",
      "the file is divided into 9 chunks\n",
      "list of all the chunks name  :\n",
      "chunks_7sec//uncomfortable/BA925_Q7_0.wav\n",
      "chunks_7sec//uncomfortable/BA925_Q7_1.wav\n",
      "chunks_7sec//uncomfortable/BA925_Q7_2.wav\n",
      "chunks_7sec//uncomfortable/BA925_Q7_3.wav\n",
      "chunks_7sec//uncomfortable/BA925_Q7_4.wav\n",
      "chunks_7sec//uncomfortable/BA925_Q7_5.wav\n",
      "chunks_7sec//uncomfortable/BA925_Q7_6.wav\n",
      "chunks_7sec//uncomfortable/BA925_Q7_7.wav\n",
      "chunks_7sec//uncomfortable/BA925_Q7_8.wav\n",
      "==============================\n",
      "file BB508_Q17.wav is loaded\n",
      "the file was biger than 7  second\n",
      "152760 zero element are added to the tail of this file \n",
      "the file is divided into 3 chunks\n",
      "list of all the chunks name  :\n",
      "chunks_7sec//uncomfortable/BB508_Q17_0.wav\n",
      "chunks_7sec//uncomfortable/BB508_Q17_1.wav\n",
      "chunks_7sec//uncomfortable/BB508_Q17_2.wav\n",
      "==============================\n",
      "file BB508_Q18.wav is loaded\n",
      "the file was biger than 7  second\n",
      "90835 zero element are added to the tail of this file \n",
      "the file is divided into 4 chunks\n",
      "list of all the chunks name  :\n",
      "chunks_7sec//uncomfortable/BB508_Q18_0.wav\n",
      "chunks_7sec//uncomfortable/BB508_Q18_1.wav\n",
      "chunks_7sec//uncomfortable/BB508_Q18_2.wav\n",
      "chunks_7sec//uncomfortable/BB508_Q18_3.wav\n",
      "==============================\n",
      "file BB508_Q22.wav is loaded\n",
      "the file was biger than 7  second\n",
      "34671 zero element are added to the tail of this file \n",
      "the file is divided into 2 chunks\n",
      "list of all the chunks name  :\n",
      "chunks_7sec//uncomfortable/BB508_Q22_0.wav\n",
      "chunks_7sec//uncomfortable/BB508_Q22_1.wav\n",
      "==============================\n",
      "file BL551_Q14.wav is loaded\n",
      "the file was biger than 7  second\n",
      "62740 zero element are added to the tail of this file \n",
      "the file is divided into 3 chunks\n",
      "list of all the chunks name  :\n",
      "chunks_7sec//uncomfortable/BL551_Q14_0.wav\n",
      "chunks_7sec//uncomfortable/BL551_Q14_1.wav\n",
      "chunks_7sec//uncomfortable/BL551_Q14_2.wav\n",
      "==============================\n",
      "file BL551_Q16.wav is loaded\n",
      "the file was biger than 7  second\n",
      "35675 zero element are added to the tail of this file \n",
      "the file is divided into 6 chunks\n",
      "list of all the chunks name  :\n",
      "chunks_7sec//uncomfortable/BL551_Q16_0.wav\n",
      "chunks_7sec//uncomfortable/BL551_Q16_1.wav\n",
      "chunks_7sec//uncomfortable/BL551_Q16_2.wav\n",
      "chunks_7sec//uncomfortable/BL551_Q16_3.wav\n",
      "chunks_7sec//uncomfortable/BL551_Q16_4.wav\n",
      "chunks_7sec//uncomfortable/BL551_Q16_5.wav\n",
      "==============================\n",
      "file BL551_Q17.wav is loaded\n",
      "\u001b[31mthe file was less than 1 second\u001b[0m\n",
      "==============================\n",
      "file BL551_Q18.wav is loaded\n",
      "the file was biger than 7  second\n",
      "120422 zero element are added to the tail of this file \n",
      "the file is divided into 8 chunks\n",
      "list of all the chunks name  :\n",
      "chunks_7sec//uncomfortable/BL551_Q18_0.wav\n",
      "chunks_7sec//uncomfortable/BL551_Q18_1.wav\n",
      "chunks_7sec//uncomfortable/BL551_Q18_2.wav\n",
      "chunks_7sec//uncomfortable/BL551_Q18_3.wav\n",
      "chunks_7sec//uncomfortable/BL551_Q18_4.wav\n",
      "chunks_7sec//uncomfortable/BL551_Q18_5.wav\n",
      "chunks_7sec//uncomfortable/BL551_Q18_6.wav\n",
      "chunks_7sec//uncomfortable/BL551_Q18_7.wav\n",
      "==============================\n",
      "file BL551_Q22.wav is loaded\n",
      "the file was biger than 7  second\n",
      "144007 zero element are added to the tail of this file \n",
      "the file is divided into 5 chunks\n",
      "list of all the chunks name  :\n",
      "chunks_7sec//uncomfortable/BL551_Q22_0.wav\n",
      "chunks_7sec//uncomfortable/BL551_Q22_1.wav\n",
      "chunks_7sec//uncomfortable/BL551_Q22_2.wav\n",
      "chunks_7sec//uncomfortable/BL551_Q22_3.wav\n",
      "chunks_7sec//uncomfortable/BL551_Q22_4.wav\n",
      "==============================\n",
      "file BL551_Q3.wav is loaded\n",
      "the file was biger than 7  second\n",
      "107025 zero element are added to the tail of this file \n",
      "the file is divided into 2 chunks\n",
      "list of all the chunks name  :\n",
      "chunks_7sec//uncomfortable/BL551_Q3_0.wav\n",
      "chunks_7sec//uncomfortable/BL551_Q3_1.wav\n",
      "==============================\n",
      "file BM403_Q14.wav is loaded\n",
      "the file was biger than 7  second\n",
      "101552 zero element are added to the tail of this file \n",
      "the file is divided into 3 chunks\n",
      "list of all the chunks name  :\n",
      "chunks_7sec//uncomfortable/BM403_Q14_0.wav\n",
      "chunks_7sec//uncomfortable/BM403_Q14_1.wav\n",
      "chunks_7sec//uncomfortable/BM403_Q14_2.wav\n",
      "==============================\n",
      "file BM403_Q15.wav is loaded\n",
      "the file was biger than 7  second\n",
      "68953 zero element are added to the tail of this file \n",
      "the file is divided into 4 chunks\n",
      "list of all the chunks name  :\n",
      "chunks_7sec//uncomfortable/BM403_Q15_0.wav\n",
      "chunks_7sec//uncomfortable/BM403_Q15_1.wav\n"
     ]
    },
    {
     "name": "stdout",
     "output_type": "stream",
     "text": [
      "chunks_7sec//uncomfortable/BM403_Q15_2.wav\n",
      "chunks_7sec//uncomfortable/BM403_Q15_3.wav\n",
      "==============================\n",
      "file CF374_Q16.wav is loaded\n",
      "the file was biger than 7  second\n",
      "108180 zero element are added to the tail of this file \n",
      "the file is divided into 5 chunks\n",
      "list of all the chunks name  :\n",
      "chunks_7sec//uncomfortable/CF374_Q16_0.wav\n",
      "chunks_7sec//uncomfortable/CF374_Q16_1.wav\n",
      "chunks_7sec//uncomfortable/CF374_Q16_2.wav\n",
      "chunks_7sec//uncomfortable/CF374_Q16_3.wav\n",
      "chunks_7sec//uncomfortable/CF374_Q16_4.wav\n",
      "==============================\n",
      "file CJ032_Q18.wav is loaded\n",
      "the file was biger than 7  second\n",
      "120654 zero element are added to the tail of this file \n",
      "the file is divided into 7 chunks\n",
      "list of all the chunks name  :\n",
      "chunks_7sec//uncomfortable/CJ032_Q18_0.wav\n",
      "chunks_7sec//uncomfortable/CJ032_Q18_1.wav\n",
      "chunks_7sec//uncomfortable/CJ032_Q18_2.wav\n",
      "chunks_7sec//uncomfortable/CJ032_Q18_3.wav\n",
      "chunks_7sec//uncomfortable/CJ032_Q18_4.wav\n",
      "chunks_7sec//uncomfortable/CJ032_Q18_5.wav\n",
      "chunks_7sec//uncomfortable/CJ032_Q18_6.wav\n",
      "==============================\n",
      "file CJ032_Q2.wav is loaded\n",
      "the file was biger than 7  second\n",
      "136357 zero element are added to the tail of this file \n",
      "the file is divided into 2 chunks\n",
      "list of all the chunks name  :\n",
      "chunks_7sec//uncomfortable/CJ032_Q2_0.wav\n",
      "chunks_7sec//uncomfortable/CJ032_Q2_1.wav\n",
      "==============================\n",
      "file GL603_Q16.wav is loaded\n",
      "the file was biger than 7  second\n",
      "33854 zero element are added to the tail of this file \n",
      "the file is divided into 11 chunks\n",
      "list of all the chunks name  :\n",
      "chunks_7sec//uncomfortable/GL603_Q16_0.wav\n",
      "chunks_7sec//uncomfortable/GL603_Q16_1.wav\n",
      "chunks_7sec//uncomfortable/GL603_Q16_2.wav\n",
      "chunks_7sec//uncomfortable/GL603_Q16_3.wav\n",
      "chunks_7sec//uncomfortable/GL603_Q16_4.wav\n",
      "chunks_7sec//uncomfortable/GL603_Q16_5.wav\n",
      "chunks_7sec//uncomfortable/GL603_Q16_6.wav\n",
      "chunks_7sec//uncomfortable/GL603_Q16_7.wav\n",
      "chunks_7sec//uncomfortable/GL603_Q16_8.wav\n",
      "chunks_7sec//uncomfortable/GL603_Q16_9.wav\n",
      "chunks_7sec//uncomfortable/GL603_Q16_10.wav\n",
      "==============================\n",
      "file GL603_Q17.wav is loaded\n",
      "the file was biger than 7  second\n",
      "8171 zero element are added to the tail of this file \n",
      "the file is divided into 4 chunks\n",
      "list of all the chunks name  :\n",
      "chunks_7sec//uncomfortable/GL603_Q17_0.wav\n",
      "chunks_7sec//uncomfortable/GL603_Q17_1.wav\n",
      "chunks_7sec//uncomfortable/GL603_Q17_2.wav\n",
      "chunks_7sec//uncomfortable/GL603_Q17_3.wav\n",
      "==============================\n",
      "file GL603_Q18.wav is loaded\n",
      "the file was biger than 7  second\n",
      "37660 zero element are added to the tail of this file \n",
      "the file is divided into 17 chunks\n",
      "list of all the chunks name  :\n",
      "chunks_7sec//uncomfortable/GL603_Q18_0.wav\n",
      "chunks_7sec//uncomfortable/GL603_Q18_1.wav\n",
      "chunks_7sec//uncomfortable/GL603_Q18_2.wav\n",
      "chunks_7sec//uncomfortable/GL603_Q18_3.wav\n",
      "chunks_7sec//uncomfortable/GL603_Q18_4.wav\n",
      "chunks_7sec//uncomfortable/GL603_Q18_5.wav\n",
      "chunks_7sec//uncomfortable/GL603_Q18_6.wav\n",
      "chunks_7sec//uncomfortable/GL603_Q18_7.wav\n",
      "chunks_7sec//uncomfortable/GL603_Q18_8.wav\n",
      "chunks_7sec//uncomfortable/GL603_Q18_9.wav\n",
      "chunks_7sec//uncomfortable/GL603_Q18_10.wav\n",
      "chunks_7sec//uncomfortable/GL603_Q18_11.wav\n",
      "chunks_7sec//uncomfortable/GL603_Q18_12.wav\n",
      "chunks_7sec//uncomfortable/GL603_Q18_13.wav\n",
      "chunks_7sec//uncomfortable/GL603_Q18_14.wav\n",
      "chunks_7sec//uncomfortable/GL603_Q18_15.wav\n",
      "chunks_7sec//uncomfortable/GL603_Q18_16.wav\n",
      "==============================\n",
      "file GL603_Q9.wav is loaded\n",
      "the file was biger than 7  second\n",
      "137505 zero element are added to the tail of this file \n",
      "the file is divided into 11 chunks\n",
      "list of all the chunks name  :\n",
      "chunks_7sec//uncomfortable/GL603_Q9_0.wav\n",
      "chunks_7sec//uncomfortable/GL603_Q9_1.wav\n",
      "chunks_7sec//uncomfortable/GL603_Q9_2.wav\n",
      "chunks_7sec//uncomfortable/GL603_Q9_3.wav\n",
      "chunks_7sec//uncomfortable/GL603_Q9_4.wav\n",
      "chunks_7sec//uncomfortable/GL603_Q9_5.wav\n",
      "chunks_7sec//uncomfortable/GL603_Q9_6.wav\n",
      "chunks_7sec//uncomfortable/GL603_Q9_7.wav\n",
      "chunks_7sec//uncomfortable/GL603_Q9_8.wav\n",
      "chunks_7sec//uncomfortable/GL603_Q9_9.wav\n",
      "chunks_7sec//uncomfortable/GL603_Q9_10.wav\n",
      "==============================\n",
      "file JS827_Q14.wav is loaded\n",
      "the file was biger than 7  second\n",
      "55272 zero element are added to the tail of this file \n",
      "the file is divided into 11 chunks\n",
      "list of all the chunks name  :\n",
      "chunks_7sec//uncomfortable/JS827_Q14_0.wav\n",
      "chunks_7sec//uncomfortable/JS827_Q14_1.wav\n",
      "chunks_7sec//uncomfortable/JS827_Q14_2.wav\n",
      "chunks_7sec//uncomfortable/JS827_Q14_3.wav\n",
      "chunks_7sec//uncomfortable/JS827_Q14_4.wav\n",
      "chunks_7sec//uncomfortable/JS827_Q14_5.wav\n",
      "chunks_7sec//uncomfortable/JS827_Q14_6.wav\n",
      "chunks_7sec//uncomfortable/JS827_Q14_7.wav\n",
      "chunks_7sec//uncomfortable/JS827_Q14_8.wav\n",
      "chunks_7sec//uncomfortable/JS827_Q14_9.wav\n",
      "chunks_7sec//uncomfortable/JS827_Q14_10.wav\n",
      "==============================\n",
      "file JS827_Q17.wav is loaded\n",
      "the file was biger than 7  second\n",
      "153468 zero element are added to the tail of this file \n",
      "the file is divided into 3 chunks\n",
      "list of all the chunks name  :\n",
      "chunks_7sec//uncomfortable/JS827_Q17_0.wav\n",
      "chunks_7sec//uncomfortable/JS827_Q17_1.wav\n",
      "chunks_7sec//uncomfortable/JS827_Q17_2.wav\n",
      "==============================\n",
      "file JS827_Q18.wav is loaded\n",
      "the file was biger than 7  second\n",
      "14292 zero element are added to the tail of this file \n",
      "the file is divided into 23 chunks\n",
      "list of all the chunks name  :\n",
      "chunks_7sec//uncomfortable/JS827_Q18_0.wav\n",
      "chunks_7sec//uncomfortable/JS827_Q18_1.wav\n",
      "chunks_7sec//uncomfortable/JS827_Q18_2.wav\n",
      "chunks_7sec//uncomfortable/JS827_Q18_3.wav\n",
      "chunks_7sec//uncomfortable/JS827_Q18_4.wav\n",
      "chunks_7sec//uncomfortable/JS827_Q18_5.wav\n",
      "chunks_7sec//uncomfortable/JS827_Q18_6.wav\n",
      "chunks_7sec//uncomfortable/JS827_Q18_7.wav\n",
      "chunks_7sec//uncomfortable/JS827_Q18_8.wav\n",
      "chunks_7sec//uncomfortable/JS827_Q18_9.wav\n",
      "chunks_7sec//uncomfortable/JS827_Q18_10.wav\n",
      "chunks_7sec//uncomfortable/JS827_Q18_11.wav\n",
      "chunks_7sec//uncomfortable/JS827_Q18_12.wav\n",
      "chunks_7sec//uncomfortable/JS827_Q18_13.wav\n",
      "chunks_7sec//uncomfortable/JS827_Q18_14.wav\n",
      "chunks_7sec//uncomfortable/JS827_Q18_15.wav\n",
      "chunks_7sec//uncomfortable/JS827_Q18_16.wav\n",
      "chunks_7sec//uncomfortable/JS827_Q18_17.wav\n",
      "chunks_7sec//uncomfortable/JS827_Q18_18.wav\n",
      "chunks_7sec//uncomfortable/JS827_Q18_19.wav\n",
      "chunks_7sec//uncomfortable/JS827_Q18_20.wav\n",
      "chunks_7sec//uncomfortable/JS827_Q18_21.wav\n",
      "chunks_7sec//uncomfortable/JS827_Q18_22.wav\n",
      "==============================\n",
      "file JS827_Q21.wav is loaded\n",
      "the file was biger than 7  second\n",
      "49601 zero element are added to the tail of this file \n",
      "the file is divided into 8 chunks\n",
      "list of all the chunks name  :\n",
      "chunks_7sec//uncomfortable/JS827_Q21_0.wav\n",
      "chunks_7sec//uncomfortable/JS827_Q21_1.wav\n",
      "chunks_7sec//uncomfortable/JS827_Q21_2.wav\n",
      "chunks_7sec//uncomfortable/JS827_Q21_3.wav\n",
      "chunks_7sec//uncomfortable/JS827_Q21_4.wav\n",
      "chunks_7sec//uncomfortable/JS827_Q21_5.wav\n",
      "chunks_7sec//uncomfortable/JS827_Q21_6.wav\n",
      "chunks_7sec//uncomfortable/JS827_Q21_7.wav\n",
      "==============================\n",
      "file JS827_Q22.wav is loaded\n",
      "the file was biger than 7  second\n",
      "49446 zero element are added to the tail of this file \n",
      "the file is divided into 7 chunks\n",
      "list of all the chunks name  :\n",
      "chunks_7sec//uncomfortable/JS827_Q22_0.wav\n",
      "chunks_7sec//uncomfortable/JS827_Q22_1.wav\n",
      "chunks_7sec//uncomfortable/JS827_Q22_2.wav\n",
      "chunks_7sec//uncomfortable/JS827_Q22_3.wav\n",
      "chunks_7sec//uncomfortable/JS827_Q22_4.wav\n",
      "chunks_7sec//uncomfortable/JS827_Q22_5.wav\n",
      "chunks_7sec//uncomfortable/JS827_Q22_6.wav\n",
      "==============================\n",
      "file JS827_Q3.wav is loaded\n",
      "the file was biger than 7  second\n",
      "115639 zero element are added to the tail of this file \n",
      "the file is divided into 2 chunks\n",
      "list of all the chunks name  :\n",
      "chunks_7sec//uncomfortable/JS827_Q3_0.wav\n",
      "chunks_7sec//uncomfortable/JS827_Q3_1.wav\n",
      "==============================\n",
      "file JS827_Q4.wav is loaded\n",
      "the file was biger than 7  second\n",
      "133680 zero element are added to the tail of this file \n",
      "the file is divided into 2 chunks\n",
      "list of all the chunks name  :\n",
      "chunks_7sec//uncomfortable/JS827_Q4_0.wav\n",
      "chunks_7sec//uncomfortable/JS827_Q4_1.wav\n",
      "==============================\n",
      "file KM552_Q18.wav is loaded\n",
      "the file was biger than 7  second\n",
      "136902 zero element are added to the tail of this file \n",
      "the file is divided into 9 chunks\n",
      "list of all the chunks name  :\n",
      "chunks_7sec//uncomfortable/KM552_Q18_0.wav\n",
      "chunks_7sec//uncomfortable/KM552_Q18_1.wav\n",
      "chunks_7sec//uncomfortable/KM552_Q18_2.wav\n",
      "chunks_7sec//uncomfortable/KM552_Q18_3.wav\n",
      "chunks_7sec//uncomfortable/KM552_Q18_4.wav\n"
     ]
    },
    {
     "name": "stdout",
     "output_type": "stream",
     "text": [
      "chunks_7sec//uncomfortable/KM552_Q18_5.wav\n",
      "chunks_7sec//uncomfortable/KM552_Q18_6.wav\n",
      "chunks_7sec//uncomfortable/KM552_Q18_7.wav\n",
      "chunks_7sec//uncomfortable/KM552_Q18_8.wav\n",
      "==============================\n",
      "file KM552_Q22.wav is loaded\n",
      "the file was biger than 7  second\n",
      "81193 zero element are added to the tail of this file \n",
      "the file is divided into 2 chunks\n",
      "list of all the chunks name  :\n",
      "chunks_7sec//uncomfortable/KM552_Q22_0.wav\n",
      "chunks_7sec//uncomfortable/KM552_Q22_1.wav\n",
      "==============================\n",
      "file MM647_Q14.wav is loaded\n",
      "the file was biger than 7  second\n",
      "134931 zero element are added to the tail of this file \n",
      "the file is divided into 6 chunks\n",
      "list of all the chunks name  :\n",
      "chunks_7sec//uncomfortable/MM647_Q14_0.wav\n",
      "chunks_7sec//uncomfortable/MM647_Q14_1.wav\n",
      "chunks_7sec//uncomfortable/MM647_Q14_2.wav\n",
      "chunks_7sec//uncomfortable/MM647_Q14_3.wav\n",
      "chunks_7sec//uncomfortable/MM647_Q14_4.wav\n",
      "chunks_7sec//uncomfortable/MM647_Q14_5.wav\n",
      "==============================\n",
      "file MM647_Q17.wav is loaded\n",
      "the file was biger than 7  second\n",
      "123613 zero element are added to the tail of this file \n",
      "the file is divided into 5 chunks\n",
      "list of all the chunks name  :\n",
      "chunks_7sec//uncomfortable/MM647_Q17_0.wav\n",
      "chunks_7sec//uncomfortable/MM647_Q17_1.wav\n",
      "chunks_7sec//uncomfortable/MM647_Q17_2.wav\n",
      "chunks_7sec//uncomfortable/MM647_Q17_3.wav\n",
      "chunks_7sec//uncomfortable/MM647_Q17_4.wav\n",
      "==============================\n",
      "file MM647_Q20_MISUNDERSTANDING.wav is loaded\n",
      "the file was biger than 7  second\n",
      "124659 zero element are added to the tail of this file \n",
      "the file is divided into 5 chunks\n",
      "list of all the chunks name  :\n",
      "chunks_7sec//uncomfortable/MM647_Q20_MISUNDERSTANDING_0.wav\n",
      "chunks_7sec//uncomfortable/MM647_Q20_MISUNDERSTANDING_1.wav\n",
      "chunks_7sec//uncomfortable/MM647_Q20_MISUNDERSTANDING_2.wav\n",
      "chunks_7sec//uncomfortable/MM647_Q20_MISUNDERSTANDING_3.wav\n",
      "chunks_7sec//uncomfortable/MM647_Q20_MISUNDERSTANDING_4.wav\n",
      "==============================\n",
      "file MM647_Q21.wav is loaded\n",
      "the file was biger than 7  second\n",
      "77376 zero element are added to the tail of this file \n",
      "the file is divided into 3 chunks\n",
      "list of all the chunks name  :\n",
      "chunks_7sec//uncomfortable/MM647_Q21_0.wav\n",
      "chunks_7sec//uncomfortable/MM647_Q21_1.wav\n",
      "chunks_7sec//uncomfortable/MM647_Q21_2.wav\n",
      "==============================\n",
      "file MM647_Q22_MISUNDERSTANDING.wav is loaded\n",
      "the file was biger than 7  second\n",
      "85652 zero element are added to the tail of this file \n",
      "the file is divided into 4 chunks\n",
      "list of all the chunks name  :\n",
      "chunks_7sec//uncomfortable/MM647_Q22_MISUNDERSTANDING_0.wav\n",
      "chunks_7sec//uncomfortable/MM647_Q22_MISUNDERSTANDING_1.wav\n",
      "chunks_7sec//uncomfortable/MM647_Q22_MISUNDERSTANDING_2.wav\n",
      "chunks_7sec//uncomfortable/MM647_Q22_MISUNDERSTANDING_3.wav\n",
      "==============================\n",
      "file MM647_Q3_MISUNDERSTANDING.wav is loaded\n",
      "the file was biger than 7  second\n",
      "42531 zero element are added to the tail of this file \n",
      "the file is divided into 8 chunks\n",
      "list of all the chunks name  :\n",
      "chunks_7sec//uncomfortable/MM647_Q3_MISUNDERSTANDING_0.wav\n",
      "chunks_7sec//uncomfortable/MM647_Q3_MISUNDERSTANDING_1.wav\n",
      "chunks_7sec//uncomfortable/MM647_Q3_MISUNDERSTANDING_2.wav\n",
      "chunks_7sec//uncomfortable/MM647_Q3_MISUNDERSTANDING_3.wav\n",
      "chunks_7sec//uncomfortable/MM647_Q3_MISUNDERSTANDING_4.wav\n",
      "chunks_7sec//uncomfortable/MM647_Q3_MISUNDERSTANDING_5.wav\n",
      "chunks_7sec//uncomfortable/MM647_Q3_MISUNDERSTANDING_6.wav\n",
      "chunks_7sec//uncomfortable/MM647_Q3_MISUNDERSTANDING_7.wav\n",
      "==============================\n",
      "file MM647_Q9.wav is loaded\n",
      "the file was biger than 7  second\n",
      "38640 zero element are added to the tail of this file \n",
      "the file is divided into 13 chunks\n",
      "list of all the chunks name  :\n",
      "chunks_7sec//uncomfortable/MM647_Q9_0.wav\n",
      "chunks_7sec//uncomfortable/MM647_Q9_1.wav\n",
      "chunks_7sec//uncomfortable/MM647_Q9_2.wav\n",
      "chunks_7sec//uncomfortable/MM647_Q9_3.wav\n",
      "chunks_7sec//uncomfortable/MM647_Q9_4.wav\n",
      "chunks_7sec//uncomfortable/MM647_Q9_5.wav\n",
      "chunks_7sec//uncomfortable/MM647_Q9_6.wav\n",
      "chunks_7sec//uncomfortable/MM647_Q9_7.wav\n",
      "chunks_7sec//uncomfortable/MM647_Q9_8.wav\n",
      "chunks_7sec//uncomfortable/MM647_Q9_9.wav\n",
      "chunks_7sec//uncomfortable/MM647_Q9_10.wav\n",
      "chunks_7sec//uncomfortable/MM647_Q9_11.wav\n",
      "chunks_7sec//uncomfortable/MM647_Q9_12.wav\n",
      "==============================\n",
      "file MP959_Q10.wav is loaded\n",
      "\u001b[31mthe file was less than 1 second\u001b[0m\n",
      "==============================\n",
      "file MP959_Q12.wav is loaded\n",
      "the file was biger than 7  second\n",
      "95920 zero element are added to the tail of this file \n",
      "the file is divided into 2 chunks\n",
      "list of all the chunks name  :\n",
      "chunks_7sec//uncomfortable/MP959_Q12_0.wav\n",
      "chunks_7sec//uncomfortable/MP959_Q12_1.wav\n",
      "==============================\n",
      "file MP959_Q17.wav is loaded\n",
      "the file was biger than 7  second\n",
      "112791 zero element are added to the tail of this file \n",
      "the file is divided into 3 chunks\n",
      "list of all the chunks name  :\n",
      "chunks_7sec//uncomfortable/MP959_Q17_0.wav\n",
      "chunks_7sec//uncomfortable/MP959_Q17_1.wav\n",
      "chunks_7sec//uncomfortable/MP959_Q17_2.wav\n",
      "==============================\n",
      "file MP959_Q18.wav is loaded\n",
      "the file was biger than 7  second\n",
      "60875 zero element are added to the tail of this file \n",
      "the file is divided into 5 chunks\n",
      "list of all the chunks name  :\n",
      "chunks_7sec//uncomfortable/MP959_Q18_0.wav\n",
      "chunks_7sec//uncomfortable/MP959_Q18_1.wav\n",
      "chunks_7sec//uncomfortable/MP959_Q18_2.wav\n",
      "chunks_7sec//uncomfortable/MP959_Q18_3.wav\n",
      "chunks_7sec//uncomfortable/MP959_Q18_4.wav\n",
      "==============================\n",
      "file MP959_Q23.wav is loaded\n",
      "\u001b[31mthe file was less than 1 second\u001b[0m\n",
      "==============================\n",
      "file MP959_Q24.wav is loaded\n",
      "\u001b[31mthe file was less than 1 second\u001b[0m\n",
      "==============================\n",
      "file MS090_Q11.wav is loaded\n",
      "the file was biger than 7  second\n",
      "101708 zero element are added to the tail of this file \n",
      "the file is divided into 2 chunks\n",
      "list of all the chunks name  :\n",
      "chunks_7sec//uncomfortable/MS090_Q11_0.wav\n",
      "chunks_7sec//uncomfortable/MS090_Q11_1.wav\n",
      "==============================\n",
      "file MS090_Q14.wav is loaded\n",
      "the file was biger than 7  second\n",
      "154350 zero element are added to the tail of this file \n",
      "the file is divided into 7 chunks\n",
      "list of all the chunks name  :\n",
      "chunks_7sec//uncomfortable/MS090_Q14_0.wav\n",
      "chunks_7sec//uncomfortable/MS090_Q14_1.wav\n",
      "chunks_7sec//uncomfortable/MS090_Q14_2.wav\n",
      "chunks_7sec//uncomfortable/MS090_Q14_3.wav\n",
      "chunks_7sec//uncomfortable/MS090_Q14_4.wav\n",
      "chunks_7sec//uncomfortable/MS090_Q14_5.wav\n",
      "==============================\n",
      "file MS090_Q16.wav is loaded\n",
      "the file was biger than 7  second\n",
      "90495 zero element are added to the tail of this file \n",
      "the file is divided into 9 chunks\n",
      "list of all the chunks name  :\n",
      "chunks_7sec//uncomfortable/MS090_Q16_0.wav\n",
      "chunks_7sec//uncomfortable/MS090_Q16_1.wav\n",
      "chunks_7sec//uncomfortable/MS090_Q16_2.wav\n",
      "chunks_7sec//uncomfortable/MS090_Q16_3.wav\n",
      "chunks_7sec//uncomfortable/MS090_Q16_4.wav\n",
      "chunks_7sec//uncomfortable/MS090_Q16_5.wav\n",
      "chunks_7sec//uncomfortable/MS090_Q16_6.wav\n",
      "chunks_7sec//uncomfortable/MS090_Q16_7.wav\n",
      "chunks_7sec//uncomfortable/MS090_Q16_8.wav\n",
      "==============================\n",
      "file MS090_Q17.wav is loaded\n",
      "the file was biger than 7  second\n",
      "62315 zero element are added to the tail of this file \n",
      "the file is divided into 5 chunks\n",
      "list of all the chunks name  :\n",
      "chunks_7sec//uncomfortable/MS090_Q17_0.wav\n",
      "chunks_7sec//uncomfortable/MS090_Q17_1.wav\n",
      "chunks_7sec//uncomfortable/MS090_Q17_2.wav\n",
      "chunks_7sec//uncomfortable/MS090_Q17_3.wav\n",
      "chunks_7sec//uncomfortable/MS090_Q17_4.wav\n",
      "==============================\n",
      "file MS090_Q18.wav is loaded\n",
      "the file was biger than 7  second\n",
      "82651 zero element are added to the tail of this file \n",
      "the file is divided into 10 chunks\n",
      "list of all the chunks name  :\n",
      "chunks_7sec//uncomfortable/MS090_Q18_0.wav\n",
      "chunks_7sec//uncomfortable/MS090_Q18_1.wav\n",
      "chunks_7sec//uncomfortable/MS090_Q18_2.wav\n",
      "chunks_7sec//uncomfortable/MS090_Q18_3.wav\n",
      "chunks_7sec//uncomfortable/MS090_Q18_4.wav\n",
      "chunks_7sec//uncomfortable/MS090_Q18_5.wav\n",
      "chunks_7sec//uncomfortable/MS090_Q18_6.wav\n",
      "chunks_7sec//uncomfortable/MS090_Q18_7.wav\n",
      "chunks_7sec//uncomfortable/MS090_Q18_8.wav\n",
      "chunks_7sec//uncomfortable/MS090_Q18_9.wav\n",
      "==============================\n",
      "file MS090_Q21.wav is loaded\n",
      "the file was biger than 7  second\n",
      "39045 zero element are added to the tail of this file \n",
      "the file is divided into 2 chunks\n",
      "list of all the chunks name  :\n",
      "chunks_7sec//uncomfortable/MS090_Q21_0.wav\n",
      "chunks_7sec//uncomfortable/MS090_Q21_1.wav\n",
      "==============================\n",
      "file MS090_Q22.wav is loaded\n",
      "\u001b[31mthe file was less than 1 second\u001b[0m\n",
      "==============================\n",
      "file MS090_Q23.wav is loaded\n",
      "the file was biger than 7  second\n",
      "93429 zero element are added to the tail of this file \n",
      "the file is divided into 2 chunks\n",
      "list of all the chunks name  :\n",
      "chunks_7sec//uncomfortable/MS090_Q23_0.wav\n",
      "chunks_7sec//uncomfortable/MS090_Q23_1.wav\n",
      "==============================\n",
      "file NP413_Q18.wav is loaded\n",
      "the file was biger than 7  second\n",
      "96619 zero element are added to the tail of this file \n",
      "the file is divided into 8 chunks\n",
      "list of all the chunks name  :\n",
      "chunks_7sec//uncomfortable/NP413_Q18_0.wav\n"
     ]
    },
    {
     "name": "stdout",
     "output_type": "stream",
     "text": [
      "chunks_7sec//uncomfortable/NP413_Q18_1.wav\n",
      "chunks_7sec//uncomfortable/NP413_Q18_2.wav\n",
      "chunks_7sec//uncomfortable/NP413_Q18_3.wav\n",
      "chunks_7sec//uncomfortable/NP413_Q18_4.wav\n",
      "chunks_7sec//uncomfortable/NP413_Q18_5.wav\n",
      "chunks_7sec//uncomfortable/NP413_Q18_6.wav\n",
      "chunks_7sec//uncomfortable/NP413_Q18_7.wav\n",
      "==============================\n",
      "file PA478_Q17.wav is loaded\n",
      "\u001b[31mthe file was less than 1 second\u001b[0m\n",
      "==============================\n",
      "file PA478_Q18.wav is loaded\n",
      "the file was biger than 7  second\n",
      "1583 zero element are added to the tail of this file \n",
      "the file is divided into 3 chunks\n",
      "list of all the chunks name  :\n",
      "chunks_7sec//uncomfortable/PA478_Q18_0.wav\n",
      "chunks_7sec//uncomfortable/PA478_Q18_1.wav\n",
      "chunks_7sec//uncomfortable/PA478_Q18_2.wav\n",
      "==============================\n",
      "file SA406_Q13.wav is loaded\n",
      "the file was biger than 7  second\n",
      "95058 zero element are added to the tail of this file \n",
      "the file is divided into 2 chunks\n",
      "list of all the chunks name  :\n",
      "chunks_7sec//uncomfortable/SA406_Q13_0.wav\n",
      "chunks_7sec//uncomfortable/SA406_Q13_1.wav\n",
      "==============================\n",
      "file SA406_Q14.wav is loaded\n",
      "the file was biger than 7  second\n",
      "35733 zero element are added to the tail of this file \n",
      "the file is divided into 2 chunks\n",
      "list of all the chunks name  :\n",
      "chunks_7sec//uncomfortable/SA406_Q14_0.wav\n",
      "chunks_7sec//uncomfortable/SA406_Q14_1.wav\n",
      "==============================\n",
      "file SA406_Q17.wav is loaded\n",
      "\u001b[31mthe file was less than 1 second\u001b[0m\n",
      "==============================\n",
      "file SA406_Q18.wav is loaded\n",
      "the file was biger than 7  second\n",
      "108084 zero element are added to the tail of this file \n",
      "the file is divided into 6 chunks\n",
      "list of all the chunks name  :\n",
      "chunks_7sec//uncomfortable/SA406_Q18_0.wav\n",
      "chunks_7sec//uncomfortable/SA406_Q18_1.wav\n",
      "chunks_7sec//uncomfortable/SA406_Q18_2.wav\n",
      "chunks_7sec//uncomfortable/SA406_Q18_3.wav\n",
      "chunks_7sec//uncomfortable/SA406_Q18_4.wav\n",
      "chunks_7sec//uncomfortable/SA406_Q18_5.wav\n",
      "==============================\n",
      "file SA406_Q22.wav is loaded\n",
      "\u001b[31mthe file was less than 1 second\u001b[0m\n",
      "==============================\n",
      "file SE289_Q21.wav is loaded\n",
      "the file was biger than 7  second\n",
      "70000 zero element are added to the tail of this file \n",
      "the file is divided into 6 chunks\n",
      "list of all the chunks name  :\n",
      "chunks_7sec//uncomfortable/SE289_Q21_0.wav\n",
      "chunks_7sec//uncomfortable/SE289_Q21_1.wav\n",
      "chunks_7sec//uncomfortable/SE289_Q21_2.wav\n",
      "chunks_7sec//uncomfortable/SE289_Q21_3.wav\n",
      "chunks_7sec//uncomfortable/SE289_Q21_4.wav\n",
      "chunks_7sec//uncomfortable/SE289_Q21_5.wav\n",
      "==============================\n",
      "file SS821_Q10.wav is loaded\n",
      "the file was biger than 7  second\n",
      "53524 zero element are added to the tail of this file \n",
      "the file is divided into 2 chunks\n",
      "list of all the chunks name  :\n",
      "chunks_7sec//uncomfortable/SS821_Q10_0.wav\n",
      "chunks_7sec//uncomfortable/SS821_Q10_1.wav\n",
      "==============================\n",
      "file SS821_Q15.wav is loaded\n",
      "\u001b[31mthe file was less than 1 second\u001b[0m\n",
      "==============================\n",
      "file SS821_Q17.wav is loaded\n",
      "the file was biger than 7  second\n",
      "141648 zero element are added to the tail of this file \n",
      "the file is divided into 2 chunks\n",
      "list of all the chunks name  :\n",
      "chunks_7sec//uncomfortable/SS821_Q17_0.wav\n",
      "chunks_7sec//uncomfortable/SS821_Q17_1.wav\n",
      "==============================\n",
      "file SS821_Q18.wav is loaded\n",
      "the file was biger than 7  second\n",
      "115192 zero element are added to the tail of this file \n",
      "the file is divided into 5 chunks\n",
      "list of all the chunks name  :\n",
      "chunks_7sec//uncomfortable/SS821_Q18_0.wav\n",
      "chunks_7sec//uncomfortable/SS821_Q18_1.wav\n",
      "chunks_7sec//uncomfortable/SS821_Q18_2.wav\n",
      "chunks_7sec//uncomfortable/SS821_Q18_3.wav\n",
      "chunks_7sec//uncomfortable/SS821_Q18_4.wav\n",
      "==============================\n",
      "file SS821_Q22.wav is loaded\n",
      "the file was biger than 7  second\n",
      "104464 zero element are added to the tail of this file \n",
      "the file is divided into 3 chunks\n",
      "list of all the chunks name  :\n",
      "chunks_7sec//uncomfortable/SS821_Q22_0.wav\n",
      "chunks_7sec//uncomfortable/SS821_Q22_1.wav\n",
      "chunks_7sec//uncomfortable/SS821_Q22_2.wav\n"
     ]
    }
   ],
   "source": [
    "chunks_7sec('nonoise/','chunks_7sec/')\n"
   ]
  },
  {
   "cell_type": "code",
   "execution_count": 37,
   "id": "2ca82ddf",
   "metadata": {},
   "outputs": [],
   "source": [
    "# for chunking the data into 7 second clips \n",
    "def remove_noise(path, savepath):\n",
    "    noise, sr_noise = librosa.load('noise.wav',sr=22050)\n",
    "    for root, dirs, files in os.walk(path):\n",
    "         for filename in files:\n",
    "            file_path = os.path.join(root, filename)  \n",
    "            audio, sr = librosa.load(file_path,sr=22050)\n",
    "            print('file '+filename +' is loaded')\n",
    "            reduced_noise=[]\n",
    "            reduced_noise = nr.reduce_noise(y=audio,y_noise=noise,sr=sr)             \n",
    "            new_path=savepath+root[5:]+'/'\n",
    "            new_file_name=new_path+filename[:-4]+'.wav'\n",
    "            sf.write(new_file_name, reduced_noise, sr)"
   ]
  },
  {
   "cell_type": "code",
   "execution_count": 38,
   "id": "09690697",
   "metadata": {},
   "outputs": [
    {
     "name": "stdout",
     "output_type": "stream",
     "text": [
      "file AA713_Q1.wav is loaded\n",
      "file AA713_Q14.wav is loaded\n"
     ]
    },
    {
     "data": {
      "application/vnd.jupyter.widget-view+json": {
       "model_id": "2d819172395e4bd3a8b5ebaada7bb0d3",
       "version_major": 2,
       "version_minor": 0
      },
      "text/plain": [
       "  0%|          | 0/2 [00:00<?, ?it/s]"
      ]
     },
     "metadata": {},
     "output_type": "display_data"
    },
    {
     "name": "stdout",
     "output_type": "stream",
     "text": [
      "file AA713_Q16.wav is loaded\n"
     ]
    },
    {
     "data": {
      "application/vnd.jupyter.widget-view+json": {
       "model_id": "3dab463d407f45f29e2ba1d68b0e9d99",
       "version_major": 2,
       "version_minor": 0
      },
      "text/plain": [
       "  0%|          | 0/2 [00:00<?, ?it/s]"
      ]
     },
     "metadata": {},
     "output_type": "display_data"
    },
    {
     "name": "stdout",
     "output_type": "stream",
     "text": [
      "file AA713_Q17.wav is loaded\n",
      "file AA713_Q19.wav is loaded\n",
      "file AA713_Q21.wav is loaded\n"
     ]
    },
    {
     "data": {
      "application/vnd.jupyter.widget-view+json": {
       "model_id": "2c389e1eb77047539aabce52a71afa53",
       "version_major": 2,
       "version_minor": 0
      },
      "text/plain": [
       "  0%|          | 0/2 [00:00<?, ?it/s]"
      ]
     },
     "metadata": {},
     "output_type": "display_data"
    },
    {
     "name": "stdout",
     "output_type": "stream",
     "text": [
      "file AA713_Q4.wav is loaded\n",
      "file AA713_Q5.wav is loaded\n",
      "file AA713_Q6.wav is loaded\n",
      "file AA713_Q8.wav is loaded\n"
     ]
    },
    {
     "data": {
      "application/vnd.jupyter.widget-view+json": {
       "model_id": "dacd07d47d504cb6ad90e717c7f6c757",
       "version_major": 2,
       "version_minor": 0
      },
      "text/plain": [
       "  0%|          | 0/2 [00:00<?, ?it/s]"
      ]
     },
     "metadata": {},
     "output_type": "display_data"
    },
    {
     "name": "stdout",
     "output_type": "stream",
     "text": [
      "file AI128_Q14.wav is loaded\n"
     ]
    },
    {
     "data": {
      "application/vnd.jupyter.widget-view+json": {
       "model_id": "8def47d113a6490093ff0890db7673cd",
       "version_major": 2,
       "version_minor": 0
      },
      "text/plain": [
       "  0%|          | 0/2 [00:00<?, ?it/s]"
      ]
     },
     "metadata": {},
     "output_type": "display_data"
    },
    {
     "name": "stdout",
     "output_type": "stream",
     "text": [
      "file AI128_Q18.wav is loaded\n"
     ]
    },
    {
     "data": {
      "application/vnd.jupyter.widget-view+json": {
       "model_id": "6c9614840f7940478104bcdcfcb7299b",
       "version_major": 2,
       "version_minor": 0
      },
      "text/plain": [
       "  0%|          | 0/6 [00:00<?, ?it/s]"
      ]
     },
     "metadata": {},
     "output_type": "display_data"
    },
    {
     "name": "stdout",
     "output_type": "stream",
     "text": [
      "file AI128_Q4.wav is loaded\n",
      "file AI128_Q8.wav is loaded\n"
     ]
    },
    {
     "data": {
      "application/vnd.jupyter.widget-view+json": {
       "model_id": "e7e9ce3b55604150a3e062dc8ab0ae84",
       "version_major": 2,
       "version_minor": 0
      },
      "text/plain": [
       "  0%|          | 0/2 [00:00<?, ?it/s]"
      ]
     },
     "metadata": {},
     "output_type": "display_data"
    },
    {
     "name": "stdout",
     "output_type": "stream",
     "text": [
      "file AM058_Q1.wav is loaded\n",
      "file AM058_Q13.wav is loaded\n"
     ]
    },
    {
     "data": {
      "application/vnd.jupyter.widget-view+json": {
       "model_id": "8069769f771847dfb483c23b26390a87",
       "version_major": 2,
       "version_minor": 0
      },
      "text/plain": [
       "  0%|          | 0/2 [00:00<?, ?it/s]"
      ]
     },
     "metadata": {},
     "output_type": "display_data"
    },
    {
     "name": "stdout",
     "output_type": "stream",
     "text": [
      "file AM058_Q19.wav is loaded\n",
      "file AM058_Q21.wav is loaded\n",
      "file AM058_Q23.wav is loaded\n",
      "file AM058_Q24.wav is loaded\n",
      "file AM058_Q4.wav is loaded\n",
      "file AM058_Q5.wav is loaded\n",
      "file AM058_Q6.wav is loaded\n",
      "file AM058_Q7.wav is loaded\n"
     ]
    },
    {
     "data": {
      "application/vnd.jupyter.widget-view+json": {
       "model_id": "5d13d79879274aeb9fae75b2f2c550cf",
       "version_major": 2,
       "version_minor": 0
      },
      "text/plain": [
       "  0%|          | 0/2 [00:00<?, ?it/s]"
      ]
     },
     "metadata": {},
     "output_type": "display_data"
    },
    {
     "name": "stdout",
     "output_type": "stream",
     "text": [
      "file AM058_Q8.wav is loaded\n"
     ]
    },
    {
     "data": {
      "application/vnd.jupyter.widget-view+json": {
       "model_id": "b7b53723e6a44b23850e92db509e6b2b",
       "version_major": 2,
       "version_minor": 0
      },
      "text/plain": [
       "  0%|          | 0/2 [00:00<?, ?it/s]"
      ]
     },
     "metadata": {},
     "output_type": "display_data"
    },
    {
     "name": "stdout",
     "output_type": "stream",
     "text": [
      "file AM526_Q10.wav is loaded\n",
      "file AM526_Q1_BROKEN.wav is loaded\n",
      "file AN867_Q1.wav is loaded\n",
      "file AN867_Q10.wav is loaded\n",
      "file AN867_Q11.wav is loaded\n",
      "file AN867_Q20.wav is loaded\n",
      "file AN867_Q24.wav is loaded\n",
      "file AN867_Q4.wav is loaded\n",
      "file AN867_Q6.wav is loaded\n",
      "file AN867_Q7.wav is loaded\n"
     ]
    },
    {
     "data": {
      "application/vnd.jupyter.widget-view+json": {
       "model_id": "305004ec7460451993375b10695041c2",
       "version_major": 2,
       "version_minor": 0
      },
      "text/plain": [
       "  0%|          | 0/2 [00:00<?, ?it/s]"
      ]
     },
     "metadata": {},
     "output_type": "display_data"
    },
    {
     "name": "stdout",
     "output_type": "stream",
     "text": [
      "file BA925_Q10.wav is loaded\n",
      "file BA925_Q11.wav is loaded\n",
      "file BA925_Q12.wav is loaded\n",
      "file BA925_Q19.wav is loaded\n",
      "file BA925_Q24.wav is loaded\n",
      "file BA925_Q3.wav is loaded\n",
      "file BA925_Q4.wav is loaded\n",
      "file BA925_Q5.wav is loaded\n",
      "file BA925_Q6.wav is loaded\n",
      "file BA925_Q8.wav is loaded\n"
     ]
    },
    {
     "data": {
      "application/vnd.jupyter.widget-view+json": {
       "model_id": "a3fdff3077204958a6db60184e0f832f",
       "version_major": 2,
       "version_minor": 0
      },
      "text/plain": [
       "  0%|          | 0/2 [00:00<?, ?it/s]"
      ]
     },
     "metadata": {},
     "output_type": "display_data"
    },
    {
     "name": "stdout",
     "output_type": "stream",
     "text": [
      "file BB508_Q19.wav is loaded\n",
      "file BL551_Q10.wav is loaded\n",
      "file BL551_Q19.wav is loaded\n",
      "file BL551_Q24.wav is loaded\n",
      "file BL551_Q6.wav is loaded\n",
      "file BM403_Q1.wav is loaded\n",
      "file BM403_Q19.wav is loaded\n",
      "file BM403_Q2.wav is loaded\n",
      "file BM403_Q24.wav is loaded\n",
      "file BM403_Q5.wav is loaded\n",
      "file BM403_Q9.wav is loaded\n"
     ]
    },
    {
     "data": {
      "application/vnd.jupyter.widget-view+json": {
       "model_id": "f7824ec8bb7140a3a70c1272a4d4d7a0",
       "version_major": 2,
       "version_minor": 0
      },
      "text/plain": [
       "  0%|          | 0/2 [00:00<?, ?it/s]"
      ]
     },
     "metadata": {},
     "output_type": "display_data"
    },
    {
     "name": "stdout",
     "output_type": "stream",
     "text": [
      "file CJ032_Q1.wav is loaded\n",
      "file CJ032_Q10.wav is loaded\n",
      "file CJ032_Q13.wav is loaded\n",
      "file CJ032_Q3.wav is loaded\n",
      "file CL374_Q1.wav is loaded\n",
      "file CL374_Q19.wav is loaded\n",
      "file CL374_Q6.wav is loaded\n",
      "file JS827_Q11.wav is loaded\n",
      "file JS827_Q13.wav is loaded\n",
      "file JS827_Q16.wav is loaded\n"
     ]
    },
    {
     "data": {
      "application/vnd.jupyter.widget-view+json": {
       "model_id": "39d2b95ee327427ab91a75102761c5f1",
       "version_major": 2,
       "version_minor": 0
      },
      "text/plain": [
       "  0%|          | 0/4 [00:00<?, ?it/s]"
      ]
     },
     "metadata": {},
     "output_type": "display_data"
    },
    {
     "name": "stdout",
     "output_type": "stream",
     "text": [
      "file JS827_Q6.wav is loaded\n",
      "file JS827_Q7.wav is loaded\n"
     ]
    },
    {
     "data": {
      "application/vnd.jupyter.widget-view+json": {
       "model_id": "b74c50d4299b4121b07bd6d0374f75ae",
       "version_major": 2,
       "version_minor": 0
      },
      "text/plain": [
       "  0%|          | 0/9 [00:00<?, ?it/s]"
      ]
     },
     "metadata": {},
     "output_type": "display_data"
    },
    {
     "name": "stdout",
     "output_type": "stream",
     "text": [
      "file JS827_Q8.wav is loaded\n"
     ]
    },
    {
     "data": {
      "application/vnd.jupyter.widget-view+json": {
       "model_id": "125e2655a49c48e5b9977d604bf2cede",
       "version_major": 2,
       "version_minor": 0
      },
      "text/plain": [
       "  0%|          | 0/2 [00:00<?, ?it/s]"
      ]
     },
     "metadata": {},
     "output_type": "display_data"
    },
    {
     "name": "stdout",
     "output_type": "stream",
     "text": [
      "file JS827_Q9.wav is loaded\n"
     ]
    },
    {
     "data": {
      "application/vnd.jupyter.widget-view+json": {
       "model_id": "84202dd5d0a1412282c26e0e3116e040",
       "version_major": 2,
       "version_minor": 0
      },
      "text/plain": [
       "  0%|          | 0/7 [00:00<?, ?it/s]"
      ]
     },
     "metadata": {},
     "output_type": "display_data"
    },
    {
     "name": "stdout",
     "output_type": "stream",
     "text": [
      "file KB361_Q11.wav is loaded\n"
     ]
    },
    {
     "data": {
      "application/vnd.jupyter.widget-view+json": {
       "model_id": "1a68931d44a347a4b49f5e2205776428",
       "version_major": 2,
       "version_minor": 0
      },
      "text/plain": [
       "  0%|          | 0/3 [00:00<?, ?it/s]"
      ]
     },
     "metadata": {},
     "output_type": "display_data"
    },
    {
     "name": "stdout",
     "output_type": "stream",
     "text": [
      "file KB361_Q16.wav is loaded\n"
     ]
    },
    {
     "data": {
      "application/vnd.jupyter.widget-view+json": {
       "model_id": "7e0fb89b4ab14bf8b77c2df0945e630c",
       "version_major": 2,
       "version_minor": 0
      },
      "text/plain": [
       "  0%|          | 0/3 [00:00<?, ?it/s]"
      ]
     },
     "metadata": {},
     "output_type": "display_data"
    },
    {
     "name": "stdout",
     "output_type": "stream",
     "text": [
      "file KB361_Q19.wav is loaded\n"
     ]
    },
    {
     "data": {
      "application/vnd.jupyter.widget-view+json": {
       "model_id": "e8b847e3595c4fd88f4f5fe072a66941",
       "version_major": 2,
       "version_minor": 0
      },
      "text/plain": [
       "  0%|          | 0/3 [00:00<?, ?it/s]"
      ]
     },
     "metadata": {},
     "output_type": "display_data"
    },
    {
     "name": "stdout",
     "output_type": "stream",
     "text": [
      "file KB361_Q21.wav is loaded\n"
     ]
    },
    {
     "data": {
      "application/vnd.jupyter.widget-view+json": {
       "model_id": "9ddc0634554844eca9ed876d29e15b53",
       "version_major": 2,
       "version_minor": 0
      },
      "text/plain": [
       "  0%|          | 0/2 [00:00<?, ?it/s]"
      ]
     },
     "metadata": {},
     "output_type": "display_data"
    },
    {
     "name": "stdout",
     "output_type": "stream",
     "text": [
      "file KB361_Q23.wav is loaded\n",
      "file KB361_Q3.wav is loaded\n",
      "file KB361_Q6.wav is loaded\n",
      "file KB361_Q7.wav is loaded\n"
     ]
    },
    {
     "data": {
      "application/vnd.jupyter.widget-view+json": {
       "model_id": "5382b3d69f1b46b691132bdcfe447eca",
       "version_major": 2,
       "version_minor": 0
      },
      "text/plain": [
       "  0%|          | 0/2 [00:00<?, ?it/s]"
      ]
     },
     "metadata": {},
     "output_type": "display_data"
    },
    {
     "name": "stdout",
     "output_type": "stream",
     "text": [
      "file KB361_Q8.wav is loaded\n"
     ]
    },
    {
     "data": {
      "application/vnd.jupyter.widget-view+json": {
       "model_id": "8aff5d2ca13747549a48a998f2e77708",
       "version_major": 2,
       "version_minor": 0
      },
      "text/plain": [
       "  0%|          | 0/3 [00:00<?, ?it/s]"
      ]
     },
     "metadata": {},
     "output_type": "display_data"
    },
    {
     "name": "stdout",
     "output_type": "stream",
     "text": [
      "file KB361_Q9.wav is loaded\n"
     ]
    },
    {
     "data": {
      "application/vnd.jupyter.widget-view+json": {
       "model_id": "0e609db26f9f47c28dc53e8c88a605da",
       "version_major": 2,
       "version_minor": 0
      },
      "text/plain": [
       "  0%|          | 0/4 [00:00<?, ?it/s]"
      ]
     },
     "metadata": {},
     "output_type": "display_data"
    },
    {
     "name": "stdout",
     "output_type": "stream",
     "text": [
      "file KM552_Q19.wav is loaded\n",
      "file KN241_Q11.wav is loaded\n",
      "file KN241_Q13.wav is loaded\n"
     ]
    },
    {
     "data": {
      "application/vnd.jupyter.widget-view+json": {
       "model_id": "bdbb279f03f04445a369b4f40cfda997",
       "version_major": 2,
       "version_minor": 0
      },
      "text/plain": [
       "  0%|          | 0/2 [00:00<?, ?it/s]"
      ]
     },
     "metadata": {},
     "output_type": "display_data"
    },
    {
     "name": "stdout",
     "output_type": "stream",
     "text": [
      "file KN241_Q15.wav is loaded\n",
      "file KN241_Q17.wav is loaded\n",
      "file KN241_Q21.wav is loaded\n",
      "file KN241_Q22.wav is loaded\n",
      "file KN241_Q23.wav is loaded\n",
      "file KN241_Q5.wav is loaded\n",
      "file KN241_Q6.wav is loaded\n",
      "file KN241_Q7.wav is loaded\n"
     ]
    },
    {
     "data": {
      "application/vnd.jupyter.widget-view+json": {
       "model_id": "fbc3254f4ccd4cf1874720a739e7c5b8",
       "version_major": 2,
       "version_minor": 0
      },
      "text/plain": [
       "  0%|          | 0/3 [00:00<?, ?it/s]"
      ]
     },
     "metadata": {},
     "output_type": "display_data"
    },
    {
     "name": "stdout",
     "output_type": "stream",
     "text": [
      "file KN241_Q8.wav is loaded\n"
     ]
    },
    {
     "data": {
      "application/vnd.jupyter.widget-view+json": {
       "model_id": "ad0908a286b3484aa8a655375ba835e5",
       "version_major": 2,
       "version_minor": 0
      },
      "text/plain": [
       "  0%|          | 0/2 [00:00<?, ?it/s]"
      ]
     },
     "metadata": {},
     "output_type": "display_data"
    },
    {
     "name": "stdout",
     "output_type": "stream",
     "text": [
      "file KN241_Q9.wav is loaded\n"
     ]
    },
    {
     "data": {
      "application/vnd.jupyter.widget-view+json": {
       "model_id": "bc1c087761024b22b884d447853a850e",
       "version_major": 2,
       "version_minor": 0
      },
      "text/plain": [
       "  0%|          | 0/2 [00:00<?, ?it/s]"
      ]
     },
     "metadata": {},
     "output_type": "display_data"
    },
    {
     "name": "stdout",
     "output_type": "stream",
     "text": [
      "file MP959_Q14.wav is loaded\n",
      "file MP959_Q22.wav is loaded\n",
      "file AA713_Q12.wav is loaded\n",
      "file AA713_Q13.wav is loaded\n"
     ]
    },
    {
     "data": {
      "application/vnd.jupyter.widget-view+json": {
       "model_id": "f36f6e3ac13a486ebd0e7920a5edebc0",
       "version_major": 2,
       "version_minor": 0
      },
      "text/plain": [
       "  0%|          | 0/2 [00:00<?, ?it/s]"
      ]
     },
     "metadata": {},
     "output_type": "display_data"
    },
    {
     "name": "stdout",
     "output_type": "stream",
     "text": [
      "file AA713_Q18.wav is loaded\n"
     ]
    },
    {
     "data": {
      "application/vnd.jupyter.widget-view+json": {
       "model_id": "9cf82d70bc3147569f5203ea6fa16a5d",
       "version_major": 2,
       "version_minor": 0
      },
      "text/plain": [
       "  0%|          | 0/5 [00:00<?, ?it/s]"
      ]
     },
     "metadata": {},
     "output_type": "display_data"
    },
    {
     "name": "stdout",
     "output_type": "stream",
     "text": [
      "file AA713_Q2.wav is loaded\n",
      "file AA713_Q24.wav is loaded\n",
      "file AI128_Q22.wav is loaded\n"
     ]
    },
    {
     "data": {
      "application/vnd.jupyter.widget-view+json": {
       "model_id": "fd95e6a4527f460c82246ad2eced28ef",
       "version_major": 2,
       "version_minor": 0
      },
      "text/plain": [
       "  0%|          | 0/3 [00:00<?, ?it/s]"
      ]
     },
     "metadata": {},
     "output_type": "display_data"
    },
    {
     "name": "stdout",
     "output_type": "stream",
     "text": [
      "file AM058_Q16.wav is loaded\n"
     ]
    },
    {
     "data": {
      "application/vnd.jupyter.widget-view+json": {
       "model_id": "22f5d6375eec486fae1401becf2119d0",
       "version_major": 2,
       "version_minor": 0
      },
      "text/plain": [
       "  0%|          | 0/5 [00:00<?, ?it/s]"
      ]
     },
     "metadata": {},
     "output_type": "display_data"
    },
    {
     "name": "stdout",
     "output_type": "stream",
     "text": [
      "file AM058_Q22.wav is loaded\n",
      "file AM526_Q14.wav is loaded\n",
      "file AM526_Q17.wav is loaded\n",
      "file AM526_Q18.wav is loaded\n",
      "file AM526_Q22.wav is loaded\n",
      "file AN867_Q22.wav is loaded\n",
      "file AN867_Q3.wav is loaded\n",
      "file AN867_Q9.wav is loaded\n"
     ]
    },
    {
     "data": {
      "application/vnd.jupyter.widget-view+json": {
       "model_id": "1e97b71ddb924a0285cd679685410766",
       "version_major": 2,
       "version_minor": 0
      },
      "text/plain": [
       "  0%|          | 0/2 [00:00<?, ?it/s]"
      ]
     },
     "metadata": {},
     "output_type": "display_data"
    },
    {
     "name": "stdout",
     "output_type": "stream",
     "text": [
      "file BA925_Q18.wav is loaded\n"
     ]
    },
    {
     "data": {
      "application/vnd.jupyter.widget-view+json": {
       "model_id": "db55aa47fed1467c8953199bc01077b8",
       "version_major": 2,
       "version_minor": 0
      },
      "text/plain": [
       "  0%|          | 0/5 [00:00<?, ?it/s]"
      ]
     },
     "metadata": {},
     "output_type": "display_data"
    },
    {
     "name": "stdout",
     "output_type": "stream",
     "text": [
      "file BA925_Q22.wav is loaded\n",
      "file BA925_Q7.wav is loaded\n"
     ]
    },
    {
     "data": {
      "application/vnd.jupyter.widget-view+json": {
       "model_id": "dbfdb27320624b7b823b571487cc3bae",
       "version_major": 2,
       "version_minor": 0
      },
      "text/plain": [
       "  0%|          | 0/3 [00:00<?, ?it/s]"
      ]
     },
     "metadata": {},
     "output_type": "display_data"
    },
    {
     "name": "stdout",
     "output_type": "stream",
     "text": [
      "file BB508_Q17.wav is loaded\n",
      "file BB508_Q18.wav is loaded\n",
      "file BB508_Q22.wav is loaded\n",
      "file BL551_Q14.wav is loaded\n",
      "file BL551_Q16.wav is loaded\n"
     ]
    },
    {
     "data": {
      "application/vnd.jupyter.widget-view+json": {
       "model_id": "b303656991ab4c3ebdb4cf06c2a61780",
       "version_major": 2,
       "version_minor": 0
      },
      "text/plain": [
       "  0%|          | 0/2 [00:00<?, ?it/s]"
      ]
     },
     "metadata": {},
     "output_type": "display_data"
    },
    {
     "name": "stdout",
     "output_type": "stream",
     "text": [
      "file BL551_Q17.wav is loaded\n",
      "file BL551_Q18.wav is loaded\n"
     ]
    },
    {
     "data": {
      "application/vnd.jupyter.widget-view+json": {
       "model_id": "84d7646718fd4ca2aba6b62dab84e718",
       "version_major": 2,
       "version_minor": 0
      },
      "text/plain": [
       "  0%|          | 0/2 [00:00<?, ?it/s]"
      ]
     },
     "metadata": {},
     "output_type": "display_data"
    },
    {
     "name": "stdout",
     "output_type": "stream",
     "text": [
      "file BL551_Q22.wav is loaded\n"
     ]
    },
    {
     "data": {
      "application/vnd.jupyter.widget-view+json": {
       "model_id": "3a59651692bd4a1f955a40440826a848",
       "version_major": 2,
       "version_minor": 0
      },
      "text/plain": [
       "  0%|          | 0/2 [00:00<?, ?it/s]"
      ]
     },
     "metadata": {},
     "output_type": "display_data"
    },
    {
     "name": "stdout",
     "output_type": "stream",
     "text": [
      "file BL551_Q3.wav is loaded\n",
      "file BM403_Q14.wav is loaded\n",
      "file BM403_Q15.wav is loaded\n",
      "file CF374_Q16.wav is loaded\n"
     ]
    },
    {
     "data": {
      "application/vnd.jupyter.widget-view+json": {
       "model_id": "7b247dbbc3a347a28cefb3fc2f61353f",
       "version_major": 2,
       "version_minor": 0
      },
      "text/plain": [
       "  0%|          | 0/2 [00:00<?, ?it/s]"
      ]
     },
     "metadata": {},
     "output_type": "display_data"
    },
    {
     "name": "stdout",
     "output_type": "stream",
     "text": [
      "file CJ032_Q18.wav is loaded\n"
     ]
    },
    {
     "data": {
      "application/vnd.jupyter.widget-view+json": {
       "model_id": "b183f2222765418a9d590d936a304a76",
       "version_major": 2,
       "version_minor": 0
      },
      "text/plain": [
       "  0%|          | 0/2 [00:00<?, ?it/s]"
      ]
     },
     "metadata": {},
     "output_type": "display_data"
    },
    {
     "name": "stdout",
     "output_type": "stream",
     "text": [
      "file CJ032_Q2.wav is loaded\n",
      "file GL603_Q16.wav is loaded\n"
     ]
    },
    {
     "data": {
      "application/vnd.jupyter.widget-view+json": {
       "model_id": "5ad52d54298e4099a9e061cdfac69cf6",
       "version_major": 2,
       "version_minor": 0
      },
      "text/plain": [
       "  0%|          | 0/3 [00:00<?, ?it/s]"
      ]
     },
     "metadata": {},
     "output_type": "display_data"
    },
    {
     "name": "stdout",
     "output_type": "stream",
     "text": [
      "file GL603_Q17.wav is loaded\n"
     ]
    },
    {
     "data": {
      "application/vnd.jupyter.widget-view+json": {
       "model_id": "c1cdace593eb45e69c30ad44439718dd",
       "version_major": 2,
       "version_minor": 0
      },
      "text/plain": [
       "  0%|          | 0/2 [00:00<?, ?it/s]"
      ]
     },
     "metadata": {},
     "output_type": "display_data"
    },
    {
     "name": "stdout",
     "output_type": "stream",
     "text": [
      "file GL603_Q18.wav is loaded\n"
     ]
    },
    {
     "data": {
      "application/vnd.jupyter.widget-view+json": {
       "model_id": "22f65161ef1f4e40a79d03f72a544b86",
       "version_major": 2,
       "version_minor": 0
      },
      "text/plain": [
       "  0%|          | 0/5 [00:00<?, ?it/s]"
      ]
     },
     "metadata": {},
     "output_type": "display_data"
    },
    {
     "name": "stdout",
     "output_type": "stream",
     "text": [
      "file GL603_Q9.wav is loaded\n"
     ]
    },
    {
     "data": {
      "application/vnd.jupyter.widget-view+json": {
       "model_id": "d6224fa337f644e48af6e9da762a2056",
       "version_major": 2,
       "version_minor": 0
      },
      "text/plain": [
       "  0%|          | 0/3 [00:00<?, ?it/s]"
      ]
     },
     "metadata": {},
     "output_type": "display_data"
    },
    {
     "name": "stdout",
     "output_type": "stream",
     "text": [
      "file JS827_Q14.wav is loaded\n"
     ]
    },
    {
     "data": {
      "application/vnd.jupyter.widget-view+json": {
       "model_id": "6bc0ee53bfd34d4eb01531de9ec5b198",
       "version_major": 2,
       "version_minor": 0
      },
      "text/plain": [
       "  0%|          | 0/3 [00:00<?, ?it/s]"
      ]
     },
     "metadata": {},
     "output_type": "display_data"
    },
    {
     "name": "stdout",
     "output_type": "stream",
     "text": [
      "file JS827_Q17.wav is loaded\n",
      "file JS827_Q18.wav is loaded\n"
     ]
    },
    {
     "data": {
      "application/vnd.jupyter.widget-view+json": {
       "model_id": "8af8027fcfc1445e9132e68ef74c7e03",
       "version_major": 2,
       "version_minor": 0
      },
      "text/plain": [
       "  0%|          | 0/6 [00:00<?, ?it/s]"
      ]
     },
     "metadata": {},
     "output_type": "display_data"
    },
    {
     "name": "stdout",
     "output_type": "stream",
     "text": [
      "file JS827_Q21.wav is loaded\n"
     ]
    },
    {
     "data": {
      "application/vnd.jupyter.widget-view+json": {
       "model_id": "a416fc63037f42d1809189a0d559ac24",
       "version_major": 2,
       "version_minor": 0
      },
      "text/plain": [
       "  0%|          | 0/2 [00:00<?, ?it/s]"
      ]
     },
     "metadata": {},
     "output_type": "display_data"
    },
    {
     "name": "stdout",
     "output_type": "stream",
     "text": [
      "file JS827_Q22.wav is loaded\n"
     ]
    },
    {
     "data": {
      "application/vnd.jupyter.widget-view+json": {
       "model_id": "db48b66ebe0447aa9f9bebe0474fc447",
       "version_major": 2,
       "version_minor": 0
      },
      "text/plain": [
       "  0%|          | 0/2 [00:00<?, ?it/s]"
      ]
     },
     "metadata": {},
     "output_type": "display_data"
    },
    {
     "name": "stdout",
     "output_type": "stream",
     "text": [
      "file JS827_Q3.wav is loaded\n",
      "file JS827_Q4.wav is loaded\n",
      "file KM552_Q18.wav is loaded\n"
     ]
    },
    {
     "data": {
      "application/vnd.jupyter.widget-view+json": {
       "model_id": "f0db425552484ca6970263d6c69acc60",
       "version_major": 2,
       "version_minor": 0
      },
      "text/plain": [
       "  0%|          | 0/3 [00:00<?, ?it/s]"
      ]
     },
     "metadata": {},
     "output_type": "display_data"
    },
    {
     "name": "stdout",
     "output_type": "stream",
     "text": [
      "file KM552_Q22.wav is loaded\n",
      "file MM647_Q14.wav is loaded\n"
     ]
    },
    {
     "data": {
      "application/vnd.jupyter.widget-view+json": {
       "model_id": "7d097489977a49869d13f289e089f9c0",
       "version_major": 2,
       "version_minor": 0
      },
      "text/plain": [
       "  0%|          | 0/2 [00:00<?, ?it/s]"
      ]
     },
     "metadata": {},
     "output_type": "display_data"
    },
    {
     "name": "stdout",
     "output_type": "stream",
     "text": [
      "file MM647_Q17.wav is loaded\n"
     ]
    },
    {
     "data": {
      "application/vnd.jupyter.widget-view+json": {
       "model_id": "f9bb58c7c8a446e48ebd210fed6901fb",
       "version_major": 2,
       "version_minor": 0
      },
      "text/plain": [
       "  0%|          | 0/2 [00:00<?, ?it/s]"
      ]
     },
     "metadata": {},
     "output_type": "display_data"
    },
    {
     "name": "stdout",
     "output_type": "stream",
     "text": [
      "file MM647_Q20_MISUNDERSTANDING.wav is loaded\n"
     ]
    },
    {
     "data": {
      "application/vnd.jupyter.widget-view+json": {
       "model_id": "b1c1958c6d234123828367223de5554d",
       "version_major": 2,
       "version_minor": 0
      },
      "text/plain": [
       "  0%|          | 0/2 [00:00<?, ?it/s]"
      ]
     },
     "metadata": {},
     "output_type": "display_data"
    },
    {
     "name": "stdout",
     "output_type": "stream",
     "text": [
      "file MM647_Q21.wav is loaded\n",
      "file MM647_Q22_MISUNDERSTANDING.wav is loaded\n",
      "file MM647_Q3_MISUNDERSTANDING.wav is loaded\n"
     ]
    },
    {
     "data": {
      "application/vnd.jupyter.widget-view+json": {
       "model_id": "6b053913dc0d45189b889771f0d73b8f",
       "version_major": 2,
       "version_minor": 0
      },
      "text/plain": [
       "  0%|          | 0/2 [00:00<?, ?it/s]"
      ]
     },
     "metadata": {},
     "output_type": "display_data"
    },
    {
     "name": "stdout",
     "output_type": "stream",
     "text": [
      "file MM647_Q9.wav is loaded\n"
     ]
    },
    {
     "data": {
      "application/vnd.jupyter.widget-view+json": {
       "model_id": "8f81e6387a3441028020c2002e5ccb63",
       "version_major": 2,
       "version_minor": 0
      },
      "text/plain": [
       "  0%|          | 0/4 [00:00<?, ?it/s]"
      ]
     },
     "metadata": {},
     "output_type": "display_data"
    },
    {
     "name": "stdout",
     "output_type": "stream",
     "text": [
      "file MP959_Q10.wav is loaded\n",
      "file MP959_Q12.wav is loaded\n",
      "file MP959_Q17.wav is loaded\n",
      "file MP959_Q18.wav is loaded\n"
     ]
    },
    {
     "data": {
      "application/vnd.jupyter.widget-view+json": {
       "model_id": "44b4fa753f50478db960de1810a84caf",
       "version_major": 2,
       "version_minor": 0
      },
      "text/plain": [
       "  0%|          | 0/2 [00:00<?, ?it/s]"
      ]
     },
     "metadata": {},
     "output_type": "display_data"
    },
    {
     "name": "stdout",
     "output_type": "stream",
     "text": [
      "file MP959_Q23.wav is loaded\n",
      "file MP959_Q24.wav is loaded\n",
      "file MS090_Q11.wav is loaded\n",
      "file MS090_Q14.wav is loaded\n"
     ]
    },
    {
     "data": {
      "application/vnd.jupyter.widget-view+json": {
       "model_id": "b6dbeba462e14899b74619551f2818d5",
       "version_major": 2,
       "version_minor": 0
      },
      "text/plain": [
       "  0%|          | 0/2 [00:00<?, ?it/s]"
      ]
     },
     "metadata": {},
     "output_type": "display_data"
    },
    {
     "name": "stdout",
     "output_type": "stream",
     "text": [
      "file MS090_Q16.wav is loaded\n"
     ]
    },
    {
     "data": {
      "application/vnd.jupyter.widget-view+json": {
       "model_id": "d8238d1e87c944bf9c99e925327ee2bf",
       "version_major": 2,
       "version_minor": 0
      },
      "text/plain": [
       "  0%|          | 0/3 [00:00<?, ?it/s]"
      ]
     },
     "metadata": {},
     "output_type": "display_data"
    },
    {
     "name": "stdout",
     "output_type": "stream",
     "text": [
      "file MS090_Q17.wav is loaded\n"
     ]
    },
    {
     "data": {
      "application/vnd.jupyter.widget-view+json": {
       "model_id": "48b6e075866c4838a8e1e1089f401399",
       "version_major": 2,
       "version_minor": 0
      },
      "text/plain": [
       "  0%|          | 0/2 [00:00<?, ?it/s]"
      ]
     },
     "metadata": {},
     "output_type": "display_data"
    },
    {
     "name": "stdout",
     "output_type": "stream",
     "text": [
      "file MS090_Q18.wav is loaded\n"
     ]
    },
    {
     "data": {
      "application/vnd.jupyter.widget-view+json": {
       "model_id": "c6a3d7062d594c9b8f1559ef700d5c9e",
       "version_major": 2,
       "version_minor": 0
      },
      "text/plain": [
       "  0%|          | 0/3 [00:00<?, ?it/s]"
      ]
     },
     "metadata": {},
     "output_type": "display_data"
    },
    {
     "name": "stdout",
     "output_type": "stream",
     "text": [
      "file MS090_Q21.wav is loaded\n",
      "file MS090_Q22.wav is loaded\n",
      "file MS090_Q23.wav is loaded\n",
      "file NP413_Q18.wav is loaded\n"
     ]
    },
    {
     "data": {
      "application/vnd.jupyter.widget-view+json": {
       "model_id": "137eab2581e14859911b468561506714",
       "version_major": 2,
       "version_minor": 0
      },
      "text/plain": [
       "  0%|          | 0/2 [00:00<?, ?it/s]"
      ]
     },
     "metadata": {},
     "output_type": "display_data"
    },
    {
     "name": "stdout",
     "output_type": "stream",
     "text": [
      "file PA478_Q17.wav is loaded\n",
      "file PA478_Q18.wav is loaded\n",
      "file SA406_Q13.wav is loaded\n",
      "file SA406_Q14.wav is loaded\n",
      "file SA406_Q17.wav is loaded\n",
      "file SA406_Q18.wav is loaded\n"
     ]
    },
    {
     "data": {
      "application/vnd.jupyter.widget-view+json": {
       "model_id": "cec501f0f0ae4908b6a428fdafd05c4d",
       "version_major": 2,
       "version_minor": 0
      },
      "text/plain": [
       "  0%|          | 0/2 [00:00<?, ?it/s]"
      ]
     },
     "metadata": {},
     "output_type": "display_data"
    },
    {
     "name": "stdout",
     "output_type": "stream",
     "text": [
      "file SA406_Q22.wav is loaded\n",
      "file SE289_Q21.wav is loaded\n"
     ]
    },
    {
     "data": {
      "application/vnd.jupyter.widget-view+json": {
       "model_id": "6cba116a60a141db88829d4eadc06c7c",
       "version_major": 2,
       "version_minor": 0
      },
      "text/plain": [
       "  0%|          | 0/2 [00:00<?, ?it/s]"
      ]
     },
     "metadata": {},
     "output_type": "display_data"
    },
    {
     "name": "stdout",
     "output_type": "stream",
     "text": [
      "file SS821_Q10.wav is loaded\n",
      "file SS821_Q15.wav is loaded\n",
      "file SS821_Q17.wav is loaded\n",
      "file SS821_Q18.wav is loaded\n"
     ]
    },
    {
     "data": {
      "application/vnd.jupyter.widget-view+json": {
       "model_id": "8f3f1036b6094e54ba880c845c93aa28",
       "version_major": 2,
       "version_minor": 0
      },
      "text/plain": [
       "  0%|          | 0/2 [00:00<?, ?it/s]"
      ]
     },
     "metadata": {},
     "output_type": "display_data"
    },
    {
     "name": "stdout",
     "output_type": "stream",
     "text": [
      "file SS821_Q22.wav is loaded\n"
     ]
    }
   ],
   "source": [
    "remove_noise('data/','nonoise/')"
   ]
  },
  {
   "cell_type": "code",
   "execution_count": null,
   "id": "705566b7",
   "metadata": {},
   "outputs": [],
   "source": []
  }
 ],
 "metadata": {
  "kernelspec": {
   "display_name": "Python 3",
   "language": "python",
   "name": "python3"
  },
  "language_info": {
   "codemirror_mode": {
    "name": "ipython",
    "version": 3
   },
   "file_extension": ".py",
   "mimetype": "text/x-python",
   "name": "python",
   "nbconvert_exporter": "python",
   "pygments_lexer": "ipython3",
   "version": "3.8.8"
  },
  "widgets": {
   "application/vnd.jupyter.widget-state+json": {
    "state": {
     "0041e93ae0244081aa87e35d46399aec": {
      "model_module": "@jupyter-widgets/controls",
      "model_module_version": "1.5.0",
      "model_name": "DescriptionStyleModel",
      "state": {
       "description_width": ""
      }
     },
     "004acad97576407eb6db011f443c9c99": {
      "model_module": "@jupyter-widgets/controls",
      "model_module_version": "1.5.0",
      "model_name": "DescriptionStyleModel",
      "state": {
       "description_width": ""
      }
     },
     "00ed960a2d374b8cb0dafb9c7b7b1db5": {
      "model_module": "@jupyter-widgets/base",
      "model_module_version": "1.2.0",
      "model_name": "LayoutModel",
      "state": {}
     },
     "0103b2f600dc418ca8f9dfb8727239aa": {
      "model_module": "@jupyter-widgets/base",
      "model_module_version": "1.2.0",
      "model_name": "LayoutModel",
      "state": {}
     },
     "023008ecd7734802a8300f1369eca247": {
      "model_module": "@jupyter-widgets/base",
      "model_module_version": "1.2.0",
      "model_name": "LayoutModel",
      "state": {}
     },
     "0252697dc4804dadabb555f84e718ef9": {
      "model_module": "@jupyter-widgets/controls",
      "model_module_version": "1.5.0",
      "model_name": "ProgressStyleModel",
      "state": {
       "description_width": ""
      }
     },
     "0254b452e3704af69554e2942da5b601": {
      "model_module": "@jupyter-widgets/base",
      "model_module_version": "1.2.0",
      "model_name": "LayoutModel",
      "state": {}
     },
     "028e803392d04b4bb3c5ba899c1fc2d4": {
      "model_module": "@jupyter-widgets/base",
      "model_module_version": "1.2.0",
      "model_name": "LayoutModel",
      "state": {}
     },
     "03655a20efcd48609dbc76a9169bb44e": {
      "model_module": "@jupyter-widgets/controls",
      "model_module_version": "1.5.0",
      "model_name": "DescriptionStyleModel",
      "state": {
       "description_width": ""
      }
     },
     "03880be83a0c474b8a3d8dfac8646aeb": {
      "model_module": "@jupyter-widgets/base",
      "model_module_version": "1.2.0",
      "model_name": "LayoutModel",
      "state": {}
     },
     "0435f7bce8a646c68d787fad866b839a": {
      "model_module": "@jupyter-widgets/controls",
      "model_module_version": "1.5.0",
      "model_name": "HTMLModel",
      "state": {
       "layout": "IPY_MODEL_dc92eee9b3954db491e2ffcded60a3a0",
       "style": "IPY_MODEL_c7339153342d43f6a58a7068bbe23aaa",
       "value": " 5/5 [00:01&lt;00:00,  3.74it/s]"
      }
     },
     "0457250fa478436191923058efc2155c": {
      "model_module": "@jupyter-widgets/controls",
      "model_module_version": "1.5.0",
      "model_name": "HTMLModel",
      "state": {
       "layout": "IPY_MODEL_d09e9d9d1e114818b9248ec345bee093",
       "style": "IPY_MODEL_5c3282e6b76f4ccab3a98a2f46a5bdd9",
       "value": "100%"
      }
     },
     "04ad5f4fc90545b380bf246b70e87b85": {
      "model_module": "@jupyter-widgets/base",
      "model_module_version": "1.2.0",
      "model_name": "LayoutModel",
      "state": {}
     },
     "04bbf76b37c94d6cabbfdea5d637bac0": {
      "model_module": "@jupyter-widgets/base",
      "model_module_version": "1.2.0",
      "model_name": "LayoutModel",
      "state": {}
     },
     "06595709f6874af69a4870e5cb45eb40": {
      "model_module": "@jupyter-widgets/base",
      "model_module_version": "1.2.0",
      "model_name": "LayoutModel",
      "state": {}
     },
     "06f1dec72fcc4e7f9110e7d335980205": {
      "model_module": "@jupyter-widgets/base",
      "model_module_version": "1.2.0",
      "model_name": "LayoutModel",
      "state": {}
     },
     "070002561ecc4396bf3a7ee8c2530cb2": {
      "model_module": "@jupyter-widgets/controls",
      "model_module_version": "1.5.0",
      "model_name": "HTMLModel",
      "state": {
       "layout": "IPY_MODEL_399daa02dad8453ebcd003ce13205d9f",
       "style": "IPY_MODEL_c07fa6260a7e451ea2fed199122e882f",
       "value": "100%"
      }
     },
     "073520df367e4d23a39470ad7e659948": {
      "model_module": "@jupyter-widgets/base",
      "model_module_version": "1.2.0",
      "model_name": "LayoutModel",
      "state": {}
     },
     "07522d34c8714fef887039b68e969a6e": {
      "model_module": "@jupyter-widgets/controls",
      "model_module_version": "1.5.0",
      "model_name": "HTMLModel",
      "state": {
       "layout": "IPY_MODEL_a0e3c20aa2b24433ba57d0783c816c80",
       "style": "IPY_MODEL_f5a0d6ac1349444b961f39ea0ac70202",
       "value": " 3/3 [00:00&lt;00:00,  3.64it/s]"
      }
     },
     "07dd0031aeaf438b9fab19ed2d5ab8fa": {
      "model_module": "@jupyter-widgets/base",
      "model_module_version": "1.2.0",
      "model_name": "LayoutModel",
      "state": {}
     },
     "088c2e8fa2d74a7182a59d28f3c83256": {
      "model_module": "@jupyter-widgets/controls",
      "model_module_version": "1.5.0",
      "model_name": "HTMLModel",
      "state": {
       "layout": "IPY_MODEL_9d462179e4c34240be84538bd2277544",
       "style": "IPY_MODEL_48a8a867defb473e8b669672e55e4c34",
       "value": " 2/2 [00:00&lt;00:00,  3.49it/s]"
      }
     },
     "088c81d3f74744f6ab0e11e4d122bb77": {
      "model_module": "@jupyter-widgets/controls",
      "model_module_version": "1.5.0",
      "model_name": "FloatProgressModel",
      "state": {
       "bar_style": "success",
       "layout": "IPY_MODEL_7dcd83557c754d87a7d4e76c5e559b0a",
       "max": 2,
       "style": "IPY_MODEL_a84d132875904a22b93f97e160bb9bfa",
       "value": 2
      }
     },
     "08c290caeba04999b7a30f8d1ddb7bc2": {
      "model_module": "@jupyter-widgets/base",
      "model_module_version": "1.2.0",
      "model_name": "LayoutModel",
      "state": {}
     },
     "09330b1365b14ebaa1b1a90aaae69f0a": {
      "model_module": "@jupyter-widgets/base",
      "model_module_version": "1.2.0",
      "model_name": "LayoutModel",
      "state": {}
     },
     "096ba7e476bf43c1bcd5af51439aedf4": {
      "model_module": "@jupyter-widgets/base",
      "model_module_version": "1.2.0",
      "model_name": "LayoutModel",
      "state": {}
     },
     "09a5d8b6ac444e4f82e8124c53cac04e": {
      "model_module": "@jupyter-widgets/base",
      "model_module_version": "1.2.0",
      "model_name": "LayoutModel",
      "state": {}
     },
     "0a418adb69dd4acbad9dda8ba8287522": {
      "model_module": "@jupyter-widgets/controls",
      "model_module_version": "1.5.0",
      "model_name": "HTMLModel",
      "state": {
       "layout": "IPY_MODEL_9e9f2a759cdb4493a1c09f6a0b28bfd7",
       "style": "IPY_MODEL_1c1c68e76a94403fa946f258ea9a62c8",
       "value": " 2/2 [00:01&lt;00:00,  1.76it/s]"
      }
     },
     "0a638663edf84272a5a1ab8cc7ffad65": {
      "model_module": "@jupyter-widgets/controls",
      "model_module_version": "1.5.0",
      "model_name": "ProgressStyleModel",
      "state": {
       "description_width": ""
      }
     },
     "0a72953b0bb3410f90470581bd901a6f": {
      "model_module": "@jupyter-widgets/controls",
      "model_module_version": "1.5.0",
      "model_name": "HTMLModel",
      "state": {
       "layout": "IPY_MODEL_162ab022091e488fac77773e607c555c",
       "style": "IPY_MODEL_0cb41346eb104394adbe39f6ce0359e5",
       "value": "100%"
      }
     },
     "0a83c1f51947417ab784cd85788a2203": {
      "model_module": "@jupyter-widgets/controls",
      "model_module_version": "1.5.0",
      "model_name": "HTMLModel",
      "state": {
       "layout": "IPY_MODEL_aaa1bab9eb5a48f391b94a096eeea006",
       "style": "IPY_MODEL_36cbbbe4485948e58adee1ab45d381ff",
       "value": "100%"
      }
     },
     "0ade3f682b854ff78dc66f13d820705d": {
      "model_module": "@jupyter-widgets/controls",
      "model_module_version": "1.5.0",
      "model_name": "HTMLModel",
      "state": {
       "layout": "IPY_MODEL_e37d62e368c34689a2eab8c6cbe66608",
       "style": "IPY_MODEL_2b8d689cc9544a7587e41de4dda27120",
       "value": "100%"
      }
     },
     "0b2c337802784175bdeed4910d84dc86": {
      "model_module": "@jupyter-widgets/controls",
      "model_module_version": "1.5.0",
      "model_name": "ProgressStyleModel",
      "state": {
       "description_width": ""
      }
     },
     "0b8d4160fdcf4fe6bb6925c211455393": {
      "model_module": "@jupyter-widgets/controls",
      "model_module_version": "1.5.0",
      "model_name": "FloatProgressModel",
      "state": {
       "bar_style": "success",
       "layout": "IPY_MODEL_3b9e4ac371a24571b89ef432f90d3eaa",
       "max": 2,
       "style": "IPY_MODEL_c73a07ec5880494c840223b77d9de6d9",
       "value": 2
      }
     },
     "0c1c35029e704a7b9da3c4a4a5be9c42": {
      "model_module": "@jupyter-widgets/controls",
      "model_module_version": "1.5.0",
      "model_name": "DescriptionStyleModel",
      "state": {
       "description_width": ""
      }
     },
     "0c236e780dd84df796cd40146c290051": {
      "model_module": "@jupyter-widgets/controls",
      "model_module_version": "1.5.0",
      "model_name": "FloatProgressModel",
      "state": {
       "bar_style": "success",
       "layout": "IPY_MODEL_5fecffeaae904582a97762ae0f2f17d7",
       "max": 3,
       "style": "IPY_MODEL_c77a31e7d51a46ed8b0fa8713769568e",
       "value": 3
      }
     },
     "0c2ccd6c7182470ab154424ee74fb902": {
      "model_module": "@jupyter-widgets/controls",
      "model_module_version": "1.5.0",
      "model_name": "FloatProgressModel",
      "state": {
       "bar_style": "success",
       "layout": "IPY_MODEL_bc5905b9c2a2446fa22f87acd8264ba2",
       "max": 2,
       "style": "IPY_MODEL_d774b8d81d1d4449ab7dce8b5b44207e",
       "value": 2
      }
     },
     "0c67012185fd466f8deff27a4f29ee75": {
      "model_module": "@jupyter-widgets/controls",
      "model_module_version": "1.5.0",
      "model_name": "ProgressStyleModel",
      "state": {
       "description_width": ""
      }
     },
     "0c849e54732a4d008b715c832e177ec1": {
      "model_module": "@jupyter-widgets/controls",
      "model_module_version": "1.5.0",
      "model_name": "DescriptionStyleModel",
      "state": {
       "description_width": ""
      }
     },
     "0ca8f5e4f0e04b1397b2d5d7e186c88d": {
      "model_module": "@jupyter-widgets/controls",
      "model_module_version": "1.5.0",
      "model_name": "DescriptionStyleModel",
      "state": {
       "description_width": ""
      }
     },
     "0cb41346eb104394adbe39f6ce0359e5": {
      "model_module": "@jupyter-widgets/controls",
      "model_module_version": "1.5.0",
      "model_name": "DescriptionStyleModel",
      "state": {
       "description_width": ""
      }
     },
     "0cdc02a521e943df99046b4992f26c0c": {
      "model_module": "@jupyter-widgets/controls",
      "model_module_version": "1.5.0",
      "model_name": "DescriptionStyleModel",
      "state": {
       "description_width": ""
      }
     },
     "0cfa7a3125bc4a2eaa0648261737af04": {
      "model_module": "@jupyter-widgets/base",
      "model_module_version": "1.2.0",
      "model_name": "LayoutModel",
      "state": {}
     },
     "0d1563d496d14e03ad87bd7e444ad064": {
      "model_module": "@jupyter-widgets/controls",
      "model_module_version": "1.5.0",
      "model_name": "HTMLModel",
      "state": {
       "layout": "IPY_MODEL_4488d3ab4cf946009df613c0f9268ed8",
       "style": "IPY_MODEL_0f9725b3c76341d1b7042268993f7fe2",
       "value": "100%"
      }
     },
     "0d4bb600e684498db98014be065889ef": {
      "model_module": "@jupyter-widgets/base",
      "model_module_version": "1.2.0",
      "model_name": "LayoutModel",
      "state": {}
     },
     "0d4e36c1911449e1ac70a55b65659295": {
      "model_module": "@jupyter-widgets/base",
      "model_module_version": "1.2.0",
      "model_name": "LayoutModel",
      "state": {}
     },
     "0daf2a7b450444f382971982de69dd6d": {
      "model_module": "@jupyter-widgets/controls",
      "model_module_version": "1.5.0",
      "model_name": "HTMLModel",
      "state": {
       "layout": "IPY_MODEL_945b324c241b4c1aad81ca2725ec9efd",
       "style": "IPY_MODEL_7384dc44ceb64316b7c9a785c29c61ef",
       "value": " 2/2 [00:00&lt;00:00,  3.27it/s]"
      }
     },
     "0e28f81a6a1a435a95e31142c7343321": {
      "model_module": "@jupyter-widgets/controls",
      "model_module_version": "1.5.0",
      "model_name": "DescriptionStyleModel",
      "state": {
       "description_width": ""
      }
     },
     "0e609db26f9f47c28dc53e8c88a605da": {
      "model_module": "@jupyter-widgets/controls",
      "model_module_version": "1.5.0",
      "model_name": "HBoxModel",
      "state": {
       "children": [
        "IPY_MODEL_0457250fa478436191923058efc2155c",
        "IPY_MODEL_f08fddef1d694db2b93396db2d068014",
        "IPY_MODEL_f783d23c4db843fd8022edb8de1edaa6"
       ],
       "layout": "IPY_MODEL_f2e14ddea8294c8ba94b1530f33bf86a"
      }
     },
     "0e93055a394c492593d3733f3edb5fc1": {
      "model_module": "@jupyter-widgets/controls",
      "model_module_version": "1.5.0",
      "model_name": "ProgressStyleModel",
      "state": {
       "description_width": ""
      }
     },
     "0e9942cac8c34734a0a9214888966b8e": {
      "model_module": "@jupyter-widgets/base",
      "model_module_version": "1.2.0",
      "model_name": "LayoutModel",
      "state": {}
     },
     "0ec986064f6d4cbba7659a4dbb8ade20": {
      "model_module": "@jupyter-widgets/controls",
      "model_module_version": "1.5.0",
      "model_name": "HTMLModel",
      "state": {
       "layout": "IPY_MODEL_b56cbee00823455ea31fd5bb6002c8eb",
       "style": "IPY_MODEL_21ca6a16a5a44878aa84ab34a72a8d76",
       "value": " 3/3 [00:00&lt;00:00,  3.77it/s]"
      }
     },
     "0ef425bb965e47b9b2b987bfff5d83b6": {
      "model_module": "@jupyter-widgets/controls",
      "model_module_version": "1.5.0",
      "model_name": "HTMLModel",
      "state": {
       "layout": "IPY_MODEL_72d8d38a8d5c42f1b341275a1b15757b",
       "style": "IPY_MODEL_8c47a63b8aa546e7860973e26c890105",
       "value": " 2/2 [00:00&lt;00:00,  3.44it/s]"
      }
     },
     "0f9725b3c76341d1b7042268993f7fe2": {
      "model_module": "@jupyter-widgets/controls",
      "model_module_version": "1.5.0",
      "model_name": "DescriptionStyleModel",
      "state": {
       "description_width": ""
      }
     },
     "0fdf250e1b284a2abaa89271db91e278": {
      "model_module": "@jupyter-widgets/base",
      "model_module_version": "1.2.0",
      "model_name": "LayoutModel",
      "state": {}
     },
     "102f50c475f54302a25b8e45fb22b91e": {
      "model_module": "@jupyter-widgets/controls",
      "model_module_version": "1.5.0",
      "model_name": "FloatProgressModel",
      "state": {
       "bar_style": "success",
       "layout": "IPY_MODEL_5af73697e3644e3f81cc6b66b9a35117",
       "max": 2,
       "style": "IPY_MODEL_f77f5f7a6cc54a3792e55f71633779c8",
       "value": 2
      }
     },
     "10494afdbe9e45c58ac90e566344056a": {
      "model_module": "@jupyter-widgets/base",
      "model_module_version": "1.2.0",
      "model_name": "LayoutModel",
      "state": {}
     },
     "10bdd7ebdaec4cfba69a6c1b5ea04fda": {
      "model_module": "@jupyter-widgets/base",
      "model_module_version": "1.2.0",
      "model_name": "LayoutModel",
      "state": {}
     },
     "111aa240f60642dca785cc203ddac304": {
      "model_module": "@jupyter-widgets/controls",
      "model_module_version": "1.5.0",
      "model_name": "FloatProgressModel",
      "state": {
       "bar_style": "success",
       "layout": "IPY_MODEL_e34f0ab3300649898c37380f96f579df",
       "max": 5,
       "style": "IPY_MODEL_0252697dc4804dadabb555f84e718ef9",
       "value": 5
      }
     },
     "1183245abc234828a8b262fc9189cd8d": {
      "model_module": "@jupyter-widgets/base",
      "model_module_version": "1.2.0",
      "model_name": "LayoutModel",
      "state": {}
     },
     "1228bfab1d124dcbbdeb6960f42680d4": {
      "model_module": "@jupyter-widgets/controls",
      "model_module_version": "1.5.0",
      "model_name": "HTMLModel",
      "state": {
       "layout": "IPY_MODEL_0cfa7a3125bc4a2eaa0648261737af04",
       "style": "IPY_MODEL_7474499ace5343b8aa98a0cd4224e581",
       "value": "100%"
      }
     },
     "12336eb1c49e4d0994ccfd04824106e4": {
      "model_module": "@jupyter-widgets/controls",
      "model_module_version": "1.5.0",
      "model_name": "DescriptionStyleModel",
      "state": {
       "description_width": ""
      }
     },
     "124c6a6467d545109efb5fcad2d6e662": {
      "model_module": "@jupyter-widgets/controls",
      "model_module_version": "1.5.0",
      "model_name": "FloatProgressModel",
      "state": {
       "bar_style": "success",
       "layout": "IPY_MODEL_6872f152090040edb6df4c3bbd5c31ec",
       "max": 2,
       "style": "IPY_MODEL_e540f3c530084778977c4f841f927278",
       "value": 2
      }
     },
     "125cdc86776948e8a364289ef0858f69": {
      "model_module": "@jupyter-widgets/controls",
      "model_module_version": "1.5.0",
      "model_name": "DescriptionStyleModel",
      "state": {
       "description_width": ""
      }
     },
     "125e2655a49c48e5b9977d604bf2cede": {
      "model_module": "@jupyter-widgets/controls",
      "model_module_version": "1.5.0",
      "model_name": "HBoxModel",
      "state": {
       "children": [
        "IPY_MODEL_627ede66058d4732a03d281d4e91e71c",
        "IPY_MODEL_e4ebb96d3fc141758fb9296aa000ab4f",
        "IPY_MODEL_14ef9899ed46484ab81b710ec54e5246"
       ],
       "layout": "IPY_MODEL_b4251e88a5a94a948b75cf918ed48389"
      }
     },
     "12828a7dd0e34db886bca9e8b27d711d": {
      "model_module": "@jupyter-widgets/controls",
      "model_module_version": "1.5.0",
      "model_name": "DescriptionStyleModel",
      "state": {
       "description_width": ""
      }
     },
     "12b4f4b03a884a6bbda13790935dae87": {
      "model_module": "@jupyter-widgets/base",
      "model_module_version": "1.2.0",
      "model_name": "LayoutModel",
      "state": {}
     },
     "12cc0b1f810c43b290fd22d001f6b0aa": {
      "model_module": "@jupyter-widgets/base",
      "model_module_version": "1.2.0",
      "model_name": "LayoutModel",
      "state": {}
     },
     "1312f5c452a644a3a94750bc8416c437": {
      "model_module": "@jupyter-widgets/controls",
      "model_module_version": "1.5.0",
      "model_name": "HTMLModel",
      "state": {
       "layout": "IPY_MODEL_36f4dedbcbad47ed8dd26c6de42a13ae",
       "style": "IPY_MODEL_5e6ae7fd424542bbaea82cfd07f2313a",
       "value": "100%"
      }
     },
     "131b6207aec44c18a2f3a3b2cfaab019": {
      "model_module": "@jupyter-widgets/base",
      "model_module_version": "1.2.0",
      "model_name": "LayoutModel",
      "state": {}
     },
     "131d4f86f9704daaaebf363d85c01478": {
      "model_module": "@jupyter-widgets/base",
      "model_module_version": "1.2.0",
      "model_name": "LayoutModel",
      "state": {}
     },
     "137eab2581e14859911b468561506714": {
      "model_module": "@jupyter-widgets/controls",
      "model_module_version": "1.5.0",
      "model_name": "HBoxModel",
      "state": {
       "children": [
        "IPY_MODEL_c8dcd7a3356945e2b5be5c2ec0d8a8c9",
        "IPY_MODEL_2cd0ce6b0ea746c69c26efd556d9de14",
        "IPY_MODEL_915cd3bdb5544a70b35a783e4547dbf0"
       ],
       "layout": "IPY_MODEL_bad1b4c0c4e24a22b029e0ac6e9cca6e"
      }
     },
     "13ed14847ff54cae90664b48b19fdd19": {
      "model_module": "@jupyter-widgets/controls",
      "model_module_version": "1.5.0",
      "model_name": "FloatProgressModel",
      "state": {
       "bar_style": "success",
       "layout": "IPY_MODEL_08c290caeba04999b7a30f8d1ddb7bc2",
       "max": 2,
       "style": "IPY_MODEL_2927b3c8bbc64668871b8142c43a0b7f",
       "value": 2
      }
     },
     "1484ff74abbe421385742d831ecb5f85": {
      "model_module": "@jupyter-widgets/base",
      "model_module_version": "1.2.0",
      "model_name": "LayoutModel",
      "state": {}
     },
     "14daec9a90974122a6eb973967aaee16": {
      "model_module": "@jupyter-widgets/base",
      "model_module_version": "1.2.0",
      "model_name": "LayoutModel",
      "state": {}
     },
     "14ef9899ed46484ab81b710ec54e5246": {
      "model_module": "@jupyter-widgets/controls",
      "model_module_version": "1.5.0",
      "model_name": "HTMLModel",
      "state": {
       "layout": "IPY_MODEL_c4b97a588ba04ea68bd2f2aa67094372",
       "style": "IPY_MODEL_ef3bec6b9c394035b7a8d0f68983f5b6",
       "value": " 2/2 [00:00&lt;00:00,  3.64it/s]"
      }
     },
     "15069aa0d66542dab172da77eedf8a03": {
      "model_module": "@jupyter-widgets/controls",
      "model_module_version": "1.5.0",
      "model_name": "ProgressStyleModel",
      "state": {
       "description_width": ""
      }
     },
     "155aae7f9e9f456eb01b5c9a4ff724e3": {
      "model_module": "@jupyter-widgets/controls",
      "model_module_version": "1.5.0",
      "model_name": "DescriptionStyleModel",
      "state": {
       "description_width": ""
      }
     },
     "15b55c6ece564e73bd9c09601015f6d1": {
      "model_module": "@jupyter-widgets/controls",
      "model_module_version": "1.5.0",
      "model_name": "DescriptionStyleModel",
      "state": {
       "description_width": ""
      }
     },
     "15faac221a9542808efb586763e11e5a": {
      "model_module": "@jupyter-widgets/controls",
      "model_module_version": "1.5.0",
      "model_name": "ProgressStyleModel",
      "state": {
       "description_width": ""
      }
     },
     "162ab022091e488fac77773e607c555c": {
      "model_module": "@jupyter-widgets/base",
      "model_module_version": "1.2.0",
      "model_name": "LayoutModel",
      "state": {}
     },
     "166735e2a85744f4a903e375396de7ae": {
      "model_module": "@jupyter-widgets/controls",
      "model_module_version": "1.5.0",
      "model_name": "HTMLModel",
      "state": {
       "layout": "IPY_MODEL_d8224fef8b254b148710a7e3877b2169",
       "style": "IPY_MODEL_8f2f1cba0d1f4abab4984ed347e58622",
       "value": "100%"
      }
     },
     "168b08cef89b4742ac2a3ca9facc3fbc": {
      "model_module": "@jupyter-widgets/controls",
      "model_module_version": "1.5.0",
      "model_name": "FloatProgressModel",
      "state": {
       "bar_style": "success",
       "layout": "IPY_MODEL_1ed41d792f9d423b9c775dfdbab114b1",
       "max": 6,
       "style": "IPY_MODEL_0c67012185fd466f8deff27a4f29ee75",
       "value": 6
      }
     },
     "16b7c41080c644c597ea29d49d8d47b9": {
      "model_module": "@jupyter-widgets/controls",
      "model_module_version": "1.5.0",
      "model_name": "HTMLModel",
      "state": {
       "layout": "IPY_MODEL_f87e7fbd51f64a8aaef2a3011df7e292",
       "style": "IPY_MODEL_482fa0a829444a3ba00f652e210005d4",
       "value": " 2/2 [00:00&lt;00:00,  3.25it/s]"
      }
     },
     "1714087d280445e1b3ed3b3a25e7e1d7": {
      "model_module": "@jupyter-widgets/controls",
      "model_module_version": "1.5.0",
      "model_name": "ProgressStyleModel",
      "state": {
       "description_width": ""
      }
     },
     "178b83f9d6c649e9aa71df9c926c891c": {
      "model_module": "@jupyter-widgets/controls",
      "model_module_version": "1.5.0",
      "model_name": "DescriptionStyleModel",
      "state": {
       "description_width": ""
      }
     },
     "179b65d3e8cf4928a1db313d65cd3f95": {
      "model_module": "@jupyter-widgets/base",
      "model_module_version": "1.2.0",
      "model_name": "LayoutModel",
      "state": {}
     },
     "17adcf4a09bf4471aac6e5ccf3ea3149": {
      "model_module": "@jupyter-widgets/base",
      "model_module_version": "1.2.0",
      "model_name": "LayoutModel",
      "state": {}
     },
     "1825c28911d44d7c8615af5181ee879f": {
      "model_module": "@jupyter-widgets/controls",
      "model_module_version": "1.5.0",
      "model_name": "HTMLModel",
      "state": {
       "layout": "IPY_MODEL_6bad917be86e4263a35a3b633e13e26c",
       "style": "IPY_MODEL_0ca8f5e4f0e04b1397b2d5d7e186c88d",
       "value": " 5/5 [00:01&lt;00:00,  3.81it/s]"
      }
     },
     "1878df674f6a4689a1833ac121a17047": {
      "model_module": "@jupyter-widgets/base",
      "model_module_version": "1.2.0",
      "model_name": "LayoutModel",
      "state": {}
     },
     "18b544a786804b4d9410a847e9e85c8e": {
      "model_module": "@jupyter-widgets/base",
      "model_module_version": "1.2.0",
      "model_name": "LayoutModel",
      "state": {}
     },
     "191266cd1db24cb0a0c7e8ee270e4986": {
      "model_module": "@jupyter-widgets/controls",
      "model_module_version": "1.5.0",
      "model_name": "DescriptionStyleModel",
      "state": {
       "description_width": ""
      }
     },
     "197b340cf9f14d16956d1f3cf476aa95": {
      "model_module": "@jupyter-widgets/base",
      "model_module_version": "1.2.0",
      "model_name": "LayoutModel",
      "state": {}
     },
     "19c699050c484263a0da0c9c9b3cd70b": {
      "model_module": "@jupyter-widgets/base",
      "model_module_version": "1.2.0",
      "model_name": "LayoutModel",
      "state": {}
     },
     "19d3c944563b42f59efa9ebdbdccdb71": {
      "model_module": "@jupyter-widgets/base",
      "model_module_version": "1.2.0",
      "model_name": "LayoutModel",
      "state": {}
     },
     "19db8bcc13604d099613ec614226602c": {
      "model_module": "@jupyter-widgets/controls",
      "model_module_version": "1.5.0",
      "model_name": "ProgressStyleModel",
      "state": {
       "description_width": ""
      }
     },
     "1a098ee043764c7da4fb358c314b2e93": {
      "model_module": "@jupyter-widgets/controls",
      "model_module_version": "1.5.0",
      "model_name": "ProgressStyleModel",
      "state": {
       "description_width": ""
      }
     },
     "1a38da3d0eca4dbbad6e79653f51ef7c": {
      "model_module": "@jupyter-widgets/controls",
      "model_module_version": "1.5.0",
      "model_name": "DescriptionStyleModel",
      "state": {
       "description_width": ""
      }
     },
     "1a5c98c1ee054581a735e899068afa0b": {
      "model_module": "@jupyter-widgets/controls",
      "model_module_version": "1.5.0",
      "model_name": "DescriptionStyleModel",
      "state": {
       "description_width": ""
      }
     },
     "1a665c92316240b8b81bd0c39ca6d244": {
      "model_module": "@jupyter-widgets/controls",
      "model_module_version": "1.5.0",
      "model_name": "FloatProgressModel",
      "state": {
       "bar_style": "success",
       "layout": "IPY_MODEL_5c5daa7be4574d2ba861e72b28b04b45",
       "max": 3,
       "style": "IPY_MODEL_1a098ee043764c7da4fb358c314b2e93",
       "value": 3
      }
     },
     "1a68931d44a347a4b49f5e2205776428": {
      "model_module": "@jupyter-widgets/controls",
      "model_module_version": "1.5.0",
      "model_name": "HBoxModel",
      "state": {
       "children": [
        "IPY_MODEL_d7f39cd536b24feeb6b3b44660f476c6",
        "IPY_MODEL_29fc8260774c4a24baaefc614aab0baf",
        "IPY_MODEL_cf7a6831fcf749a896d25af3eb15ef64"
       ],
       "layout": "IPY_MODEL_d65fad1430324cf590230b60528d0311"
      }
     },
     "1b0ae781d6fd408e8e6f44d2e3e04ab6": {
      "model_module": "@jupyter-widgets/base",
      "model_module_version": "1.2.0",
      "model_name": "LayoutModel",
      "state": {}
     },
     "1c0ece5640034d0a88a723c6e552ca04": {
      "model_module": "@jupyter-widgets/controls",
      "model_module_version": "1.5.0",
      "model_name": "ProgressStyleModel",
      "state": {
       "description_width": ""
      }
     },
     "1c1c68e76a94403fa946f258ea9a62c8": {
      "model_module": "@jupyter-widgets/controls",
      "model_module_version": "1.5.0",
      "model_name": "DescriptionStyleModel",
      "state": {
       "description_width": ""
      }
     },
     "1cd34517df024546a41e958506021da3": {
      "model_module": "@jupyter-widgets/controls",
      "model_module_version": "1.5.0",
      "model_name": "DescriptionStyleModel",
      "state": {
       "description_width": ""
      }
     },
     "1cf7c157ec304ac5bf33863a6e82ab90": {
      "model_module": "@jupyter-widgets/controls",
      "model_module_version": "1.5.0",
      "model_name": "HTMLModel",
      "state": {
       "layout": "IPY_MODEL_028e803392d04b4bb3c5ba899c1fc2d4",
       "style": "IPY_MODEL_7585dc581f8e409cbc23c73df0d93f8c",
       "value": "100%"
      }
     },
     "1d2ba9e4c66f4a6fadc3b6f0095e846f": {
      "model_module": "@jupyter-widgets/controls",
      "model_module_version": "1.5.0",
      "model_name": "ProgressStyleModel",
      "state": {
       "description_width": ""
      }
     },
     "1de2c31ce9c44ceb943fb2232ed40137": {
      "model_module": "@jupyter-widgets/base",
      "model_module_version": "1.2.0",
      "model_name": "LayoutModel",
      "state": {}
     },
     "1e1649643c97482aa5e4be89881a9235": {
      "model_module": "@jupyter-widgets/controls",
      "model_module_version": "1.5.0",
      "model_name": "FloatProgressModel",
      "state": {
       "bar_style": "success",
       "layout": "IPY_MODEL_656a12df025c45309f642cdf5c6c76d5",
       "max": 2,
       "style": "IPY_MODEL_ff7f6e6e12aa482f9de9cfdf4d7cdbf1",
       "value": 2
      }
     },
     "1e17cf7b72a948068cd1da8031606aef": {
      "model_module": "@jupyter-widgets/controls",
      "model_module_version": "1.5.0",
      "model_name": "ProgressStyleModel",
      "state": {
       "description_width": ""
      }
     },
     "1e692aaf6b26441682d2aa65f2908169": {
      "model_module": "@jupyter-widgets/controls",
      "model_module_version": "1.5.0",
      "model_name": "DescriptionStyleModel",
      "state": {
       "description_width": ""
      }
     },
     "1e97b71ddb924a0285cd679685410766": {
      "model_module": "@jupyter-widgets/controls",
      "model_module_version": "1.5.0",
      "model_name": "HBoxModel",
      "state": {
       "children": [
        "IPY_MODEL_9166c33455274010908ed42c1af9135d",
        "IPY_MODEL_8ef530b42bf3460e832bdee387db504e",
        "IPY_MODEL_55898f55083946468d8a792d61cf2963"
       ],
       "layout": "IPY_MODEL_846ffed00cf6484587d047304ef3f4ec"
      }
     },
     "1ecb88b0a3164e4f914821eab07899fe": {
      "model_module": "@jupyter-widgets/base",
      "model_module_version": "1.2.0",
      "model_name": "LayoutModel",
      "state": {}
     },
     "1ed41d792f9d423b9c775dfdbab114b1": {
      "model_module": "@jupyter-widgets/base",
      "model_module_version": "1.2.0",
      "model_name": "LayoutModel",
      "state": {}
     },
     "1f0950ee70804b5caf4a28add6f5de41": {
      "model_module": "@jupyter-widgets/base",
      "model_module_version": "1.2.0",
      "model_name": "LayoutModel",
      "state": {}
     },
     "1f8197e4c0e84d82884d9d600c30c1fd": {
      "model_module": "@jupyter-widgets/controls",
      "model_module_version": "1.5.0",
      "model_name": "HTMLModel",
      "state": {
       "layout": "IPY_MODEL_405d6551de1641fa86c3783ac18ba405",
       "style": "IPY_MODEL_5dadcf3e06b3418abe5462a9e7030e7b",
       "value": " 2/2 [00:00&lt;00:00,  3.66it/s]"
      }
     },
     "1f94a0aa26dc4a37a79be4fbcad01965": {
      "model_module": "@jupyter-widgets/base",
      "model_module_version": "1.2.0",
      "model_name": "LayoutModel",
      "state": {}
     },
     "20f799209bec4c49a1d56d4600b19964": {
      "model_module": "@jupyter-widgets/base",
      "model_module_version": "1.2.0",
      "model_name": "LayoutModel",
      "state": {}
     },
     "2127d59aa03840f2b6fd66b7efb90022": {
      "model_module": "@jupyter-widgets/base",
      "model_module_version": "1.2.0",
      "model_name": "LayoutModel",
      "state": {}
     },
     "216b4e6776534530a3ea52e28f8a3f6f": {
      "model_module": "@jupyter-widgets/controls",
      "model_module_version": "1.5.0",
      "model_name": "HTMLModel",
      "state": {
       "layout": "IPY_MODEL_323eac674f9e482189483c3df2a5feef",
       "style": "IPY_MODEL_1a38da3d0eca4dbbad6e79653f51ef7c",
       "value": " 2/2 [00:00&lt;00:00,  3.21it/s]"
      }
     },
     "21ca6a16a5a44878aa84ab34a72a8d76": {
      "model_module": "@jupyter-widgets/controls",
      "model_module_version": "1.5.0",
      "model_name": "DescriptionStyleModel",
      "state": {
       "description_width": ""
      }
     },
     "21cbf432ab3c4ff99345f14be8b16bcf": {
      "model_module": "@jupyter-widgets/controls",
      "model_module_version": "1.5.0",
      "model_name": "HTMLModel",
      "state": {
       "layout": "IPY_MODEL_b0a741f5cbad491e9bf6079d2743f1e0",
       "style": "IPY_MODEL_41099f92cf424adead8bfd6bd3b37ddf",
       "value": " 3/3 [00:00&lt;00:00,  3.27it/s]"
      }
     },
     "21d89b11080a42fe80329006e205edd8": {
      "model_module": "@jupyter-widgets/controls",
      "model_module_version": "1.5.0",
      "model_name": "FloatProgressModel",
      "state": {
       "bar_style": "success",
       "layout": "IPY_MODEL_fac678be97b240439ae0d725d736d12e",
       "max": 2,
       "style": "IPY_MODEL_290f269914dc4ccfb024416a0f57364d",
       "value": 2
      }
     },
     "22116c937d8b466793ba9792d4c9d914": {
      "model_module": "@jupyter-widgets/controls",
      "model_module_version": "1.5.0",
      "model_name": "HTMLModel",
      "state": {
       "layout": "IPY_MODEL_3abea319b1214459aa03f0a9b14d1878",
       "style": "IPY_MODEL_15b55c6ece564e73bd9c09601015f6d1",
       "value": " 2/2 [00:00&lt;00:00,  3.70it/s]"
      }
     },
     "22a2d1d0490f4d7baf36a19bce9fa6bf": {
      "model_module": "@jupyter-widgets/base",
      "model_module_version": "1.2.0",
      "model_name": "LayoutModel",
      "state": {}
     },
     "22b4250240304d25bae7d766a96e4dd9": {
      "model_module": "@jupyter-widgets/controls",
      "model_module_version": "1.5.0",
      "model_name": "HTMLModel",
      "state": {
       "layout": "IPY_MODEL_445209af4cd7488e8ac08a86f3e14363",
       "style": "IPY_MODEL_4c2f5d94932d49ab84460d7823e3c3c4",
       "value": "100%"
      }
     },
     "22e2419068c141dcb3183eb2cc9d5e08": {
      "model_module": "@jupyter-widgets/base",
      "model_module_version": "1.2.0",
      "model_name": "LayoutModel",
      "state": {}
     },
     "22f5d6375eec486fae1401becf2119d0": {
      "model_module": "@jupyter-widgets/controls",
      "model_module_version": "1.5.0",
      "model_name": "HBoxModel",
      "state": {
       "children": [
        "IPY_MODEL_166735e2a85744f4a903e375396de7ae",
        "IPY_MODEL_d66242bea42247debca359b54313aa4a",
        "IPY_MODEL_990a8b08acf24c989f5f15c8cebf8f49"
       ],
       "layout": "IPY_MODEL_1f0950ee70804b5caf4a28add6f5de41"
      }
     },
     "22f65161ef1f4e40a79d03f72a544b86": {
      "model_module": "@jupyter-widgets/controls",
      "model_module_version": "1.5.0",
      "model_name": "HBoxModel",
      "state": {
       "children": [
        "IPY_MODEL_8c868cd6c8fd46d0aae128847f87456e",
        "IPY_MODEL_970303a3279b4d0a9e0f66f352b11c87",
        "IPY_MODEL_1825c28911d44d7c8615af5181ee879f"
       ],
       "layout": "IPY_MODEL_999fdfd7f39e424989b232764c5acfab"
      }
     },
     "23695566c428414ba2d915ab89035937": {
      "model_module": "@jupyter-widgets/controls",
      "model_module_version": "1.5.0",
      "model_name": "HTMLModel",
      "state": {
       "layout": "IPY_MODEL_6929221ba34c4044aadca2d0d881c775",
       "style": "IPY_MODEL_532ad8d11f1e4f06895d1ad26a39f654",
       "value": "100%"
      }
     },
     "23b7dc06de62455291d7e6bb7f4b0e61": {
      "model_module": "@jupyter-widgets/controls",
      "model_module_version": "1.5.0",
      "model_name": "DescriptionStyleModel",
      "state": {
       "description_width": ""
      }
     },
     "24bcb6099ac841cc902336d8e0549bb1": {
      "model_module": "@jupyter-widgets/base",
      "model_module_version": "1.2.0",
      "model_name": "LayoutModel",
      "state": {}
     },
     "24e16e031ce047609d59b4bd44cfd98f": {
      "model_module": "@jupyter-widgets/controls",
      "model_module_version": "1.5.0",
      "model_name": "ProgressStyleModel",
      "state": {
       "description_width": ""
      }
     },
     "2566abed30a6446c85323320f812c2da": {
      "model_module": "@jupyter-widgets/base",
      "model_module_version": "1.2.0",
      "model_name": "LayoutModel",
      "state": {}
     },
     "256bc55a12a1470693e95ea9bce600ec": {
      "model_module": "@jupyter-widgets/base",
      "model_module_version": "1.2.0",
      "model_name": "LayoutModel",
      "state": {}
     },
     "25802b0e6c7e440eaf733d12a4968d17": {
      "model_module": "@jupyter-widgets/base",
      "model_module_version": "1.2.0",
      "model_name": "LayoutModel",
      "state": {}
     },
     "25aaa3071799460d884ad0daf3e4c1af": {
      "model_module": "@jupyter-widgets/controls",
      "model_module_version": "1.5.0",
      "model_name": "FloatProgressModel",
      "state": {
       "bar_style": "success",
       "layout": "IPY_MODEL_637c90f6feae47c4b8e88bd47ea8e1b1",
       "max": 2,
       "style": "IPY_MODEL_8853a9e8b0794623a6c28c6f9cc98d93",
       "value": 2
      }
     },
     "2651379d7b6a45bfb01d5191ff672262": {
      "model_module": "@jupyter-widgets/controls",
      "model_module_version": "1.5.0",
      "model_name": "HTMLModel",
      "state": {
       "layout": "IPY_MODEL_61a6b3fa972b4e8f8f3a6c4f17aa891b",
       "style": "IPY_MODEL_a41aff6efd304087ad1ae588c9bf7de9",
       "value": "100%"
      }
     },
     "26d8cd2298554fca81a71e9cb54f971f": {
      "model_module": "@jupyter-widgets/controls",
      "model_module_version": "1.5.0",
      "model_name": "ProgressStyleModel",
      "state": {
       "description_width": ""
      }
     },
     "270c22b2c1bc4165956ecddb85e49c50": {
      "model_module": "@jupyter-widgets/base",
      "model_module_version": "1.2.0",
      "model_name": "LayoutModel",
      "state": {}
     },
     "272cb53eb33a4f0fa4b2c1f6d9a8e1ae": {
      "model_module": "@jupyter-widgets/base",
      "model_module_version": "1.2.0",
      "model_name": "LayoutModel",
      "state": {}
     },
     "27333e4a99e14fcfa7a1aae4ac732410": {
      "model_module": "@jupyter-widgets/base",
      "model_module_version": "1.2.0",
      "model_name": "LayoutModel",
      "state": {}
     },
     "27b3355a89374b5e8dda9cf530f0e91c": {
      "model_module": "@jupyter-widgets/base",
      "model_module_version": "1.2.0",
      "model_name": "LayoutModel",
      "state": {}
     },
     "287c036a98b547c6afa0b3eb6bca1707": {
      "model_module": "@jupyter-widgets/controls",
      "model_module_version": "1.5.0",
      "model_name": "FloatProgressModel",
      "state": {
       "bar_style": "success",
       "layout": "IPY_MODEL_df4a301744324c108d07ba03a4ce43e5",
       "max": 3,
       "style": "IPY_MODEL_dbca258675a649ad8bd1f5aeb4209c08",
       "value": 3
      }
     },
     "2907084b3e924a69b352a0eb5cb29714": {
      "model_module": "@jupyter-widgets/controls",
      "model_module_version": "1.5.0",
      "model_name": "FloatProgressModel",
      "state": {
       "bar_style": "success",
       "layout": "IPY_MODEL_ca739dcf05574da7830459509a2c0142",
       "max": 2,
       "style": "IPY_MODEL_1e17cf7b72a948068cd1da8031606aef",
       "value": 2
      }
     },
     "290f269914dc4ccfb024416a0f57364d": {
      "model_module": "@jupyter-widgets/controls",
      "model_module_version": "1.5.0",
      "model_name": "ProgressStyleModel",
      "state": {
       "description_width": ""
      }
     },
     "29177434ed4c4ee19f1c3fcf75fbc6c8": {
      "model_module": "@jupyter-widgets/controls",
      "model_module_version": "1.5.0",
      "model_name": "DescriptionStyleModel",
      "state": {
       "description_width": ""
      }
     },
     "2927b3c8bbc64668871b8142c43a0b7f": {
      "model_module": "@jupyter-widgets/controls",
      "model_module_version": "1.5.0",
      "model_name": "ProgressStyleModel",
      "state": {
       "description_width": ""
      }
     },
     "29598218021344c491dcd3620d047590": {
      "model_module": "@jupyter-widgets/base",
      "model_module_version": "1.2.0",
      "model_name": "LayoutModel",
      "state": {}
     },
     "299f804423544d11942abfa8f8a681f8": {
      "model_module": "@jupyter-widgets/controls",
      "model_module_version": "1.5.0",
      "model_name": "HTMLModel",
      "state": {
       "layout": "IPY_MODEL_6821603f137a4b7a9d2f796a05c9d459",
       "style": "IPY_MODEL_64b0ea64e2964865b651f6ed648d96ac",
       "value": "100%"
      }
     },
     "29f1fe3864d5496ea2440f80ab4a6394": {
      "model_module": "@jupyter-widgets/controls",
      "model_module_version": "1.5.0",
      "model_name": "HTMLModel",
      "state": {
       "layout": "IPY_MODEL_1de2c31ce9c44ceb943fb2232ed40137",
       "style": "IPY_MODEL_7c99ee0215b748eba37135d8b635d7b1",
       "value": " 6/6 [00:01&lt;00:00,  3.75it/s]"
      }
     },
     "29fc8260774c4a24baaefc614aab0baf": {
      "model_module": "@jupyter-widgets/controls",
      "model_module_version": "1.5.0",
      "model_name": "FloatProgressModel",
      "state": {
       "bar_style": "success",
       "layout": "IPY_MODEL_d72f998fe7d44260a015cde07e0e0e8e",
       "max": 3,
       "style": "IPY_MODEL_e6c769a16d03425eb35718a04627c2cb",
       "value": 3
      }
     },
     "2a383ca3bc194d729df5254b886346f8": {
      "model_module": "@jupyter-widgets/controls",
      "model_module_version": "1.5.0",
      "model_name": "HTMLModel",
      "state": {
       "layout": "IPY_MODEL_1ecb88b0a3164e4f914821eab07899fe",
       "style": "IPY_MODEL_5357da45178442088e3e60a2786fcdd5",
       "value": "100%"
      }
     },
     "2aca49db4c83413692377c194931a499": {
      "model_module": "@jupyter-widgets/controls",
      "model_module_version": "1.5.0",
      "model_name": "HTMLModel",
      "state": {
       "layout": "IPY_MODEL_a1626d6bf3a042daa5077a08e08327c9",
       "style": "IPY_MODEL_7e00585435fc4e4b872a9c835e13273d",
       "value": "100%"
      }
     },
     "2b8d689cc9544a7587e41de4dda27120": {
      "model_module": "@jupyter-widgets/controls",
      "model_module_version": "1.5.0",
      "model_name": "DescriptionStyleModel",
      "state": {
       "description_width": ""
      }
     },
     "2c389e1eb77047539aabce52a71afa53": {
      "model_module": "@jupyter-widgets/controls",
      "model_module_version": "1.5.0",
      "model_name": "HBoxModel",
      "state": {
       "children": [
        "IPY_MODEL_c5531eaf2be148729d3edab483f6e88b",
        "IPY_MODEL_6ec321fefc2143d5b173fc66cbfd3640",
        "IPY_MODEL_d5894fa2586a4a1a8d505cdcd7790e50"
       ],
       "layout": "IPY_MODEL_650670799980444bb22b08a06ad6f702"
      }
     },
     "2c7855d3c8e149b4b2d1f8e7c2bb4025": {
      "model_module": "@jupyter-widgets/controls",
      "model_module_version": "1.5.0",
      "model_name": "ProgressStyleModel",
      "state": {
       "description_width": ""
      }
     },
     "2cb480b72a8c4d58a35935ae0369a67b": {
      "model_module": "@jupyter-widgets/controls",
      "model_module_version": "1.5.0",
      "model_name": "DescriptionStyleModel",
      "state": {
       "description_width": ""
      }
     },
     "2cd0ce6b0ea746c69c26efd556d9de14": {
      "model_module": "@jupyter-widgets/controls",
      "model_module_version": "1.5.0",
      "model_name": "FloatProgressModel",
      "state": {
       "bar_style": "success",
       "layout": "IPY_MODEL_ca678815165845dca50c87f7b983f8ec",
       "max": 2,
       "style": "IPY_MODEL_d6ceca40d1a141679a7bc6454f842dbc",
       "value": 2
      }
     },
     "2d212c803e20456cb6aa19871b267eb0": {
      "model_module": "@jupyter-widgets/base",
      "model_module_version": "1.2.0",
      "model_name": "LayoutModel",
      "state": {}
     },
     "2d2ab56c35754c4f84c5c6d7fb665eb6": {
      "model_module": "@jupyter-widgets/base",
      "model_module_version": "1.2.0",
      "model_name": "LayoutModel",
      "state": {}
     },
     "2d819172395e4bd3a8b5ebaada7bb0d3": {
      "model_module": "@jupyter-widgets/controls",
      "model_module_version": "1.5.0",
      "model_name": "HBoxModel",
      "state": {
       "children": [
        "IPY_MODEL_ea15b937664242e694ee0dbbb3321122",
        "IPY_MODEL_8a240a07606946a0beeada26ab574ee4",
        "IPY_MODEL_35507ad9203b4ee28ed70da4ba5df522"
       ],
       "layout": "IPY_MODEL_03880be83a0c474b8a3d8dfac8646aeb"
      }
     },
     "2df4e4711fe14e65a28a61e98feec423": {
      "model_module": "@jupyter-widgets/base",
      "model_module_version": "1.2.0",
      "model_name": "LayoutModel",
      "state": {}
     },
     "2e5b986610404fb6acdf33a75780d604": {
      "model_module": "@jupyter-widgets/controls",
      "model_module_version": "1.5.0",
      "model_name": "FloatProgressModel",
      "state": {
       "bar_style": "success",
       "layout": "IPY_MODEL_381edc6922a8460398e48d45ce297418",
       "max": 2,
       "style": "IPY_MODEL_ee64d7cc18fe46b793dbf73e111f813c",
       "value": 2
      }
     },
     "2e85bd6e46e6429285ac6c16556f8270": {
      "model_module": "@jupyter-widgets/base",
      "model_module_version": "1.2.0",
      "model_name": "LayoutModel",
      "state": {}
     },
     "2f7f3a6226944e8681ddea1cd26818bc": {
      "model_module": "@jupyter-widgets/base",
      "model_module_version": "1.2.0",
      "model_name": "LayoutModel",
      "state": {}
     },
     "2fa2ebdaded04de8ba9314a60a30d9c3": {
      "model_module": "@jupyter-widgets/base",
      "model_module_version": "1.2.0",
      "model_name": "LayoutModel",
      "state": {}
     },
     "2ffa3b70a1834d019b5985d13aaf9080": {
      "model_module": "@jupyter-widgets/controls",
      "model_module_version": "1.5.0",
      "model_name": "DescriptionStyleModel",
      "state": {
       "description_width": ""
      }
     },
     "302e315c6a0b4f80a715807a93f76469": {
      "model_module": "@jupyter-widgets/controls",
      "model_module_version": "1.5.0",
      "model_name": "HTMLModel",
      "state": {
       "layout": "IPY_MODEL_941f06f75eb4446090cc11797a58022f",
       "style": "IPY_MODEL_d04bfd0dbb4e4b2e80a7ef34bf32236b",
       "value": "100%"
      }
     },
     "305004ec7460451993375b10695041c2": {
      "model_module": "@jupyter-widgets/controls",
      "model_module_version": "1.5.0",
      "model_name": "HBoxModel",
      "state": {
       "children": [
        "IPY_MODEL_0ade3f682b854ff78dc66f13d820705d",
        "IPY_MODEL_f50d332f13a446cc86ca7ab10ff1bbe9",
        "IPY_MODEL_f41bb54114cd4cf3bc24189e1931cb41"
       ],
       "layout": "IPY_MODEL_dbcfd386ad8744288bd8415a38b581fd"
      }
     },
     "3072be56b00c423e87056f51969853e2": {
      "model_module": "@jupyter-widgets/controls",
      "model_module_version": "1.5.0",
      "model_name": "HTMLModel",
      "state": {
       "layout": "IPY_MODEL_b4d5331a4e684c50a3547bd1839f94fb",
       "style": "IPY_MODEL_36240950714242c18018f194a2542e1f",
       "value": "100%"
      }
     },
     "320abd2172894e329dbbe0ddd0215d65": {
      "model_module": "@jupyter-widgets/controls",
      "model_module_version": "1.5.0",
      "model_name": "HTMLModel",
      "state": {
       "layout": "IPY_MODEL_ed3c7e09544c439885ff451fdf0f4e13",
       "style": "IPY_MODEL_d2ea00eb2dd249e99eccdaae2051c5fd",
       "value": " 2/2 [00:00&lt;00:00,  3.01it/s]"
      }
     },
     "323eac674f9e482189483c3df2a5feef": {
      "model_module": "@jupyter-widgets/base",
      "model_module_version": "1.2.0",
      "model_name": "LayoutModel",
      "state": {}
     },
     "326509585f07431299babb3da1df6916": {
      "model_module": "@jupyter-widgets/base",
      "model_module_version": "1.2.0",
      "model_name": "LayoutModel",
      "state": {}
     },
     "3319c0c3301d4b9cba5ebd0ddcebb83a": {
      "model_module": "@jupyter-widgets/controls",
      "model_module_version": "1.5.0",
      "model_name": "HBoxModel",
      "state": {
       "children": [
        "IPY_MODEL_1cf7c157ec304ac5bf33863a6e82ab90",
        "IPY_MODEL_64fa11ef6b8b41518c93ccfec085526e",
        "IPY_MODEL_975af8a99ecd44a084bdd86acde22c46"
       ],
       "layout": "IPY_MODEL_10494afdbe9e45c58ac90e566344056a"
      }
     },
     "332714cc9f0f42a5b03c0c1d92bc8b8e": {
      "model_module": "@jupyter-widgets/base",
      "model_module_version": "1.2.0",
      "model_name": "LayoutModel",
      "state": {}
     },
     "3337e1c0132e45e0bcb3573815bcf4c4": {
      "model_module": "@jupyter-widgets/controls",
      "model_module_version": "1.5.0",
      "model_name": "DescriptionStyleModel",
      "state": {
       "description_width": ""
      }
     },
     "34079924b3c1416287324343cdbab24b": {
      "model_module": "@jupyter-widgets/controls",
      "model_module_version": "1.5.0",
      "model_name": "DescriptionStyleModel",
      "state": {
       "description_width": ""
      }
     },
     "340e072cd12f436a84532c43d4fc5ce9": {
      "model_module": "@jupyter-widgets/controls",
      "model_module_version": "1.5.0",
      "model_name": "HBoxModel",
      "state": {
       "children": [
        "IPY_MODEL_66aa28aedc33433e809dba5324862d26",
        "IPY_MODEL_c693f8ac80ab4c43a73d467b3f9c6e14",
        "IPY_MODEL_b99647c9a848475a9ecb496e2d2c06ef"
       ],
       "layout": "IPY_MODEL_94323d5889974f309460d7df1f568925"
      }
     },
     "348f3e7752984e8088b8e274129f388f": {
      "model_module": "@jupyter-widgets/controls",
      "model_module_version": "1.5.0",
      "model_name": "ProgressStyleModel",
      "state": {
       "description_width": ""
      }
     },
     "34ea3cf62fc348949c3bac9caf723185": {
      "model_module": "@jupyter-widgets/base",
      "model_module_version": "1.2.0",
      "model_name": "LayoutModel",
      "state": {}
     },
     "351be190a91540e384eb3ef6b029ff42": {
      "model_module": "@jupyter-widgets/base",
      "model_module_version": "1.2.0",
      "model_name": "LayoutModel",
      "state": {}
     },
     "352764607a0c4a91ade063624214a299": {
      "model_module": "@jupyter-widgets/controls",
      "model_module_version": "1.5.0",
      "model_name": "DescriptionStyleModel",
      "state": {
       "description_width": ""
      }
     },
     "3536eaf9d474494984f0bb71b970d1a0": {
      "model_module": "@jupyter-widgets/controls",
      "model_module_version": "1.5.0",
      "model_name": "DescriptionStyleModel",
      "state": {
       "description_width": ""
      }
     },
     "35507ad9203b4ee28ed70da4ba5df522": {
      "model_module": "@jupyter-widgets/controls",
      "model_module_version": "1.5.0",
      "model_name": "HTMLModel",
      "state": {
       "layout": "IPY_MODEL_20f799209bec4c49a1d56d4600b19964",
       "style": "IPY_MODEL_b5a1c740213343f490c74a55074b6bb4",
       "value": " 2/2 [00:00&lt;00:00,  3.24it/s]"
      }
     },
     "36240950714242c18018f194a2542e1f": {
      "model_module": "@jupyter-widgets/controls",
      "model_module_version": "1.5.0",
      "model_name": "DescriptionStyleModel",
      "state": {
       "description_width": ""
      }
     },
     "36312f4d0ad749ea98e96838ee502fb9": {
      "model_module": "@jupyter-widgets/controls",
      "model_module_version": "1.5.0",
      "model_name": "DescriptionStyleModel",
      "state": {
       "description_width": ""
      }
     },
     "36373fcd3adb4dc385e2e6fcb7733704": {
      "model_module": "@jupyter-widgets/controls",
      "model_module_version": "1.5.0",
      "model_name": "ProgressStyleModel",
      "state": {
       "description_width": ""
      }
     },
     "3641f52c4df24deeb370dd35d2582496": {
      "model_module": "@jupyter-widgets/controls",
      "model_module_version": "1.5.0",
      "model_name": "DescriptionStyleModel",
      "state": {
       "description_width": ""
      }
     },
     "364d0f5c5e304de9ac59001754f93863": {
      "model_module": "@jupyter-widgets/base",
      "model_module_version": "1.2.0",
      "model_name": "LayoutModel",
      "state": {}
     },
     "36677544a4fe4e858ae6841fc5a0201a": {
      "model_module": "@jupyter-widgets/controls",
      "model_module_version": "1.5.0",
      "model_name": "DescriptionStyleModel",
      "state": {
       "description_width": ""
      }
     },
     "36cbbbe4485948e58adee1ab45d381ff": {
      "model_module": "@jupyter-widgets/controls",
      "model_module_version": "1.5.0",
      "model_name": "DescriptionStyleModel",
      "state": {
       "description_width": ""
      }
     },
     "36f4dedbcbad47ed8dd26c6de42a13ae": {
      "model_module": "@jupyter-widgets/base",
      "model_module_version": "1.2.0",
      "model_name": "LayoutModel",
      "state": {}
     },
     "3718355a6b884a41b1dd9c7a39d4f778": {
      "model_module": "@jupyter-widgets/base",
      "model_module_version": "1.2.0",
      "model_name": "LayoutModel",
      "state": {}
     },
     "3736cde5dd724aafa8962eb7470d1e9f": {
      "model_module": "@jupyter-widgets/controls",
      "model_module_version": "1.5.0",
      "model_name": "FloatProgressModel",
      "state": {
       "bar_style": "success",
       "layout": "IPY_MODEL_8fcb3b45d7464a7c96012226bb1f1897",
       "max": 2,
       "style": "IPY_MODEL_24e16e031ce047609d59b4bd44cfd98f",
       "value": 2
      }
     },
     "3746cb0fe94d498d96aaaf4e8cffbdac": {
      "model_module": "@jupyter-widgets/controls",
      "model_module_version": "1.5.0",
      "model_name": "HTMLModel",
      "state": {
       "layout": "IPY_MODEL_acf0351125604088b156d59a33f48aba",
       "style": "IPY_MODEL_4db9b4ef690a4cf394a8af890f73f06f",
       "value": " 2/2 [00:00&lt;00:00,  3.62it/s]"
      }
     },
     "3759975bbf2b44b1a45e00aa9a58f765": {
      "model_module": "@jupyter-widgets/controls",
      "model_module_version": "1.5.0",
      "model_name": "HTMLModel",
      "state": {
       "layout": "IPY_MODEL_14daec9a90974122a6eb973967aaee16",
       "style": "IPY_MODEL_29177434ed4c4ee19f1c3fcf75fbc6c8",
       "value": "100%"
      }
     },
     "37738b4bc18d4d469585cbea950a7c2a": {
      "model_module": "@jupyter-widgets/controls",
      "model_module_version": "1.5.0",
      "model_name": "ProgressStyleModel",
      "state": {
       "description_width": ""
      }
     },
     "381edc6922a8460398e48d45ce297418": {
      "model_module": "@jupyter-widgets/base",
      "model_module_version": "1.2.0",
      "model_name": "LayoutModel",
      "state": {}
     },
     "38cd8bf8fcc3487e986989e89ac9997f": {
      "model_module": "@jupyter-widgets/controls",
      "model_module_version": "1.5.0",
      "model_name": "HBoxModel",
      "state": {
       "children": [
        "IPY_MODEL_9dfbb6c28fa64ad2b5e353358c44e2a6",
        "IPY_MODEL_25aaa3071799460d884ad0daf3e4c1af",
        "IPY_MODEL_d34c194dde444e4c908592eda64359c5"
       ],
       "layout": "IPY_MODEL_0fdf250e1b284a2abaa89271db91e278"
      }
     },
     "38ec32ea08984b4bbc92edba64172915": {
      "model_module": "@jupyter-widgets/controls",
      "model_module_version": "1.5.0",
      "model_name": "DescriptionStyleModel",
      "state": {
       "description_width": ""
      }
     },
     "38fafebff56741dea380257e56a877cb": {
      "model_module": "@jupyter-widgets/controls",
      "model_module_version": "1.5.0",
      "model_name": "HTMLModel",
      "state": {
       "layout": "IPY_MODEL_a718f92abfae44e0981a8822ee083c94",
       "style": "IPY_MODEL_1a5c98c1ee054581a735e899068afa0b",
       "value": " 2/2 [00:00&lt;00:00,  3.57it/s]"
      }
     },
     "399daa02dad8453ebcd003ce13205d9f": {
      "model_module": "@jupyter-widgets/base",
      "model_module_version": "1.2.0",
      "model_name": "LayoutModel",
      "state": {}
     },
     "39d2b95ee327427ab91a75102761c5f1": {
      "model_module": "@jupyter-widgets/controls",
      "model_module_version": "1.5.0",
      "model_name": "HBoxModel",
      "state": {
       "children": [
        "IPY_MODEL_44dc9aafc28c4d8992ee66c471a20a1b",
        "IPY_MODEL_b07b288757504e27be1a05f1cea69f23",
        "IPY_MODEL_c8356a8692dc46f699be1f07f5f7dcf8"
       ],
       "layout": "IPY_MODEL_d09b74b5d9984f48bfb0c3340d8bbaeb"
      }
     },
     "3a59651692bd4a1f955a40440826a848": {
      "model_module": "@jupyter-widgets/controls",
      "model_module_version": "1.5.0",
      "model_name": "HBoxModel",
      "state": {
       "children": [
        "IPY_MODEL_5a7f5b67cf1141328eb1332b52375ef3",
        "IPY_MODEL_ce7648dbf3774581ba29cf769da7b586",
        "IPY_MODEL_6fc2675aeb6c4acb8e8dfe17ce9165f7"
       ],
       "layout": "IPY_MODEL_fbb5b8e34f8745f3a17a3aac107c77c9"
      }
     },
     "3ab2e55e80714372946515b81d0d8500": {
      "model_module": "@jupyter-widgets/controls",
      "model_module_version": "1.5.0",
      "model_name": "DescriptionStyleModel",
      "state": {
       "description_width": ""
      }
     },
     "3abea319b1214459aa03f0a9b14d1878": {
      "model_module": "@jupyter-widgets/base",
      "model_module_version": "1.2.0",
      "model_name": "LayoutModel",
      "state": {}
     },
     "3b2b81c89a8b462fba72995f342ecf9c": {
      "model_module": "@jupyter-widgets/base",
      "model_module_version": "1.2.0",
      "model_name": "LayoutModel",
      "state": {}
     },
     "3b352812f66b406ca13056d49b148c8f": {
      "model_module": "@jupyter-widgets/controls",
      "model_module_version": "1.5.0",
      "model_name": "ProgressStyleModel",
      "state": {
       "description_width": ""
      }
     },
     "3b5b4a5973324f568fddf69ead06e50b": {
      "model_module": "@jupyter-widgets/controls",
      "model_module_version": "1.5.0",
      "model_name": "FloatProgressModel",
      "state": {
       "bar_style": "success",
       "layout": "IPY_MODEL_c4623048a13547179baa4914e2ee7f7f",
       "max": 2,
       "style": "IPY_MODEL_d00e4ee0fbcf4ea5a5a5e09d7e262862",
       "value": 2
      }
     },
     "3b5c16de4eea44d29ac5a338725c204d": {
      "model_module": "@jupyter-widgets/controls",
      "model_module_version": "1.5.0",
      "model_name": "HTMLModel",
      "state": {
       "layout": "IPY_MODEL_096ba7e476bf43c1bcd5af51439aedf4",
       "style": "IPY_MODEL_34079924b3c1416287324343cdbab24b",
       "value": " 3/3 [00:00&lt;00:00,  3.67it/s]"
      }
     },
     "3b6bb97a995b425586361552b3ba5b0b": {
      "model_module": "@jupyter-widgets/base",
      "model_module_version": "1.2.0",
      "model_name": "LayoutModel",
      "state": {}
     },
     "3b9e4ac371a24571b89ef432f90d3eaa": {
      "model_module": "@jupyter-widgets/base",
      "model_module_version": "1.2.0",
      "model_name": "LayoutModel",
      "state": {}
     },
     "3c12ee366aca4da7beef1fdb1fc0bc60": {
      "model_module": "@jupyter-widgets/controls",
      "model_module_version": "1.5.0",
      "model_name": "HBoxModel",
      "state": {
       "children": [
        "IPY_MODEL_a13b0d701d6e496c8d4391fbaea03382",
        "IPY_MODEL_b1f70d48be1c44b985118188fbccfa82",
        "IPY_MODEL_6e7964087eac4e49ad7252b363ebe6d7"
       ],
       "layout": "IPY_MODEL_4a69385ef79842df97ea94413504fe58"
      }
     },
     "3c2cb90d4a3d47efbf8699807399c932": {
      "model_module": "@jupyter-widgets/base",
      "model_module_version": "1.2.0",
      "model_name": "LayoutModel",
      "state": {}
     },
     "3c9dc01548234db893bb158b34920242": {
      "model_module": "@jupyter-widgets/base",
      "model_module_version": "1.2.0",
      "model_name": "LayoutModel",
      "state": {}
     },
     "3ceb540544c6497ab09e7f373a5a2b4a": {
      "model_module": "@jupyter-widgets/base",
      "model_module_version": "1.2.0",
      "model_name": "LayoutModel",
      "state": {}
     },
     "3dab463d407f45f29e2ba1d68b0e9d99": {
      "model_module": "@jupyter-widgets/controls",
      "model_module_version": "1.5.0",
      "model_name": "HBoxModel",
      "state": {
       "children": [
        "IPY_MODEL_6a638c8e4d4f454caf1034203def3964",
        "IPY_MODEL_7201c312e19e4366bbea144e01df93d1",
        "IPY_MODEL_3de71ed28c1e4851b559a589c8cf2876"
       ],
       "layout": "IPY_MODEL_3c2cb90d4a3d47efbf8699807399c932"
      }
     },
     "3dd93518456943309461d9b84dcd3e09": {
      "model_module": "@jupyter-widgets/controls",
      "model_module_version": "1.5.0",
      "model_name": "HTMLModel",
      "state": {
       "layout": "IPY_MODEL_d11d45704c7842e49bdf7bff959e4e00",
       "style": "IPY_MODEL_b60eabd7833a4e6cad2f730d357bf5f3",
       "value": "100%"
      }
     },
     "3de71ed28c1e4851b559a589c8cf2876": {
      "model_module": "@jupyter-widgets/controls",
      "model_module_version": "1.5.0",
      "model_name": "HTMLModel",
      "state": {
       "layout": "IPY_MODEL_2f7f3a6226944e8681ddea1cd26818bc",
       "style": "IPY_MODEL_a58ab5eed182442199eeab0a60570716",
       "value": " 2/2 [00:00&lt;00:00,  3.62it/s]"
      }
     },
     "3e57724e46de4be3bf4332d0aeff5f87": {
      "model_module": "@jupyter-widgets/controls",
      "model_module_version": "1.5.0",
      "model_name": "HTMLModel",
      "state": {
       "layout": "IPY_MODEL_27b3355a89374b5e8dda9cf530f0e91c",
       "style": "IPY_MODEL_94767237f56b4aebb07604baa0289864",
       "value": "100%"
      }
     },
     "3f11273e1496486a88ec0c3dc11fd6f5": {
      "model_module": "@jupyter-widgets/controls",
      "model_module_version": "1.5.0",
      "model_name": "HBoxModel",
      "state": {
       "children": [
        "IPY_MODEL_82ee7c7381964a3abfeefd9e3b4bf0c4",
        "IPY_MODEL_168b08cef89b4742ac2a3ca9facc3fbc",
        "IPY_MODEL_fedadc69c709469e81983a992a47637a"
       ],
       "layout": "IPY_MODEL_4c2b0c2e0a5c4e13af0f97d1baa20471"
      }
     },
     "3fbfe3eae96d4d65a39edd859e3726a5": {
      "model_module": "@jupyter-widgets/controls",
      "model_module_version": "1.5.0",
      "model_name": "HTMLModel",
      "state": {
       "layout": "IPY_MODEL_c50c25229ed5470f87e04aef289dd58b",
       "style": "IPY_MODEL_40d42da07d784743af8b1ca46de8a41b",
       "value": "100%"
      }
     },
     "405d6551de1641fa86c3783ac18ba405": {
      "model_module": "@jupyter-widgets/base",
      "model_module_version": "1.2.0",
      "model_name": "LayoutModel",
      "state": {}
     },
     "409495b50a8a4fc7a5bd66095efdc3d3": {
      "model_module": "@jupyter-widgets/base",
      "model_module_version": "1.2.0",
      "model_name": "LayoutModel",
      "state": {}
     },
     "40d42da07d784743af8b1ca46de8a41b": {
      "model_module": "@jupyter-widgets/controls",
      "model_module_version": "1.5.0",
      "model_name": "DescriptionStyleModel",
      "state": {
       "description_width": ""
      }
     },
     "41099f92cf424adead8bfd6bd3b37ddf": {
      "model_module": "@jupyter-widgets/controls",
      "model_module_version": "1.5.0",
      "model_name": "DescriptionStyleModel",
      "state": {
       "description_width": ""
      }
     },
     "41a6c81483f747c0ab94bfa3cd9867c5": {
      "model_module": "@jupyter-widgets/base",
      "model_module_version": "1.2.0",
      "model_name": "LayoutModel",
      "state": {}
     },
     "41c22ebaaeea4f9a93421db325cf82cb": {
      "model_module": "@jupyter-widgets/controls",
      "model_module_version": "1.5.0",
      "model_name": "FloatProgressModel",
      "state": {
       "bar_style": "success",
       "layout": "IPY_MODEL_602a3ad51f00427e8961dbf057ccf180",
       "max": 5,
       "style": "IPY_MODEL_bb65d94e9e334666a0e9a13ad2159d00",
       "value": 5
      }
     },
     "432e9f6f83e5489d9ead89827cf69792": {
      "model_module": "@jupyter-widgets/base",
      "model_module_version": "1.2.0",
      "model_name": "LayoutModel",
      "state": {}
     },
     "43b5f37bab7c4291a98341205f044cd3": {
      "model_module": "@jupyter-widgets/base",
      "model_module_version": "1.2.0",
      "model_name": "LayoutModel",
      "state": {}
     },
     "43f2283618474b33ad9429a2d1a77287": {
      "model_module": "@jupyter-widgets/controls",
      "model_module_version": "1.5.0",
      "model_name": "DescriptionStyleModel",
      "state": {
       "description_width": ""
      }
     },
     "445209af4cd7488e8ac08a86f3e14363": {
      "model_module": "@jupyter-widgets/base",
      "model_module_version": "1.2.0",
      "model_name": "LayoutModel",
      "state": {}
     },
     "4488d3ab4cf946009df613c0f9268ed8": {
      "model_module": "@jupyter-widgets/base",
      "model_module_version": "1.2.0",
      "model_name": "LayoutModel",
      "state": {}
     },
     "44b4fa753f50478db960de1810a84caf": {
      "model_module": "@jupyter-widgets/controls",
      "model_module_version": "1.5.0",
      "model_name": "HBoxModel",
      "state": {
       "children": [
        "IPY_MODEL_8b3ea7ca0b3f4c36b72a3a39e149585b",
        "IPY_MODEL_088c81d3f74744f6ab0e11e4d122bb77",
        "IPY_MODEL_9435ec749f874803b6790eb717a3de8d"
       ],
       "layout": "IPY_MODEL_1484ff74abbe421385742d831ecb5f85"
      }
     },
     "44dc9aafc28c4d8992ee66c471a20a1b": {
      "model_module": "@jupyter-widgets/controls",
      "model_module_version": "1.5.0",
      "model_name": "HTMLModel",
      "state": {
       "layout": "IPY_MODEL_18b544a786804b4d9410a847e9e85c8e",
       "style": "IPY_MODEL_0cdc02a521e943df99046b4992f26c0c",
       "value": "100%"
      }
     },
     "450d4026432747c8b32e79d0db996401": {
      "model_module": "@jupyter-widgets/controls",
      "model_module_version": "1.5.0",
      "model_name": "DescriptionStyleModel",
      "state": {
       "description_width": ""
      }
     },
     "45e72defb0fa40238b5e7320aa01ab44": {
      "model_module": "@jupyter-widgets/controls",
      "model_module_version": "1.5.0",
      "model_name": "DescriptionStyleModel",
      "state": {
       "description_width": ""
      }
     },
     "462c588dc69149078dd7a9a612b5bfc9": {
      "model_module": "@jupyter-widgets/controls",
      "model_module_version": "1.5.0",
      "model_name": "DescriptionStyleModel",
      "state": {
       "description_width": ""
      }
     },
     "4649483b28a54e46ba180a02a2461507": {
      "model_module": "@jupyter-widgets/controls",
      "model_module_version": "1.5.0",
      "model_name": "HTMLModel",
      "state": {
       "layout": "IPY_MODEL_5209a6c831e44aea9e5b680076d72b19",
       "style": "IPY_MODEL_12336eb1c49e4d0994ccfd04824106e4",
       "value": "100%"
      }
     },
     "46f58be226cb4d598d2bb89b137707d0": {
      "model_module": "@jupyter-widgets/base",
      "model_module_version": "1.2.0",
      "model_name": "LayoutModel",
      "state": {}
     },
     "47a699d46fcb4143815ae789383fe135": {
      "model_module": "@jupyter-widgets/controls",
      "model_module_version": "1.5.0",
      "model_name": "DescriptionStyleModel",
      "state": {
       "description_width": ""
      }
     },
     "47cdda57c4f14703b8f8c900cf874e0f": {
      "model_module": "@jupyter-widgets/controls",
      "model_module_version": "1.5.0",
      "model_name": "HBoxModel",
      "state": {
       "children": [
        "IPY_MODEL_99b329e341094f14a70e80896ada2493",
        "IPY_MODEL_1e1649643c97482aa5e4be89881a9235",
        "IPY_MODEL_5193bba8f81b4828aa28fb96c2dc0404"
       ],
       "layout": "IPY_MODEL_8452dd3cb6ed48b1820862707a94d7bc"
      }
     },
     "482fa0a829444a3ba00f652e210005d4": {
      "model_module": "@jupyter-widgets/controls",
      "model_module_version": "1.5.0",
      "model_name": "DescriptionStyleModel",
      "state": {
       "description_width": ""
      }
     },
     "48a8a867defb473e8b669672e55e4c34": {
      "model_module": "@jupyter-widgets/controls",
      "model_module_version": "1.5.0",
      "model_name": "DescriptionStyleModel",
      "state": {
       "description_width": ""
      }
     },
     "48b6e075866c4838a8e1e1089f401399": {
      "model_module": "@jupyter-widgets/controls",
      "model_module_version": "1.5.0",
      "model_name": "HBoxModel",
      "state": {
       "children": [
        "IPY_MODEL_89c43b39a60e46ebb1b09ceed7ce4580",
        "IPY_MODEL_ace0e12f6595499fa6ee218739de261f",
        "IPY_MODEL_216b4e6776534530a3ea52e28f8a3f6f"
       ],
       "layout": "IPY_MODEL_6e024f04e7fa4ac78ee783da70c4b699"
      }
     },
     "4905da0a7ac2495b9fc1cc0f8f0aadce": {
      "model_module": "@jupyter-widgets/controls",
      "model_module_version": "1.5.0",
      "model_name": "DescriptionStyleModel",
      "state": {
       "description_width": ""
      }
     },
     "495058a5a26e41d09af0f9352b63ca70": {
      "model_module": "@jupyter-widgets/controls",
      "model_module_version": "1.5.0",
      "model_name": "HTMLModel",
      "state": {
       "layout": "IPY_MODEL_5cd8ba86f01e4402921358267d00facc",
       "style": "IPY_MODEL_0e28f81a6a1a435a95e31142c7343321",
       "value": " 3/3 [00:00&lt;00:00,  3.51it/s]"
      }
     },
     "49d412f1022b463385ac52b87f975736": {
      "model_module": "@jupyter-widgets/controls",
      "model_module_version": "1.5.0",
      "model_name": "HTMLModel",
      "state": {
       "layout": "IPY_MODEL_0103b2f600dc418ca8f9dfb8727239aa",
       "style": "IPY_MODEL_004acad97576407eb6db011f443c9c99",
       "value": " 2/2 [00:00&lt;00:00,  3.03it/s]"
      }
     },
     "49f742f0c3aa40c790ce2f8f6ffb4bb4": {
      "model_module": "@jupyter-widgets/controls",
      "model_module_version": "1.5.0",
      "model_name": "DescriptionStyleModel",
      "state": {
       "description_width": ""
      }
     },
     "4a460b1d5e28420db6103759dce2e5fb": {
      "model_module": "@jupyter-widgets/base",
      "model_module_version": "1.2.0",
      "model_name": "LayoutModel",
      "state": {}
     },
     "4a69385ef79842df97ea94413504fe58": {
      "model_module": "@jupyter-widgets/base",
      "model_module_version": "1.2.0",
      "model_name": "LayoutModel",
      "state": {}
     },
     "4ac0d48a40bb49f295cf3c890ab04057": {
      "model_module": "@jupyter-widgets/base",
      "model_module_version": "1.2.0",
      "model_name": "LayoutModel",
      "state": {}
     },
     "4adb8dcc61c44dc99c8dd89802466c05": {
      "model_module": "@jupyter-widgets/base",
      "model_module_version": "1.2.0",
      "model_name": "LayoutModel",
      "state": {}
     },
     "4b6214c1b258404bb0f2201c25b30848": {
      "model_module": "@jupyter-widgets/controls",
      "model_module_version": "1.5.0",
      "model_name": "ProgressStyleModel",
      "state": {
       "description_width": ""
      }
     },
     "4c21ac9958474aceb0a31c996299f44f": {
      "model_module": "@jupyter-widgets/base",
      "model_module_version": "1.2.0",
      "model_name": "LayoutModel",
      "state": {}
     },
     "4c2b0c2e0a5c4e13af0f97d1baa20471": {
      "model_module": "@jupyter-widgets/base",
      "model_module_version": "1.2.0",
      "model_name": "LayoutModel",
      "state": {}
     },
     "4c2f5d94932d49ab84460d7823e3c3c4": {
      "model_module": "@jupyter-widgets/controls",
      "model_module_version": "1.5.0",
      "model_name": "DescriptionStyleModel",
      "state": {
       "description_width": ""
      }
     },
     "4c5e5cdfa5d949c79ad99a94bbbf63f7": {
      "model_module": "@jupyter-widgets/controls",
      "model_module_version": "1.5.0",
      "model_name": "FloatProgressModel",
      "state": {
       "bar_style": "success",
       "layout": "IPY_MODEL_9f71075cf5534b9a900b20f44c728b15",
       "max": 2,
       "style": "IPY_MODEL_5574f32d7493447980895a027223d5de",
       "value": 2
      }
     },
     "4c7d5b61016e4b77a218286713b79ac2": {
      "model_module": "@jupyter-widgets/base",
      "model_module_version": "1.2.0",
      "model_name": "LayoutModel",
      "state": {}
     },
     "4c85295ddf9448d086ec66b6be5f820f": {
      "model_module": "@jupyter-widgets/controls",
      "model_module_version": "1.5.0",
      "model_name": "DescriptionStyleModel",
      "state": {
       "description_width": ""
      }
     },
     "4cf5ddf2f8114b828b9a6071359b50d4": {
      "model_module": "@jupyter-widgets/base",
      "model_module_version": "1.2.0",
      "model_name": "LayoutModel",
      "state": {}
     },
     "4d7808952d88429f9fd5a7f984868b9e": {
      "model_module": "@jupyter-widgets/base",
      "model_module_version": "1.2.0",
      "model_name": "LayoutModel",
      "state": {}
     },
     "4d785e875772454f82b5ea4bebbd7d18": {
      "model_module": "@jupyter-widgets/controls",
      "model_module_version": "1.5.0",
      "model_name": "ProgressStyleModel",
      "state": {
       "description_width": ""
      }
     },
     "4d86c0dd71ed40fa8a5357d5fa949791": {
      "model_module": "@jupyter-widgets/controls",
      "model_module_version": "1.5.0",
      "model_name": "FloatProgressModel",
      "state": {
       "bar_style": "success",
       "layout": "IPY_MODEL_409495b50a8a4fc7a5bd66095efdc3d3",
       "max": 2,
       "style": "IPY_MODEL_6bb95c03ac9b4cf29e53f6747cb18755",
       "value": 2
      }
     },
     "4db9b4ef690a4cf394a8af890f73f06f": {
      "model_module": "@jupyter-widgets/controls",
      "model_module_version": "1.5.0",
      "model_name": "DescriptionStyleModel",
      "state": {
       "description_width": ""
      }
     },
     "4ecb6e73d4fe42988a481c098ee667bd": {
      "model_module": "@jupyter-widgets/base",
      "model_module_version": "1.2.0",
      "model_name": "LayoutModel",
      "state": {}
     },
     "4f7b630a39ba4e45ae82381f0a8dca05": {
      "model_module": "@jupyter-widgets/controls",
      "model_module_version": "1.5.0",
      "model_name": "ProgressStyleModel",
      "state": {
       "description_width": ""
      }
     },
     "4fa76e89429248579edceaf252b9c69f": {
      "model_module": "@jupyter-widgets/controls",
      "model_module_version": "1.5.0",
      "model_name": "FloatProgressModel",
      "state": {
       "bar_style": "success",
       "layout": "IPY_MODEL_7d6478c8a16e466fa0dbd8d88b90e58e",
       "max": 2,
       "style": "IPY_MODEL_f734a53c59294a7e9fec3f23863bde33",
       "value": 2
      }
     },
     "4fa80ac5f40d4891915fe7550d053d7e": {
      "model_module": "@jupyter-widgets/controls",
      "model_module_version": "1.5.0",
      "model_name": "FloatProgressModel",
      "state": {
       "bar_style": "success",
       "layout": "IPY_MODEL_4ecb6e73d4fe42988a481c098ee667bd",
       "max": 2,
       "style": "IPY_MODEL_a89c8223c0ef447e9a9905e3fa9d3e41",
       "value": 2
      }
     },
     "4fb7c313e5ee4d59b1fc81d9e2477ac8": {
      "model_module": "@jupyter-widgets/controls",
      "model_module_version": "1.5.0",
      "model_name": "DescriptionStyleModel",
      "state": {
       "description_width": ""
      }
     },
     "4fc646e2239046b0a730b1064d15bc25": {
      "model_module": "@jupyter-widgets/controls",
      "model_module_version": "1.5.0",
      "model_name": "HTMLModel",
      "state": {
       "layout": "IPY_MODEL_6bbdb22e9b6b4e06bde09ae0ee97c2cc",
       "style": "IPY_MODEL_af2b104024af4899a0eb706e5de6f7df",
       "value": " 2/2 [00:00&lt;00:00,  3.30it/s]"
      }
     },
     "50f26ab95c694622ad3c3b278f933d2b": {
      "model_module": "@jupyter-widgets/controls",
      "model_module_version": "1.5.0",
      "model_name": "HTMLModel",
      "state": {
       "layout": "IPY_MODEL_53b6b6067b9b46c28db718f1d76b761b",
       "style": "IPY_MODEL_0c849e54732a4d008b715c832e177ec1",
       "value": " 9/9 [00:02&lt;00:00,  3.81it/s]"
      }
     },
     "50f88110555f45b29502bbdff3886025": {
      "model_module": "@jupyter-widgets/controls",
      "model_module_version": "1.5.0",
      "model_name": "DescriptionStyleModel",
      "state": {
       "description_width": ""
      }
     },
     "512466ddf42045bebce7e653e555411f": {
      "model_module": "@jupyter-widgets/controls",
      "model_module_version": "1.5.0",
      "model_name": "HTMLModel",
      "state": {
       "layout": "IPY_MODEL_85dc49b006db4fd78e847acd2ded44ea",
       "style": "IPY_MODEL_191266cd1db24cb0a0c7e8ee270e4986",
       "value": "100%"
      }
     },
     "5193bba8f81b4828aa28fb96c2dc0404": {
      "model_module": "@jupyter-widgets/controls",
      "model_module_version": "1.5.0",
      "model_name": "HTMLModel",
      "state": {
       "layout": "IPY_MODEL_fa644ae6135c4e399ec2582e045c0511",
       "style": "IPY_MODEL_da20697d2693432dbe104f03b0803b1d",
       "value": " 2/2 [00:00&lt;00:00,  3.06it/s]"
      }
     },
     "5209a6c831e44aea9e5b680076d72b19": {
      "model_module": "@jupyter-widgets/base",
      "model_module_version": "1.2.0",
      "model_name": "LayoutModel",
      "state": {}
     },
     "52df566eda1c45aeb613d66c1201e7f9": {
      "model_module": "@jupyter-widgets/base",
      "model_module_version": "1.2.0",
      "model_name": "LayoutModel",
      "state": {}
     },
     "532ad8d11f1e4f06895d1ad26a39f654": {
      "model_module": "@jupyter-widgets/controls",
      "model_module_version": "1.5.0",
      "model_name": "DescriptionStyleModel",
      "state": {
       "description_width": ""
      }
     },
     "533cd0fa54e34e5c94f3d634d5fed245": {
      "model_module": "@jupyter-widgets/controls",
      "model_module_version": "1.5.0",
      "model_name": "DescriptionStyleModel",
      "state": {
       "description_width": ""
      }
     },
     "5357da45178442088e3e60a2786fcdd5": {
      "model_module": "@jupyter-widgets/controls",
      "model_module_version": "1.5.0",
      "model_name": "DescriptionStyleModel",
      "state": {
       "description_width": ""
      }
     },
     "537cf7123da740559ba1dea7a16af576": {
      "model_module": "@jupyter-widgets/controls",
      "model_module_version": "1.5.0",
      "model_name": "DescriptionStyleModel",
      "state": {
       "description_width": ""
      }
     },
     "5382b3d69f1b46b691132bdcfe447eca": {
      "model_module": "@jupyter-widgets/controls",
      "model_module_version": "1.5.0",
      "model_name": "HBoxModel",
      "state": {
       "children": [
        "IPY_MODEL_d597c5b4ba504cd5a9a97e7523f91273",
        "IPY_MODEL_ecd48614d8a5466cbdbe2ebbcc6fa4a2",
        "IPY_MODEL_e0b9d26555884398863c6ca74b03e60c"
       ],
       "layout": "IPY_MODEL_eda5570ea2db44cc9baa4b6648c38bca"
      }
     },
     "53b6b6067b9b46c28db718f1d76b761b": {
      "model_module": "@jupyter-widgets/base",
      "model_module_version": "1.2.0",
      "model_name": "LayoutModel",
      "state": {}
     },
     "53b7d019fc1a4e88b7b054420429922a": {
      "model_module": "@jupyter-widgets/controls",
      "model_module_version": "1.5.0",
      "model_name": "ProgressStyleModel",
      "state": {
       "description_width": ""
      }
     },
     "55363ab8c29243ce9f3463dc7b09d1bd": {
      "model_module": "@jupyter-widgets/base",
      "model_module_version": "1.2.0",
      "model_name": "LayoutModel",
      "state": {}
     },
     "5574f32d7493447980895a027223d5de": {
      "model_module": "@jupyter-widgets/controls",
      "model_module_version": "1.5.0",
      "model_name": "ProgressStyleModel",
      "state": {
       "description_width": ""
      }
     },
     "5578cf22cda045549a37c41a8f50b74b": {
      "model_module": "@jupyter-widgets/controls",
      "model_module_version": "1.5.0",
      "model_name": "ProgressStyleModel",
      "state": {
       "description_width": ""
      }
     },
     "55898f55083946468d8a792d61cf2963": {
      "model_module": "@jupyter-widgets/controls",
      "model_module_version": "1.5.0",
      "model_name": "HTMLModel",
      "state": {
       "layout": "IPY_MODEL_7794f5865c1d429b89a08ed0fb3151d0",
       "style": "IPY_MODEL_6e403224f03848ad98e4b88030346909",
       "value": " 2/2 [00:00&lt;00:00,  3.64it/s]"
      }
     },
     "5645d4be7c224832a5d70147aafd20a6": {
      "model_module": "@jupyter-widgets/controls",
      "model_module_version": "1.5.0",
      "model_name": "DescriptionStyleModel",
      "state": {
       "description_width": ""
      }
     },
     "568f1d5ee6bb470183b15fe536cbfbfa": {
      "model_module": "@jupyter-widgets/controls",
      "model_module_version": "1.5.0",
      "model_name": "ProgressStyleModel",
      "state": {
       "description_width": ""
      }
     },
     "577dbe21e91f404e915568f7fa7c4329": {
      "model_module": "@jupyter-widgets/base",
      "model_module_version": "1.2.0",
      "model_name": "LayoutModel",
      "state": {}
     },
     "5793c3f0a5f34f06a9fba2a7601f6b2e": {
      "model_module": "@jupyter-widgets/controls",
      "model_module_version": "1.5.0",
      "model_name": "ProgressStyleModel",
      "state": {
       "description_width": ""
      }
     },
     "579ee4b326d049fc8eb9be2a6b68fdb4": {
      "model_module": "@jupyter-widgets/controls",
      "model_module_version": "1.5.0",
      "model_name": "HTMLModel",
      "state": {
       "layout": "IPY_MODEL_f5b319d70f6042bdae31d57c33107fea",
       "style": "IPY_MODEL_1e692aaf6b26441682d2aa65f2908169",
       "value": "100%"
      }
     },
     "57bf4afa24004655a7f441cae96aa55a": {
      "model_module": "@jupyter-widgets/base",
      "model_module_version": "1.2.0",
      "model_name": "LayoutModel",
      "state": {}
     },
     "58be6070f7de4a7ebb3611d955017212": {
      "model_module": "@jupyter-widgets/controls",
      "model_module_version": "1.5.0",
      "model_name": "FloatProgressModel",
      "state": {
       "bar_style": "success",
       "layout": "IPY_MODEL_9051c07b23df44b0ba65af294bdd292f",
       "max": 2,
       "style": "IPY_MODEL_943b38b11368437cbbfacaa6f8a1c2d4",
       "value": 2
      }
     },
     "590d0db810434dec8bc7de62a3962339": {
      "model_module": "@jupyter-widgets/controls",
      "model_module_version": "1.5.0",
      "model_name": "DescriptionStyleModel",
      "state": {
       "description_width": ""
      }
     },
     "5a10642eb51b4153a1fb413b75a29c14": {
      "model_module": "@jupyter-widgets/controls",
      "model_module_version": "1.5.0",
      "model_name": "DescriptionStyleModel",
      "state": {
       "description_width": ""
      }
     },
     "5a7f5b67cf1141328eb1332b52375ef3": {
      "model_module": "@jupyter-widgets/controls",
      "model_module_version": "1.5.0",
      "model_name": "HTMLModel",
      "state": {
       "layout": "IPY_MODEL_c519f1804d654418852fcb0bea8a49c4",
       "style": "IPY_MODEL_178b83f9d6c649e9aa71df9c926c891c",
       "value": "100%"
      }
     },
     "5aa89f863b6248038cab831d628734b2": {
      "model_module": "@jupyter-widgets/controls",
      "model_module_version": "1.5.0",
      "model_name": "HTMLModel",
      "state": {
       "layout": "IPY_MODEL_0d4e36c1911449e1ac70a55b65659295",
       "style": "IPY_MODEL_a0be73400b88455a8f12b4c8e8fd707c",
       "value": "100%"
      }
     },
     "5ad52d54298e4099a9e061cdfac69cf6": {
      "model_module": "@jupyter-widgets/controls",
      "model_module_version": "1.5.0",
      "model_name": "HBoxModel",
      "state": {
       "children": [
        "IPY_MODEL_88f1b38e4c4d441e960d37a3810ba6e5",
        "IPY_MODEL_64f9a68de80a45e4bd69f5e79365b5a1",
        "IPY_MODEL_b6942cd99d6b466b813801a89031bf69"
       ],
       "layout": "IPY_MODEL_04bbf76b37c94d6cabbfdea5d637bac0"
      }
     },
     "5af73697e3644e3f81cc6b66b9a35117": {
      "model_module": "@jupyter-widgets/base",
      "model_module_version": "1.2.0",
      "model_name": "LayoutModel",
      "state": {}
     },
     "5b29b7e9a2ea4ffd8a6b8489549f49b4": {
      "model_module": "@jupyter-widgets/base",
      "model_module_version": "1.2.0",
      "model_name": "LayoutModel",
      "state": {}
     },
     "5b7ffcc7f12a4f0a9b652220bd66da0c": {
      "model_module": "@jupyter-widgets/controls",
      "model_module_version": "1.5.0",
      "model_name": "DescriptionStyleModel",
      "state": {
       "description_width": ""
      }
     },
     "5b903fa18a1b4cf0b69cbcd9739323cd": {
      "model_module": "@jupyter-widgets/controls",
      "model_module_version": "1.5.0",
      "model_name": "HTMLModel",
      "state": {
       "layout": "IPY_MODEL_d7bedc7d791544b08baa5ef1f2fa2ccb",
       "style": "IPY_MODEL_81009e33f5fd48cbb6f44b06994d3f53",
       "value": "100%"
      }
     },
     "5ba3bab5002e462e826fd2a85b23ad34": {
      "model_module": "@jupyter-widgets/controls",
      "model_module_version": "1.5.0",
      "model_name": "FloatProgressModel",
      "state": {
       "bar_style": "success",
       "layout": "IPY_MODEL_8dc8e042f0dd4b5e9fdbb8f677318535",
       "max": 2,
       "style": "IPY_MODEL_26d8cd2298554fca81a71e9cb54f971f",
       "value": 2
      }
     },
     "5bc1bb78840b4c9c9178583a23eeaea0": {
      "model_module": "@jupyter-widgets/base",
      "model_module_version": "1.2.0",
      "model_name": "LayoutModel",
      "state": {}
     },
     "5bd14644c60f44b1b3466f27de90c97d": {
      "model_module": "@jupyter-widgets/controls",
      "model_module_version": "1.5.0",
      "model_name": "HTMLModel",
      "state": {
       "layout": "IPY_MODEL_d47a2fc8d9b14e168ea17d5328076da1",
       "style": "IPY_MODEL_a101d51d5a574ebc8c966ef0483a66ea",
       "value": "100%"
      }
     },
     "5c10b148b123432eb6e6f3091fc0f0f7": {
      "model_module": "@jupyter-widgets/base",
      "model_module_version": "1.2.0",
      "model_name": "LayoutModel",
      "state": {}
     },
     "5c3282e6b76f4ccab3a98a2f46a5bdd9": {
      "model_module": "@jupyter-widgets/controls",
      "model_module_version": "1.5.0",
      "model_name": "DescriptionStyleModel",
      "state": {
       "description_width": ""
      }
     },
     "5c5daa7be4574d2ba861e72b28b04b45": {
      "model_module": "@jupyter-widgets/base",
      "model_module_version": "1.2.0",
      "model_name": "LayoutModel",
      "state": {}
     },
     "5cd8ba86f01e4402921358267d00facc": {
      "model_module": "@jupyter-widgets/base",
      "model_module_version": "1.2.0",
      "model_name": "LayoutModel",
      "state": {}
     },
     "5d117cc0261d480fb60d5dbeb6cef7b5": {
      "model_module": "@jupyter-widgets/base",
      "model_module_version": "1.2.0",
      "model_name": "LayoutModel",
      "state": {}
     },
     "5d13d79879274aeb9fae75b2f2c550cf": {
      "model_module": "@jupyter-widgets/controls",
      "model_module_version": "1.5.0",
      "model_name": "HBoxModel",
      "state": {
       "children": [
        "IPY_MODEL_e8df86cadef242dabfe114342c4c23cf",
        "IPY_MODEL_8b4d4ef8b7624be2919c25988c2dccb2",
        "IPY_MODEL_ec095057ceae4ad190d0a03d29292fe2"
       ],
       "layout": "IPY_MODEL_75b63c848cfc487e9d8050d0253a963f"
      }
     },
     "5d1d0cf4119a4ca5be8d9ffcd69f1b71": {
      "model_module": "@jupyter-widgets/controls",
      "model_module_version": "1.5.0",
      "model_name": "DescriptionStyleModel",
      "state": {
       "description_width": ""
      }
     },
     "5d4869a9e5ee43a3a8e3a19738c5b962": {
      "model_module": "@jupyter-widgets/controls",
      "model_module_version": "1.5.0",
      "model_name": "FloatProgressModel",
      "state": {
       "bar_style": "success",
       "layout": "IPY_MODEL_22e2419068c141dcb3183eb2cc9d5e08",
       "max": 7,
       "style": "IPY_MODEL_0b2c337802784175bdeed4910d84dc86",
       "value": 7
      }
     },
     "5dadcf3e06b3418abe5462a9e7030e7b": {
      "model_module": "@jupyter-widgets/controls",
      "model_module_version": "1.5.0",
      "model_name": "DescriptionStyleModel",
      "state": {
       "description_width": ""
      }
     },
     "5e6ae7fd424542bbaea82cfd07f2313a": {
      "model_module": "@jupyter-widgets/controls",
      "model_module_version": "1.5.0",
      "model_name": "DescriptionStyleModel",
      "state": {
       "description_width": ""
      }
     },
     "5e900db152d941e7bfa320c8811a6a10": {
      "model_module": "@jupyter-widgets/base",
      "model_module_version": "1.2.0",
      "model_name": "LayoutModel",
      "state": {}
     },
     "5f1d7fad56254d819c4f416189fe57e9": {
      "model_module": "@jupyter-widgets/controls",
      "model_module_version": "1.5.0",
      "model_name": "DescriptionStyleModel",
      "state": {
       "description_width": ""
      }
     },
     "5f6c68912e4249cab812986a4b9009c4": {
      "model_module": "@jupyter-widgets/controls",
      "model_module_version": "1.5.0",
      "model_name": "DescriptionStyleModel",
      "state": {
       "description_width": ""
      }
     },
     "5f716e94e7104e388dba2a8012551fb4": {
      "model_module": "@jupyter-widgets/controls",
      "model_module_version": "1.5.0",
      "model_name": "HTMLModel",
      "state": {
       "layout": "IPY_MODEL_a1a3f69fce0f41779526bca043b8c86a",
       "style": "IPY_MODEL_62f00dc2f763426f9d0e0143b760c96a",
       "value": " 2/2 [00:00&lt;00:00,  3.69it/s]"
      }
     },
     "5fca9b2302f1484597e19ea05e56c5e4": {
      "model_module": "@jupyter-widgets/base",
      "model_module_version": "1.2.0",
      "model_name": "LayoutModel",
      "state": {}
     },
     "5fecffeaae904582a97762ae0f2f17d7": {
      "model_module": "@jupyter-widgets/base",
      "model_module_version": "1.2.0",
      "model_name": "LayoutModel",
      "state": {}
     },
     "602a3ad51f00427e8961dbf057ccf180": {
      "model_module": "@jupyter-widgets/base",
      "model_module_version": "1.2.0",
      "model_name": "LayoutModel",
      "state": {}
     },
     "6136feb2abdb4cfbb2753f629c83a2c0": {
      "model_module": "@jupyter-widgets/base",
      "model_module_version": "1.2.0",
      "model_name": "LayoutModel",
      "state": {}
     },
     "61a6b3fa972b4e8f8f3a6c4f17aa891b": {
      "model_module": "@jupyter-widgets/base",
      "model_module_version": "1.2.0",
      "model_name": "LayoutModel",
      "state": {}
     },
     "61d4477ddb0a4c3ea34d5c8f21565490": {
      "model_module": "@jupyter-widgets/controls",
      "model_module_version": "1.5.0",
      "model_name": "DescriptionStyleModel",
      "state": {
       "description_width": ""
      }
     },
     "624e21bb6b224952bb16c8c80c58517a": {
      "model_module": "@jupyter-widgets/controls",
      "model_module_version": "1.5.0",
      "model_name": "DescriptionStyleModel",
      "state": {
       "description_width": ""
      }
     },
     "627ede66058d4732a03d281d4e91e71c": {
      "model_module": "@jupyter-widgets/controls",
      "model_module_version": "1.5.0",
      "model_name": "HTMLModel",
      "state": {
       "layout": "IPY_MODEL_d3bd70ab5a474c34a2039bcb48b63342",
       "style": "IPY_MODEL_a27f1290629f4c0581f556e9d3de0e8b",
       "value": "100%"
      }
     },
     "62a9caf73af243d28a345f393c28a329": {
      "model_module": "@jupyter-widgets/base",
      "model_module_version": "1.2.0",
      "model_name": "LayoutModel",
      "state": {}
     },
     "62f00dc2f763426f9d0e0143b760c96a": {
      "model_module": "@jupyter-widgets/controls",
      "model_module_version": "1.5.0",
      "model_name": "DescriptionStyleModel",
      "state": {
       "description_width": ""
      }
     },
     "637c90f6feae47c4b8e88bd47ea8e1b1": {
      "model_module": "@jupyter-widgets/base",
      "model_module_version": "1.2.0",
      "model_name": "LayoutModel",
      "state": {}
     },
     "63e9aa0c0d3645e695400c857cc85a05": {
      "model_module": "@jupyter-widgets/controls",
      "model_module_version": "1.5.0",
      "model_name": "DescriptionStyleModel",
      "state": {
       "description_width": ""
      }
     },
     "645fdf89d5554fccb4e85d324895c7c6": {
      "model_module": "@jupyter-widgets/base",
      "model_module_version": "1.2.0",
      "model_name": "LayoutModel",
      "state": {}
     },
     "64b0ea64e2964865b651f6ed648d96ac": {
      "model_module": "@jupyter-widgets/controls",
      "model_module_version": "1.5.0",
      "model_name": "DescriptionStyleModel",
      "state": {
       "description_width": ""
      }
     },
     "64cdf9b8a0c74f1799af526194dfa28b": {
      "model_module": "@jupyter-widgets/base",
      "model_module_version": "1.2.0",
      "model_name": "LayoutModel",
      "state": {}
     },
     "64f9a68de80a45e4bd69f5e79365b5a1": {
      "model_module": "@jupyter-widgets/controls",
      "model_module_version": "1.5.0",
      "model_name": "FloatProgressModel",
      "state": {
       "bar_style": "success",
       "layout": "IPY_MODEL_a00badf7c36743828e0ec7f0738b6463",
       "max": 3,
       "style": "IPY_MODEL_cefcdda3dbc8407a8affaa9431de2c7a",
       "value": 3
      }
     },
     "64fa11ef6b8b41518c93ccfec085526e": {
      "model_module": "@jupyter-widgets/controls",
      "model_module_version": "1.5.0",
      "model_name": "FloatProgressModel",
      "state": {
       "bar_style": "success",
       "layout": "IPY_MODEL_84ea24e95b2d4d528cc092f6aac45af6",
       "max": 2,
       "style": "IPY_MODEL_80cd8239d99a4042982fbe7ed2192dea",
       "value": 2
      }
     },
     "650670799980444bb22b08a06ad6f702": {
      "model_module": "@jupyter-widgets/base",
      "model_module_version": "1.2.0",
      "model_name": "LayoutModel",
      "state": {}
     },
     "651d376c347c471ba7708a804f9ae0e6": {
      "model_module": "@jupyter-widgets/base",
      "model_module_version": "1.2.0",
      "model_name": "LayoutModel",
      "state": {}
     },
     "6550edaff68343b08c197c84526890b1": {
      "model_module": "@jupyter-widgets/base",
      "model_module_version": "1.2.0",
      "model_name": "LayoutModel",
      "state": {}
     },
     "6565f94670d24311a11e326f84c23b03": {
      "model_module": "@jupyter-widgets/controls",
      "model_module_version": "1.5.0",
      "model_name": "FloatProgressModel",
      "state": {
       "bar_style": "success",
       "layout": "IPY_MODEL_19d3c944563b42f59efa9ebdbdccdb71",
       "max": 3,
       "style": "IPY_MODEL_4d785e875772454f82b5ea4bebbd7d18",
       "value": 3
      }
     },
     "656a12df025c45309f642cdf5c6c76d5": {
      "model_module": "@jupyter-widgets/base",
      "model_module_version": "1.2.0",
      "model_name": "LayoutModel",
      "state": {}
     },
     "66aa28aedc33433e809dba5324862d26": {
      "model_module": "@jupyter-widgets/controls",
      "model_module_version": "1.5.0",
      "model_name": "HTMLModel",
      "state": {
       "layout": "IPY_MODEL_52df566eda1c45aeb613d66c1201e7f9",
       "style": "IPY_MODEL_2cb480b72a8c4d58a35935ae0369a67b",
       "value": "100%"
      }
     },
     "66b0adf0da474b0c9f41dd4fd36b0409": {
      "model_module": "@jupyter-widgets/controls",
      "model_module_version": "1.5.0",
      "model_name": "DescriptionStyleModel",
      "state": {
       "description_width": ""
      }
     },
     "66d0368848fa4fc894cfc73b300be224": {
      "model_module": "@jupyter-widgets/controls",
      "model_module_version": "1.5.0",
      "model_name": "HTMLModel",
      "state": {
       "layout": "IPY_MODEL_de371714a55d4550b5d179a18f5ff80c",
       "style": "IPY_MODEL_450d4026432747c8b32e79d0db996401",
       "value": " 2/2 [00:00&lt;00:00,  3.61it/s]"
      }
     },
     "670324c7da29436fb3dfc1ef71d6f6f6": {
      "model_module": "@jupyter-widgets/controls",
      "model_module_version": "1.5.0",
      "model_name": "HTMLModel",
      "state": {
       "layout": "IPY_MODEL_c1ce50f213d24bf9a9e2eab4b0df366b",
       "style": "IPY_MODEL_d6cf10209f114617ab40cbee5366a685",
       "value": " 2/2 [00:00&lt;00:00,  2.66it/s]"
      }
     },
     "67be0bbce9444d31b575f9ce5546549e": {
      "model_module": "@jupyter-widgets/controls",
      "model_module_version": "1.5.0",
      "model_name": "ProgressStyleModel",
      "state": {
       "description_width": ""
      }
     },
     "68206f9e33ab4d58a8e1b776fb30688a": {
      "model_module": "@jupyter-widgets/base",
      "model_module_version": "1.2.0",
      "model_name": "LayoutModel",
      "state": {}
     },
     "6821603f137a4b7a9d2f796a05c9d459": {
      "model_module": "@jupyter-widgets/base",
      "model_module_version": "1.2.0",
      "model_name": "LayoutModel",
      "state": {}
     },
     "6844d9f8e5a24f039c9318f53db553b8": {
      "model_module": "@jupyter-widgets/controls",
      "model_module_version": "1.5.0",
      "model_name": "HTMLModel",
      "state": {
       "layout": "IPY_MODEL_9ae51a3cdb7c46ddb24c91d312bd7776",
       "style": "IPY_MODEL_2ffa3b70a1834d019b5985d13aaf9080",
       "value": "100%"
      }
     },
     "6872f152090040edb6df4c3bbd5c31ec": {
      "model_module": "@jupyter-widgets/base",
      "model_module_version": "1.2.0",
      "model_name": "LayoutModel",
      "state": {}
     },
     "68a4acf34adb4f1086844dda97e1abb0": {
      "model_module": "@jupyter-widgets/base",
      "model_module_version": "1.2.0",
      "model_name": "LayoutModel",
      "state": {}
     },
     "68ad636269554a049a9c506f01bdb330": {
      "model_module": "@jupyter-widgets/controls",
      "model_module_version": "1.5.0",
      "model_name": "ProgressStyleModel",
      "state": {
       "description_width": ""
      }
     },
     "68cbdf5e7d0d4160afeb4ff811d1315c": {
      "model_module": "@jupyter-widgets/controls",
      "model_module_version": "1.5.0",
      "model_name": "ProgressStyleModel",
      "state": {
       "description_width": ""
      }
     },
     "68d35b2c6c124fef8594d3bcd1f8b59a": {
      "model_module": "@jupyter-widgets/base",
      "model_module_version": "1.2.0",
      "model_name": "LayoutModel",
      "state": {}
     },
     "6929221ba34c4044aadca2d0d881c775": {
      "model_module": "@jupyter-widgets/base",
      "model_module_version": "1.2.0",
      "model_name": "LayoutModel",
      "state": {}
     },
     "6a638c8e4d4f454caf1034203def3964": {
      "model_module": "@jupyter-widgets/controls",
      "model_module_version": "1.5.0",
      "model_name": "HTMLModel",
      "state": {
       "layout": "IPY_MODEL_179b65d3e8cf4928a1db313d65cd3f95",
       "style": "IPY_MODEL_537cf7123da740559ba1dea7a16af576",
       "value": "100%"
      }
     },
     "6b053913dc0d45189b889771f0d73b8f": {
      "model_module": "@jupyter-widgets/controls",
      "model_module_version": "1.5.0",
      "model_name": "HBoxModel",
      "state": {
       "children": [
        "IPY_MODEL_3dd93518456943309461d9b84dcd3e09",
        "IPY_MODEL_5ba3bab5002e462e826fd2a85b23ad34",
        "IPY_MODEL_0ef425bb965e47b9b2b987bfff5d83b6"
       ],
       "layout": "IPY_MODEL_6136feb2abdb4cfbb2753f629c83a2c0"
      }
     },
     "6b598ce397e44e82bfb4b45956f45090": {
      "model_module": "@jupyter-widgets/controls",
      "model_module_version": "1.5.0",
      "model_name": "FloatProgressModel",
      "state": {
       "bar_style": "success",
       "layout": "IPY_MODEL_eefe3b59eee84d8dae174f64cd975250",
       "max": 3,
       "style": "IPY_MODEL_da1c29aa60934468a6c322b7e73f3d51",
       "value": 3
      }
     },
     "6b8155618f014ae082a61a5079e682eb": {
      "model_module": "@jupyter-widgets/controls",
      "model_module_version": "1.5.0",
      "model_name": "DescriptionStyleModel",
      "state": {
       "description_width": ""
      }
     },
     "6bad917be86e4263a35a3b633e13e26c": {
      "model_module": "@jupyter-widgets/base",
      "model_module_version": "1.2.0",
      "model_name": "LayoutModel",
      "state": {}
     },
     "6bb95c03ac9b4cf29e53f6747cb18755": {
      "model_module": "@jupyter-widgets/controls",
      "model_module_version": "1.5.0",
      "model_name": "ProgressStyleModel",
      "state": {
       "description_width": ""
      }
     },
     "6bbdb22e9b6b4e06bde09ae0ee97c2cc": {
      "model_module": "@jupyter-widgets/base",
      "model_module_version": "1.2.0",
      "model_name": "LayoutModel",
      "state": {}
     },
     "6bc0ee53bfd34d4eb01531de9ec5b198": {
      "model_module": "@jupyter-widgets/controls",
      "model_module_version": "1.5.0",
      "model_name": "HBoxModel",
      "state": {
       "children": [
        "IPY_MODEL_22b4250240304d25bae7d766a96e4dd9",
        "IPY_MODEL_287c036a98b547c6afa0b3eb6bca1707",
        "IPY_MODEL_8a68d01828c6469c990ca6c5135c81fa"
       ],
       "layout": "IPY_MODEL_d9ca0d2df0554778bd7965c26c3d860c"
      }
     },
     "6bf12b5bb8d54639a7091441d79989de": {
      "model_module": "@jupyter-widgets/controls",
      "model_module_version": "1.5.0",
      "model_name": "DescriptionStyleModel",
      "state": {
       "description_width": ""
      }
     },
     "6c509e199af24724916e6ac1b09bd5b5": {
      "model_module": "@jupyter-widgets/controls",
      "model_module_version": "1.5.0",
      "model_name": "ProgressStyleModel",
      "state": {
       "description_width": ""
      }
     },
     "6c86f6c532b04cf1b71ff1c7fe477aff": {
      "model_module": "@jupyter-widgets/controls",
      "model_module_version": "1.5.0",
      "model_name": "HTMLModel",
      "state": {
       "layout": "IPY_MODEL_b69d05ac6c484969b72947a12883e5de",
       "style": "IPY_MODEL_f179f5de7c8841c9b520022cdca7cda5",
       "value": " 2/2 [00:00&lt;00:00,  3.59it/s]"
      }
     },
     "6c9614840f7940478104bcdcfcb7299b": {
      "model_module": "@jupyter-widgets/controls",
      "model_module_version": "1.5.0",
      "model_name": "HBoxModel",
      "state": {
       "children": [
        "IPY_MODEL_0d1563d496d14e03ad87bd7e444ad064",
        "IPY_MODEL_b90a6e559c2f4dc8aae9b96efc05311e",
        "IPY_MODEL_29f1fe3864d5496ea2440f80ab4a6394"
       ],
       "layout": "IPY_MODEL_4adb8dcc61c44dc99c8dd89802466c05"
      }
     },
     "6cba116a60a141db88829d4eadc06c7c": {
      "model_module": "@jupyter-widgets/controls",
      "model_module_version": "1.5.0",
      "model_name": "HBoxModel",
      "state": {
       "children": [
        "IPY_MODEL_5bd14644c60f44b1b3466f27de90c97d",
        "IPY_MODEL_4fa80ac5f40d4891915fe7550d053d7e",
        "IPY_MODEL_1f8197e4c0e84d82884d9d600c30c1fd"
       ],
       "layout": "IPY_MODEL_2e85bd6e46e6429285ac6c16556f8270"
      }
     },
     "6cf78021c82f46e4a4e943cda9972438": {
      "model_module": "@jupyter-widgets/base",
      "model_module_version": "1.2.0",
      "model_name": "LayoutModel",
      "state": {}
     },
     "6cfa56476f2b4a7ca5410af95dae30bf": {
      "model_module": "@jupyter-widgets/controls",
      "model_module_version": "1.5.0",
      "model_name": "ProgressStyleModel",
      "state": {
       "description_width": ""
      }
     },
     "6d8d22763b214a02bdc97d8c2b501b18": {
      "model_module": "@jupyter-widgets/controls",
      "model_module_version": "1.5.0",
      "model_name": "DescriptionStyleModel",
      "state": {
       "description_width": ""
      }
     },
     "6da34926b8d344048c3f7a75a7d15c80": {
      "model_module": "@jupyter-widgets/base",
      "model_module_version": "1.2.0",
      "model_name": "LayoutModel",
      "state": {}
     },
     "6dfe6d4c2c5d4f53961dbf56934dd804": {
      "model_module": "@jupyter-widgets/base",
      "model_module_version": "1.2.0",
      "model_name": "LayoutModel",
      "state": {}
     },
     "6e024f04e7fa4ac78ee783da70c4b699": {
      "model_module": "@jupyter-widgets/base",
      "model_module_version": "1.2.0",
      "model_name": "LayoutModel",
      "state": {}
     },
     "6e403224f03848ad98e4b88030346909": {
      "model_module": "@jupyter-widgets/controls",
      "model_module_version": "1.5.0",
      "model_name": "DescriptionStyleModel",
      "state": {
       "description_width": ""
      }
     },
     "6e7964087eac4e49ad7252b363ebe6d7": {
      "model_module": "@jupyter-widgets/controls",
      "model_module_version": "1.5.0",
      "model_name": "HTMLModel",
      "state": {
       "layout": "IPY_MODEL_dd822102a3d9495db680341de7d0b8c2",
       "style": "IPY_MODEL_47a699d46fcb4143815ae789383fe135",
       "value": " 0/2 [00:00&lt;?, ?it/s]"
      }
     },
     "6ea976c02d714642b0f6ffe6a63ef70c": {
      "model_module": "@jupyter-widgets/controls",
      "model_module_version": "1.5.0",
      "model_name": "DescriptionStyleModel",
      "state": {
       "description_width": ""
      }
     },
     "6ec321fefc2143d5b173fc66cbfd3640": {
      "model_module": "@jupyter-widgets/controls",
      "model_module_version": "1.5.0",
      "model_name": "FloatProgressModel",
      "state": {
       "bar_style": "success",
       "layout": "IPY_MODEL_cd6a959f9f9c4727899650f5da10d2bf",
       "max": 2,
       "style": "IPY_MODEL_36373fcd3adb4dc385e2e6fcb7733704",
       "value": 2
      }
     },
     "6f78faf647164753ae57aececf8c98b1": {
      "model_module": "@jupyter-widgets/controls",
      "model_module_version": "1.5.0",
      "model_name": "HTMLModel",
      "state": {
       "layout": "IPY_MODEL_9630794132754aa1a451680616259759",
       "style": "IPY_MODEL_36677544a4fe4e858ae6841fc5a0201a",
       "value": "100%"
      }
     },
     "6f87f7519b1f422d8b9e9a3d57c2d913": {
      "model_module": "@jupyter-widgets/base",
      "model_module_version": "1.2.0",
      "model_name": "LayoutModel",
      "state": {}
     },
     "6fc2675aeb6c4acb8e8dfe17ce9165f7": {
      "model_module": "@jupyter-widgets/controls",
      "model_module_version": "1.5.0",
      "model_name": "HTMLModel",
      "state": {
       "layout": "IPY_MODEL_24bcb6099ac841cc902336d8e0549bb1",
       "style": "IPY_MODEL_1cd34517df024546a41e958506021da3",
       "value": " 2/2 [00:00&lt;00:00,  3.27it/s]"
      }
     },
     "7027920a97a8456fb421eb89636e6b1c": {
      "model_module": "@jupyter-widgets/controls",
      "model_module_version": "1.5.0",
      "model_name": "DescriptionStyleModel",
      "state": {
       "description_width": ""
      }
     },
     "703ceae7d09b42c293eae4f8933493f4": {
      "model_module": "@jupyter-widgets/base",
      "model_module_version": "1.2.0",
      "model_name": "LayoutModel",
      "state": {}
     },
     "70505dd812834939b061e06764ab0a90": {
      "model_module": "@jupyter-widgets/controls",
      "model_module_version": "1.5.0",
      "model_name": "ProgressStyleModel",
      "state": {
       "description_width": ""
      }
     },
     "70a45fbfbbb6404ebc9b9d71b77b93b3": {
      "model_module": "@jupyter-widgets/base",
      "model_module_version": "1.2.0",
      "model_name": "LayoutModel",
      "state": {}
     },
     "71691c8397404ca3869fb53312692d76": {
      "model_module": "@jupyter-widgets/controls",
      "model_module_version": "1.5.0",
      "model_name": "HTMLModel",
      "state": {
       "layout": "IPY_MODEL_55363ab8c29243ce9f3463dc7b09d1bd",
       "style": "IPY_MODEL_ab91bc3eafdf452291ef6659de3be8ac",
       "value": " 2/2 [00:00&lt;00:00,  3.54it/s]"
      }
     },
     "71a0b802df57446f9b6b2fef1adeded3": {
      "model_module": "@jupyter-widgets/controls",
      "model_module_version": "1.5.0",
      "model_name": "ProgressStyleModel",
      "state": {
       "description_width": ""
      }
     },
     "7201c312e19e4366bbea144e01df93d1": {
      "model_module": "@jupyter-widgets/controls",
      "model_module_version": "1.5.0",
      "model_name": "FloatProgressModel",
      "state": {
       "bar_style": "success",
       "layout": "IPY_MODEL_dd9e0ac234024c06b536b5ebe0d6dc08",
       "max": 2,
       "style": "IPY_MODEL_71a0b802df57446f9b6b2fef1adeded3",
       "value": 2
      }
     },
     "72114b27096747bdb9783c4763070dc1": {
      "model_module": "@jupyter-widgets/base",
      "model_module_version": "1.2.0",
      "model_name": "LayoutModel",
      "state": {}
     },
     "72d8d38a8d5c42f1b341275a1b15757b": {
      "model_module": "@jupyter-widgets/base",
      "model_module_version": "1.2.0",
      "model_name": "LayoutModel",
      "state": {}
     },
     "736b2abe7d384c03a171d3c7c604a8f7": {
      "model_module": "@jupyter-widgets/controls",
      "model_module_version": "1.5.0",
      "model_name": "DescriptionStyleModel",
      "state": {
       "description_width": ""
      }
     },
     "7384dc44ceb64316b7c9a785c29c61ef": {
      "model_module": "@jupyter-widgets/controls",
      "model_module_version": "1.5.0",
      "model_name": "DescriptionStyleModel",
      "state": {
       "description_width": ""
      }
     },
     "740b14b9cc024477a482866cb9350591": {
      "model_module": "@jupyter-widgets/controls",
      "model_module_version": "1.5.0",
      "model_name": "HTMLModel",
      "state": {
       "layout": "IPY_MODEL_29598218021344c491dcd3620d047590",
       "style": "IPY_MODEL_8dbdcbdf7a484978b80e8c5fe4f93f67",
       "value": "100%"
      }
     },
     "7451b3007e474720845c3a09271a18ee": {
      "model_module": "@jupyter-widgets/controls",
      "model_module_version": "1.5.0",
      "model_name": "HTMLModel",
      "state": {
       "layout": "IPY_MODEL_7f6da1f10a6d40d48eb1fcb536c8a064",
       "style": "IPY_MODEL_12828a7dd0e34db886bca9e8b27d711d",
       "value": "100%"
      }
     },
     "7474499ace5343b8aa98a0cd4224e581": {
      "model_module": "@jupyter-widgets/controls",
      "model_module_version": "1.5.0",
      "model_name": "DescriptionStyleModel",
      "state": {
       "description_width": ""
      }
     },
     "74aac9d39e5a4701866e565bc2b21235": {
      "model_module": "@jupyter-widgets/base",
      "model_module_version": "1.2.0",
      "model_name": "LayoutModel",
      "state": {}
     },
     "74da36b636dc4f4890ca31da22ab2018": {
      "model_module": "@jupyter-widgets/controls",
      "model_module_version": "1.5.0",
      "model_name": "DescriptionStyleModel",
      "state": {
       "description_width": ""
      }
     },
     "7585dc581f8e409cbc23c73df0d93f8c": {
      "model_module": "@jupyter-widgets/controls",
      "model_module_version": "1.5.0",
      "model_name": "DescriptionStyleModel",
      "state": {
       "description_width": ""
      }
     },
     "75a09e41eb0144ad86ea0a4af53943c4": {
      "model_module": "@jupyter-widgets/controls",
      "model_module_version": "1.5.0",
      "model_name": "HTMLModel",
      "state": {
       "layout": "IPY_MODEL_ac65230874f94f2fa582b4001dea264f",
       "style": "IPY_MODEL_3ab2e55e80714372946515b81d0d8500",
       "value": "100%"
      }
     },
     "75b63c848cfc487e9d8050d0253a963f": {
      "model_module": "@jupyter-widgets/base",
      "model_module_version": "1.2.0",
      "model_name": "LayoutModel",
      "state": {}
     },
     "7647e3bf2e224861a2862b1c78b791d8": {
      "model_module": "@jupyter-widgets/base",
      "model_module_version": "1.2.0",
      "model_name": "LayoutModel",
      "state": {}
     },
     "768bcb576383471e9db869a5795312a0": {
      "model_module": "@jupyter-widgets/base",
      "model_module_version": "1.2.0",
      "model_name": "LayoutModel",
      "state": {}
     },
     "76ad4fd49a50420ea5af33c258d03f6a": {
      "model_module": "@jupyter-widgets/controls",
      "model_module_version": "1.5.0",
      "model_name": "FloatProgressModel",
      "state": {
       "bar_style": "success",
       "layout": "IPY_MODEL_927a66cebafe4c09bfd4d48eaf410c8d",
       "max": 3,
       "style": "IPY_MODEL_19db8bcc13604d099613ec614226602c",
       "value": 3
      }
     },
     "77611a2611ed435c83f09a12645ae35d": {
      "model_module": "@jupyter-widgets/controls",
      "model_module_version": "1.5.0",
      "model_name": "HBoxModel",
      "state": {
       "children": [
        "IPY_MODEL_1228bfab1d124dcbbdeb6960f42680d4",
        "IPY_MODEL_bf4071418e974bdab42ff08750040664",
        "IPY_MODEL_0a418adb69dd4acbad9dda8ba8287522"
       ],
       "layout": "IPY_MODEL_1878df674f6a4689a1833ac121a17047"
      }
     },
     "7794f5865c1d429b89a08ed0fb3151d0": {
      "model_module": "@jupyter-widgets/base",
      "model_module_version": "1.2.0",
      "model_name": "LayoutModel",
      "state": {}
     },
     "786705564dae476dbdad0e21ddc23611": {
      "model_module": "@jupyter-widgets/controls",
      "model_module_version": "1.5.0",
      "model_name": "ProgressStyleModel",
      "state": {
       "description_width": ""
      }
     },
     "79ba98245ff04aea9d6ab503b006438b": {
      "model_module": "@jupyter-widgets/base",
      "model_module_version": "1.2.0",
      "model_name": "LayoutModel",
      "state": {}
     },
     "79f61651d946437c9154bf2f1ea96f43": {
      "model_module": "@jupyter-widgets/controls",
      "model_module_version": "1.5.0",
      "model_name": "FloatProgressModel",
      "state": {
       "bar_style": "success",
       "layout": "IPY_MODEL_2fa2ebdaded04de8ba9314a60a30d9c3",
       "max": 3,
       "style": "IPY_MODEL_9751604f9e71456daadd54d5ed696034",
       "value": 3
      }
     },
     "7a6f6e8778674b1e9ac4a9653d08a322": {
      "model_module": "@jupyter-widgets/base",
      "model_module_version": "1.2.0",
      "model_name": "LayoutModel",
      "state": {}
     },
     "7b247dbbc3a347a28cefb3fc2f61353f": {
      "model_module": "@jupyter-widgets/controls",
      "model_module_version": "1.5.0",
      "model_name": "HBoxModel",
      "state": {
       "children": [
        "IPY_MODEL_d6e27ba900694899ae9848d3286c8fee",
        "IPY_MODEL_d6c6785734914f68b81276456cfd7e1a",
        "IPY_MODEL_beac632282a14c4abe69a9b09762831f"
       ],
       "layout": "IPY_MODEL_e09d7adbee104779b6eafad25f98068d"
      }
     },
     "7ba6be29161e4aef8dc62aca05bf27a9": {
      "model_module": "@jupyter-widgets/controls",
      "model_module_version": "1.5.0",
      "model_name": "HTMLModel",
      "state": {
       "layout": "IPY_MODEL_256bc55a12a1470693e95ea9bce600ec",
       "style": "IPY_MODEL_d6eba979b27e4b1cb55fca5ccc0c903d",
       "value": " 2/2 [00:00&lt;00:00,  3.65it/s]"
      }
     },
     "7bc251cee4f1412aa959d57a6e75ff76": {
      "model_module": "@jupyter-widgets/controls",
      "model_module_version": "1.5.0",
      "model_name": "HTMLModel",
      "state": {
       "layout": "IPY_MODEL_fa03f433099a46ff92ae65150af38dae",
       "style": "IPY_MODEL_8d1e978f23d642f9b72aa2f3e9872bc7",
       "value": "100%"
      }
     },
     "7c1e16e055cf481bab47542bb9042010": {
      "model_module": "@jupyter-widgets/base",
      "model_module_version": "1.2.0",
      "model_name": "LayoutModel",
      "state": {}
     },
     "7c87c4f307444ecbbdeec6a5ac885239": {
      "model_module": "@jupyter-widgets/controls",
      "model_module_version": "1.5.0",
      "model_name": "FloatProgressModel",
      "state": {
       "bar_style": "success",
       "layout": "IPY_MODEL_768bcb576383471e9db869a5795312a0",
       "max": 3,
       "style": "IPY_MODEL_4f7b630a39ba4e45ae82381f0a8dca05",
       "value": 3
      }
     },
     "7c99ee0215b748eba37135d8b635d7b1": {
      "model_module": "@jupyter-widgets/controls",
      "model_module_version": "1.5.0",
      "model_name": "DescriptionStyleModel",
      "state": {
       "description_width": ""
      }
     },
     "7d097489977a49869d13f289e089f9c0": {
      "model_module": "@jupyter-widgets/controls",
      "model_module_version": "1.5.0",
      "model_name": "HBoxModel",
      "state": {
       "children": [
        "IPY_MODEL_512466ddf42045bebce7e653e555411f",
        "IPY_MODEL_a65ff7b17ad245c3b4d0868dcf956153",
        "IPY_MODEL_4fc646e2239046b0a730b1064d15bc25"
       ],
       "layout": "IPY_MODEL_72114b27096747bdb9783c4763070dc1"
      }
     },
     "7d3c3f0059204442b180f2f8a5166bda": {
      "model_module": "@jupyter-widgets/base",
      "model_module_version": "1.2.0",
      "model_name": "LayoutModel",
      "state": {}
     },
     "7d6478c8a16e466fa0dbd8d88b90e58e": {
      "model_module": "@jupyter-widgets/base",
      "model_module_version": "1.2.0",
      "model_name": "LayoutModel",
      "state": {}
     },
     "7d7a6ac3a76a49fb90714fb8d9204e99": {
      "model_module": "@jupyter-widgets/controls",
      "model_module_version": "1.5.0",
      "model_name": "DescriptionStyleModel",
      "state": {
       "description_width": ""
      }
     },
     "7da392e6246c4daea671119fd5502d78": {
      "model_module": "@jupyter-widgets/controls",
      "model_module_version": "1.5.0",
      "model_name": "HTMLModel",
      "state": {
       "layout": "IPY_MODEL_1183245abc234828a8b262fc9189cd8d",
       "style": "IPY_MODEL_03655a20efcd48609dbc76a9169bb44e",
       "value": "100%"
      }
     },
     "7dcd83557c754d87a7d4e76c5e559b0a": {
      "model_module": "@jupyter-widgets/base",
      "model_module_version": "1.2.0",
      "model_name": "LayoutModel",
      "state": {}
     },
     "7e00585435fc4e4b872a9c835e13273d": {
      "model_module": "@jupyter-widgets/controls",
      "model_module_version": "1.5.0",
      "model_name": "DescriptionStyleModel",
      "state": {
       "description_width": ""
      }
     },
     "7e0fb89b4ab14bf8b77c2df0945e630c": {
      "model_module": "@jupyter-widgets/controls",
      "model_module_version": "1.5.0",
      "model_name": "HBoxModel",
      "state": {
       "children": [
        "IPY_MODEL_0a83c1f51947417ab784cd85788a2203",
        "IPY_MODEL_6b598ce397e44e82bfb4b45956f45090",
        "IPY_MODEL_21cbf432ab3c4ff99345f14be8b16bcf"
       ],
       "layout": "IPY_MODEL_4ac0d48a40bb49f295cf3c890ab04057"
      }
     },
     "7eb49368025c4627a0f1a80aef855e94": {
      "model_module": "@jupyter-widgets/base",
      "model_module_version": "1.2.0",
      "model_name": "LayoutModel",
      "state": {}
     },
     "7f6da1f10a6d40d48eb1fcb536c8a064": {
      "model_module": "@jupyter-widgets/base",
      "model_module_version": "1.2.0",
      "model_name": "LayoutModel",
      "state": {}
     },
     "80206e2015b940b5a9c477c9cddbc753": {
      "model_module": "@jupyter-widgets/controls",
      "model_module_version": "1.5.0",
      "model_name": "DescriptionStyleModel",
      "state": {
       "description_width": ""
      }
     },
     "8069769f771847dfb483c23b26390a87": {
      "model_module": "@jupyter-widgets/controls",
      "model_module_version": "1.5.0",
      "model_name": "HBoxModel",
      "state": {
       "children": [
        "IPY_MODEL_0a72953b0bb3410f90470581bd901a6f",
        "IPY_MODEL_4c5e5cdfa5d949c79ad99a94bbbf63f7",
        "IPY_MODEL_80e26ed533ff49a785a177700f332db9"
       ],
       "layout": "IPY_MODEL_b41d6496fc534f70b3970e108f32837b"
      }
     },
     "80cd8239d99a4042982fbe7ed2192dea": {
      "model_module": "@jupyter-widgets/controls",
      "model_module_version": "1.5.0",
      "model_name": "ProgressStyleModel",
      "state": {
       "description_width": ""
      }
     },
     "80e26ed533ff49a785a177700f332db9": {
      "model_module": "@jupyter-widgets/controls",
      "model_module_version": "1.5.0",
      "model_name": "HTMLModel",
      "state": {
       "layout": "IPY_MODEL_e190e24392994841893ea9a68f62353a",
       "style": "IPY_MODEL_38ec32ea08984b4bbc92edba64172915",
       "value": " 2/2 [00:00&lt;00:00,  3.46it/s]"
      }
     },
     "81009e33f5fd48cbb6f44b06994d3f53": {
      "model_module": "@jupyter-widgets/controls",
      "model_module_version": "1.5.0",
      "model_name": "DescriptionStyleModel",
      "state": {
       "description_width": ""
      }
     },
     "8149c28a66704119afac59a725f94ea5": {
      "model_module": "@jupyter-widgets/base",
      "model_module_version": "1.2.0",
      "model_name": "LayoutModel",
      "state": {}
     },
     "819989ebd1ea4811ae9c2381192439ad": {
      "model_module": "@jupyter-widgets/controls",
      "model_module_version": "1.5.0",
      "model_name": "HTMLModel",
      "state": {
       "layout": "IPY_MODEL_364d0f5c5e304de9ac59001754f93863",
       "style": "IPY_MODEL_6b8155618f014ae082a61a5079e682eb",
       "value": " 3/3 [00:00&lt;00:00,  3.61it/s]"
      }
     },
     "81de30b757664663beeddc0609b09c7a": {
      "model_module": "@jupyter-widgets/controls",
      "model_module_version": "1.5.0",
      "model_name": "FloatProgressModel",
      "state": {
       "bar_style": "success",
       "layout": "IPY_MODEL_b3cafb41545f475091d6c67a359fcf28",
       "max": 2,
       "style": "IPY_MODEL_f636c87036a44f4188a75bc00d867604",
       "value": 2
      }
     },
     "82ee7c7381964a3abfeefd9e3b4bf0c4": {
      "model_module": "@jupyter-widgets/controls",
      "model_module_version": "1.5.0",
      "model_name": "HTMLModel",
      "state": {
       "layout": "IPY_MODEL_6550edaff68343b08c197c84526890b1",
       "style": "IPY_MODEL_80206e2015b940b5a9c477c9cddbc753",
       "value": "100%"
      }
     },
     "834eb645e85d4d82bad89fef6b49f78e": {
      "model_module": "@jupyter-widgets/base",
      "model_module_version": "1.2.0",
      "model_name": "LayoutModel",
      "state": {}
     },
     "8404a5c3dc9f4f198f8561cbfeace19f": {
      "model_module": "@jupyter-widgets/controls",
      "model_module_version": "1.5.0",
      "model_name": "HTMLModel",
      "state": {
       "layout": "IPY_MODEL_c8765e52dc3e48199e0f9a438fc9d108",
       "style": "IPY_MODEL_7027920a97a8456fb421eb89636e6b1c",
       "value": " 4/4 [00:01&lt;00:00,  3.43it/s]"
      }
     },
     "840d452ec1cb401381549188c9b0bf38": {
      "model_module": "@jupyter-widgets/base",
      "model_module_version": "1.2.0",
      "model_name": "LayoutModel",
      "state": {}
     },
     "84202dd5d0a1412282c26e0e3116e040": {
      "model_module": "@jupyter-widgets/controls",
      "model_module_version": "1.5.0",
      "model_name": "HBoxModel",
      "state": {
       "children": [
        "IPY_MODEL_9d542c6f047049dd9916131d977c2436",
        "IPY_MODEL_5d4869a9e5ee43a3a8e3a19738c5b962",
        "IPY_MODEL_fe9eadc7ee464c68be7c3ffddedff7ea"
       ],
       "layout": "IPY_MODEL_b9c93765441e4332a8cc58e2e31b3bb4"
      }
     },
     "8452dd3cb6ed48b1820862707a94d7bc": {
      "model_module": "@jupyter-widgets/base",
      "model_module_version": "1.2.0",
      "model_name": "LayoutModel",
      "state": {}
     },
     "846ffed00cf6484587d047304ef3f4ec": {
      "model_module": "@jupyter-widgets/base",
      "model_module_version": "1.2.0",
      "model_name": "LayoutModel",
      "state": {}
     },
     "84913bfed7b84e2d9c4f907a382e2190": {
      "model_module": "@jupyter-widgets/controls",
      "model_module_version": "1.5.0",
      "model_name": "HTMLModel",
      "state": {
       "layout": "IPY_MODEL_131b6207aec44c18a2f3a3b2cfaab019",
       "style": "IPY_MODEL_e632fea420154b89b0ea5129b1e5a769",
       "value": "100%"
      }
     },
     "84d7646718fd4ca2aba6b62dab84e718": {
      "model_module": "@jupyter-widgets/controls",
      "model_module_version": "1.5.0",
      "model_name": "HBoxModel",
      "state": {
       "children": [
        "IPY_MODEL_1312f5c452a644a3a94750bc8416c437",
        "IPY_MODEL_e98449d8712c4656aefdd174f59da65a",
        "IPY_MODEL_0daf2a7b450444f382971982de69dd6d"
       ],
       "layout": "IPY_MODEL_a12a5b571c8a4d3bb80ed9b06adb41a2"
      }
     },
     "84ea24e95b2d4d528cc092f6aac45af6": {
      "model_module": "@jupyter-widgets/base",
      "model_module_version": "1.2.0",
      "model_name": "LayoutModel",
      "state": {}
     },
     "853657e5c2a0442d887cd933370128da": {
      "model_module": "@jupyter-widgets/controls",
      "model_module_version": "1.5.0",
      "model_name": "FloatProgressModel",
      "state": {
       "bar_style": "success",
       "layout": "IPY_MODEL_e625485e1a0942fa804985da7fc27aac",
       "max": 2,
       "style": "IPY_MODEL_1d2ba9e4c66f4a6fadc3b6f0095e846f",
       "value": 2
      }
     },
     "85acc6a5fd984ce7bd806ad4fbb67fd6": {
      "model_module": "@jupyter-widgets/controls",
      "model_module_version": "1.5.0",
      "model_name": "FloatProgressModel",
      "state": {
       "bar_style": "success",
       "layout": "IPY_MODEL_34ea3cf62fc348949c3bac9caf723185",
       "max": 2,
       "style": "IPY_MODEL_ebe5802882df4fc99ea9901defc148c4",
       "value": 2
      }
     },
     "85dc49b006db4fd78e847acd2ded44ea": {
      "model_module": "@jupyter-widgets/base",
      "model_module_version": "1.2.0",
      "model_name": "LayoutModel",
      "state": {}
     },
     "867373e9548c4caea0528782b42feb0e": {
      "model_module": "@jupyter-widgets/controls",
      "model_module_version": "1.5.0",
      "model_name": "HBoxModel",
      "state": {
       "children": [
        "IPY_MODEL_3fbfe3eae96d4d65a39edd859e3726a5",
        "IPY_MODEL_4fa76e89429248579edceaf252b9c69f",
        "IPY_MODEL_e34466c0047549f99942eb23cca385e1"
       ],
       "layout": "IPY_MODEL_5b29b7e9a2ea4ffd8a6b8489549f49b4"
      }
     },
     "8736eaed763a4a21bfdfcdd20b46e1dc": {
      "model_module": "@jupyter-widgets/controls",
      "model_module_version": "1.5.0",
      "model_name": "DescriptionStyleModel",
      "state": {
       "description_width": ""
      }
     },
     "87a884caea82405ea8c7e23c72f425dc": {
      "model_module": "@jupyter-widgets/base",
      "model_module_version": "1.2.0",
      "model_name": "LayoutModel",
      "state": {}
     },
     "87f003ad87194f82bf7d227c3da5b042": {
      "model_module": "@jupyter-widgets/controls",
      "model_module_version": "1.5.0",
      "model_name": "HBoxModel",
      "state": {
       "children": [
        "IPY_MODEL_ef69b71e8de54a31b9e06c69a90e9a0f",
        "IPY_MODEL_3b5b4a5973324f568fddf69ead06e50b",
        "IPY_MODEL_de31738486354e72a0ecec00251f1366"
       ],
       "layout": "IPY_MODEL_1f94a0aa26dc4a37a79be4fbcad01965"
      }
     },
     "8853a9e8b0794623a6c28c6f9cc98d93": {
      "model_module": "@jupyter-widgets/controls",
      "model_module_version": "1.5.0",
      "model_name": "ProgressStyleModel",
      "state": {
       "description_width": ""
      }
     },
     "886b2e7783b74ae9be1f10dcccd8e0fd": {
      "model_module": "@jupyter-widgets/base",
      "model_module_version": "1.2.0",
      "model_name": "LayoutModel",
      "state": {}
     },
     "88c374fe732243b086a48756c10aa456": {
      "model_module": "@jupyter-widgets/base",
      "model_module_version": "1.2.0",
      "model_name": "LayoutModel",
      "state": {}
     },
     "88f1b38e4c4d441e960d37a3810ba6e5": {
      "model_module": "@jupyter-widgets/controls",
      "model_module_version": "1.5.0",
      "model_name": "HTMLModel",
      "state": {
       "layout": "IPY_MODEL_8149c28a66704119afac59a725f94ea5",
       "style": "IPY_MODEL_4c85295ddf9448d086ec66b6be5f820f",
       "value": "100%"
      }
     },
     "890706736fb8456c8d3cff143e6ea73d": {
      "model_module": "@jupyter-widgets/controls",
      "model_module_version": "1.5.0",
      "model_name": "HTMLModel",
      "state": {
       "layout": "IPY_MODEL_f789650267b8428d8dd1e610a26c8459",
       "style": "IPY_MODEL_da6e0e832a0c4590ae718464998f40db",
       "value": " 2/2 [00:00&lt;00:00,  3.65it/s]"
      }
     },
     "8914766109d9444091aa9fde52c2186b": {
      "model_module": "@jupyter-widgets/controls",
      "model_module_version": "1.5.0",
      "model_name": "DescriptionStyleModel",
      "state": {
       "description_width": ""
      }
     },
     "893d015ba3704ae9a8ecbddf86ba5a50": {
      "model_module": "@jupyter-widgets/controls",
      "model_module_version": "1.5.0",
      "model_name": "DescriptionStyleModel",
      "state": {
       "description_width": ""
      }
     },
     "89c43b39a60e46ebb1b09ceed7ce4580": {
      "model_module": "@jupyter-widgets/controls",
      "model_module_version": "1.5.0",
      "model_name": "HTMLModel",
      "state": {
       "layout": "IPY_MODEL_a45564f564bf4527b84b54c8228574a4",
       "style": "IPY_MODEL_125cdc86776948e8a364289ef0858f69",
       "value": "100%"
      }
     },
     "8a240a07606946a0beeada26ab574ee4": {
      "model_module": "@jupyter-widgets/controls",
      "model_module_version": "1.5.0",
      "model_name": "FloatProgressModel",
      "state": {
       "bar_style": "success",
       "layout": "IPY_MODEL_a2b8aacc26824adaaecddde240007d5a",
       "max": 2,
       "style": "IPY_MODEL_8e4e9397c9734e8397be10bb425fe2fd",
       "value": 2
      }
     },
     "8a68d01828c6469c990ca6c5135c81fa": {
      "model_module": "@jupyter-widgets/controls",
      "model_module_version": "1.5.0",
      "model_name": "HTMLModel",
      "state": {
       "layout": "IPY_MODEL_5e900db152d941e7bfa320c8811a6a10",
       "style": "IPY_MODEL_b758a609fa9a4a7c96cd4cb7938bf916",
       "value": " 3/3 [00:01&lt;00:00,  3.13it/s]"
      }
     },
     "8aba98c5f8364424abcff77c8dc37728": {
      "model_module": "@jupyter-widgets/controls",
      "model_module_version": "1.5.0",
      "model_name": "FloatProgressModel",
      "state": {
       "bar_style": "success",
       "layout": "IPY_MODEL_4c21ac9958474aceb0a31c996299f44f",
       "max": 3,
       "style": "IPY_MODEL_92207c9f62564e7bab93f5b3fe8f30e8",
       "value": 3
      }
     },
     "8af8027fcfc1445e9132e68ef74c7e03": {
      "model_module": "@jupyter-widgets/controls",
      "model_module_version": "1.5.0",
      "model_name": "HBoxModel",
      "state": {
       "children": [
        "IPY_MODEL_3e57724e46de4be3bf4332d0aeff5f87",
        "IPY_MODEL_fa3571b7bd664289b039f7e2f2324de1",
        "IPY_MODEL_da9237e0daf64bc28589fb07275ac5f0"
       ],
       "layout": "IPY_MODEL_3b6bb97a995b425586361552b3ba5b0b"
      }
     },
     "8afd18c0551d493c8547d57f92de7451": {
      "model_module": "@jupyter-widgets/base",
      "model_module_version": "1.2.0",
      "model_name": "LayoutModel",
      "state": {}
     },
     "8aff5d2ca13747549a48a998f2e77708": {
      "model_module": "@jupyter-widgets/controls",
      "model_module_version": "1.5.0",
      "model_name": "HBoxModel",
      "state": {
       "children": [
        "IPY_MODEL_2651379d7b6a45bfb01d5191ff672262",
        "IPY_MODEL_79f61651d946437c9154bf2f1ea96f43",
        "IPY_MODEL_ab1c58f997a04534a026d8957a70dd0f"
       ],
       "layout": "IPY_MODEL_d46e7d8ef0684106a83ac904df96858f"
      }
     },
     "8b3ea7ca0b3f4c36b72a3a39e149585b": {
      "model_module": "@jupyter-widgets/controls",
      "model_module_version": "1.5.0",
      "model_name": "HTMLModel",
      "state": {
       "layout": "IPY_MODEL_c0b3ef2c378f4525a34f71b3a76132fa",
       "style": "IPY_MODEL_50f88110555f45b29502bbdff3886025",
       "value": "100%"
      }
     },
     "8b4d4ef8b7624be2919c25988c2dccb2": {
      "model_module": "@jupyter-widgets/controls",
      "model_module_version": "1.5.0",
      "model_name": "FloatProgressModel",
      "state": {
       "bar_style": "success",
       "layout": "IPY_MODEL_ee759abfc96d4377b6078f030d121501",
       "max": 2,
       "style": "IPY_MODEL_68ad636269554a049a9c506f01bdb330",
       "value": 2
      }
     },
     "8c2193f0cc5a4d31b4eec3b995289cf6": {
      "model_module": "@jupyter-widgets/base",
      "model_module_version": "1.2.0",
      "model_name": "LayoutModel",
      "state": {}
     },
     "8c380122566244e2bf6e56729923b9a1": {
      "model_module": "@jupyter-widgets/controls",
      "model_module_version": "1.5.0",
      "model_name": "FloatProgressModel",
      "state": {
       "bar_style": "success",
       "layout": "IPY_MODEL_2127d59aa03840f2b6fd66b7efb90022",
       "max": 2,
       "style": "IPY_MODEL_70505dd812834939b061e06764ab0a90",
       "value": 2
      }
     },
     "8c47a63b8aa546e7860973e26c890105": {
      "model_module": "@jupyter-widgets/controls",
      "model_module_version": "1.5.0",
      "model_name": "DescriptionStyleModel",
      "state": {
       "description_width": ""
      }
     },
     "8c60bedb5def4270ab139cc6433f440e": {
      "model_module": "@jupyter-widgets/controls",
      "model_module_version": "1.5.0",
      "model_name": "DescriptionStyleModel",
      "state": {
       "description_width": ""
      }
     },
     "8c868cd6c8fd46d0aae128847f87456e": {
      "model_module": "@jupyter-widgets/controls",
      "model_module_version": "1.5.0",
      "model_name": "HTMLModel",
      "state": {
       "layout": "IPY_MODEL_12b4f4b03a884a6bbda13790935dae87",
       "style": "IPY_MODEL_9800a3fccd73475eb0bb2e75761d086b",
       "value": "100%"
      }
     },
     "8c93e81262094b90883b900ad9a5af1e": {
      "model_module": "@jupyter-widgets/base",
      "model_module_version": "1.2.0",
      "model_name": "LayoutModel",
      "state": {}
     },
     "8d1e978f23d642f9b72aa2f3e9872bc7": {
      "model_module": "@jupyter-widgets/controls",
      "model_module_version": "1.5.0",
      "model_name": "DescriptionStyleModel",
      "state": {
       "description_width": ""
      }
     },
     "8dbdcbdf7a484978b80e8c5fe4f93f67": {
      "model_module": "@jupyter-widgets/controls",
      "model_module_version": "1.5.0",
      "model_name": "DescriptionStyleModel",
      "state": {
       "description_width": ""
      }
     },
     "8dc8e042f0dd4b5e9fdbb8f677318535": {
      "model_module": "@jupyter-widgets/base",
      "model_module_version": "1.2.0",
      "model_name": "LayoutModel",
      "state": {}
     },
     "8de840f2a8064d6b8e5af503008b8498": {
      "model_module": "@jupyter-widgets/controls",
      "model_module_version": "1.5.0",
      "model_name": "HBoxModel",
      "state": {
       "children": [
        "IPY_MODEL_7451b3007e474720845c3a09271a18ee",
        "IPY_MODEL_abb98d60f6f44481b194cc47cd681245",
        "IPY_MODEL_9b28056dcd4f46418c9c22364bb5bd70"
       ],
       "layout": "IPY_MODEL_9de5c25ee1154d91818aa2bba2d342ac"
      }
     },
     "8def47d113a6490093ff0890db7673cd": {
      "model_module": "@jupyter-widgets/controls",
      "model_module_version": "1.5.0",
      "model_name": "HBoxModel",
      "state": {
       "children": [
        "IPY_MODEL_e0efa7c8b8734a8790e63564ed1ebe5c",
        "IPY_MODEL_d0934738307c483a9f5d5474f46e0b46",
        "IPY_MODEL_fb675afcc2f84bc5acf490c5ef3c7081"
       ],
       "layout": "IPY_MODEL_6dfe6d4c2c5d4f53961dbf56934dd804"
      }
     },
     "8e4e9397c9734e8397be10bb425fe2fd": {
      "model_module": "@jupyter-widgets/controls",
      "model_module_version": "1.5.0",
      "model_name": "ProgressStyleModel",
      "state": {
       "description_width": ""
      }
     },
     "8ef530b42bf3460e832bdee387db504e": {
      "model_module": "@jupyter-widgets/controls",
      "model_module_version": "1.5.0",
      "model_name": "FloatProgressModel",
      "state": {
       "bar_style": "success",
       "layout": "IPY_MODEL_432e9f6f83e5489d9ead89827cf69792",
       "max": 2,
       "style": "IPY_MODEL_9370e0e6daaf488995f776ce54948483",
       "value": 2
      }
     },
     "8f1ce3192b6f40f9a0108cdc65463f01": {
      "model_module": "@jupyter-widgets/base",
      "model_module_version": "1.2.0",
      "model_name": "LayoutModel",
      "state": {}
     },
     "8f2f1cba0d1f4abab4984ed347e58622": {
      "model_module": "@jupyter-widgets/controls",
      "model_module_version": "1.5.0",
      "model_name": "DescriptionStyleModel",
      "state": {
       "description_width": ""
      }
     },
     "8f3f1036b6094e54ba880c845c93aa28": {
      "model_module": "@jupyter-widgets/controls",
      "model_module_version": "1.5.0",
      "model_name": "HBoxModel",
      "state": {
       "children": [
        "IPY_MODEL_caabb5f8cca64e80bdf8f311f36cf8d8",
        "IPY_MODEL_4d86c0dd71ed40fa8a5357d5fa949791",
        "IPY_MODEL_ba5697df91224d1b82482d9698af7f89"
       ],
       "layout": "IPY_MODEL_197b340cf9f14d16956d1f3cf476aa95"
      }
     },
     "8f81e6387a3441028020c2002e5ccb63": {
      "model_module": "@jupyter-widgets/controls",
      "model_module_version": "1.5.0",
      "model_name": "HBoxModel",
      "state": {
       "children": [
        "IPY_MODEL_070002561ecc4396bf3a7ee8c2530cb2",
        "IPY_MODEL_cc1fba413d6d4c7e873ffd314381fa49",
        "IPY_MODEL_8404a5c3dc9f4f198f8561cbfeace19f"
       ],
       "layout": "IPY_MODEL_edb60eef3ad04d50be9c6ef9d105fe33"
      }
     },
     "8fcb3b45d7464a7c96012226bb1f1897": {
      "model_module": "@jupyter-widgets/base",
      "model_module_version": "1.2.0",
      "model_name": "LayoutModel",
      "state": {}
     },
     "9006d2145b1640ef9b414adbeb6922bc": {
      "model_module": "@jupyter-widgets/controls",
      "model_module_version": "1.5.0",
      "model_name": "DescriptionStyleModel",
      "state": {
       "description_width": ""
      }
     },
     "9051c07b23df44b0ba65af294bdd292f": {
      "model_module": "@jupyter-widgets/base",
      "model_module_version": "1.2.0",
      "model_name": "LayoutModel",
      "state": {}
     },
     "9073158eb05849e7bfe4346c2a372eb8": {
      "model_module": "@jupyter-widgets/controls",
      "model_module_version": "1.5.0",
      "model_name": "DescriptionStyleModel",
      "state": {
       "description_width": ""
      }
     },
     "90d48b7c1e854da7af7a7119bcbb2530": {
      "model_module": "@jupyter-widgets/controls",
      "model_module_version": "1.5.0",
      "model_name": "DescriptionStyleModel",
      "state": {
       "description_width": ""
      }
     },
     "91141ad12bf2463281253a1d36fe14a4": {
      "model_module": "@jupyter-widgets/base",
      "model_module_version": "1.2.0",
      "model_name": "LayoutModel",
      "state": {}
     },
     "915cd3bdb5544a70b35a783e4547dbf0": {
      "model_module": "@jupyter-widgets/controls",
      "model_module_version": "1.5.0",
      "model_name": "HTMLModel",
      "state": {
       "layout": "IPY_MODEL_c9e49e59b27448628f8a57f565bd84c8",
       "style": "IPY_MODEL_de0f30255ac244328f5cd393eed6602e",
       "value": " 2/2 [00:00&lt;00:00,  3.63it/s]"
      }
     },
     "9166c33455274010908ed42c1af9135d": {
      "model_module": "@jupyter-widgets/controls",
      "model_module_version": "1.5.0",
      "model_name": "HTMLModel",
      "state": {
       "layout": "IPY_MODEL_4cf5ddf2f8114b828b9a6071359b50d4",
       "style": "IPY_MODEL_f6b453534a384f9eb4716ad001ed28f9",
       "value": "100%"
      }
     },
     "91908e01bcb3462f86f085c19c0c27ff": {
      "model_module": "@jupyter-widgets/controls",
      "model_module_version": "1.5.0",
      "model_name": "HTMLModel",
      "state": {
       "layout": "IPY_MODEL_073520df367e4d23a39470ad7e659948",
       "style": "IPY_MODEL_5a10642eb51b4153a1fb413b75a29c14",
       "value": " 3/3 [00:00&lt;00:00,  3.69it/s]"
      }
     },
     "92207c9f62564e7bab93f5b3fe8f30e8": {
      "model_module": "@jupyter-widgets/controls",
      "model_module_version": "1.5.0",
      "model_name": "ProgressStyleModel",
      "state": {
       "description_width": ""
      }
     },
     "92533571117c4e4e901816780911fd3e": {
      "model_module": "@jupyter-widgets/controls",
      "model_module_version": "1.5.0",
      "model_name": "DescriptionStyleModel",
      "state": {
       "description_width": ""
      }
     },
     "927a66cebafe4c09bfd4d48eaf410c8d": {
      "model_module": "@jupyter-widgets/base",
      "model_module_version": "1.2.0",
      "model_name": "LayoutModel",
      "state": {}
     },
     "92c037b72d4a44fc8faa4b9ca88c17e4": {
      "model_module": "@jupyter-widgets/controls",
      "model_module_version": "1.5.0",
      "model_name": "DescriptionStyleModel",
      "state": {
       "description_width": ""
      }
     },
     "92efc40e3ec5423c8e4c061bda1f77f3": {
      "model_module": "@jupyter-widgets/controls",
      "model_module_version": "1.5.0",
      "model_name": "DescriptionStyleModel",
      "state": {
       "description_width": ""
      }
     },
     "9370e0e6daaf488995f776ce54948483": {
      "model_module": "@jupyter-widgets/controls",
      "model_module_version": "1.5.0",
      "model_name": "ProgressStyleModel",
      "state": {
       "description_width": ""
      }
     },
     "941f06f75eb4446090cc11797a58022f": {
      "model_module": "@jupyter-widgets/base",
      "model_module_version": "1.2.0",
      "model_name": "LayoutModel",
      "state": {}
     },
     "94323d5889974f309460d7df1f568925": {
      "model_module": "@jupyter-widgets/base",
      "model_module_version": "1.2.0",
      "model_name": "LayoutModel",
      "state": {}
     },
     "9435ec749f874803b6790eb717a3de8d": {
      "model_module": "@jupyter-widgets/controls",
      "model_module_version": "1.5.0",
      "model_name": "HTMLModel",
      "state": {
       "layout": "IPY_MODEL_131d4f86f9704daaaebf363d85c01478",
       "style": "IPY_MODEL_92533571117c4e4e901816780911fd3e",
       "value": " 2/2 [00:00&lt;00:00,  3.27it/s]"
      }
     },
     "943b38b11368437cbbfacaa6f8a1c2d4": {
      "model_module": "@jupyter-widgets/controls",
      "model_module_version": "1.5.0",
      "model_name": "ProgressStyleModel",
      "state": {
       "description_width": ""
      }
     },
     "945b324c241b4c1aad81ca2725ec9efd": {
      "model_module": "@jupyter-widgets/base",
      "model_module_version": "1.2.0",
      "model_name": "LayoutModel",
      "state": {}
     },
     "946f2e134b4749d9b764b5c35bc18767": {
      "model_module": "@jupyter-widgets/controls",
      "model_module_version": "1.5.0",
      "model_name": "HTMLModel",
      "state": {
       "layout": "IPY_MODEL_57bf4afa24004655a7f441cae96aa55a",
       "style": "IPY_MODEL_590d0db810434dec8bc7de62a3962339",
       "value": " 3/3 [00:00&lt;00:00,  3.57it/s]"
      }
     },
     "94767237f56b4aebb07604baa0289864": {
      "model_module": "@jupyter-widgets/controls",
      "model_module_version": "1.5.0",
      "model_name": "DescriptionStyleModel",
      "state": {
       "description_width": ""
      }
     },
     "9485c74f82ca4c1088b805868eda5bdd": {
      "model_module": "@jupyter-widgets/base",
      "model_module_version": "1.2.0",
      "model_name": "LayoutModel",
      "state": {}
     },
     "948cfdd186c242e4939a232a279e31e6": {
      "model_module": "@jupyter-widgets/controls",
      "model_module_version": "1.5.0",
      "model_name": "ProgressStyleModel",
      "state": {
       "description_width": ""
      }
     },
     "94b6766e93c448e8a12dd676bc972ae3": {
      "model_module": "@jupyter-widgets/base",
      "model_module_version": "1.2.0",
      "model_name": "LayoutModel",
      "state": {}
     },
     "94df1670d9c947b1bbd0432652b3060a": {
      "model_module": "@jupyter-widgets/base",
      "model_module_version": "1.2.0",
      "model_name": "LayoutModel",
      "state": {}
     },
     "952196f96d2445a8affea2587605fd7c": {
      "model_module": "@jupyter-widgets/base",
      "model_module_version": "1.2.0",
      "model_name": "LayoutModel",
      "state": {}
     },
     "95f24ed7899f4852a46b977cfb09f806": {
      "model_module": "@jupyter-widgets/controls",
      "model_module_version": "1.5.0",
      "model_name": "FloatProgressModel",
      "state": {
       "bar_style": "success",
       "layout": "IPY_MODEL_bb4c41a7b9b646698af07861ff134ff5",
       "max": 2,
       "style": "IPY_MODEL_0a638663edf84272a5a1ab8cc7ffad65",
       "value": 2
      }
     },
     "9630794132754aa1a451680616259759": {
      "model_module": "@jupyter-widgets/base",
      "model_module_version": "1.2.0",
      "model_name": "LayoutModel",
      "state": {}
     },
     "96ddc1d86e7044c698def6a68583d115": {
      "model_module": "@jupyter-widgets/controls",
      "model_module_version": "1.5.0",
      "model_name": "HTMLModel",
      "state": {
       "layout": "IPY_MODEL_2d212c803e20456cb6aa19871b267eb0",
       "style": "IPY_MODEL_d1cc75d3403f4f43be610a6768306d86",
       "value": " 2/2 [00:00&lt;00:00,  3.65it/s]"
      }
     },
     "970303a3279b4d0a9e0f66f352b11c87": {
      "model_module": "@jupyter-widgets/controls",
      "model_module_version": "1.5.0",
      "model_name": "FloatProgressModel",
      "state": {
       "bar_style": "success",
       "layout": "IPY_MODEL_886b2e7783b74ae9be1f10dcccd8e0fd",
       "max": 5,
       "style": "IPY_MODEL_b745bf1def814b71afc5d7e54998ad24",
       "value": 5
      }
     },
     "9751604f9e71456daadd54d5ed696034": {
      "model_module": "@jupyter-widgets/controls",
      "model_module_version": "1.5.0",
      "model_name": "ProgressStyleModel",
      "state": {
       "description_width": ""
      }
     },
     "975af8a99ecd44a084bdd86acde22c46": {
      "model_module": "@jupyter-widgets/controls",
      "model_module_version": "1.5.0",
      "model_name": "HTMLModel",
      "state": {
       "layout": "IPY_MODEL_e5cc3796e9754537bfca1d56a9f51ce9",
       "style": "IPY_MODEL_ed9a426ce069471389a98fdca5e8f974",
       "value": " 2/2 [00:00&lt;00:00,  3.41it/s]"
      }
     },
     "97b3b6438334426d8162d01d18e6f2fe": {
      "model_module": "@jupyter-widgets/controls",
      "model_module_version": "1.5.0",
      "model_name": "HTMLModel",
      "state": {
       "layout": "IPY_MODEL_bbd362c41ec74a3a9f1a625c85249cde",
       "style": "IPY_MODEL_a7ed1bc1531d45f4a45d003c2f428db0",
       "value": "100%"
      }
     },
     "9800a3fccd73475eb0bb2e75761d086b": {
      "model_module": "@jupyter-widgets/controls",
      "model_module_version": "1.5.0",
      "model_name": "DescriptionStyleModel",
      "state": {
       "description_width": ""
      }
     },
     "990a8b08acf24c989f5f15c8cebf8f49": {
      "model_module": "@jupyter-widgets/controls",
      "model_module_version": "1.5.0",
      "model_name": "HTMLModel",
      "state": {
       "layout": "IPY_MODEL_a109fd79c25648bba67053e79ff70197",
       "style": "IPY_MODEL_c17c8debfd3d49aa96dd229486d1b4b6",
       "value": " 5/5 [00:01&lt;00:00,  3.74it/s]"
      }
     },
     "9928acee75c9451db7d97f090b69d560": {
      "model_module": "@jupyter-widgets/base",
      "model_module_version": "1.2.0",
      "model_name": "LayoutModel",
      "state": {}
     },
     "999fdfd7f39e424989b232764c5acfab": {
      "model_module": "@jupyter-widgets/base",
      "model_module_version": "1.2.0",
      "model_name": "LayoutModel",
      "state": {}
     },
     "99b329e341094f14a70e80896ada2493": {
      "model_module": "@jupyter-widgets/controls",
      "model_module_version": "1.5.0",
      "model_name": "HTMLModel",
      "state": {
       "layout": "IPY_MODEL_840d452ec1cb401381549188c9b0bf38",
       "style": "IPY_MODEL_45e72defb0fa40238b5e7320aa01ab44",
       "value": "100%"
      }
     },
     "99c10b91e84d43a78d908693ee747823": {
      "model_module": "@jupyter-widgets/controls",
      "model_module_version": "1.5.0",
      "model_name": "FloatProgressModel",
      "state": {
       "bar_style": "success",
       "layout": "IPY_MODEL_e649195895f44c979d3726f83e4d708e",
       "max": 2,
       "style": "IPY_MODEL_a6417d80e0f0497495bf5f9d275b9810",
       "value": 2
      }
     },
     "99f628862d174f2fbe2573abd83d2888": {
      "model_module": "@jupyter-widgets/controls",
      "model_module_version": "1.5.0",
      "model_name": "HTMLModel",
      "state": {
       "layout": "IPY_MODEL_e48b08edcf81446bb5249581b97c2ec1",
       "style": "IPY_MODEL_462c588dc69149078dd7a9a612b5bfc9",
       "value": " 2/2 [00:00&lt;00:00,  3.07it/s]"
      }
     },
     "9ae51a3cdb7c46ddb24c91d312bd7776": {
      "model_module": "@jupyter-widgets/base",
      "model_module_version": "1.2.0",
      "model_name": "LayoutModel",
      "state": {}
     },
     "9b022344a9a74253b3a7018ee569bf12": {
      "model_module": "@jupyter-widgets/controls",
      "model_module_version": "1.5.0",
      "model_name": "DescriptionStyleModel",
      "state": {
       "description_width": ""
      }
     },
     "9b11fe5163fb44ffbcd7d4ec72ce5ab5": {
      "model_module": "@jupyter-widgets/controls",
      "model_module_version": "1.5.0",
      "model_name": "HTMLModel",
      "state": {
       "layout": "IPY_MODEL_d4b1a0ad1654425fb0ff03e3b73d5483",
       "style": "IPY_MODEL_f2cdd3a375cb4752931433f44aba7a89",
       "value": "100%"
      }
     },
     "9b28056dcd4f46418c9c22364bb5bd70": {
      "model_module": "@jupyter-widgets/controls",
      "model_module_version": "1.5.0",
      "model_name": "HTMLModel",
      "state": {
       "layout": "IPY_MODEL_6cf78021c82f46e4a4e943cda9972438",
       "style": "IPY_MODEL_6bf12b5bb8d54639a7091441d79989de",
       "value": " 2/2 [00:00&lt;00:00,  3.60it/s]"
      }
     },
     "9b4a7b876ce740dda416e084a00505cf": {
      "model_module": "@jupyter-widgets/base",
      "model_module_version": "1.2.0",
      "model_name": "LayoutModel",
      "state": {}
     },
     "9be6112409234bfeb69e3b9a89537231": {
      "model_module": "@jupyter-widgets/controls",
      "model_module_version": "1.5.0",
      "model_name": "HTMLModel",
      "state": {
       "layout": "IPY_MODEL_ff35e2fc3a4b4fb0be64a3766b9cfcb6",
       "style": "IPY_MODEL_9b022344a9a74253b3a7018ee569bf12",
       "value": " 3/3 [00:00&lt;00:00,  3.69it/s]"
      }
     },
     "9c05c96088114e01a20b784a4131202f": {
      "model_module": "@jupyter-widgets/controls",
      "model_module_version": "1.5.0",
      "model_name": "ProgressStyleModel",
      "state": {
       "description_width": ""
      }
     },
     "9c48734de69e4600a733f6edc856de8e": {
      "model_module": "@jupyter-widgets/base",
      "model_module_version": "1.2.0",
      "model_name": "LayoutModel",
      "state": {}
     },
     "9cf82d70bc3147569f5203ea6fa16a5d": {
      "model_module": "@jupyter-widgets/controls",
      "model_module_version": "1.5.0",
      "model_name": "HBoxModel",
      "state": {
       "children": [
        "IPY_MODEL_9b11fe5163fb44ffbcd7d4ec72ce5ab5",
        "IPY_MODEL_41c22ebaaeea4f9a93421db325cf82cb",
        "IPY_MODEL_af0887b3a0af485fbdfbec4b5f06f46a"
       ],
       "layout": "IPY_MODEL_6da34926b8d344048c3f7a75a7d15c80"
      }
     },
     "9d462179e4c34240be84538bd2277544": {
      "model_module": "@jupyter-widgets/base",
      "model_module_version": "1.2.0",
      "model_name": "LayoutModel",
      "state": {}
     },
     "9d542c6f047049dd9916131d977c2436": {
      "model_module": "@jupyter-widgets/controls",
      "model_module_version": "1.5.0",
      "model_name": "HTMLModel",
      "state": {
       "layout": "IPY_MODEL_00ed960a2d374b8cb0dafb9c7b7b1db5",
       "style": "IPY_MODEL_a9ea248e3af84deaa8d0984c7b1c3ee5",
       "value": "100%"
      }
     },
     "9ddc0634554844eca9ed876d29e15b53": {
      "model_module": "@jupyter-widgets/controls",
      "model_module_version": "1.5.0",
      "model_name": "HBoxModel",
      "state": {
       "children": [
        "IPY_MODEL_5b903fa18a1b4cf0b69cbcd9739323cd",
        "IPY_MODEL_f412a662d3a14c039b101949feda592e",
        "IPY_MODEL_16b7c41080c644c597ea29d49d8d47b9"
       ],
       "layout": "IPY_MODEL_f9b6fa1816d947539a735b4a9f1fec56"
      }
     },
     "9de5c25ee1154d91818aa2bba2d342ac": {
      "model_module": "@jupyter-widgets/base",
      "model_module_version": "1.2.0",
      "model_name": "LayoutModel",
      "state": {}
     },
     "9dfbb6c28fa64ad2b5e353358c44e2a6": {
      "model_module": "@jupyter-widgets/controls",
      "model_module_version": "1.5.0",
      "model_name": "HTMLModel",
      "state": {
       "layout": "IPY_MODEL_eeb88bdc3210486db5e8d6405e0a0b32",
       "style": "IPY_MODEL_63e9aa0c0d3645e695400c857cc85a05",
       "value": "100%"
      }
     },
     "9e9f2a759cdb4493a1c09f6a0b28bfd7": {
      "model_module": "@jupyter-widgets/base",
      "model_module_version": "1.2.0",
      "model_name": "LayoutModel",
      "state": {}
     },
     "9f71075cf5534b9a900b20f44c728b15": {
      "model_module": "@jupyter-widgets/base",
      "model_module_version": "1.2.0",
      "model_name": "LayoutModel",
      "state": {}
     },
     "a001c8a8fbdf47029d20df19b2f9005d": {
      "model_module": "@jupyter-widgets/base",
      "model_module_version": "1.2.0",
      "model_name": "LayoutModel",
      "state": {}
     },
     "a00badf7c36743828e0ec7f0738b6463": {
      "model_module": "@jupyter-widgets/base",
      "model_module_version": "1.2.0",
      "model_name": "LayoutModel",
      "state": {}
     },
     "a0be73400b88455a8f12b4c8e8fd707c": {
      "model_module": "@jupyter-widgets/controls",
      "model_module_version": "1.5.0",
      "model_name": "DescriptionStyleModel",
      "state": {
       "description_width": ""
      }
     },
     "a0e3c20aa2b24433ba57d0783c816c80": {
      "model_module": "@jupyter-widgets/base",
      "model_module_version": "1.2.0",
      "model_name": "LayoutModel",
      "state": {}
     },
     "a0fe702ec35e44139cdfa6ceef3cf64b": {
      "model_module": "@jupyter-widgets/controls",
      "model_module_version": "1.5.0",
      "model_name": "HTMLModel",
      "state": {
       "layout": "IPY_MODEL_f0e8f69b300643739be78115ee3048fb",
       "style": "IPY_MODEL_cfe5ecb1266c449aa06bd750d98a18c7",
       "value": "100%"
      }
     },
     "a101d51d5a574ebc8c966ef0483a66ea": {
      "model_module": "@jupyter-widgets/controls",
      "model_module_version": "1.5.0",
      "model_name": "DescriptionStyleModel",
      "state": {
       "description_width": ""
      }
     },
     "a109fd79c25648bba67053e79ff70197": {
      "model_module": "@jupyter-widgets/base",
      "model_module_version": "1.2.0",
      "model_name": "LayoutModel",
      "state": {}
     },
     "a12a5b571c8a4d3bb80ed9b06adb41a2": {
      "model_module": "@jupyter-widgets/base",
      "model_module_version": "1.2.0",
      "model_name": "LayoutModel",
      "state": {}
     },
     "a13b0d701d6e496c8d4391fbaea03382": {
      "model_module": "@jupyter-widgets/controls",
      "model_module_version": "1.5.0",
      "model_name": "HTMLModel",
      "state": {
       "layout": "IPY_MODEL_64cdf9b8a0c74f1799af526194dfa28b",
       "style": "IPY_MODEL_61d4477ddb0a4c3ea34d5c8f21565490",
       "value": "  0%"
      }
     },
     "a1626d6bf3a042daa5077a08e08327c9": {
      "model_module": "@jupyter-widgets/base",
      "model_module_version": "1.2.0",
      "model_name": "LayoutModel",
      "state": {}
     },
     "a1a3f69fce0f41779526bca043b8c86a": {
      "model_module": "@jupyter-widgets/base",
      "model_module_version": "1.2.0",
      "model_name": "LayoutModel",
      "state": {}
     },
     "a27f1290629f4c0581f556e9d3de0e8b": {
      "model_module": "@jupyter-widgets/controls",
      "model_module_version": "1.5.0",
      "model_name": "DescriptionStyleModel",
      "state": {
       "description_width": ""
      }
     },
     "a2b8aacc26824adaaecddde240007d5a": {
      "model_module": "@jupyter-widgets/base",
      "model_module_version": "1.2.0",
      "model_name": "LayoutModel",
      "state": {}
     },
     "a39f55c510354bf4bc4d8262513d5bc9": {
      "model_module": "@jupyter-widgets/controls",
      "model_module_version": "1.5.0",
      "model_name": "ProgressStyleModel",
      "state": {
       "description_width": ""
      }
     },
     "a3fdff3077204958a6db60184e0f832f": {
      "model_module": "@jupyter-widgets/controls",
      "model_module_version": "1.5.0",
      "model_name": "HBoxModel",
      "state": {
       "children": [
        "IPY_MODEL_f8d42f6d459c4e3cb678dd7fe1a62a4e",
        "IPY_MODEL_99c10b91e84d43a78d908693ee747823",
        "IPY_MODEL_d8adc90409a34996bbfc0a6782401ac3"
       ],
       "layout": "IPY_MODEL_07dd0031aeaf438b9fab19ed2d5ab8fa"
      }
     },
     "a416fc63037f42d1809189a0d559ac24": {
      "model_module": "@jupyter-widgets/controls",
      "model_module_version": "1.5.0",
      "model_name": "HBoxModel",
      "state": {
       "children": [
        "IPY_MODEL_7bc251cee4f1412aa959d57a6e75ff76",
        "IPY_MODEL_0b8d4160fdcf4fe6bb6925c211455393",
        "IPY_MODEL_088c2e8fa2d74a7182a59d28f3c83256"
       ],
       "layout": "IPY_MODEL_0d4bb600e684498db98014be065889ef"
      }
     },
     "a41aff6efd304087ad1ae588c9bf7de9": {
      "model_module": "@jupyter-widgets/controls",
      "model_module_version": "1.5.0",
      "model_name": "DescriptionStyleModel",
      "state": {
       "description_width": ""
      }
     },
     "a45564f564bf4527b84b54c8228574a4": {
      "model_module": "@jupyter-widgets/base",
      "model_module_version": "1.2.0",
      "model_name": "LayoutModel",
      "state": {}
     },
     "a4730701a12f4652b5c42a9bfbf9b0c4": {
      "model_module": "@jupyter-widgets/controls",
      "model_module_version": "1.5.0",
      "model_name": "FloatProgressModel",
      "state": {
       "bar_style": "success",
       "layout": "IPY_MODEL_9c48734de69e4600a733f6edc856de8e",
       "max": 2,
       "style": "IPY_MODEL_b28f1997a44e47f4a1f18fa976a3a3c3",
       "value": 2
      }
     },
     "a57a79b40fc24ced98bfbc272b5247f6": {
      "model_module": "@jupyter-widgets/controls",
      "model_module_version": "1.5.0",
      "model_name": "DescriptionStyleModel",
      "state": {
       "description_width": ""
      }
     },
     "a58873020463454da04552c255d250f5": {
      "model_module": "@jupyter-widgets/base",
      "model_module_version": "1.2.0",
      "model_name": "LayoutModel",
      "state": {}
     },
     "a58ab5eed182442199eeab0a60570716": {
      "model_module": "@jupyter-widgets/controls",
      "model_module_version": "1.5.0",
      "model_name": "DescriptionStyleModel",
      "state": {
       "description_width": ""
      }
     },
     "a5f241e51c904c6a9c708bd2693bb729": {
      "model_module": "@jupyter-widgets/controls",
      "model_module_version": "1.5.0",
      "model_name": "ProgressStyleModel",
      "state": {
       "description_width": ""
      }
     },
     "a6417d80e0f0497495bf5f9d275b9810": {
      "model_module": "@jupyter-widgets/controls",
      "model_module_version": "1.5.0",
      "model_name": "ProgressStyleModel",
      "state": {
       "description_width": ""
      }
     },
     "a65ff7b17ad245c3b4d0868dcf956153": {
      "model_module": "@jupyter-widgets/controls",
      "model_module_version": "1.5.0",
      "model_name": "FloatProgressModel",
      "state": {
       "bar_style": "success",
       "layout": "IPY_MODEL_4d7808952d88429f9fd5a7f984868b9e",
       "max": 2,
       "style": "IPY_MODEL_f7fd10d218004944bf1c7e5a9e2c31e7",
       "value": 2
      }
     },
     "a718f92abfae44e0981a8822ee083c94": {
      "model_module": "@jupyter-widgets/base",
      "model_module_version": "1.2.0",
      "model_name": "LayoutModel",
      "state": {}
     },
     "a7eb46b49f8f4fd69b837d9e76f8f3c8": {
      "model_module": "@jupyter-widgets/base",
      "model_module_version": "1.2.0",
      "model_name": "LayoutModel",
      "state": {}
     },
     "a7ed1bc1531d45f4a45d003c2f428db0": {
      "model_module": "@jupyter-widgets/controls",
      "model_module_version": "1.5.0",
      "model_name": "DescriptionStyleModel",
      "state": {
       "description_width": ""
      }
     },
     "a84d132875904a22b93f97e160bb9bfa": {
      "model_module": "@jupyter-widgets/controls",
      "model_module_version": "1.5.0",
      "model_name": "ProgressStyleModel",
      "state": {
       "description_width": ""
      }
     },
     "a86e11f6414b4505a68f332908af34e3": {
      "model_module": "@jupyter-widgets/controls",
      "model_module_version": "1.5.0",
      "model_name": "FloatProgressModel",
      "state": {
       "bar_style": "success",
       "layout": "IPY_MODEL_d06b2dc932904478b4c45ac06cf525e1",
       "max": 2,
       "style": "IPY_MODEL_6cfa56476f2b4a7ca5410af95dae30bf",
       "value": 2
      }
     },
     "a89c8223c0ef447e9a9905e3fa9d3e41": {
      "model_module": "@jupyter-widgets/controls",
      "model_module_version": "1.5.0",
      "model_name": "ProgressStyleModel",
      "state": {
       "description_width": ""
      }
     },
     "a9ea248e3af84deaa8d0984c7b1c3ee5": {
      "model_module": "@jupyter-widgets/controls",
      "model_module_version": "1.5.0",
      "model_name": "DescriptionStyleModel",
      "state": {
       "description_width": ""
      }
     },
     "aa02bf97b93848769d7e3d660198b839": {
      "model_module": "@jupyter-widgets/controls",
      "model_module_version": "1.5.0",
      "model_name": "HTMLModel",
      "state": {
       "layout": "IPY_MODEL_27333e4a99e14fcfa7a1aae4ac732410",
       "style": "IPY_MODEL_8914766109d9444091aa9fde52c2186b",
       "value": "100%"
      }
     },
     "aa4aeb52bcd64c9595aca92d04eec971": {
      "model_module": "@jupyter-widgets/base",
      "model_module_version": "1.2.0",
      "model_name": "LayoutModel",
      "state": {}
     },
     "aaa1bab9eb5a48f391b94a096eeea006": {
      "model_module": "@jupyter-widgets/base",
      "model_module_version": "1.2.0",
      "model_name": "LayoutModel",
      "state": {}
     },
     "ab1c58f997a04534a026d8957a70dd0f": {
      "model_module": "@jupyter-widgets/controls",
      "model_module_version": "1.5.0",
      "model_name": "HTMLModel",
      "state": {
       "layout": "IPY_MODEL_bb18fc9be917448bbaf1956fa1a1ebe4",
       "style": "IPY_MODEL_9006d2145b1640ef9b414adbeb6922bc",
       "value": " 3/3 [00:00&lt;00:00,  3.58it/s]"
      }
     },
     "ab1f5518a9db42c5a23e06c00eb45dff": {
      "model_module": "@jupyter-widgets/base",
      "model_module_version": "1.2.0",
      "model_name": "LayoutModel",
      "state": {}
     },
     "ab91bc3eafdf452291ef6659de3be8ac": {
      "model_module": "@jupyter-widgets/controls",
      "model_module_version": "1.5.0",
      "model_name": "DescriptionStyleModel",
      "state": {
       "description_width": ""
      }
     },
     "abb98d60f6f44481b194cc47cd681245": {
      "model_module": "@jupyter-widgets/controls",
      "model_module_version": "1.5.0",
      "model_name": "FloatProgressModel",
      "state": {
       "bar_style": "success",
       "layout": "IPY_MODEL_88c374fe732243b086a48756c10aa456",
       "max": 2,
       "style": "IPY_MODEL_4b6214c1b258404bb0f2201c25b30848",
       "value": 2
      }
     },
     "ac65230874f94f2fa582b4001dea264f": {
      "model_module": "@jupyter-widgets/base",
      "model_module_version": "1.2.0",
      "model_name": "LayoutModel",
      "state": {}
     },
     "ace0e12f6595499fa6ee218739de261f": {
      "model_module": "@jupyter-widgets/controls",
      "model_module_version": "1.5.0",
      "model_name": "FloatProgressModel",
      "state": {
       "bar_style": "success",
       "layout": "IPY_MODEL_270c22b2c1bc4165956ecddb85e49c50",
       "max": 2,
       "style": "IPY_MODEL_15faac221a9542808efb586763e11e5a",
       "value": 2
      }
     },
     "ace8d76ee98c43e68b89d138a1627e86": {
      "model_module": "@jupyter-widgets/base",
      "model_module_version": "1.2.0",
      "model_name": "LayoutModel",
      "state": {}
     },
     "acf0351125604088b156d59a33f48aba": {
      "model_module": "@jupyter-widgets/base",
      "model_module_version": "1.2.0",
      "model_name": "LayoutModel",
      "state": {}
     },
     "ad0908a286b3484aa8a655375ba835e5": {
      "model_module": "@jupyter-widgets/controls",
      "model_module_version": "1.5.0",
      "model_name": "HBoxModel",
      "state": {
       "children": [
        "IPY_MODEL_97b3b6438334426d8162d01d18e6f2fe",
        "IPY_MODEL_3736cde5dd724aafa8962eb7470d1e9f",
        "IPY_MODEL_7ba6be29161e4aef8dc62aca05bf27a9"
       ],
       "layout": "IPY_MODEL_9485c74f82ca4c1088b805868eda5bdd"
      }
     },
     "ad6922fad3d24e009d6789af8e6d30c9": {
      "model_module": "@jupyter-widgets/controls",
      "model_module_version": "1.5.0",
      "model_name": "DescriptionStyleModel",
      "state": {
       "description_width": ""
      }
     },
     "ada77a1f49f241f693694bdecda9d6e4": {
      "model_module": "@jupyter-widgets/controls",
      "model_module_version": "1.5.0",
      "model_name": "DescriptionStyleModel",
      "state": {
       "description_width": ""
      }
     },
     "af0887b3a0af485fbdfbec4b5f06f46a": {
      "model_module": "@jupyter-widgets/controls",
      "model_module_version": "1.5.0",
      "model_name": "HTMLModel",
      "state": {
       "layout": "IPY_MODEL_c13ecd8b322c48a1a85c05be90c4991a",
       "style": "IPY_MODEL_f8ca26efc27f48cba619f30882619047",
       "value": " 5/5 [00:01&lt;00:00,  3.76it/s]"
      }
     },
     "af2b104024af4899a0eb706e5de6f7df": {
      "model_module": "@jupyter-widgets/controls",
      "model_module_version": "1.5.0",
      "model_name": "DescriptionStyleModel",
      "state": {
       "description_width": ""
      }
     },
     "afb2a4f9483c4ca19aa61dd115105453": {
      "model_module": "@jupyter-widgets/base",
      "model_module_version": "1.2.0",
      "model_name": "LayoutModel",
      "state": {}
     },
     "b0661eae83bd4d389a7e4ea8fa2a03c0": {
      "model_module": "@jupyter-widgets/base",
      "model_module_version": "1.2.0",
      "model_name": "LayoutModel",
      "state": {}
     },
     "b07b288757504e27be1a05f1cea69f23": {
      "model_module": "@jupyter-widgets/controls",
      "model_module_version": "1.5.0",
      "model_name": "FloatProgressModel",
      "state": {
       "bar_style": "success",
       "layout": "IPY_MODEL_7647e3bf2e224861a2862b1c78b791d8",
       "max": 4,
       "style": "IPY_MODEL_3b352812f66b406ca13056d49b148c8f",
       "value": 4
      }
     },
     "b0a741f5cbad491e9bf6079d2743f1e0": {
      "model_module": "@jupyter-widgets/base",
      "model_module_version": "1.2.0",
      "model_name": "LayoutModel",
      "state": {}
     },
     "b183f2222765418a9d590d936a304a76": {
      "model_module": "@jupyter-widgets/controls",
      "model_module_version": "1.5.0",
      "model_name": "HBoxModel",
      "state": {
       "children": [
        "IPY_MODEL_b252e8ae978f40f4ad595cb6a7e6ee41",
        "IPY_MODEL_ea7c3ad2961e489797a883edf5b29acd",
        "IPY_MODEL_6c86f6c532b04cf1b71ff1c7fe477aff"
       ],
       "layout": "IPY_MODEL_834eb645e85d4d82bad89fef6b49f78e"
      }
     },
     "b1c1958c6d234123828367223de5554d": {
      "model_module": "@jupyter-widgets/controls",
      "model_module_version": "1.5.0",
      "model_name": "HBoxModel",
      "state": {
       "children": [
        "IPY_MODEL_5aa89f863b6248038cab831d628734b2",
        "IPY_MODEL_81de30b757664663beeddc0609b09c7a",
        "IPY_MODEL_c25c0fb9a3074d3a8ac3d0037241824e"
       ],
       "layout": "IPY_MODEL_8f1ce3192b6f40f9a0108cdc65463f01"
      }
     },
     "b1f70d48be1c44b985118188fbccfa82": {
      "model_module": "@jupyter-widgets/controls",
      "model_module_version": "1.5.0",
      "model_name": "FloatProgressModel",
      "state": {
       "layout": "IPY_MODEL_22a2d1d0490f4d7baf36a19bce9fa6bf",
       "max": 2,
       "style": "IPY_MODEL_348f3e7752984e8088b8e274129f388f"
      }
     },
     "b23042702d244379b150395f7e8aaa72": {
      "model_module": "@jupyter-widgets/base",
      "model_module_version": "1.2.0",
      "model_name": "LayoutModel",
      "state": {}
     },
     "b252e8ae978f40f4ad595cb6a7e6ee41": {
      "model_module": "@jupyter-widgets/controls",
      "model_module_version": "1.5.0",
      "model_name": "HTMLModel",
      "state": {
       "layout": "IPY_MODEL_68206f9e33ab4d58a8e1b776fb30688a",
       "style": "IPY_MODEL_3337e1c0132e45e0bcb3573815bcf4c4",
       "value": "100%"
      }
     },
     "b2870857ff4f4340979f39b2bcdef142": {
      "model_module": "@jupyter-widgets/base",
      "model_module_version": "1.2.0",
      "model_name": "LayoutModel",
      "state": {}
     },
     "b28f1997a44e47f4a1f18fa976a3a3c3": {
      "model_module": "@jupyter-widgets/controls",
      "model_module_version": "1.5.0",
      "model_name": "ProgressStyleModel",
      "state": {
       "description_width": ""
      }
     },
     "b303656991ab4c3ebdb4cf06c2a61780": {
      "model_module": "@jupyter-widgets/controls",
      "model_module_version": "1.5.0",
      "model_name": "HBoxModel",
      "state": {
       "children": [
        "IPY_MODEL_2aca49db4c83413692377c194931a499",
        "IPY_MODEL_2e5b986610404fb6acdf33a75780d604",
        "IPY_MODEL_49d412f1022b463385ac52b87f975736"
       ],
       "layout": "IPY_MODEL_e05ec89ad87f44898a577e96d2c5c5a5"
      }
     },
     "b3cafb41545f475091d6c67a359fcf28": {
      "model_module": "@jupyter-widgets/base",
      "model_module_version": "1.2.0",
      "model_name": "LayoutModel",
      "state": {}
     },
     "b4020415a5ac40d1a269e0237b6d645f": {
      "model_module": "@jupyter-widgets/controls",
      "model_module_version": "1.5.0",
      "model_name": "FloatProgressModel",
      "state": {
       "bar_style": "success",
       "layout": "IPY_MODEL_2df4e4711fe14e65a28a61e98feec423",
       "max": 3,
       "style": "IPY_MODEL_5578cf22cda045549a37c41a8f50b74b",
       "value": 3
      }
     },
     "b41d6496fc534f70b3970e108f32837b": {
      "model_module": "@jupyter-widgets/base",
      "model_module_version": "1.2.0",
      "model_name": "LayoutModel",
      "state": {}
     },
     "b4251e88a5a94a948b75cf918ed48389": {
      "model_module": "@jupyter-widgets/base",
      "model_module_version": "1.2.0",
      "model_name": "LayoutModel",
      "state": {}
     },
     "b4d5331a4e684c50a3547bd1839f94fb": {
      "model_module": "@jupyter-widgets/base",
      "model_module_version": "1.2.0",
      "model_name": "LayoutModel",
      "state": {}
     },
     "b56cbee00823455ea31fd5bb6002c8eb": {
      "model_module": "@jupyter-widgets/base",
      "model_module_version": "1.2.0",
      "model_name": "LayoutModel",
      "state": {}
     },
     "b5838c29e5dd407e8deb0906f1cec335": {
      "model_module": "@jupyter-widgets/controls",
      "model_module_version": "1.5.0",
      "model_name": "DescriptionStyleModel",
      "state": {
       "description_width": ""
      }
     },
     "b5a1c740213343f490c74a55074b6bb4": {
      "model_module": "@jupyter-widgets/controls",
      "model_module_version": "1.5.0",
      "model_name": "DescriptionStyleModel",
      "state": {
       "description_width": ""
      }
     },
     "b60eabd7833a4e6cad2f730d357bf5f3": {
      "model_module": "@jupyter-widgets/controls",
      "model_module_version": "1.5.0",
      "model_name": "DescriptionStyleModel",
      "state": {
       "description_width": ""
      }
     },
     "b6942cd99d6b466b813801a89031bf69": {
      "model_module": "@jupyter-widgets/controls",
      "model_module_version": "1.5.0",
      "model_name": "HTMLModel",
      "state": {
       "layout": "IPY_MODEL_06595709f6874af69a4870e5cb45eb40",
       "style": "IPY_MODEL_bcf8f0ecfdc344d38574d2a366bc3356",
       "value": " 3/3 [00:00&lt;00:00,  3.76it/s]"
      }
     },
     "b69d05ac6c484969b72947a12883e5de": {
      "model_module": "@jupyter-widgets/base",
      "model_module_version": "1.2.0",
      "model_name": "LayoutModel",
      "state": {}
     },
     "b6cd46ae4d1a4255ac76d838153d4c7e": {
      "model_module": "@jupyter-widgets/controls",
      "model_module_version": "1.5.0",
      "model_name": "DescriptionStyleModel",
      "state": {
       "description_width": ""
      }
     },
     "b6dbeba462e14899b74619551f2818d5": {
      "model_module": "@jupyter-widgets/controls",
      "model_module_version": "1.5.0",
      "model_name": "HBoxModel",
      "state": {
       "children": [
        "IPY_MODEL_23695566c428414ba2d915ab89035937",
        "IPY_MODEL_58be6070f7de4a7ebb3611d955017212",
        "IPY_MODEL_670324c7da29436fb3dfc1ef71d6f6f6"
       ],
       "layout": "IPY_MODEL_0e9942cac8c34734a0a9214888966b8e"
      }
     },
     "b73fe8a82c7e4269a540b356e0de3382": {
      "model_module": "@jupyter-widgets/base",
      "model_module_version": "1.2.0",
      "model_name": "LayoutModel",
      "state": {}
     },
     "b745bf1def814b71afc5d7e54998ad24": {
      "model_module": "@jupyter-widgets/controls",
      "model_module_version": "1.5.0",
      "model_name": "ProgressStyleModel",
      "state": {
       "description_width": ""
      }
     },
     "b74c50d4299b4121b07bd6d0374f75ae": {
      "model_module": "@jupyter-widgets/controls",
      "model_module_version": "1.5.0",
      "model_name": "HBoxModel",
      "state": {
       "children": [
        "IPY_MODEL_d2c1d1729afe48a9a6d3c66e046f0175",
        "IPY_MODEL_dac2a135ed6d4975a9d3a8464472d9d7",
        "IPY_MODEL_50f26ab95c694622ad3c3b278f933d2b"
       ],
       "layout": "IPY_MODEL_aa4aeb52bcd64c9595aca92d04eec971"
      }
     },
     "b758a609fa9a4a7c96cd4cb7938bf916": {
      "model_module": "@jupyter-widgets/controls",
      "model_module_version": "1.5.0",
      "model_name": "DescriptionStyleModel",
      "state": {
       "description_width": ""
      }
     },
     "b7b53723e6a44b23850e92db509e6b2b": {
      "model_module": "@jupyter-widgets/controls",
      "model_module_version": "1.5.0",
      "model_name": "HBoxModel",
      "state": {
       "children": [
        "IPY_MODEL_7da392e6246c4daea671119fd5502d78",
        "IPY_MODEL_edeb8a8bcf134f34a36249f00523299e",
        "IPY_MODEL_66d0368848fa4fc894cfc73b300be224"
       ],
       "layout": "IPY_MODEL_94df1670d9c947b1bbd0432652b3060a"
      }
     },
     "b7b7a34b1505406aabe37eff7af89bd2": {
      "model_module": "@jupyter-widgets/base",
      "model_module_version": "1.2.0",
      "model_name": "LayoutModel",
      "state": {}
     },
     "b90a6e559c2f4dc8aae9b96efc05311e": {
      "model_module": "@jupyter-widgets/controls",
      "model_module_version": "1.5.0",
      "model_name": "FloatProgressModel",
      "state": {
       "bar_style": "success",
       "layout": "IPY_MODEL_46f58be226cb4d598d2bb89b137707d0",
       "max": 6,
       "style": "IPY_MODEL_15069aa0d66542dab172da77eedf8a03",
       "value": 6
      }
     },
     "b91a59fcae3d4634b7ab551b6e368859": {
      "model_module": "@jupyter-widgets/controls",
      "model_module_version": "1.5.0",
      "model_name": "ProgressStyleModel",
      "state": {
       "description_width": ""
      }
     },
     "b99647c9a848475a9ecb496e2d2c06ef": {
      "model_module": "@jupyter-widgets/controls",
      "model_module_version": "1.5.0",
      "model_name": "HTMLModel",
      "state": {
       "layout": "IPY_MODEL_f3fbe8571d78481fae1cfc8c8ca1f43a",
       "style": "IPY_MODEL_5f6c68912e4249cab812986a4b9009c4",
       "value": " 2/2 [00:00&lt;00:00,  3.56it/s]"
      }
     },
     "b9c93765441e4332a8cc58e2e31b3bb4": {
      "model_module": "@jupyter-widgets/base",
      "model_module_version": "1.2.0",
      "model_name": "LayoutModel",
      "state": {}
     },
     "ba5697df91224d1b82482d9698af7f89": {
      "model_module": "@jupyter-widgets/controls",
      "model_module_version": "1.5.0",
      "model_name": "HTMLModel",
      "state": {
       "layout": "IPY_MODEL_62a9caf73af243d28a345f393c28a329",
       "style": "IPY_MODEL_0c1c35029e704a7b9da3c4a4a5be9c42",
       "value": " 2/2 [00:00&lt;00:00,  3.68it/s]"
      }
     },
     "ba7c7b8c589b4902b4712f5fce914e58": {
      "model_module": "@jupyter-widgets/controls",
      "model_module_version": "1.5.0",
      "model_name": "DescriptionStyleModel",
      "state": {
       "description_width": ""
      }
     },
     "bad1b4c0c4e24a22b029e0ac6e9cca6e": {
      "model_module": "@jupyter-widgets/base",
      "model_module_version": "1.2.0",
      "model_name": "LayoutModel",
      "state": {}
     },
     "bb18fc9be917448bbaf1956fa1a1ebe4": {
      "model_module": "@jupyter-widgets/base",
      "model_module_version": "1.2.0",
      "model_name": "LayoutModel",
      "state": {}
     },
     "bb4c41a7b9b646698af07861ff134ff5": {
      "model_module": "@jupyter-widgets/base",
      "model_module_version": "1.2.0",
      "model_name": "LayoutModel",
      "state": {}
     },
     "bb65d94e9e334666a0e9a13ad2159d00": {
      "model_module": "@jupyter-widgets/controls",
      "model_module_version": "1.5.0",
      "model_name": "ProgressStyleModel",
      "state": {
       "description_width": ""
      }
     },
     "bba870464611456594a1ba39607cb659": {
      "model_module": "@jupyter-widgets/controls",
      "model_module_version": "1.5.0",
      "model_name": "HTMLModel",
      "state": {
       "layout": "IPY_MODEL_651d376c347c471ba7708a804f9ae0e6",
       "style": "IPY_MODEL_66b0adf0da474b0c9f41dd4fd36b0409",
       "value": "100%"
      }
     },
     "bbd362c41ec74a3a9f1a625c85249cde": {
      "model_module": "@jupyter-widgets/base",
      "model_module_version": "1.2.0",
      "model_name": "LayoutModel",
      "state": {}
     },
     "bc1c087761024b22b884d447853a850e": {
      "model_module": "@jupyter-widgets/controls",
      "model_module_version": "1.5.0",
      "model_name": "HBoxModel",
      "state": {
       "children": [
        "IPY_MODEL_ddeae7670d4844de97dbda4abdd7a6c0",
        "IPY_MODEL_da026234c64545468617589843ebf056",
        "IPY_MODEL_be6aea934100416b8dbd4dc811587726"
       ],
       "layout": "IPY_MODEL_8c2193f0cc5a4d31b4eec3b995289cf6"
      }
     },
     "bc24513f43244a96b90e35df91a9d901": {
      "model_module": "@jupyter-widgets/controls",
      "model_module_version": "1.5.0",
      "model_name": "HBoxModel",
      "state": {
       "children": [
        "IPY_MODEL_c3a2b911962947a18a6ecf87b9172f8a",
        "IPY_MODEL_a86e11f6414b4505a68f332908af34e3",
        "IPY_MODEL_22116c937d8b466793ba9792d4c9d914"
       ],
       "layout": "IPY_MODEL_eef572386d544b93a2c4928932da0b34"
      }
     },
     "bc5905b9c2a2446fa22f87acd8264ba2": {
      "model_module": "@jupyter-widgets/base",
      "model_module_version": "1.2.0",
      "model_name": "LayoutModel",
      "state": {}
     },
     "bcf8f0ecfdc344d38574d2a366bc3356": {
      "model_module": "@jupyter-widgets/controls",
      "model_module_version": "1.5.0",
      "model_name": "DescriptionStyleModel",
      "state": {
       "description_width": ""
      }
     },
     "bdbb279f03f04445a369b4f40cfda997": {
      "model_module": "@jupyter-widgets/controls",
      "model_module_version": "1.5.0",
      "model_name": "HBoxModel",
      "state": {
       "children": [
        "IPY_MODEL_6844d9f8e5a24f039c9318f53db553b8",
        "IPY_MODEL_d73126b4833e4919887667ee82759d46",
        "IPY_MODEL_c502c111013c470e95b7a44d33ade75e"
       ],
       "layout": "IPY_MODEL_5bc1bb78840b4c9c9178583a23eeaea0"
      }
     },
     "be6aea934100416b8dbd4dc811587726": {
      "model_module": "@jupyter-widgets/controls",
      "model_module_version": "1.5.0",
      "model_name": "HTMLModel",
      "state": {
       "layout": "IPY_MODEL_04ad5f4fc90545b380bf246b70e87b85",
       "style": "IPY_MODEL_624e21bb6b224952bb16c8c80c58517a",
       "value": " 2/2 [00:00&lt;00:00,  3.59it/s]"
      }
     },
     "beac632282a14c4abe69a9b09762831f": {
      "model_module": "@jupyter-widgets/controls",
      "model_module_version": "1.5.0",
      "model_name": "HTMLModel",
      "state": {
       "layout": "IPY_MODEL_e419bdaf733b498483422e39dfc42bf9",
       "style": "IPY_MODEL_893d015ba3704ae9a8ecbddf86ba5a50",
       "value": " 2/2 [00:00&lt;00:00,  3.20it/s]"
      }
     },
     "bf4071418e974bdab42ff08750040664": {
      "model_module": "@jupyter-widgets/controls",
      "model_module_version": "1.5.0",
      "model_name": "FloatProgressModel",
      "state": {
       "bar_style": "success",
       "layout": "IPY_MODEL_91141ad12bf2463281253a1d36fe14a4",
       "max": 2,
       "style": "IPY_MODEL_b91a59fcae3d4634b7ab551b6e368859",
       "value": 2
      }
     },
     "c079511e01fe4b03b7ef7e874f42933b": {
      "model_module": "@jupyter-widgets/base",
      "model_module_version": "1.2.0",
      "model_name": "LayoutModel",
      "state": {}
     },
     "c07fa6260a7e451ea2fed199122e882f": {
      "model_module": "@jupyter-widgets/controls",
      "model_module_version": "1.5.0",
      "model_name": "DescriptionStyleModel",
      "state": {
       "description_width": ""
      }
     },
     "c0b3ef2c378f4525a34f71b3a76132fa": {
      "model_module": "@jupyter-widgets/base",
      "model_module_version": "1.2.0",
      "model_name": "LayoutModel",
      "state": {}
     },
     "c13ecd8b322c48a1a85c05be90c4991a": {
      "model_module": "@jupyter-widgets/base",
      "model_module_version": "1.2.0",
      "model_name": "LayoutModel",
      "state": {}
     },
     "c17c8debfd3d49aa96dd229486d1b4b6": {
      "model_module": "@jupyter-widgets/controls",
      "model_module_version": "1.5.0",
      "model_name": "DescriptionStyleModel",
      "state": {
       "description_width": ""
      }
     },
     "c1a4dac7394f4285a9cbe9d2330d9d21": {
      "model_module": "@jupyter-widgets/controls",
      "model_module_version": "1.5.0",
      "model_name": "DescriptionStyleModel",
      "state": {
       "description_width": ""
      }
     },
     "c1cdace593eb45e69c30ad44439718dd": {
      "model_module": "@jupyter-widgets/controls",
      "model_module_version": "1.5.0",
      "model_name": "HBoxModel",
      "state": {
       "children": [
        "IPY_MODEL_e00ab47746ae47d3b2aab3c278de8921",
        "IPY_MODEL_8c380122566244e2bf6e56729923b9a1",
        "IPY_MODEL_38fafebff56741dea380257e56a877cb"
       ],
       "layout": "IPY_MODEL_d6b748cbb0a44d438c385e5e12cd008f"
      }
     },
     "c1ce50f213d24bf9a9e2eab4b0df366b": {
      "model_module": "@jupyter-widgets/base",
      "model_module_version": "1.2.0",
      "model_name": "LayoutModel",
      "state": {}
     },
     "c25c0fb9a3074d3a8ac3d0037241824e": {
      "model_module": "@jupyter-widgets/controls",
      "model_module_version": "1.5.0",
      "model_name": "HTMLModel",
      "state": {
       "layout": "IPY_MODEL_4c7d5b61016e4b77a218286713b79ac2",
       "style": "IPY_MODEL_8736eaed763a4a21bfdfcdd20b46e1dc",
       "value": " 2/2 [00:00&lt;00:00,  2.95it/s]"
      }
     },
     "c32774befcff424d9f47302d87911e1a": {
      "model_module": "@jupyter-widgets/base",
      "model_module_version": "1.2.0",
      "model_name": "LayoutModel",
      "state": {}
     },
     "c3a2b911962947a18a6ecf87b9172f8a": {
      "model_module": "@jupyter-widgets/controls",
      "model_module_version": "1.5.0",
      "model_name": "HTMLModel",
      "state": {
       "layout": "IPY_MODEL_b7b7a34b1505406aabe37eff7af89bd2",
       "style": "IPY_MODEL_43f2283618474b33ad9429a2d1a77287",
       "value": "100%"
      }
     },
     "c4623048a13547179baa4914e2ee7f7f": {
      "model_module": "@jupyter-widgets/base",
      "model_module_version": "1.2.0",
      "model_name": "LayoutModel",
      "state": {}
     },
     "c4a7cb333efc4068b38bd61fdb95b322": {
      "model_module": "@jupyter-widgets/controls",
      "model_module_version": "1.5.0",
      "model_name": "ProgressStyleModel",
      "state": {
       "description_width": ""
      }
     },
     "c4b97a588ba04ea68bd2f2aa67094372": {
      "model_module": "@jupyter-widgets/base",
      "model_module_version": "1.2.0",
      "model_name": "LayoutModel",
      "state": {}
     },
     "c502c111013c470e95b7a44d33ade75e": {
      "model_module": "@jupyter-widgets/controls",
      "model_module_version": "1.5.0",
      "model_name": "HTMLModel",
      "state": {
       "layout": "IPY_MODEL_4a460b1d5e28420db6103759dce2e5fb",
       "style": "IPY_MODEL_5b7ffcc7f12a4f0a9b652220bd66da0c",
       "value": " 2/2 [00:00&lt;00:00,  3.64it/s]"
      }
     },
     "c50c25229ed5470f87e04aef289dd58b": {
      "model_module": "@jupyter-widgets/base",
      "model_module_version": "1.2.0",
      "model_name": "LayoutModel",
      "state": {}
     },
     "c519f1804d654418852fcb0bea8a49c4": {
      "model_module": "@jupyter-widgets/base",
      "model_module_version": "1.2.0",
      "model_name": "LayoutModel",
      "state": {}
     },
     "c5531eaf2be148729d3edab483f6e88b": {
      "model_module": "@jupyter-widgets/controls",
      "model_module_version": "1.5.0",
      "model_name": "HTMLModel",
      "state": {
       "layout": "IPY_MODEL_17adcf4a09bf4471aac6e5ccf3ea3149",
       "style": "IPY_MODEL_36312f4d0ad749ea98e96838ee502fb9",
       "value": "100%"
      }
     },
     "c693f8ac80ab4c43a73d467b3f9c6e14": {
      "model_module": "@jupyter-widgets/controls",
      "model_module_version": "1.5.0",
      "model_name": "FloatProgressModel",
      "state": {
       "bar_style": "success",
       "layout": "IPY_MODEL_8afd18c0551d493c8547d57f92de7451",
       "max": 2,
       "style": "IPY_MODEL_9c05c96088114e01a20b784a4131202f",
       "value": 2
      }
     },
     "c6a3d7062d594c9b8f1559ef700d5c9e": {
      "model_module": "@jupyter-widgets/controls",
      "model_module_version": "1.5.0",
      "model_name": "HBoxModel",
      "state": {
       "children": [
        "IPY_MODEL_e33f3f3705e34f5e975d9d13e466c7d1",
        "IPY_MODEL_1a665c92316240b8b81bd0c39ca6d244",
        "IPY_MODEL_91908e01bcb3462f86f085c19c0c27ff"
       ],
       "layout": "IPY_MODEL_c8e5613fa7574c5eae654e0c5c3a1424"
      }
     },
     "c7339153342d43f6a58a7068bbe23aaa": {
      "model_module": "@jupyter-widgets/controls",
      "model_module_version": "1.5.0",
      "model_name": "DescriptionStyleModel",
      "state": {
       "description_width": ""
      }
     },
     "c73a07ec5880494c840223b77d9de6d9": {
      "model_module": "@jupyter-widgets/controls",
      "model_module_version": "1.5.0",
      "model_name": "ProgressStyleModel",
      "state": {
       "description_width": ""
      }
     },
     "c74462de8f6c4927bbbf435bfb74adf0": {
      "model_module": "@jupyter-widgets/base",
      "model_module_version": "1.2.0",
      "model_name": "LayoutModel",
      "state": {}
     },
     "c77a31e7d51a46ed8b0fa8713769568e": {
      "model_module": "@jupyter-widgets/controls",
      "model_module_version": "1.5.0",
      "model_name": "ProgressStyleModel",
      "state": {
       "description_width": ""
      }
     },
     "c8356a8692dc46f699be1f07f5f7dcf8": {
      "model_module": "@jupyter-widgets/controls",
      "model_module_version": "1.5.0",
      "model_name": "HTMLModel",
      "state": {
       "layout": "IPY_MODEL_9928acee75c9451db7d97f090b69d560",
       "style": "IPY_MODEL_533cd0fa54e34e5c94f3d634d5fed245",
       "value": " 4/4 [00:01&lt;00:00,  3.68it/s]"
      }
     },
     "c8765e52dc3e48199e0f9a438fc9d108": {
      "model_module": "@jupyter-widgets/base",
      "model_module_version": "1.2.0",
      "model_name": "LayoutModel",
      "state": {}
     },
     "c8dcd7a3356945e2b5be5c2ec0d8a8c9": {
      "model_module": "@jupyter-widgets/controls",
      "model_module_version": "1.5.0",
      "model_name": "HTMLModel",
      "state": {
       "layout": "IPY_MODEL_5d117cc0261d480fb60d5dbeb6cef7b5",
       "style": "IPY_MODEL_e30caedc49b14cf98c6dff1816df6a84",
       "value": "100%"
      }
     },
     "c8e5613fa7574c5eae654e0c5c3a1424": {
      "model_module": "@jupyter-widgets/base",
      "model_module_version": "1.2.0",
      "model_name": "LayoutModel",
      "state": {}
     },
     "c9e49e59b27448628f8a57f565bd84c8": {
      "model_module": "@jupyter-widgets/base",
      "model_module_version": "1.2.0",
      "model_name": "LayoutModel",
      "state": {}
     },
     "ca678815165845dca50c87f7b983f8ec": {
      "model_module": "@jupyter-widgets/base",
      "model_module_version": "1.2.0",
      "model_name": "LayoutModel",
      "state": {}
     },
     "ca739dcf05574da7830459509a2c0142": {
      "model_module": "@jupyter-widgets/base",
      "model_module_version": "1.2.0",
      "model_name": "LayoutModel",
      "state": {}
     },
     "ca74c825cdb6482181967ea2bae6c583": {
      "model_module": "@jupyter-widgets/controls",
      "model_module_version": "1.5.0",
      "model_name": "FloatProgressModel",
      "state": {
       "bar_style": "success",
       "layout": "IPY_MODEL_19c699050c484263a0da0c9c9b3cd70b",
       "max": 3,
       "style": "IPY_MODEL_a5f241e51c904c6a9c708bd2693bb729",
       "value": 3
      }
     },
     "caabb5f8cca64e80bdf8f311f36cf8d8": {
      "model_module": "@jupyter-widgets/controls",
      "model_module_version": "1.5.0",
      "model_name": "HTMLModel",
      "state": {
       "layout": "IPY_MODEL_e29e90ce9e564fa39a82689a85aa5df2",
       "style": "IPY_MODEL_a57a79b40fc24ced98bfbc272b5247f6",
       "value": "100%"
      }
     },
     "cc1fba413d6d4c7e873ffd314381fa49": {
      "model_module": "@jupyter-widgets/controls",
      "model_module_version": "1.5.0",
      "model_name": "FloatProgressModel",
      "state": {
       "bar_style": "success",
       "layout": "IPY_MODEL_12cc0b1f810c43b290fd22d001f6b0aa",
       "max": 4,
       "style": "IPY_MODEL_0e93055a394c492593d3733f3edb5fc1",
       "value": 4
      }
     },
     "cc47c5990de14b439d355c5da8fc058e": {
      "model_module": "@jupyter-widgets/controls",
      "model_module_version": "1.5.0",
      "model_name": "HBoxModel",
      "state": {
       "children": [
        "IPY_MODEL_740b14b9cc024477a482866cb9350591",
        "IPY_MODEL_85acc6a5fd984ce7bd806ad4fbb67fd6",
        "IPY_MODEL_890706736fb8456c8d3cff143e6ea73d"
       ],
       "layout": "IPY_MODEL_2d2ab56c35754c4f84c5c6d7fb665eb6"
      }
     },
     "cd6a959f9f9c4727899650f5da10d2bf": {
      "model_module": "@jupyter-widgets/base",
      "model_module_version": "1.2.0",
      "model_name": "LayoutModel",
      "state": {}
     },
     "ce707a6d67ed4ff6ad26c946870c4894": {
      "model_module": "@jupyter-widgets/base",
      "model_module_version": "1.2.0",
      "model_name": "LayoutModel",
      "state": {}
     },
     "ce7648dbf3774581ba29cf769da7b586": {
      "model_module": "@jupyter-widgets/controls",
      "model_module_version": "1.5.0",
      "model_name": "FloatProgressModel",
      "state": {
       "bar_style": "success",
       "layout": "IPY_MODEL_41a6c81483f747c0ab94bfa3cd9867c5",
       "max": 2,
       "style": "IPY_MODEL_6c509e199af24724916e6ac1b09bd5b5",
       "value": 2
      }
     },
     "cec501f0f0ae4908b6a428fdafd05c4d": {
      "model_module": "@jupyter-widgets/controls",
      "model_module_version": "1.5.0",
      "model_name": "HBoxModel",
      "state": {
       "children": [
        "IPY_MODEL_fb8d1cce57aa4848822313dc8268a906",
        "IPY_MODEL_95f24ed7899f4852a46b977cfb09f806",
        "IPY_MODEL_96ddc1d86e7044c698def6a68583d115"
       ],
       "layout": "IPY_MODEL_43b5f37bab7c4291a98341205f044cd3"
      }
     },
     "cefcdda3dbc8407a8affaa9431de2c7a": {
      "model_module": "@jupyter-widgets/controls",
      "model_module_version": "1.5.0",
      "model_name": "ProgressStyleModel",
      "state": {
       "description_width": ""
      }
     },
     "cf7a6831fcf749a896d25af3eb15ef64": {
      "model_module": "@jupyter-widgets/controls",
      "model_module_version": "1.5.0",
      "model_name": "HTMLModel",
      "state": {
       "layout": "IPY_MODEL_d71068666ed9411e97ed4b6d5aa8cfd0",
       "style": "IPY_MODEL_23b7dc06de62455291d7e6bb7f4b0e61",
       "value": " 3/3 [00:00&lt;00:00,  3.77it/s]"
      }
     },
     "cfe5ecb1266c449aa06bd750d98a18c7": {
      "model_module": "@jupyter-widgets/controls",
      "model_module_version": "1.5.0",
      "model_name": "DescriptionStyleModel",
      "state": {
       "description_width": ""
      }
     },
     "d00e4ee0fbcf4ea5a5a5e09d7e262862": {
      "model_module": "@jupyter-widgets/controls",
      "model_module_version": "1.5.0",
      "model_name": "ProgressStyleModel",
      "state": {
       "description_width": ""
      }
     },
     "d04bfd0dbb4e4b2e80a7ef34bf32236b": {
      "model_module": "@jupyter-widgets/controls",
      "model_module_version": "1.5.0",
      "model_name": "DescriptionStyleModel",
      "state": {
       "description_width": ""
      }
     },
     "d06b2dc932904478b4c45ac06cf525e1": {
      "model_module": "@jupyter-widgets/base",
      "model_module_version": "1.2.0",
      "model_name": "LayoutModel",
      "state": {}
     },
     "d0934738307c483a9f5d5474f46e0b46": {
      "model_module": "@jupyter-widgets/controls",
      "model_module_version": "1.5.0",
      "model_name": "FloatProgressModel",
      "state": {
       "bar_style": "success",
       "layout": "IPY_MODEL_ab1f5518a9db42c5a23e06c00eb45dff",
       "max": 2,
       "style": "IPY_MODEL_53b7d019fc1a4e88b7b054420429922a",
       "value": 2
      }
     },
     "d09b74b5d9984f48bfb0c3340d8bbaeb": {
      "model_module": "@jupyter-widgets/base",
      "model_module_version": "1.2.0",
      "model_name": "LayoutModel",
      "state": {}
     },
     "d09e9d9d1e114818b9248ec345bee093": {
      "model_module": "@jupyter-widgets/base",
      "model_module_version": "1.2.0",
      "model_name": "LayoutModel",
      "state": {}
     },
     "d11d45704c7842e49bdf7bff959e4e00": {
      "model_module": "@jupyter-widgets/base",
      "model_module_version": "1.2.0",
      "model_name": "LayoutModel",
      "state": {}
     },
     "d185240130e44e83b194450ca5dc712f": {
      "model_module": "@jupyter-widgets/controls",
      "model_module_version": "1.5.0",
      "model_name": "DescriptionStyleModel",
      "state": {
       "description_width": ""
      }
     },
     "d1aef6f57bf74e9991ceddb46d3afa52": {
      "model_module": "@jupyter-widgets/controls",
      "model_module_version": "1.5.0",
      "model_name": "HTMLModel",
      "state": {
       "layout": "IPY_MODEL_9b4a7b876ce740dda416e084a00505cf",
       "style": "IPY_MODEL_5645d4be7c224832a5d70147aafd20a6",
       "value": "100%"
      }
     },
     "d1cc75d3403f4f43be610a6768306d86": {
      "model_module": "@jupyter-widgets/controls",
      "model_module_version": "1.5.0",
      "model_name": "DescriptionStyleModel",
      "state": {
       "description_width": ""
      }
     },
     "d2c1d1729afe48a9a6d3c66e046f0175": {
      "model_module": "@jupyter-widgets/controls",
      "model_module_version": "1.5.0",
      "model_name": "HTMLModel",
      "state": {
       "layout": "IPY_MODEL_7d3c3f0059204442b180f2f8a5166bda",
       "style": "IPY_MODEL_ada77a1f49f241f693694bdecda9d6e4",
       "value": "100%"
      }
     },
     "d2ea00eb2dd249e99eccdaae2051c5fd": {
      "model_module": "@jupyter-widgets/controls",
      "model_module_version": "1.5.0",
      "model_name": "DescriptionStyleModel",
      "state": {
       "description_width": ""
      }
     },
     "d34c194dde444e4c908592eda64359c5": {
      "model_module": "@jupyter-widgets/controls",
      "model_module_version": "1.5.0",
      "model_name": "HTMLModel",
      "state": {
       "layout": "IPY_MODEL_f7e8a113ac904e4ebbc7dbdcf2deed94",
       "style": "IPY_MODEL_4905da0a7ac2495b9fc1cc0f8f0aadce",
       "value": " 2/2 [00:00&lt;00:00,  3.21it/s]"
      }
     },
     "d3bd70ab5a474c34a2039bcb48b63342": {
      "model_module": "@jupyter-widgets/base",
      "model_module_version": "1.2.0",
      "model_name": "LayoutModel",
      "state": {}
     },
     "d44648c14d094eeeb4c9513267eb3ab9": {
      "model_module": "@jupyter-widgets/base",
      "model_module_version": "1.2.0",
      "model_name": "LayoutModel",
      "state": {}
     },
     "d46e7d8ef0684106a83ac904df96858f": {
      "model_module": "@jupyter-widgets/base",
      "model_module_version": "1.2.0",
      "model_name": "LayoutModel",
      "state": {}
     },
     "d47a2fc8d9b14e168ea17d5328076da1": {
      "model_module": "@jupyter-widgets/base",
      "model_module_version": "1.2.0",
      "model_name": "LayoutModel",
      "state": {}
     },
     "d4969eafe7d743cdabe8d739019f037c": {
      "model_module": "@jupyter-widgets/controls",
      "model_module_version": "1.5.0",
      "model_name": "HBoxModel",
      "state": {
       "children": [
        "IPY_MODEL_6f78faf647164753ae57aececf8c98b1",
        "IPY_MODEL_2907084b3e924a69b352a0eb5cb29714",
        "IPY_MODEL_ddff791b294541938d69fec91afae130"
       ],
       "layout": "IPY_MODEL_351be190a91540e384eb3ef6b029ff42"
      }
     },
     "d4b1a0ad1654425fb0ff03e3b73d5483": {
      "model_module": "@jupyter-widgets/base",
      "model_module_version": "1.2.0",
      "model_name": "LayoutModel",
      "state": {}
     },
     "d5894fa2586a4a1a8d505cdcd7790e50": {
      "model_module": "@jupyter-widgets/controls",
      "model_module_version": "1.5.0",
      "model_name": "HTMLModel",
      "state": {
       "layout": "IPY_MODEL_952196f96d2445a8affea2587605fd7c",
       "style": "IPY_MODEL_b5838c29e5dd407e8deb0906f1cec335",
       "value": " 2/2 [00:00&lt;00:00,  3.63it/s]"
      }
     },
     "d597c5b4ba504cd5a9a97e7523f91273": {
      "model_module": "@jupyter-widgets/controls",
      "model_module_version": "1.5.0",
      "model_name": "HTMLModel",
      "state": {
       "layout": "IPY_MODEL_d44648c14d094eeeb4c9513267eb3ab9",
       "style": "IPY_MODEL_3641f52c4df24deeb370dd35d2582496",
       "value": "100%"
      }
     },
     "d6224fa337f644e48af6e9da762a2056": {
      "model_module": "@jupyter-widgets/controls",
      "model_module_version": "1.5.0",
      "model_name": "HBoxModel",
      "state": {
       "children": [
        "IPY_MODEL_75a09e41eb0144ad86ea0a4af53943c4",
        "IPY_MODEL_7c87c4f307444ecbbdeec6a5ac885239",
        "IPY_MODEL_946f2e134b4749d9b764b5c35bc18767"
       ],
       "layout": "IPY_MODEL_b23042702d244379b150395f7e8aaa72"
      }
     },
     "d65fad1430324cf590230b60528d0311": {
      "model_module": "@jupyter-widgets/base",
      "model_module_version": "1.2.0",
      "model_name": "LayoutModel",
      "state": {}
     },
     "d66242bea42247debca359b54313aa4a": {
      "model_module": "@jupyter-widgets/controls",
      "model_module_version": "1.5.0",
      "model_name": "FloatProgressModel",
      "state": {
       "bar_style": "success",
       "layout": "IPY_MODEL_8c93e81262094b90883b900ad9a5af1e",
       "max": 5,
       "style": "IPY_MODEL_786705564dae476dbdad0e21ddc23611",
       "value": 5
      }
     },
     "d6b748cbb0a44d438c385e5e12cd008f": {
      "model_module": "@jupyter-widgets/base",
      "model_module_version": "1.2.0",
      "model_name": "LayoutModel",
      "state": {}
     },
     "d6c6785734914f68b81276456cfd7e1a": {
      "model_module": "@jupyter-widgets/controls",
      "model_module_version": "1.5.0",
      "model_name": "FloatProgressModel",
      "state": {
       "bar_style": "success",
       "layout": "IPY_MODEL_b0661eae83bd4d389a7e4ea8fa2a03c0",
       "max": 2,
       "style": "IPY_MODEL_c4a7cb333efc4068b38bd61fdb95b322",
       "value": 2
      }
     },
     "d6ceca40d1a141679a7bc6454f842dbc": {
      "model_module": "@jupyter-widgets/controls",
      "model_module_version": "1.5.0",
      "model_name": "ProgressStyleModel",
      "state": {
       "description_width": ""
      }
     },
     "d6cf10209f114617ab40cbee5366a685": {
      "model_module": "@jupyter-widgets/controls",
      "model_module_version": "1.5.0",
      "model_name": "DescriptionStyleModel",
      "state": {
       "description_width": ""
      }
     },
     "d6e27ba900694899ae9848d3286c8fee": {
      "model_module": "@jupyter-widgets/controls",
      "model_module_version": "1.5.0",
      "model_name": "HTMLModel",
      "state": {
       "layout": "IPY_MODEL_ff69057860b14aaab13b837b07e24194",
       "style": "IPY_MODEL_f718dd8813f3496d9a50301bdd6adf8d",
       "value": "100%"
      }
     },
     "d6eba979b27e4b1cb55fca5ccc0c903d": {
      "model_module": "@jupyter-widgets/controls",
      "model_module_version": "1.5.0",
      "model_name": "DescriptionStyleModel",
      "state": {
       "description_width": ""
      }
     },
     "d71068666ed9411e97ed4b6d5aa8cfd0": {
      "model_module": "@jupyter-widgets/base",
      "model_module_version": "1.2.0",
      "model_name": "LayoutModel",
      "state": {}
     },
     "d72f998fe7d44260a015cde07e0e0e8e": {
      "model_module": "@jupyter-widgets/base",
      "model_module_version": "1.2.0",
      "model_name": "LayoutModel",
      "state": {}
     },
     "d73126b4833e4919887667ee82759d46": {
      "model_module": "@jupyter-widgets/controls",
      "model_module_version": "1.5.0",
      "model_name": "FloatProgressModel",
      "state": {
       "bar_style": "success",
       "layout": "IPY_MODEL_a001c8a8fbdf47029d20df19b2f9005d",
       "max": 2,
       "style": "IPY_MODEL_948cfdd186c242e4939a232a279e31e6",
       "value": 2
      }
     },
     "d774b8d81d1d4449ab7dce8b5b44207e": {
      "model_module": "@jupyter-widgets/controls",
      "model_module_version": "1.5.0",
      "model_name": "ProgressStyleModel",
      "state": {
       "description_width": ""
      }
     },
     "d7bedc7d791544b08baa5ef1f2fa2ccb": {
      "model_module": "@jupyter-widgets/base",
      "model_module_version": "1.2.0",
      "model_name": "LayoutModel",
      "state": {}
     },
     "d7f39cd536b24feeb6b3b44660f476c6": {
      "model_module": "@jupyter-widgets/controls",
      "model_module_version": "1.5.0",
      "model_name": "HTMLModel",
      "state": {
       "layout": "IPY_MODEL_f9ae0440e48544f4a256b3a3bd7a6411",
       "style": "IPY_MODEL_352764607a0c4a91ade063624214a299",
       "value": "100%"
      }
     },
     "d8224fef8b254b148710a7e3877b2169": {
      "model_module": "@jupyter-widgets/base",
      "model_module_version": "1.2.0",
      "model_name": "LayoutModel",
      "state": {}
     },
     "d8238d1e87c944bf9c99e925327ee2bf": {
      "model_module": "@jupyter-widgets/controls",
      "model_module_version": "1.5.0",
      "model_name": "HBoxModel",
      "state": {
       "children": [
        "IPY_MODEL_e0d511f7067e47f6b1239d6ef5392fc6",
        "IPY_MODEL_8aba98c5f8364424abcff77c8dc37728",
        "IPY_MODEL_07522d34c8714fef887039b68e969a6e"
       ],
       "layout": "IPY_MODEL_afb2a4f9483c4ca19aa61dd115105453"
      }
     },
     "d8adc90409a34996bbfc0a6782401ac3": {
      "model_module": "@jupyter-widgets/controls",
      "model_module_version": "1.5.0",
      "model_name": "HTMLModel",
      "state": {
       "layout": "IPY_MODEL_c32774befcff424d9f47302d87911e1a",
       "style": "IPY_MODEL_3536eaf9d474494984f0bb71b970d1a0",
       "value": " 2/2 [00:00&lt;00:00,  2.83it/s]"
      }
     },
     "d9ca0d2df0554778bd7965c26c3d860c": {
      "model_module": "@jupyter-widgets/base",
      "model_module_version": "1.2.0",
      "model_name": "LayoutModel",
      "state": {}
     },
     "da026234c64545468617589843ebf056": {
      "model_module": "@jupyter-widgets/controls",
      "model_module_version": "1.5.0",
      "model_name": "FloatProgressModel",
      "state": {
       "bar_style": "success",
       "layout": "IPY_MODEL_577dbe21e91f404e915568f7fa7c4329",
       "max": 2,
       "style": "IPY_MODEL_67be0bbce9444d31b575f9ce5546549e",
       "value": 2
      }
     },
     "da1c29aa60934468a6c322b7e73f3d51": {
      "model_module": "@jupyter-widgets/controls",
      "model_module_version": "1.5.0",
      "model_name": "ProgressStyleModel",
      "state": {
       "description_width": ""
      }
     },
     "da20697d2693432dbe104f03b0803b1d": {
      "model_module": "@jupyter-widgets/controls",
      "model_module_version": "1.5.0",
      "model_name": "DescriptionStyleModel",
      "state": {
       "description_width": ""
      }
     },
     "da6e0e832a0c4590ae718464998f40db": {
      "model_module": "@jupyter-widgets/controls",
      "model_module_version": "1.5.0",
      "model_name": "DescriptionStyleModel",
      "state": {
       "description_width": ""
      }
     },
     "da9237e0daf64bc28589fb07275ac5f0": {
      "model_module": "@jupyter-widgets/controls",
      "model_module_version": "1.5.0",
      "model_name": "HTMLModel",
      "state": {
       "layout": "IPY_MODEL_b73fe8a82c7e4269a540b356e0de3382",
       "style": "IPY_MODEL_8c60bedb5def4270ab139cc6433f440e",
       "value": " 6/6 [00:01&lt;00:00,  3.68it/s]"
      }
     },
     "dac2a135ed6d4975a9d3a8464472d9d7": {
      "model_module": "@jupyter-widgets/controls",
      "model_module_version": "1.5.0",
      "model_name": "FloatProgressModel",
      "state": {
       "bar_style": "success",
       "layout": "IPY_MODEL_94b6766e93c448e8a12dd676bc972ae3",
       "max": 9,
       "style": "IPY_MODEL_568f1d5ee6bb470183b15fe536cbfbfa",
       "value": 9
      }
     },
     "dacd07d47d504cb6ad90e717c7f6c757": {
      "model_module": "@jupyter-widgets/controls",
      "model_module_version": "1.5.0",
      "model_name": "HBoxModel",
      "state": {
       "children": [
        "IPY_MODEL_2a383ca3bc194d729df5254b886346f8",
        "IPY_MODEL_a4730701a12f4652b5c42a9bfbf9b0c4",
        "IPY_MODEL_5f716e94e7104e388dba2a8012551fb4"
       ],
       "layout": "IPY_MODEL_023008ecd7734802a8300f1369eca247"
      }
     },
     "db48b66ebe0447aa9f9bebe0474fc447": {
      "model_module": "@jupyter-widgets/controls",
      "model_module_version": "1.5.0",
      "model_name": "HBoxModel",
      "state": {
       "children": [
        "IPY_MODEL_f632c2f9a5c34395ba1e68a247598cee",
        "IPY_MODEL_853657e5c2a0442d887cd933370128da",
        "IPY_MODEL_71691c8397404ca3869fb53312692d76"
       ],
       "layout": "IPY_MODEL_5c10b148b123432eb6e6f3091fc0f0f7"
      }
     },
     "db55aa47fed1467c8953199bc01077b8": {
      "model_module": "@jupyter-widgets/controls",
      "model_module_version": "1.5.0",
      "model_name": "HBoxModel",
      "state": {
       "children": [
        "IPY_MODEL_302e315c6a0b4f80a715807a93f76469",
        "IPY_MODEL_111aa240f60642dca785cc203ddac304",
        "IPY_MODEL_0435f7bce8a646c68d787fad866b839a"
       ],
       "layout": "IPY_MODEL_e0ae7fdb5ec649b1982570360fee0c49"
      }
     },
     "dbca258675a649ad8bd1f5aeb4209c08": {
      "model_module": "@jupyter-widgets/controls",
      "model_module_version": "1.5.0",
      "model_name": "ProgressStyleModel",
      "state": {
       "description_width": ""
      }
     },
     "dbcfd386ad8744288bd8415a38b581fd": {
      "model_module": "@jupyter-widgets/base",
      "model_module_version": "1.2.0",
      "model_name": "LayoutModel",
      "state": {}
     },
     "dbfdb27320624b7b823b571487cc3bae": {
      "model_module": "@jupyter-widgets/controls",
      "model_module_version": "1.5.0",
      "model_name": "HBoxModel",
      "state": {
       "children": [
        "IPY_MODEL_3759975bbf2b44b1a45e00aa9a58f765",
        "IPY_MODEL_6565f94670d24311a11e326f84c23b03",
        "IPY_MODEL_0ec986064f6d4cbba7659a4dbb8ade20"
       ],
       "layout": "IPY_MODEL_326509585f07431299babb3da1df6916"
      }
     },
     "dc92eee9b3954db491e2ffcded60a3a0": {
      "model_module": "@jupyter-widgets/base",
      "model_module_version": "1.2.0",
      "model_name": "LayoutModel",
      "state": {}
     },
     "dd822102a3d9495db680341de7d0b8c2": {
      "model_module": "@jupyter-widgets/base",
      "model_module_version": "1.2.0",
      "model_name": "LayoutModel",
      "state": {}
     },
     "dd9e0ac234024c06b536b5ebe0d6dc08": {
      "model_module": "@jupyter-widgets/base",
      "model_module_version": "1.2.0",
      "model_name": "LayoutModel",
      "state": {}
     },
     "ddeae7670d4844de97dbda4abdd7a6c0": {
      "model_module": "@jupyter-widgets/controls",
      "model_module_version": "1.5.0",
      "model_name": "HTMLModel",
      "state": {
       "layout": "IPY_MODEL_e3ee981c131b4d4190f091d31ca447ac",
       "style": "IPY_MODEL_b6cd46ae4d1a4255ac76d838153d4c7e",
       "value": "100%"
      }
     },
     "ddff791b294541938d69fec91afae130": {
      "model_module": "@jupyter-widgets/controls",
      "model_module_version": "1.5.0",
      "model_name": "HTMLModel",
      "state": {
       "layout": "IPY_MODEL_fc24e260f3ad4f7f9ed735a4ed955922",
       "style": "IPY_MODEL_e287684e56674951b96601b75830014d",
       "value": " 2/2 [00:00&lt;00:00,  3.32it/s]"
      }
     },
     "de0f30255ac244328f5cd393eed6602e": {
      "model_module": "@jupyter-widgets/controls",
      "model_module_version": "1.5.0",
      "model_name": "DescriptionStyleModel",
      "state": {
       "description_width": ""
      }
     },
     "de31738486354e72a0ecec00251f1366": {
      "model_module": "@jupyter-widgets/controls",
      "model_module_version": "1.5.0",
      "model_name": "HTMLModel",
      "state": {
       "layout": "IPY_MODEL_fc9813b732db4862a9abe2bae997f0cc",
       "style": "IPY_MODEL_92efc40e3ec5423c8e4c061bda1f77f3",
       "value": " 2/2 [00:00&lt;00:00,  3.60it/s]"
      }
     },
     "de371714a55d4550b5d179a18f5ff80c": {
      "model_module": "@jupyter-widgets/base",
      "model_module_version": "1.2.0",
      "model_name": "LayoutModel",
      "state": {}
     },
     "df4a301744324c108d07ba03a4ce43e5": {
      "model_module": "@jupyter-widgets/base",
      "model_module_version": "1.2.0",
      "model_name": "LayoutModel",
      "state": {}
     },
     "dfdaaf3fddbc4a24a528422e62ab776d": {
      "model_module": "@jupyter-widgets/controls",
      "model_module_version": "1.5.0",
      "model_name": "HTMLModel",
      "state": {
       "layout": "IPY_MODEL_e6f04e3fe3e84dde890e80b9a1b7e00b",
       "style": "IPY_MODEL_d185240130e44e83b194450ca5dc712f",
       "value": " 2/2 [00:00&lt;00:00,  3.64it/s]"
      }
     },
     "e00ab47746ae47d3b2aab3c278de8921": {
      "model_module": "@jupyter-widgets/controls",
      "model_module_version": "1.5.0",
      "model_name": "HTMLModel",
      "state": {
       "layout": "IPY_MODEL_2566abed30a6446c85323320f812c2da",
       "style": "IPY_MODEL_90d48b7c1e854da7af7a7119bcbb2530",
       "value": "100%"
      }
     },
     "e05ec89ad87f44898a577e96d2c5c5a5": {
      "model_module": "@jupyter-widgets/base",
      "model_module_version": "1.2.0",
      "model_name": "LayoutModel",
      "state": {}
     },
     "e09d7adbee104779b6eafad25f98068d": {
      "model_module": "@jupyter-widgets/base",
      "model_module_version": "1.2.0",
      "model_name": "LayoutModel",
      "state": {}
     },
     "e0ae7fdb5ec649b1982570360fee0c49": {
      "model_module": "@jupyter-widgets/base",
      "model_module_version": "1.2.0",
      "model_name": "LayoutModel",
      "state": {}
     },
     "e0b9d26555884398863c6ca74b03e60c": {
      "model_module": "@jupyter-widgets/controls",
      "model_module_version": "1.5.0",
      "model_name": "HTMLModel",
      "state": {
       "layout": "IPY_MODEL_79ba98245ff04aea9d6ab503b006438b",
       "style": "IPY_MODEL_6ea976c02d714642b0f6ffe6a63ef70c",
       "value": " 2/2 [00:00&lt;00:00,  3.51it/s]"
      }
     },
     "e0d511f7067e47f6b1239d6ef5392fc6": {
      "model_module": "@jupyter-widgets/controls",
      "model_module_version": "1.5.0",
      "model_name": "HTMLModel",
      "state": {
       "layout": "IPY_MODEL_7c1e16e055cf481bab47542bb9042010",
       "style": "IPY_MODEL_7d7a6ac3a76a49fb90714fb8d9204e99",
       "value": "100%"
      }
     },
     "e0efa7c8b8734a8790e63564ed1ebe5c": {
      "model_module": "@jupyter-widgets/controls",
      "model_module_version": "1.5.0",
      "model_name": "HTMLModel",
      "state": {
       "layout": "IPY_MODEL_f27780b0fc5c4a5fab77665659b9e5db",
       "style": "IPY_MODEL_74da36b636dc4f4890ca31da22ab2018",
       "value": "100%"
      }
     },
     "e1727dddcc9a4b8d934ee10808a9def9": {
      "model_module": "@jupyter-widgets/controls",
      "model_module_version": "1.5.0",
      "model_name": "ProgressStyleModel",
      "state": {
       "description_width": ""
      }
     },
     "e190e24392994841893ea9a68f62353a": {
      "model_module": "@jupyter-widgets/base",
      "model_module_version": "1.2.0",
      "model_name": "LayoutModel",
      "state": {}
     },
     "e287684e56674951b96601b75830014d": {
      "model_module": "@jupyter-widgets/controls",
      "model_module_version": "1.5.0",
      "model_name": "DescriptionStyleModel",
      "state": {
       "description_width": ""
      }
     },
     "e29e90ce9e564fa39a82689a85aa5df2": {
      "model_module": "@jupyter-widgets/base",
      "model_module_version": "1.2.0",
      "model_name": "LayoutModel",
      "state": {}
     },
     "e30caedc49b14cf98c6dff1816df6a84": {
      "model_module": "@jupyter-widgets/controls",
      "model_module_version": "1.5.0",
      "model_name": "DescriptionStyleModel",
      "state": {
       "description_width": ""
      }
     },
     "e33f3f3705e34f5e975d9d13e466c7d1": {
      "model_module": "@jupyter-widgets/controls",
      "model_module_version": "1.5.0",
      "model_name": "HTMLModel",
      "state": {
       "layout": "IPY_MODEL_70a45fbfbbb6404ebc9b9d71b77b93b3",
       "style": "IPY_MODEL_f700979b151049289c8f418295bd87d6",
       "value": "100%"
      }
     },
     "e34466c0047549f99942eb23cca385e1": {
      "model_module": "@jupyter-widgets/controls",
      "model_module_version": "1.5.0",
      "model_name": "HTMLModel",
      "state": {
       "layout": "IPY_MODEL_b2870857ff4f4340979f39b2bcdef142",
       "style": "IPY_MODEL_ad6922fad3d24e009d6789af8e6d30c9",
       "value": " 2/2 [00:00&lt;00:00,  3.70it/s]"
      }
     },
     "e34f0ab3300649898c37380f96f579df": {
      "model_module": "@jupyter-widgets/base",
      "model_module_version": "1.2.0",
      "model_name": "LayoutModel",
      "state": {}
     },
     "e37d62e368c34689a2eab8c6cbe66608": {
      "model_module": "@jupyter-widgets/base",
      "model_module_version": "1.2.0",
      "model_name": "LayoutModel",
      "state": {}
     },
     "e3ee981c131b4d4190f091d31ca447ac": {
      "model_module": "@jupyter-widgets/base",
      "model_module_version": "1.2.0",
      "model_name": "LayoutModel",
      "state": {}
     },
     "e419bdaf733b498483422e39dfc42bf9": {
      "model_module": "@jupyter-widgets/base",
      "model_module_version": "1.2.0",
      "model_name": "LayoutModel",
      "state": {}
     },
     "e48b08edcf81446bb5249581b97c2ec1": {
      "model_module": "@jupyter-widgets/base",
      "model_module_version": "1.2.0",
      "model_name": "LayoutModel",
      "state": {}
     },
     "e4ebb96d3fc141758fb9296aa000ab4f": {
      "model_module": "@jupyter-widgets/controls",
      "model_module_version": "1.5.0",
      "model_name": "FloatProgressModel",
      "state": {
       "bar_style": "success",
       "layout": "IPY_MODEL_332714cc9f0f42a5b03c0c1d92bc8b8e",
       "max": 2,
       "style": "IPY_MODEL_a39f55c510354bf4bc4d8262513d5bc9",
       "value": 2
      }
     },
     "e540f3c530084778977c4f841f927278": {
      "model_module": "@jupyter-widgets/controls",
      "model_module_version": "1.5.0",
      "model_name": "ProgressStyleModel",
      "state": {
       "description_width": ""
      }
     },
     "e5cc3796e9754537bfca1d56a9f51ce9": {
      "model_module": "@jupyter-widgets/base",
      "model_module_version": "1.2.0",
      "model_name": "LayoutModel",
      "state": {}
     },
     "e625485e1a0942fa804985da7fc27aac": {
      "model_module": "@jupyter-widgets/base",
      "model_module_version": "1.2.0",
      "model_name": "LayoutModel",
      "state": {}
     },
     "e632fea420154b89b0ea5129b1e5a769": {
      "model_module": "@jupyter-widgets/controls",
      "model_module_version": "1.5.0",
      "model_name": "DescriptionStyleModel",
      "state": {
       "description_width": ""
      }
     },
     "e649195895f44c979d3726f83e4d708e": {
      "model_module": "@jupyter-widgets/base",
      "model_module_version": "1.2.0",
      "model_name": "LayoutModel",
      "state": {}
     },
     "e6c769a16d03425eb35718a04627c2cb": {
      "model_module": "@jupyter-widgets/controls",
      "model_module_version": "1.5.0",
      "model_name": "ProgressStyleModel",
      "state": {
       "description_width": ""
      }
     },
     "e6f04e3fe3e84dde890e80b9a1b7e00b": {
      "model_module": "@jupyter-widgets/base",
      "model_module_version": "1.2.0",
      "model_name": "LayoutModel",
      "state": {}
     },
     "e7e9ce3b55604150a3e062dc8ab0ae84": {
      "model_module": "@jupyter-widgets/controls",
      "model_module_version": "1.5.0",
      "model_name": "HBoxModel",
      "state": {
       "children": [
        "IPY_MODEL_3072be56b00c423e87056f51969853e2",
        "IPY_MODEL_13ed14847ff54cae90664b48b19fdd19",
        "IPY_MODEL_3746cb0fe94d498d96aaaf4e8cffbdac"
       ],
       "layout": "IPY_MODEL_3ceb540544c6497ab09e7f373a5a2b4a"
      }
     },
     "e87b08c75e084e91aefa6c3d7d5245dc": {
      "model_module": "@jupyter-widgets/controls",
      "model_module_version": "1.5.0",
      "model_name": "DescriptionStyleModel",
      "state": {
       "description_width": ""
      }
     },
     "e8b847e3595c4fd88f4f5fe072a66941": {
      "model_module": "@jupyter-widgets/controls",
      "model_module_version": "1.5.0",
      "model_name": "HBoxModel",
      "state": {
       "children": [
        "IPY_MODEL_4649483b28a54e46ba180a02a2461507",
        "IPY_MODEL_b4020415a5ac40d1a269e0237b6d645f",
        "IPY_MODEL_3b5c16de4eea44d29ac5a338725c204d"
       ],
       "layout": "IPY_MODEL_c74462de8f6c4927bbbf435bfb74adf0"
      }
     },
     "e8df86cadef242dabfe114342c4c23cf": {
      "model_module": "@jupyter-widgets/controls",
      "model_module_version": "1.5.0",
      "model_name": "HTMLModel",
      "state": {
       "layout": "IPY_MODEL_a58873020463454da04552c255d250f5",
       "style": "IPY_MODEL_92c037b72d4a44fc8faa4b9ca88c17e4",
       "value": "100%"
      }
     },
     "e98449d8712c4656aefdd174f59da65a": {
      "model_module": "@jupyter-widgets/controls",
      "model_module_version": "1.5.0",
      "model_name": "FloatProgressModel",
      "state": {
       "bar_style": "success",
       "layout": "IPY_MODEL_eb3e18641aa44a4eaa58142ca901724b",
       "max": 2,
       "style": "IPY_MODEL_1714087d280445e1b3ed3b3a25e7e1d7",
       "value": 2
      }
     },
     "ea15b937664242e694ee0dbbb3321122": {
      "model_module": "@jupyter-widgets/controls",
      "model_module_version": "1.5.0",
      "model_name": "HTMLModel",
      "state": {
       "layout": "IPY_MODEL_1b0ae781d6fd408e8e6f44d2e3e04ab6",
       "style": "IPY_MODEL_4fb7c313e5ee4d59b1fc81d9e2477ac8",
       "value": "100%"
      }
     },
     "ea7c3ad2961e489797a883edf5b29acd": {
      "model_module": "@jupyter-widgets/controls",
      "model_module_version": "1.5.0",
      "model_name": "FloatProgressModel",
      "state": {
       "bar_style": "success",
       "layout": "IPY_MODEL_87a884caea82405ea8c7e23c72f425dc",
       "max": 2,
       "style": "IPY_MODEL_68cbdf5e7d0d4160afeb4ff811d1315c",
       "value": 2
      }
     },
     "eaa297105c2447d48353195126f98dbb": {
      "model_module": "@jupyter-widgets/controls",
      "model_module_version": "1.5.0",
      "model_name": "HBoxModel",
      "state": {
       "children": [
        "IPY_MODEL_aa02bf97b93848769d7e3d660198b839",
        "IPY_MODEL_0c2ccd6c7182470ab154424ee74fb902",
        "IPY_MODEL_dfdaaf3fddbc4a24a528422e62ab776d"
       ],
       "layout": "IPY_MODEL_c079511e01fe4b03b7ef7e874f42933b"
      }
     },
     "eb3e18641aa44a4eaa58142ca901724b": {
      "model_module": "@jupyter-widgets/base",
      "model_module_version": "1.2.0",
      "model_name": "LayoutModel",
      "state": {}
     },
     "ebe5802882df4fc99ea9901defc148c4": {
      "model_module": "@jupyter-widgets/controls",
      "model_module_version": "1.5.0",
      "model_name": "ProgressStyleModel",
      "state": {
       "description_width": ""
      }
     },
     "ec095057ceae4ad190d0a03d29292fe2": {
      "model_module": "@jupyter-widgets/controls",
      "model_module_version": "1.5.0",
      "model_name": "HTMLModel",
      "state": {
       "layout": "IPY_MODEL_ce707a6d67ed4ff6ad26c946870c4894",
       "style": "IPY_MODEL_9073158eb05849e7bfe4346c2a372eb8",
       "value": " 2/2 [00:00&lt;00:00,  3.42it/s]"
      }
     },
     "ecd48614d8a5466cbdbe2ebbcc6fa4a2": {
      "model_module": "@jupyter-widgets/controls",
      "model_module_version": "1.5.0",
      "model_name": "FloatProgressModel",
      "state": {
       "bar_style": "success",
       "layout": "IPY_MODEL_74aac9d39e5a4701866e565bc2b21235",
       "max": 2,
       "style": "IPY_MODEL_fe483f96326b4ec48f9f290da32c3523",
       "value": 2
      }
     },
     "ed3c7e09544c439885ff451fdf0f4e13": {
      "model_module": "@jupyter-widgets/base",
      "model_module_version": "1.2.0",
      "model_name": "LayoutModel",
      "state": {}
     },
     "ed9a426ce069471389a98fdca5e8f974": {
      "model_module": "@jupyter-widgets/controls",
      "model_module_version": "1.5.0",
      "model_name": "DescriptionStyleModel",
      "state": {
       "description_width": ""
      }
     },
     "eda5570ea2db44cc9baa4b6648c38bca": {
      "model_module": "@jupyter-widgets/base",
      "model_module_version": "1.2.0",
      "model_name": "LayoutModel",
      "state": {}
     },
     "edb60eef3ad04d50be9c6ef9d105fe33": {
      "model_module": "@jupyter-widgets/base",
      "model_module_version": "1.2.0",
      "model_name": "LayoutModel",
      "state": {}
     },
     "edeb8a8bcf134f34a36249f00523299e": {
      "model_module": "@jupyter-widgets/controls",
      "model_module_version": "1.5.0",
      "model_name": "FloatProgressModel",
      "state": {
       "bar_style": "success",
       "layout": "IPY_MODEL_68a4acf34adb4f1086844dda97e1abb0",
       "max": 2,
       "style": "IPY_MODEL_1c0ece5640034d0a88a723c6e552ca04",
       "value": 2
      }
     },
     "ee64d7cc18fe46b793dbf73e111f813c": {
      "model_module": "@jupyter-widgets/controls",
      "model_module_version": "1.5.0",
      "model_name": "ProgressStyleModel",
      "state": {
       "description_width": ""
      }
     },
     "ee759abfc96d4377b6078f030d121501": {
      "model_module": "@jupyter-widgets/base",
      "model_module_version": "1.2.0",
      "model_name": "LayoutModel",
      "state": {}
     },
     "eeb88bdc3210486db5e8d6405e0a0b32": {
      "model_module": "@jupyter-widgets/base",
      "model_module_version": "1.2.0",
      "model_name": "LayoutModel",
      "state": {}
     },
     "eef572386d544b93a2c4928932da0b34": {
      "model_module": "@jupyter-widgets/base",
      "model_module_version": "1.2.0",
      "model_name": "LayoutModel",
      "state": {}
     },
     "eefe3b59eee84d8dae174f64cd975250": {
      "model_module": "@jupyter-widgets/base",
      "model_module_version": "1.2.0",
      "model_name": "LayoutModel",
      "state": {}
     },
     "ef3bec6b9c394035b7a8d0f68983f5b6": {
      "model_module": "@jupyter-widgets/controls",
      "model_module_version": "1.5.0",
      "model_name": "DescriptionStyleModel",
      "state": {
       "description_width": ""
      }
     },
     "ef69b71e8de54a31b9e06c69a90e9a0f": {
      "model_module": "@jupyter-widgets/controls",
      "model_module_version": "1.5.0",
      "model_name": "HTMLModel",
      "state": {
       "layout": "IPY_MODEL_5fca9b2302f1484597e19ea05e56c5e4",
       "style": "IPY_MODEL_736b2abe7d384c03a171d3c7c604a8f7",
       "value": "100%"
      }
     },
     "f08fddef1d694db2b93396db2d068014": {
      "model_module": "@jupyter-widgets/controls",
      "model_module_version": "1.5.0",
      "model_name": "FloatProgressModel",
      "state": {
       "bar_style": "success",
       "layout": "IPY_MODEL_3718355a6b884a41b1dd9c7a39d4f778",
       "max": 4,
       "style": "IPY_MODEL_37738b4bc18d4d469585cbea950a7c2a",
       "value": 4
      }
     },
     "f0db425552484ca6970263d6c69acc60": {
      "model_module": "@jupyter-widgets/controls",
      "model_module_version": "1.5.0",
      "model_name": "HBoxModel",
      "state": {
       "children": [
        "IPY_MODEL_a0fe702ec35e44139cdfa6ceef3cf64b",
        "IPY_MODEL_0c236e780dd84df796cd40146c290051",
        "IPY_MODEL_819989ebd1ea4811ae9c2381192439ad"
       ],
       "layout": "IPY_MODEL_09330b1365b14ebaa1b1a90aaae69f0a"
      }
     },
     "f0e8f69b300643739be78115ee3048fb": {
      "model_module": "@jupyter-widgets/base",
      "model_module_version": "1.2.0",
      "model_name": "LayoutModel",
      "state": {}
     },
     "f179f5de7c8841c9b520022cdca7cda5": {
      "model_module": "@jupyter-widgets/controls",
      "model_module_version": "1.5.0",
      "model_name": "DescriptionStyleModel",
      "state": {
       "description_width": ""
      }
     },
     "f27780b0fc5c4a5fab77665659b9e5db": {
      "model_module": "@jupyter-widgets/base",
      "model_module_version": "1.2.0",
      "model_name": "LayoutModel",
      "state": {}
     },
     "f2cdd3a375cb4752931433f44aba7a89": {
      "model_module": "@jupyter-widgets/controls",
      "model_module_version": "1.5.0",
      "model_name": "DescriptionStyleModel",
      "state": {
       "description_width": ""
      }
     },
     "f2e14ddea8294c8ba94b1530f33bf86a": {
      "model_module": "@jupyter-widgets/base",
      "model_module_version": "1.2.0",
      "model_name": "LayoutModel",
      "state": {}
     },
     "f36f6e3ac13a486ebd0e7920a5edebc0": {
      "model_module": "@jupyter-widgets/controls",
      "model_module_version": "1.5.0",
      "model_name": "HBoxModel",
      "state": {
       "children": [
        "IPY_MODEL_d1aef6f57bf74e9991ceddb46d3afa52",
        "IPY_MODEL_21d89b11080a42fe80329006e205edd8",
        "IPY_MODEL_320abd2172894e329dbbe0ddd0215d65"
       ],
       "layout": "IPY_MODEL_7eb49368025c4627a0f1a80aef855e94"
      }
     },
     "f3fbe8571d78481fae1cfc8c8ca1f43a": {
      "model_module": "@jupyter-widgets/base",
      "model_module_version": "1.2.0",
      "model_name": "LayoutModel",
      "state": {}
     },
     "f412a662d3a14c039b101949feda592e": {
      "model_module": "@jupyter-widgets/controls",
      "model_module_version": "1.5.0",
      "model_name": "FloatProgressModel",
      "state": {
       "bar_style": "success",
       "layout": "IPY_MODEL_645fdf89d5554fccb4e85d324895c7c6",
       "max": 2,
       "style": "IPY_MODEL_5793c3f0a5f34f06a9fba2a7601f6b2e",
       "value": 2
      }
     },
     "f41bb54114cd4cf3bc24189e1931cb41": {
      "model_module": "@jupyter-widgets/controls",
      "model_module_version": "1.5.0",
      "model_name": "HTMLModel",
      "state": {
       "layout": "IPY_MODEL_a7eb46b49f8f4fd69b837d9e76f8f3c8",
       "style": "IPY_MODEL_6d8d22763b214a02bdc97d8c2b501b18",
       "value": " 2/2 [00:00&lt;00:00,  3.48it/s]"
      }
     },
     "f50d332f13a446cc86ca7ab10ff1bbe9": {
      "model_module": "@jupyter-widgets/controls",
      "model_module_version": "1.5.0",
      "model_name": "FloatProgressModel",
      "state": {
       "bar_style": "success",
       "layout": "IPY_MODEL_272cb53eb33a4f0fa4b2c1f6d9a8e1ae",
       "max": 2,
       "style": "IPY_MODEL_2c7855d3c8e149b4b2d1f8e7c2bb4025",
       "value": 2
      }
     },
     "f5a0d6ac1349444b961f39ea0ac70202": {
      "model_module": "@jupyter-widgets/controls",
      "model_module_version": "1.5.0",
      "model_name": "DescriptionStyleModel",
      "state": {
       "description_width": ""
      }
     },
     "f5b319d70f6042bdae31d57c33107fea": {
      "model_module": "@jupyter-widgets/base",
      "model_module_version": "1.2.0",
      "model_name": "LayoutModel",
      "state": {}
     },
     "f632c2f9a5c34395ba1e68a247598cee": {
      "model_module": "@jupyter-widgets/controls",
      "model_module_version": "1.5.0",
      "model_name": "HTMLModel",
      "state": {
       "layout": "IPY_MODEL_10bdd7ebdaec4cfba69a6c1b5ea04fda",
       "style": "IPY_MODEL_5d1d0cf4119a4ca5be8d9ffcd69f1b71",
       "value": "100%"
      }
     },
     "f636c87036a44f4188a75bc00d867604": {
      "model_module": "@jupyter-widgets/controls",
      "model_module_version": "1.5.0",
      "model_name": "ProgressStyleModel",
      "state": {
       "description_width": ""
      }
     },
     "f6b453534a384f9eb4716ad001ed28f9": {
      "model_module": "@jupyter-widgets/controls",
      "model_module_version": "1.5.0",
      "model_name": "DescriptionStyleModel",
      "state": {
       "description_width": ""
      }
     },
     "f700979b151049289c8f418295bd87d6": {
      "model_module": "@jupyter-widgets/controls",
      "model_module_version": "1.5.0",
      "model_name": "DescriptionStyleModel",
      "state": {
       "description_width": ""
      }
     },
     "f718dd8813f3496d9a50301bdd6adf8d": {
      "model_module": "@jupyter-widgets/controls",
      "model_module_version": "1.5.0",
      "model_name": "DescriptionStyleModel",
      "state": {
       "description_width": ""
      }
     },
     "f71f9a19e0af44e6a1e26fa3106dc045": {
      "model_module": "@jupyter-widgets/controls",
      "model_module_version": "1.5.0",
      "model_name": "HTMLModel",
      "state": {
       "layout": "IPY_MODEL_25802b0e6c7e440eaf733d12a4968d17",
       "style": "IPY_MODEL_155aae7f9e9f456eb01b5c9a4ff724e3",
       "value": " 2/2 [00:00&lt;00:00,  3.66it/s]"
      }
     },
     "f734a53c59294a7e9fec3f23863bde33": {
      "model_module": "@jupyter-widgets/controls",
      "model_module_version": "1.5.0",
      "model_name": "ProgressStyleModel",
      "state": {
       "description_width": ""
      }
     },
     "f77f5f7a6cc54a3792e55f71633779c8": {
      "model_module": "@jupyter-widgets/controls",
      "model_module_version": "1.5.0",
      "model_name": "ProgressStyleModel",
      "state": {
       "description_width": ""
      }
     },
     "f7824ec8bb7140a3a70c1272a4d4d7a0": {
      "model_module": "@jupyter-widgets/controls",
      "model_module_version": "1.5.0",
      "model_name": "HBoxModel",
      "state": {
       "children": [
        "IPY_MODEL_299f804423544d11942abfa8f8a681f8",
        "IPY_MODEL_102f50c475f54302a25b8e45fb22b91e",
        "IPY_MODEL_f71f9a19e0af44e6a1e26fa3106dc045"
       ],
       "layout": "IPY_MODEL_6f87f7519b1f422d8b9e9a3d57c2d913"
      }
     },
     "f783d23c4db843fd8022edb8de1edaa6": {
      "model_module": "@jupyter-widgets/controls",
      "model_module_version": "1.5.0",
      "model_name": "HTMLModel",
      "state": {
       "layout": "IPY_MODEL_703ceae7d09b42c293eae4f8933493f4",
       "style": "IPY_MODEL_0041e93ae0244081aa87e35d46399aec",
       "value": " 4/4 [00:01&lt;00:00,  3.62it/s]"
      }
     },
     "f789650267b8428d8dd1e610a26c8459": {
      "model_module": "@jupyter-widgets/base",
      "model_module_version": "1.2.0",
      "model_name": "LayoutModel",
      "state": {}
     },
     "f7e8a113ac904e4ebbc7dbdcf2deed94": {
      "model_module": "@jupyter-widgets/base",
      "model_module_version": "1.2.0",
      "model_name": "LayoutModel",
      "state": {}
     },
     "f7fd10d218004944bf1c7e5a9e2c31e7": {
      "model_module": "@jupyter-widgets/controls",
      "model_module_version": "1.5.0",
      "model_name": "ProgressStyleModel",
      "state": {
       "description_width": ""
      }
     },
     "f87e7fbd51f64a8aaef2a3011df7e292": {
      "model_module": "@jupyter-widgets/base",
      "model_module_version": "1.2.0",
      "model_name": "LayoutModel",
      "state": {}
     },
     "f8ca26efc27f48cba619f30882619047": {
      "model_module": "@jupyter-widgets/controls",
      "model_module_version": "1.5.0",
      "model_name": "DescriptionStyleModel",
      "state": {
       "description_width": ""
      }
     },
     "f8d42f6d459c4e3cb678dd7fe1a62a4e": {
      "model_module": "@jupyter-widgets/controls",
      "model_module_version": "1.5.0",
      "model_name": "HTMLModel",
      "state": {
       "layout": "IPY_MODEL_06f1dec72fcc4e7f9110e7d335980205",
       "style": "IPY_MODEL_5f1d7fad56254d819c4f416189fe57e9",
       "value": "100%"
      }
     },
     "f9ae0440e48544f4a256b3a3bd7a6411": {
      "model_module": "@jupyter-widgets/base",
      "model_module_version": "1.2.0",
      "model_name": "LayoutModel",
      "state": {}
     },
     "f9b6fa1816d947539a735b4a9f1fec56": {
      "model_module": "@jupyter-widgets/base",
      "model_module_version": "1.2.0",
      "model_name": "LayoutModel",
      "state": {}
     },
     "f9bb58c7c8a446e48ebd210fed6901fb": {
      "model_module": "@jupyter-widgets/controls",
      "model_module_version": "1.5.0",
      "model_name": "HBoxModel",
      "state": {
       "children": [
        "IPY_MODEL_579ee4b326d049fc8eb9be2a6b68fdb4",
        "IPY_MODEL_124c6a6467d545109efb5fcad2d6e662",
        "IPY_MODEL_99f628862d174f2fbe2573abd83d2888"
       ],
       "layout": "IPY_MODEL_0254b452e3704af69554e2942da5b601"
      }
     },
     "fa03f433099a46ff92ae65150af38dae": {
      "model_module": "@jupyter-widgets/base",
      "model_module_version": "1.2.0",
      "model_name": "LayoutModel",
      "state": {}
     },
     "fa3571b7bd664289b039f7e2f2324de1": {
      "model_module": "@jupyter-widgets/controls",
      "model_module_version": "1.5.0",
      "model_name": "FloatProgressModel",
      "state": {
       "bar_style": "success",
       "layout": "IPY_MODEL_3c9dc01548234db893bb158b34920242",
       "max": 6,
       "style": "IPY_MODEL_e1727dddcc9a4b8d934ee10808a9def9",
       "value": 6
      }
     },
     "fa644ae6135c4e399ec2582e045c0511": {
      "model_module": "@jupyter-widgets/base",
      "model_module_version": "1.2.0",
      "model_name": "LayoutModel",
      "state": {}
     },
     "fac678be97b240439ae0d725d736d12e": {
      "model_module": "@jupyter-widgets/base",
      "model_module_version": "1.2.0",
      "model_name": "LayoutModel",
      "state": {}
     },
     "fb675afcc2f84bc5acf490c5ef3c7081": {
      "model_module": "@jupyter-widgets/controls",
      "model_module_version": "1.5.0",
      "model_name": "HTMLModel",
      "state": {
       "layout": "IPY_MODEL_09a5d8b6ac444e4f82e8124c53cac04e",
       "style": "IPY_MODEL_c1a4dac7394f4285a9cbe9d2330d9d21",
       "value": " 2/2 [00:00&lt;00:00,  3.60it/s]"
      }
     },
     "fb8d1cce57aa4848822313dc8268a906": {
      "model_module": "@jupyter-widgets/controls",
      "model_module_version": "1.5.0",
      "model_name": "HTMLModel",
      "state": {
       "layout": "IPY_MODEL_7a6f6e8778674b1e9ac4a9653d08a322",
       "style": "IPY_MODEL_49f742f0c3aa40c790ce2f8f6ffb4bb4",
       "value": "100%"
      }
     },
     "fbb5b8e34f8745f3a17a3aac107c77c9": {
      "model_module": "@jupyter-widgets/base",
      "model_module_version": "1.2.0",
      "model_name": "LayoutModel",
      "state": {}
     },
     "fbc3254f4ccd4cf1874720a739e7c5b8": {
      "model_module": "@jupyter-widgets/controls",
      "model_module_version": "1.5.0",
      "model_name": "HBoxModel",
      "state": {
       "children": [
        "IPY_MODEL_84913bfed7b84e2d9c4f907a382e2190",
        "IPY_MODEL_76ad4fd49a50420ea5af33c258d03f6a",
        "IPY_MODEL_495058a5a26e41d09af0f9352b63ca70"
       ],
       "layout": "IPY_MODEL_3b2b81c89a8b462fba72995f342ecf9c"
      }
     },
     "fc24e260f3ad4f7f9ed735a4ed955922": {
      "model_module": "@jupyter-widgets/base",
      "model_module_version": "1.2.0",
      "model_name": "LayoutModel",
      "state": {}
     },
     "fc9813b732db4862a9abe2bae997f0cc": {
      "model_module": "@jupyter-widgets/base",
      "model_module_version": "1.2.0",
      "model_name": "LayoutModel",
      "state": {}
     },
     "fd95e6a4527f460c82246ad2eced28ef": {
      "model_module": "@jupyter-widgets/controls",
      "model_module_version": "1.5.0",
      "model_name": "HBoxModel",
      "state": {
       "children": [
        "IPY_MODEL_bba870464611456594a1ba39607cb659",
        "IPY_MODEL_ca74c825cdb6482181967ea2bae6c583",
        "IPY_MODEL_9be6112409234bfeb69e3b9a89537231"
       ],
       "layout": "IPY_MODEL_ace8d76ee98c43e68b89d138a1627e86"
      }
     },
     "fe483f96326b4ec48f9f290da32c3523": {
      "model_module": "@jupyter-widgets/controls",
      "model_module_version": "1.5.0",
      "model_name": "ProgressStyleModel",
      "state": {
       "description_width": ""
      }
     },
     "fe4f50be3aa04df1bb4b2528acf35cf2": {
      "model_module": "@jupyter-widgets/base",
      "model_module_version": "1.2.0",
      "model_name": "LayoutModel",
      "state": {}
     },
     "fe9eadc7ee464c68be7c3ffddedff7ea": {
      "model_module": "@jupyter-widgets/controls",
      "model_module_version": "1.5.0",
      "model_name": "HTMLModel",
      "state": {
       "layout": "IPY_MODEL_fe4f50be3aa04df1bb4b2528acf35cf2",
       "style": "IPY_MODEL_ba7c7b8c589b4902b4712f5fce914e58",
       "value": " 7/7 [00:02&lt;00:00,  3.20it/s]"
      }
     },
     "fedadc69c709469e81983a992a47637a": {
      "model_module": "@jupyter-widgets/controls",
      "model_module_version": "1.5.0",
      "model_name": "HTMLModel",
      "state": {
       "layout": "IPY_MODEL_68d35b2c6c124fef8594d3bcd1f8b59a",
       "style": "IPY_MODEL_e87b08c75e084e91aefa6c3d7d5245dc",
       "value": " 6/6 [00:01&lt;00:00,  3.60it/s]"
      }
     },
     "ff35e2fc3a4b4fb0be64a3766b9cfcb6": {
      "model_module": "@jupyter-widgets/base",
      "model_module_version": "1.2.0",
      "model_name": "LayoutModel",
      "state": {}
     },
     "ff69057860b14aaab13b837b07e24194": {
      "model_module": "@jupyter-widgets/base",
      "model_module_version": "1.2.0",
      "model_name": "LayoutModel",
      "state": {}
     },
     "ff7f6e6e12aa482f9de9cfdf4d7cdbf1": {
      "model_module": "@jupyter-widgets/controls",
      "model_module_version": "1.5.0",
      "model_name": "ProgressStyleModel",
      "state": {
       "description_width": ""
      }
     }
    },
    "version_major": 2,
    "version_minor": 0
   }
  }
 },
 "nbformat": 4,
 "nbformat_minor": 5
}
